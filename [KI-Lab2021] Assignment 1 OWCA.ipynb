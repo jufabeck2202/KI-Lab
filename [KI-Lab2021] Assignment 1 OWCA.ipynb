{
  "nbformat": 4,
  "nbformat_minor": 0,
  "metadata": {
    "colab": {
      "name": "Assignment 1 OWCA.ipynb",
      "provenance": [],
      "authorship_tag": "ABX9TyM5RHmroIu6V7Hg53vPEdnl",
      "include_colab_link": true
    },
    "kernelspec": {
      "name": "python3",
      "display_name": "Python 3"
    },
    "accelerator": "GPU"
  },
  "cells": [
    {
      "cell_type": "markdown",
      "metadata": {
        "id": "view-in-github",
        "colab_type": "text"
      },
      "source": [
        "<a href=\"https://colab.research.google.com/github/jufabeck2202/KI-Lab/blob/main/%5BKI-Lab2021%5D%20Assignment%201%20OWCA.ipynb\" target=\"_parent\"><img src=\"https://colab.research.google.com/assets/colab-badge.svg\" alt=\"Open In Colab\"/></a>"
      ]
    },
    {
      "cell_type": "markdown",
      "metadata": {
        "id": "6B76tv_iQSm4"
      },
      "source": [
        "# Assignment:\n",
        "Preparation:\n",
        "1. Checkout the notebook 0_Simple_NN.ipynb from Git, which describes how to\n",
        "setup a simple feedforward network on some fake data. Try to understand\n",
        "everything and execute the notebook. Ask on the chat if sth. is unclear.\n",
        "2. Read through this blog post: https://nextjournal.com/gkoehler/pytorch-mnist\n",
        "It shows how to work with data loaders, how to load the MNIST dataset and how\n",
        "training is done in batches (using data loaders). \n",
        "\n",
        "Task:\n",
        "1. Load the MNIST dataset into train and test data loaders. Use the same\n",
        "parameters and apply the same transformations like described in the blog post.\n",
        "2. Create a feedforward neural network consisting of an input layer, one hidden\n",
        "layer of size 100 and an output layer (same structure as in Simple_NN.ipynb).\n",
        "For training on the MNIST dataset you need to change the following:\n",
        "  - Adjust the size of the input layer to be able to take in the MNIST data (hint: you\n",
        "must adjust the tensor format from the MNIST data into a flat structure).\n",
        "  - Use log_softmax as activation function for the output layer (as in the blog).\n",
        "Note: Do not use a CNN like they do in the blog post! Use Relu as activation\n",
        "function for the hidden layer.\n",
        "3. Train your network on the training data for 50 epochs using the negative log\n",
        "likelihood loss (like in the blog). Create a plot of the training loss (like in the blog\n",
        "but without the test loss).\n",
        "4. Test the network on the MNIST test data and give out accuracy and loss.\n",
        "5. Find out how the model can be trained on the GPU instead of the CPU. Compare the\n",
        "training time between CPU and GPU. (Note: Do not except too much improvement on\n",
        "this small data set).\n",
        "6. Repeat step 1. to 4. and see what happens when you try out:\n",
        "  1. Two different hidden layer sizes.\n",
        "  2. Using a normal softmax as activation function together with a CrossEntropyLoss."
      ]
    },
    {
      "cell_type": "code",
      "metadata": {
        "id": "OaBjs1UJL0i_"
      },
      "source": [
        "#Import Libraries\n",
        "import torch\n",
        "import torchvision\n",
        "import numpy as np\n",
        "import matplotlib.pyplot as plt\n",
        "import torch.nn as nn\n",
        "import torch.nn.functional as F\n",
        "import torch.optim as optim"
      ],
      "execution_count": 15,
      "outputs": []
    },
    {
      "cell_type": "markdown",
      "metadata": {
        "id": "o-hQnZVSdZ-o"
      },
      "source": [
        "# Parameter"
      ]
    },
    {
      "cell_type": "code",
      "metadata": {
        "id": "9i03xd-ldXSJ",
        "outputId": "d45203a0-deab-440e-bf87-04c6d3e6de2e",
        "colab": {
          "base_uri": "https://localhost:8080/",
          "height": 34
        }
      },
      "source": [
        "n_epochs = 50\n",
        "batch_size_train = 64\n",
        "batch_size_test = 1000\n",
        "learning_rate = 0.01\n",
        "momentum = 0.5\n",
        "log_interval = 10\n",
        "\n",
        "random_seed = 1\n",
        "torch.backends.cudnn.enabled = False\n",
        "torch.manual_seed(random_seed)"
      ],
      "execution_count": 16,
      "outputs": [
        {
          "output_type": "execute_result",
          "data": {
            "text/plain": [
              "<torch._C.Generator at 0x7f99bac68690>"
            ]
          },
          "metadata": {
            "tags": []
          },
          "execution_count": 16
        }
      ]
    },
    {
      "cell_type": "markdown",
      "metadata": {
        "id": "UE1UpJkCN5cE"
      },
      "source": [
        "# Download MNIST Dataset"
      ]
    },
    {
      "cell_type": "code",
      "metadata": {
        "id": "5HK7bLraL0jD"
      },
      "source": [
        "train_loader = torch.utils.data.DataLoader(\n",
        "  torchvision.datasets.MNIST('/files/', train=True, download=True,\n",
        "                             transform=torchvision.transforms.Compose([\n",
        "                               torchvision.transforms.ToTensor(),\n",
        "                               torchvision.transforms.Normalize(\n",
        "                                 (0.1307,), (0.3081,))\n",
        "                             ])),\n",
        "  batch_size=batch_size_train, shuffle=True)\n",
        "\n",
        "test_loader = torch.utils.data.DataLoader(\n",
        "  torchvision.datasets.MNIST('/files/', train=False, download=True,\n",
        "                             transform=torchvision.transforms.Compose([\n",
        "                               torchvision.transforms.ToTensor(),\n",
        "                               torchvision.transforms.Normalize(\n",
        "                                 (0.1307,), (0.3081,))\n",
        "                             ])),\n",
        "  batch_size=batch_size_test, shuffle=True)"
      ],
      "execution_count": 17,
      "outputs": []
    },
    {
      "cell_type": "markdown",
      "metadata": {
        "id": "FWnfW6dEd7zE"
      },
      "source": [
        "# Explore Dataset"
      ]
    },
    {
      "cell_type": "code",
      "metadata": {
        "id": "j7wEVruJeClG"
      },
      "source": [
        "examples = enumerate(test_loader)\n",
        "batch_idx, (example_data, example_targets) = next(examples)"
      ],
      "execution_count": 18,
      "outputs": []
    },
    {
      "cell_type": "code",
      "metadata": {
        "id": "1uoTnlA7eLRy",
        "outputId": "a8a3972b-2e6e-4f72-ab0d-1a9906fc5aec",
        "colab": {
          "base_uri": "https://localhost:8080/",
          "height": 34
        }
      },
      "source": [
        "example_data.shape"
      ],
      "execution_count": 19,
      "outputs": [
        {
          "output_type": "execute_result",
          "data": {
            "text/plain": [
              "torch.Size([1000, 1, 28, 28])"
            ]
          },
          "metadata": {
            "tags": []
          },
          "execution_count": 19
        }
      ]
    },
    {
      "cell_type": "code",
      "metadata": {
        "id": "j5J53sWleRxU",
        "outputId": "7f4c74ea-03bc-4de2-c812-2ca8d3bf600d",
        "colab": {
          "base_uri": "https://localhost:8080/",
          "height": 551
        }
      },
      "source": [
        "fig = plt.figure()\n",
        "for i in range(6):\n",
        "  plt.subplot(2,3,i+1)\n",
        "  plt.tight_layout()\n",
        "  plt.imshow(example_data[i][0], cmap='gray', interpolation='none')\n",
        "  plt.title(\"Ground Truth: {}\".format(example_targets[i]))\n",
        "  plt.xticks([])\n",
        "  plt.yticks([])\n",
        "fig"
      ],
      "execution_count": 20,
      "outputs": [
        {
          "output_type": "execute_result",
          "data": {
            "image/png": "[encoded data removed]",
            "text/plain": [
              "<Figure size 432x288 with 6 Axes>"
            ]
          },
          "metadata": {
            "tags": []
          },
          "execution_count": 20
        },
        {
          "output_type": "display_data",
          "data": {
            "image/png": "[encoded data removed]",
            "text/plain": [
              "<Figure size 432x288 with 6 Axes>"
            ]
          },
          "metadata": {
            "tags": []
          }
        }
      ]
    },
    {
      "cell_type": "markdown",
      "metadata": {
        "id": "g84REZy4O8-j"
      },
      "source": [
        "# Create Neural Network"
      ]
    },
    {
      "cell_type": "code",
      "metadata": {
        "id": "LCiyk149O_Xo"
      },
      "source": [
        "class Net(nn.Module):\n",
        "    def __init__(self):\n",
        "        \"\"\"\n",
        "        In the constructor we instantiate two nn.Linear modules and assign them as\n",
        "        member variables.\n",
        "        \"\"\"\n",
        "        super(Net, self).__init__()\n",
        "        self.hidden = torch.nn.Linear(28*28*1, 1000)\n",
        "        self.output = torch.nn.Linear(1000, 10)\n",
        "\n",
        "    def forward(self, x):\n",
        "        \"\"\"\n",
        "        In the forward function we accept a Tensor of input data and we must return\n",
        "        a Tensor of output data. We can use Modules defined in the constructor as\n",
        "        well as arbitrary operators on Tensors.\n",
        "        \"\"\"\n",
        "        x = x.flatten(start_dim = 1)\n",
        "        x = self.hidden(x).clamp(min=0)\n",
        "        x = F.log_softmax(self.output(x))\n",
        "        return x"
      ],
      "execution_count": 21,
      "outputs": []
    },
    {
      "cell_type": "markdown",
      "metadata": {
        "id": "pFnQZK6Lehgv"
      },
      "source": [
        "# Training"
      ]
    },
    {
      "cell_type": "code",
      "metadata": {
        "id": "rGFNpN4mDOQf"
      },
      "source": [
        "train_losses = []\n",
        "train_counter = []\n",
        "test_losses = []\n",
        "test_counter = [i*len(train_loader.dataset) for i in range(n_epochs + 1)]"
      ],
      "execution_count": 22,
      "outputs": []
    },
    {
      "cell_type": "code",
      "metadata": {
        "id": "zY6zYMMv0mc5",
        "outputId": "23e829b7-a8d2-4a5c-a593-1902da0436bc",
        "colab": {
          "base_uri": "https://localhost:8080/",
          "height": 1000
        }
      },
      "source": [
        "def train(epoch):\n",
        "  network.train()\n",
        "  for batch_idx, (data, target) in enumerate(train_loader):\n",
        "    optimizer.zero_grad()\n",
        "    output = network(data)\n",
        "    loss = F.nll_loss(output, target)\n",
        "    loss.backward()\n",
        "    optimizer.step()\n",
        "    if batch_idx % log_interval == 0:\n",
        "      print('Train Epoch: {} [{}/{} ({:.0f}%)]\\tLoss: {:.6f}'.format(\n",
        "        epoch, batch_idx * len(data), len(train_loader.dataset),\n",
        "        100. * batch_idx / len(train_loader), loss.item()))\n",
        "      train_losses.append(loss.item())\n",
        "      train_counter.append(\n",
        "        (batch_idx*64) + ((epoch-1)*len(train_loader.dataset)))\n",
        "\n",
        "network = Net()\n",
        "optimizer = optim.SGD(network.parameters(), lr=learning_rate,\n",
        "                      momentum=momentum)\n",
        "\n",
        "for epoch in range(1, n_epochs + 1):\n",
        "  train(epoch)"
      ],
      "execution_count": null,
      "outputs": [
        {
          "output_type": "stream",
          "text": [
            "/usr/local/lib/python3.6/dist-packages/ipykernel_launcher.py:19: UserWarning: Implicit dimension choice for log_softmax has been deprecated. Change the call to include dim=X as an argument.\n"
          ],
          "name": "stderr"
        },
        {
          "output_type": "stream",
          "text": [
            "Train Epoch: 1 [0/60000 (0%)]\tLoss: 2.379982\n",
            "Train Epoch: 1 [640/60000 (1%)]\tLoss: 1.908180\n",
            "Train Epoch: 1 [1280/60000 (2%)]\tLoss: 1.444491\n",
            "Train Epoch: 1 [1920/60000 (3%)]\tLoss: 1.165474\n",
            "Train Epoch: 1 [2560/60000 (4%)]\tLoss: 1.030174\n",
            "Train Epoch: 1 [3200/60000 (5%)]\tLoss: 0.751782\n",
            "Train Epoch: 1 [3840/60000 (6%)]\tLoss: 0.684829\n",
            "Train Epoch: 1 [4480/60000 (7%)]\tLoss: 0.738784\n",
            "Train Epoch: 1 [5120/60000 (9%)]\tLoss: 0.562440\n",
            "Train Epoch: 1 [5760/60000 (10%)]\tLoss: 0.506003\n",
            "Train Epoch: 1 [6400/60000 (11%)]\tLoss: 0.726619\n",
            "Train Epoch: 1 [7040/60000 (12%)]\tLoss: 0.383766\n",
            "Train Epoch: 1 [7680/60000 (13%)]\tLoss: 0.537384\n",
            "Train Epoch: 1 [8320/60000 (14%)]\tLoss: 0.484345\n",
            "Train Epoch: 1 [8960/60000 (15%)]\tLoss: 0.488333\n",
            "Train Epoch: 1 [9600/60000 (16%)]\tLoss: 0.451511\n",
            "Train Epoch: 1 [10240/60000 (17%)]\tLoss: 0.409763\n",
            "Train Epoch: 1 [10880/60000 (18%)]\tLoss: 0.486428\n",
            "Train Epoch: 1 [11520/60000 (19%)]\tLoss: 0.631169\n",
            "Train Epoch: 1 [12160/60000 (20%)]\tLoss: 0.454199\n",
            "Train Epoch: 1 [12800/60000 (21%)]\tLoss: 0.465889\n",
            "Train Epoch: 1 [13440/60000 (22%)]\tLoss: 0.334303\n",
            "Train Epoch: 1 [14080/60000 (23%)]\tLoss: 0.292797\n",
            "Train Epoch: 1 [14720/60000 (25%)]\tLoss: 0.465523\n",
            "Train Epoch: 1 [15360/60000 (26%)]\tLoss: 0.311954\n",
            "Train Epoch: 1 [16000/60000 (27%)]\tLoss: 0.490473\n",
            "Train Epoch: 1 [16640/60000 (28%)]\tLoss: 0.378980\n",
            "Train Epoch: 1 [17280/60000 (29%)]\tLoss: 0.447780\n",
            "Train Epoch: 1 [17920/60000 (30%)]\tLoss: 0.335558\n",
            "Train Epoch: 1 [18560/60000 (31%)]\tLoss: 0.554135\n",
            "Train Epoch: 1 [19200/60000 (32%)]\tLoss: 0.372170\n",
            "Train Epoch: 1 [19840/60000 (33%)]\tLoss: 0.286047\n",
            "Train Epoch: 1 [20480/60000 (34%)]\tLoss: 0.459631\n",
            "Train Epoch: 1 [21120/60000 (35%)]\tLoss: 0.304798\n",
            "Train Epoch: 1 [21760/60000 (36%)]\tLoss: 0.508183\n",
            "Train Epoch: 1 [22400/60000 (37%)]\tLoss: 0.310072\n",
            "Train Epoch: 1 [23040/60000 (38%)]\tLoss: 0.495317\n",
            "Train Epoch: 1 [23680/60000 (39%)]\tLoss: 0.282281\n",
            "Train Epoch: 1 [24320/60000 (41%)]\tLoss: 0.360582\n",
            "Train Epoch: 1 [24960/60000 (42%)]\tLoss: 0.447522\n",
            "Train Epoch: 1 [25600/60000 (43%)]\tLoss: 0.381290\n",
            "Train Epoch: 1 [26240/60000 (44%)]\tLoss: 0.330877\n",
            "Train Epoch: 1 [26880/60000 (45%)]\tLoss: 0.388553\n",
            "Train Epoch: 1 [27520/60000 (46%)]\tLoss: 0.309187\n",
            "Train Epoch: 1 [28160/60000 (47%)]\tLoss: 0.411300\n",
            "Train Epoch: 1 [28800/60000 (48%)]\tLoss: 0.231182\n",
            "Train Epoch: 1 [29440/60000 (49%)]\tLoss: 0.380463\n",
            "Train Epoch: 1 [30080/60000 (50%)]\tLoss: 0.238244\n",
            "Train Epoch: 1 [30720/60000 (51%)]\tLoss: 0.338961\n",
            "Train Epoch: 1 [31360/60000 (52%)]\tLoss: 0.257833\n",
            "Train Epoch: 1 [32000/60000 (53%)]\tLoss: 0.318877\n",
            "Train Epoch: 1 [32640/60000 (54%)]\tLoss: 0.440860\n",
            "Train Epoch: 1 [33280/60000 (55%)]\tLoss: 0.336920\n",
            "Train Epoch: 1 [33920/60000 (57%)]\tLoss: 0.225520\n",
            "Train Epoch: 1 [34560/60000 (58%)]\tLoss: 0.287838\n",
            "Train Epoch: 1 [35200/60000 (59%)]\tLoss: 0.260450\n",
            "Train Epoch: 1 [35840/60000 (60%)]\tLoss: 0.255387\n",
            "Train Epoch: 1 [36480/60000 (61%)]\tLoss: 0.243946\n",
            "Train Epoch: 1 [37120/60000 (62%)]\tLoss: 0.262976\n",
            "Train Epoch: 1 [37760/60000 (63%)]\tLoss: 0.247582\n",
            "Train Epoch: 1 [38400/60000 (64%)]\tLoss: 0.245870\n",
            "Train Epoch: 1 [39040/60000 (65%)]\tLoss: 0.197411\n",
            "Train Epoch: 1 [39680/60000 (66%)]\tLoss: 0.285123\n",
            "Train Epoch: 1 [40320/60000 (67%)]\tLoss: 0.270369\n",
            "Train Epoch: 1 [40960/60000 (68%)]\tLoss: 0.178994\n",
            "Train Epoch: 1 [41600/60000 (69%)]\tLoss: 0.202631\n",
            "Train Epoch: 1 [42240/60000 (70%)]\tLoss: 0.290276\n",
            "Train Epoch: 1 [42880/60000 (71%)]\tLoss: 0.264198\n",
            "Train Epoch: 1 [43520/60000 (72%)]\tLoss: 0.241636\n",
            "Train Epoch: 1 [44160/60000 (74%)]\tLoss: 0.285504\n",
            "Train Epoch: 1 [44800/60000 (75%)]\tLoss: 0.262320\n",
            "Train Epoch: 1 [45440/60000 (76%)]\tLoss: 0.379084\n",
            "Train Epoch: 1 [46080/60000 (77%)]\tLoss: 0.313361\n",
            "Train Epoch: 1 [46720/60000 (78%)]\tLoss: 0.267888\n",
            "Train Epoch: 1 [47360/60000 (79%)]\tLoss: 0.286836\n",
            "Train Epoch: 1 [48000/60000 (80%)]\tLoss: 0.175177\n",
            "Train Epoch: 1 [48640/60000 (81%)]\tLoss: 0.214572\n",
            "Train Epoch: 1 [49280/60000 (82%)]\tLoss: 0.163829\n",
            "Train Epoch: 1 [49920/60000 (83%)]\tLoss: 0.228897\n",
            "Train Epoch: 1 [50560/60000 (84%)]\tLoss: 0.378226\n",
            "Train Epoch: 1 [51200/60000 (85%)]\tLoss: 0.284942\n",
            "Train Epoch: 1 [51840/60000 (86%)]\tLoss: 0.478641\n",
            "Train Epoch: 1 [52480/60000 (87%)]\tLoss: 0.369586\n",
            "Train Epoch: 1 [53120/60000 (88%)]\tLoss: 0.386781\n",
            "Train Epoch: 1 [53760/60000 (90%)]\tLoss: 0.499024\n",
            "Train Epoch: 1 [54400/60000 (91%)]\tLoss: 0.178537\n",
            "Train Epoch: 1 [55040/60000 (92%)]\tLoss: 0.254722\n",
            "Train Epoch: 1 [55680/60000 (93%)]\tLoss: 0.204189\n",
            "Train Epoch: 1 [56320/60000 (94%)]\tLoss: 0.165828\n",
            "Train Epoch: 1 [56960/60000 (95%)]\tLoss: 0.353583\n",
            "Train Epoch: 1 [57600/60000 (96%)]\tLoss: 0.292566\n",
            "Train Epoch: 1 [58240/60000 (97%)]\tLoss: 0.349196\n",
            "Train Epoch: 1 [58880/60000 (98%)]\tLoss: 0.268673\n",
            "Train Epoch: 1 [59520/60000 (99%)]\tLoss: 0.101755\n",
            "Train Epoch: 2 [0/60000 (0%)]\tLoss: 0.324413\n",
            "Train Epoch: 2 [640/60000 (1%)]\tLoss: 0.219783\n",
            "Train Epoch: 2 [1280/60000 (2%)]\tLoss: 0.211191\n",
            "Train Epoch: 2 [1920/60000 (3%)]\tLoss: 0.279101\n",
            "Train Epoch: 2 [2560/60000 (4%)]\tLoss: 0.310062\n",
            "Train Epoch: 2 [3200/60000 (5%)]\tLoss: 0.172838\n",
            "Train Epoch: 2 [3840/60000 (6%)]\tLoss: 0.178059\n",
            "Train Epoch: 2 [4480/60000 (7%)]\tLoss: 0.208676\n",
            "Train Epoch: 2 [5120/60000 (9%)]\tLoss: 0.265970\n",
            "Train Epoch: 2 [5760/60000 (10%)]\tLoss: 0.204241\n",
            "Train Epoch: 2 [6400/60000 (11%)]\tLoss: 0.448075\n",
            "Train Epoch: 2 [7040/60000 (12%)]\tLoss: 0.201385\n",
            "Train Epoch: 2 [7680/60000 (13%)]\tLoss: 0.238492\n",
            "Train Epoch: 2 [8320/60000 (14%)]\tLoss: 0.221569\n",
            "Train Epoch: 2 [8960/60000 (15%)]\tLoss: 0.392931\n",
            "Train Epoch: 2 [9600/60000 (16%)]\tLoss: 0.119276\n",
            "Train Epoch: 2 [10240/60000 (17%)]\tLoss: 0.239732\n",
            "Train Epoch: 2 [10880/60000 (18%)]\tLoss: 0.399967\n",
            "Train Epoch: 2 [11520/60000 (19%)]\tLoss: 0.402315\n",
            "Train Epoch: 2 [12160/60000 (20%)]\tLoss: 0.205477\n",
            "Train Epoch: 2 [12800/60000 (21%)]\tLoss: 0.138098\n",
            "Train Epoch: 2 [13440/60000 (22%)]\tLoss: 0.160951\n",
            "Train Epoch: 2 [14080/60000 (23%)]\tLoss: 0.219401\n",
            "Train Epoch: 2 [14720/60000 (25%)]\tLoss: 0.384422\n",
            "Train Epoch: 2 [15360/60000 (26%)]\tLoss: 0.127690\n",
            "Train Epoch: 2 [16000/60000 (27%)]\tLoss: 0.320994\n",
            "Train Epoch: 2 [16640/60000 (28%)]\tLoss: 0.223720\n",
            "Train Epoch: 2 [17280/60000 (29%)]\tLoss: 0.243874\n",
            "Train Epoch: 2 [17920/60000 (30%)]\tLoss: 0.169982\n",
            "Train Epoch: 2 [18560/60000 (31%)]\tLoss: 0.228945\n",
            "Train Epoch: 2 [19200/60000 (32%)]\tLoss: 0.277980\n",
            "Train Epoch: 2 [19840/60000 (33%)]\tLoss: 0.430699\n",
            "Train Epoch: 2 [20480/60000 (34%)]\tLoss: 0.218573\n",
            "Train Epoch: 2 [21120/60000 (35%)]\tLoss: 0.132667\n",
            "Train Epoch: 2 [21760/60000 (36%)]\tLoss: 0.142092\n",
            "Train Epoch: 2 [22400/60000 (37%)]\tLoss: 0.196876\n",
            "Train Epoch: 2 [23040/60000 (38%)]\tLoss: 0.216248\n",
            "Train Epoch: 2 [23680/60000 (39%)]\tLoss: 0.195229\n",
            "Train Epoch: 2 [24320/60000 (41%)]\tLoss: 0.166153\n",
            "Train Epoch: 2 [24960/60000 (42%)]\tLoss: 0.230886\n",
            "Train Epoch: 2 [25600/60000 (43%)]\tLoss: 0.316254\n",
            "Train Epoch: 2 [26240/60000 (44%)]\tLoss: 0.438146\n",
            "Train Epoch: 2 [26880/60000 (45%)]\tLoss: 0.228946\n",
            "Train Epoch: 2 [27520/60000 (46%)]\tLoss: 0.277694\n",
            "Train Epoch: 2 [28160/60000 (47%)]\tLoss: 0.160479\n",
            "Train Epoch: 2 [28800/60000 (48%)]\tLoss: 0.264003\n",
            "Train Epoch: 2 [29440/60000 (49%)]\tLoss: 0.299663\n"
          ],
          "name": "stdout"
        }
      ]
    },
    {
      "cell_type": "markdown",
      "metadata": {
        "id": "BhsCZfNufYld"
      },
      "source": [
        "# Evaluation"
      ]
    },
    {
      "cell_type": "code",
      "metadata": {
        "id": "tYbSA3XLfbnE"
      },
      "source": [
        "fig = plt.figure()\n",
        "plt.plot(train_counter, train_losses, color='blue')\n",
        "plt.scatter(test_counter, test_losses, color='red')\n",
        "plt.legend(['Train Loss', 'Test Loss'], loc='upper right')\n",
        "plt.xlabel('number of training examples seen')\n",
        "plt.ylabel('negative log likelihood loss')\n",
        "fig"
      ],
      "execution_count": null,
      "outputs": []
    }
  ]
}