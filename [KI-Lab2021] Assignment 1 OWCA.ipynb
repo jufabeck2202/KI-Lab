{
  "nbformat": 4,
  "nbformat_minor": 0,
  "metadata": {
    "colab": {
      "name": "Assignment 1 OWCA.ipynb",
      "provenance": [],
      "authorship_tag": "ABX9TyM82IQqfiQie3sxqQSrLwM6",
      "include_colab_link": true
    },
    "kernelspec": {
      "name": "python3",
      "display_name": "Python 3"
    },
    "accelerator": "GPU"
  },
  "cells": [
    {
      "cell_type": "markdown",
      "metadata": {
        "id": "view-in-github",
        "colab_type": "text"
      },
      "source": [
        "<a href=\"https://colab.research.google.com/github/jufabeck2202/KI-Lab/blob/main/%5BKI-Lab2021%5D%20Assignment%201%20OWCA.ipynb\" target=\"_parent\"><img src=\"https://colab.research.google.com/assets/colab-badge.svg\" alt=\"Open In Colab\"/></a>"
      ]
    },
    {
      "cell_type": "markdown",
      "metadata": {
        "id": "6B76tv_iQSm4"
      },
      "source": [
        "# Assignment:\n",
        "Preparation:\n",
        "1. Checkout the notebook 0_Simple_NN.ipynb from Git, which describes how to\n",
        "setup a simple feedforward network on some fake data. Try to understand\n",
        "everything and execute the notebook. Ask on the chat if sth. is unclear.\n",
        "2. Read through this blog post: https://nextjournal.com/gkoehler/pytorch-mnist\n",
        "It shows how to work with data loaders, how to load the MNIST dataset and how\n",
        "training is done in batches (using data loaders). \n",
        "\n",
        "Task:\n",
        "1. Load the MNIST dataset into train and test data loaders. Use the same\n",
        "parameters and apply the same transformations like described in the blog post.\n",
        "2. Create a feedforward neural network consisting of an input layer, one hidden\n",
        "layer of size 100 and an output layer (same structure as in Simple_NN.ipynb).\n",
        "For training on the MNIST dataset you need to change the following:\n",
        "  - Adjust the size of the input layer to be able to take in the MNIST data (hint: you\n",
        "must adjust the tensor format from the MNIST data into a flat structure).\n",
        "  - Use log_softmax as activation function for the output layer (as in the blog).\n",
        "Note: Do not use a CNN like they do in the blog post! Use Relu as activation\n",
        "function for the hidden layer.\n",
        "3. Train your network on the training data for 50 epochs using the negative log\n",
        "likelihood loss (like in the blog). Create a plot of the training loss (like in the blog\n",
        "but without the test loss).\n",
        "4. Test the network on the MNIST test data and give out accuracy and loss.\n",
        "5. Find out how the model can be trained on the GPU instead of the CPU. Compare the\n",
        "training time between CPU and GPU. (Note: Do not except too much improvement on\n",
        "this small data set).\n",
        "6. Repeat step 1. to 4. and see what happens when you try out:\n",
        "  1. Two different hidden layer sizes.\n",
        "  2. Using a normal softmax as activation function together with a CrossEntropyLoss."
      ]
    },
    {
      "cell_type": "code",
      "metadata": {
        "id": "OaBjs1UJL0i_"
      },
      "source": [
        "#Import Libraries\n",
        "import torch\n",
        "import torchvision\n",
        "import numpy as np\n",
        "import matplotlib.pyplot as plt\n",
        "import torch.nn as nn\n",
        "import torch.nn.functional as F\n",
        "import torch.optim as optim\n",
        "import time\n"
      ],
      "execution_count": 94,
      "outputs": []
    },
    {
      "cell_type": "markdown",
      "metadata": {
        "id": "o-hQnZVSdZ-o"
      },
      "source": [
        "# Parameter"
      ]
    },
    {
      "cell_type": "code",
      "metadata": {
        "id": "9i03xd-ldXSJ",
        "outputId": "7d6d37d1-d5b0-4396-a5d2-a4d038fe5dc0",
        "colab": {
          "base_uri": "https://localhost:8080/",
          "height": 34
        }
      },
      "source": [
        "n_epochs = 1\n",
        "batch_size_train = 64\n",
        "batch_size_test = 1000\n",
        "learning_rate = 0.01 #0.1 \n",
        "momentum = 0.5\n",
        "log_interval = 10\n",
        "\n",
        "random_seed = 1\n",
        "GPU_ON = True\n",
        "torch.backends.cudnn.enabled = False\n",
        "device = torch.device(\"cuda:0\" if torch.cuda.is_available() else \"cpu\")\n",
        "torch.manual_seed(random_seed)\n",
        "print(device)\n",
        "\n",
        "GPU_time = 0\n",
        "CPU_time = 0\n",
        "network = None\n",
        "optimizer = None\n"
      ],
      "execution_count": 95,
      "outputs": [
        {
          "output_type": "stream",
          "text": [
            "cuda:0\n"
          ],
          "name": "stdout"
        }
      ]
    },
    {
      "cell_type": "markdown",
      "metadata": {
        "id": "UE1UpJkCN5cE"
      },
      "source": [
        "# Download MNIST Dataset"
      ]
    },
    {
      "cell_type": "code",
      "metadata": {
        "id": "5HK7bLraL0jD"
      },
      "source": [
        "train_loader = torch.utils.data.DataLoader(\n",
        "  torchvision.datasets.MNIST('/files/', train=True, download=True,\n",
        "                             transform=torchvision.transforms.Compose([\n",
        "                               torchvision.transforms.ToTensor(),\n",
        "                               torchvision.transforms.Normalize(\n",
        "                                 (0.1307,), (0.3081,))\n",
        "                             ])),\n",
        "  batch_size=batch_size_train, shuffle=True)\n",
        "\n",
        "test_loader = torch.utils.data.DataLoader(\n",
        "  torchvision.datasets.MNIST('/files/', train=False, download=True,\n",
        "                             transform=torchvision.transforms.Compose([\n",
        "                               torchvision.transforms.ToTensor(),\n",
        "                               torchvision.transforms.Normalize(\n",
        "                                 (0.1307,), (0.3081,))\n",
        "                             ])),\n",
        "  batch_size=batch_size_test, shuffle=True)"
      ],
      "execution_count": 96,
      "outputs": []
    },
    {
      "cell_type": "markdown",
      "metadata": {
        "id": "FWnfW6dEd7zE"
      },
      "source": [
        "# Explore Dataset"
      ]
    },
    {
      "cell_type": "code",
      "metadata": {
        "id": "j7wEVruJeClG"
      },
      "source": [
        "examples = enumerate(test_loader)\n",
        "batch_idx, (example_data, example_targets) = next(examples)"
      ],
      "execution_count": 97,
      "outputs": []
    },
    {
      "cell_type": "code",
      "metadata": {
        "id": "1uoTnlA7eLRy",
        "outputId": "928ffcb3-fec5-4abd-fd8c-8b3195d5c699",
        "colab": {
          "base_uri": "https://localhost:8080/",
          "height": 34
        }
      },
      "source": [
        "example_data.shape"
      ],
      "execution_count": 98,
      "outputs": [
        {
          "output_type": "execute_result",
          "data": {
            "text/plain": [
              "torch.Size([1000, 1, 28, 28])"
            ]
          },
          "metadata": {
            "tags": []
          },
          "execution_count": 98
        }
      ]
    },
    {
      "cell_type": "code",
      "metadata": {
        "id": "j5J53sWleRxU",
        "outputId": "26204561-2fb5-4dbc-ef33-11f8f457adbc",
        "colab": {
          "base_uri": "https://localhost:8080/",
          "height": 551
        }
      },
      "source": [
        "fig = plt.figure()\n",
        "for i in range(6):\n",
        "  plt.subplot(2,3,i+1)\n",
        "  plt.tight_layout()\n",
        "  plt.imshow(example_data[i][0], cmap='gray', interpolation='none')\n",
        "  plt.title(\"Ground Truth: {}\".format(example_targets[i]))\n",
        "  plt.xticks([])\n",
        "  plt.yticks([])\n",
        "fig"
      ],
      "execution_count": 99,
      "outputs": [
        {
          "output_type": "execute_result",
          "data": {
            "image/png": "[encoded data removed]",
            "text/plain": [
              "<Figure size 432x288 with 6 Axes>"
            ]
          },
          "metadata": {
            "tags": []
          },
          "execution_count": 99
        },
        {
          "output_type": "display_data",
          "data": {
            "image/png": "[encoded data removed]",
            "text/plain": [
              "<Figure size 432x288 with 6 Axes>"
            ]
          },
          "metadata": {
            "tags": []
          }
        }
      ]
    },
    {
      "cell_type": "markdown",
      "metadata": {
        "id": "g84REZy4O8-j"
      },
      "source": [
        "# Create Neural Network"
      ]
    },
    {
      "cell_type": "code",
      "metadata": {
        "id": "LCiyk149O_Xo"
      },
      "source": [
        "class Net(nn.Module):\n",
        "    def __init__(self, hidden_size, use_relu):\n",
        "        \"\"\"\n",
        "        In the constructor we instantiate two nn.Linear modules and assign them as\n",
        "        member variables.\n",
        "        \"\"\"\n",
        "        super(Net, self).__init__()\n",
        "        self.hidden = torch.nn.Linear(28*28*1, hidden_size)\n",
        "        self.output = torch.nn.Linear(hidden_size, 10)\n",
        "        self.use_relu = use_relu\n",
        "\n",
        "    def forward(self, x):\n",
        "        \"\"\"\n",
        "        In the forward function we accept a Tensor of input data and we must return\n",
        "        a Tensor of output data. We can use Modules defined in the constructor as\n",
        "        well as arbitrary operators on Tensors.\n",
        "        \"\"\"\n",
        "        x = x.flatten(start_dim = 1)\n",
        "        \n",
        "        if self.use_relu:\n",
        "          x = self.hidden(x).clamp(min=0)\n",
        "        else:\n",
        "          x = F.softmax(self.hidden(x))\n",
        "\n",
        "        x = F.log_softmax(self.output(x))\n",
        "        return x"
      ],
      "execution_count": 100,
      "outputs": []
    },
    {
      "cell_type": "markdown",
      "metadata": {
        "id": "pFnQZK6Lehgv"
      },
      "source": [
        "# Training"
      ]
    },
    {
      "cell_type": "code",
      "metadata": {
        "id": "wXkPa2pcHLBe"
      },
      "source": [
        "def defineNetwork(hidden_size, use_relu):\n",
        "  global network\n",
        "  network = Net(hidden_size, use_relu)\n",
        "  if GPU_ON:\n",
        "    network.cuda()\n",
        "    \n",
        "  global optimizer\n",
        "  optimizer = optim.SGD(network.parameters(), lr=learning_rate,\n",
        "                      momentum=momentum)"
      ],
      "execution_count": 101,
      "outputs": []
    },
    {
      "cell_type": "code",
      "metadata": {
        "id": "mmvYBcPYOq1y"
      },
      "source": [
        "def test():\n",
        "  network.eval()\n",
        "  test_loss = 0\n",
        "  correct = 0\n",
        "  with torch.no_grad():\n",
        "    for data, target in test_loader:\n",
        "      if GPU_ON:\n",
        "        data = data.cuda()\n",
        "        target = target.cuda()\n",
        "      output = network(data)\n",
        "      test_loss += F.nll_loss(output, target, size_average=False).item()\n",
        "      pred = output.data.max(1, keepdim=True)[1]\n",
        "      correct += pred.eq(target.data.view_as(pred)).sum()\n",
        "  test_loss /= len(test_loader.dataset)\n",
        "  test_losses.append(test_loss)\n",
        "  print('\\nTest set: Avg. loss: {:.4f}, Accuracy: {}/{} ({:.0f}%)\\n'.format(\n",
        "    test_loss, correct, len(test_loader.dataset),\n",
        "    100. * correct / len(test_loader.dataset)))"
      ],
      "execution_count": 102,
      "outputs": []
    },
    {
      "cell_type": "code",
      "metadata": {
        "id": "zY6zYMMv0mc5"
      },
      "source": [
        "def train(epoch):\n",
        "  network.train()\n",
        "  for batch_idx, (data, target) in enumerate(train_loader):\n",
        "    optimizer.zero_grad()\n",
        "    if GPU_ON:\n",
        "      data = data.cuda()\n",
        "      target = target.cuda()\n",
        "    output = network(data)\n",
        "    loss = F.nll_loss(output, target)\n",
        "    #F.cross_entropy(output, target)\n",
        "    loss.backward()\n",
        "    optimizer.step()\n",
        "    if batch_idx % log_interval == 0:\n",
        "      print('Train Epoch: {} [{}/{} ({:.0f}%)]\\tLoss: {:.6f}'.format(\n",
        "        epoch, batch_idx * len(data), len(train_loader.dataset),\n",
        "        100. * batch_idx / len(train_loader), loss.item()))\n",
        "      train_losses.append(loss.item())\n",
        "      train_counter.append(\n",
        "        (batch_idx*64) + ((epoch-1)*len(train_loader.dataset)))\n"
      ],
      "execution_count": 103,
      "outputs": []
    },
    {
      "cell_type": "code",
      "metadata": {
        "id": "beJ0heCwOs1R",
        "outputId": "6d9a3ea7-e299-46a8-8815-28bd4674b057",
        "colab": {
          "base_uri": "https://localhost:8080/",
          "height": 1000
        }
      },
      "source": [
        "\n",
        "#CPU:\n",
        "train_losses = []\n",
        "train_counter = []\n",
        "test_losses = []\n",
        "test_counter = [i*len(train_loader.dataset) for i in range(n_epochs + 1)]\n",
        "\n",
        "GPU_ON = False\n",
        "defineNetwork(100, True)\n",
        "\n",
        "CPU_time = time.time()\n",
        "\n",
        "test()\n",
        "for epoch in range(1, n_epochs + 1):\n",
        "  train(epoch)\n",
        "  test()\n",
        "\n",
        "CPU_time = time.time() - CPU_time\n",
        "\n",
        "#GPU\n",
        "train_losses = []\n",
        "train_counter = []\n",
        "test_losses = []\n",
        "test_counter = [i*len(train_loader.dataset) for i in range(n_epochs + 1)]\n",
        "\n",
        "GPU_ON = True\n",
        "defineNetwork(100, True)\n",
        "\n",
        "GPU_time = time.time()\n",
        "\n",
        "test()\n",
        "for epoch in range(1, n_epochs + 1):\n",
        "  train(epoch)\n",
        "  test()\n",
        "\n",
        "GPU_time = time.time() - GPU_time\n",
        "\n",
        "print(\"--- CPU: %s seconds ---\" % (CPU_time))\n",
        "print(\"--- GPU: %s seconds ---\" % (GPU_time))\n",
        "\n"
      ],
      "execution_count": 104,
      "outputs": [
        {
          "output_type": "stream",
          "text": [
            "/usr/local/lib/python3.6/dist-packages/ipykernel_launcher.py:25: UserWarning: Implicit dimension choice for log_softmax has been deprecated. Change the call to include dim=X as an argument.\n",
            "/usr/local/lib/python3.6/dist-packages/torch/nn/_reduction.py:44: UserWarning: size_average and reduce args will be deprecated, please use reduction='sum' instead.\n",
            "  warnings.warn(warning.format(ret))\n"
          ],
          "name": "stderr"
        },
        {
          "output_type": "stream",
          "text": [
            "\n",
            "Test set: Avg. loss: 2.3206, Accuracy: 1176/10000 (12%)\n",
            "\n",
            "Train Epoch: 1 [0/60000 (0%)]\tLoss: 2.384040\n",
            "Train Epoch: 1 [640/60000 (1%)]\tLoss: 2.051963\n",
            "Train Epoch: 1 [1280/60000 (2%)]\tLoss: 1.782948\n",
            "Train Epoch: 1 [1920/60000 (3%)]\tLoss: 1.337704\n",
            "Train Epoch: 1 [2560/60000 (4%)]\tLoss: 1.229805\n",
            "Train Epoch: 1 [3200/60000 (5%)]\tLoss: 1.091962\n",
            "Train Epoch: 1 [3840/60000 (6%)]\tLoss: 1.099196\n",
            "Train Epoch: 1 [4480/60000 (7%)]\tLoss: 0.857733\n",
            "Train Epoch: 1 [5120/60000 (9%)]\tLoss: 0.689224\n",
            "Train Epoch: 1 [5760/60000 (10%)]\tLoss: 0.700881\n",
            "Train Epoch: 1 [6400/60000 (11%)]\tLoss: 0.610868\n",
            "Train Epoch: 1 [7040/60000 (12%)]\tLoss: 0.715553\n",
            "Train Epoch: 1 [7680/60000 (13%)]\tLoss: 0.632935\n",
            "Train Epoch: 1 [8320/60000 (14%)]\tLoss: 0.448870\n",
            "Train Epoch: 1 [8960/60000 (15%)]\tLoss: 0.397943\n",
            "Train Epoch: 1 [9600/60000 (16%)]\tLoss: 0.508472\n",
            "Train Epoch: 1 [10240/60000 (17%)]\tLoss: 0.484946\n",
            "Train Epoch: 1 [10880/60000 (18%)]\tLoss: 0.349393\n",
            "Train Epoch: 1 [11520/60000 (19%)]\tLoss: 0.472946\n",
            "Train Epoch: 1 [12160/60000 (20%)]\tLoss: 0.513482\n",
            "Train Epoch: 1 [12800/60000 (21%)]\tLoss: 0.441977\n",
            "Train Epoch: 1 [13440/60000 (22%)]\tLoss: 0.463477\n",
            "Train Epoch: 1 [14080/60000 (23%)]\tLoss: 0.370202\n",
            "Train Epoch: 1 [14720/60000 (25%)]\tLoss: 0.451279\n",
            "Train Epoch: 1 [15360/60000 (26%)]\tLoss: 0.490604\n",
            "Train Epoch: 1 [16000/60000 (27%)]\tLoss: 0.389210\n",
            "Train Epoch: 1 [16640/60000 (28%)]\tLoss: 0.524778\n",
            "Train Epoch: 1 [17280/60000 (29%)]\tLoss: 0.455957\n",
            "Train Epoch: 1 [17920/60000 (30%)]\tLoss: 0.456382\n",
            "Train Epoch: 1 [18560/60000 (31%)]\tLoss: 0.397887\n",
            "Train Epoch: 1 [19200/60000 (32%)]\tLoss: 0.173805\n",
            "Train Epoch: 1 [19840/60000 (33%)]\tLoss: 0.313133\n",
            "Train Epoch: 1 [20480/60000 (34%)]\tLoss: 0.522313\n",
            "Train Epoch: 1 [21120/60000 (35%)]\tLoss: 0.346738\n",
            "Train Epoch: 1 [21760/60000 (36%)]\tLoss: 0.274435\n",
            "Train Epoch: 1 [22400/60000 (37%)]\tLoss: 0.305232\n",
            "Train Epoch: 1 [23040/60000 (38%)]\tLoss: 0.330815\n",
            "Train Epoch: 1 [23680/60000 (39%)]\tLoss: 0.371660\n",
            "Train Epoch: 1 [24320/60000 (41%)]\tLoss: 0.293644\n",
            "Train Epoch: 1 [24960/60000 (42%)]\tLoss: 0.210126\n",
            "Train Epoch: 1 [25600/60000 (43%)]\tLoss: 0.287948\n",
            "Train Epoch: 1 [26240/60000 (44%)]\tLoss: 0.307397\n",
            "Train Epoch: 1 [26880/60000 (45%)]\tLoss: 0.278972\n",
            "Train Epoch: 1 [27520/60000 (46%)]\tLoss: 0.372863\n",
            "Train Epoch: 1 [28160/60000 (47%)]\tLoss: 0.197717\n",
            "Train Epoch: 1 [28800/60000 (48%)]\tLoss: 0.463100\n",
            "Train Epoch: 1 [29440/60000 (49%)]\tLoss: 0.292554\n",
            "Train Epoch: 1 [30080/60000 (50%)]\tLoss: 0.353399\n",
            "Train Epoch: 1 [30720/60000 (51%)]\tLoss: 0.288879\n",
            "Train Epoch: 1 [31360/60000 (52%)]\tLoss: 0.400115\n",
            "Train Epoch: 1 [32000/60000 (53%)]\tLoss: 0.302361\n",
            "Train Epoch: 1 [32640/60000 (54%)]\tLoss: 0.464809\n",
            "Train Epoch: 1 [33280/60000 (55%)]\tLoss: 0.247089\n",
            "Train Epoch: 1 [33920/60000 (57%)]\tLoss: 0.365299\n",
            "Train Epoch: 1 [34560/60000 (58%)]\tLoss: 0.346804\n",
            "Train Epoch: 1 [35200/60000 (59%)]\tLoss: 0.268476\n",
            "Train Epoch: 1 [35840/60000 (60%)]\tLoss: 0.469041\n",
            "Train Epoch: 1 [36480/60000 (61%)]\tLoss: 0.265105\n",
            "Train Epoch: 1 [37120/60000 (62%)]\tLoss: 0.505060\n",
            "Train Epoch: 1 [37760/60000 (63%)]\tLoss: 0.304847\n",
            "Train Epoch: 1 [38400/60000 (64%)]\tLoss: 0.208114\n",
            "Train Epoch: 1 [39040/60000 (65%)]\tLoss: 0.393135\n",
            "Train Epoch: 1 [39680/60000 (66%)]\tLoss: 0.361750\n",
            "Train Epoch: 1 [40320/60000 (67%)]\tLoss: 0.330084\n",
            "Train Epoch: 1 [40960/60000 (68%)]\tLoss: 0.306517\n",
            "Train Epoch: 1 [41600/60000 (69%)]\tLoss: 0.244324\n",
            "Train Epoch: 1 [42240/60000 (70%)]\tLoss: 0.348609\n",
            "Train Epoch: 1 [42880/60000 (71%)]\tLoss: 0.290492\n",
            "Train Epoch: 1 [43520/60000 (72%)]\tLoss: 0.203086\n",
            "Train Epoch: 1 [44160/60000 (74%)]\tLoss: 0.312236\n",
            "Train Epoch: 1 [44800/60000 (75%)]\tLoss: 0.520450\n",
            "Train Epoch: 1 [45440/60000 (76%)]\tLoss: 0.434914\n",
            "Train Epoch: 1 [46080/60000 (77%)]\tLoss: 0.242236\n",
            "Train Epoch: 1 [46720/60000 (78%)]\tLoss: 0.361418\n",
            "Train Epoch: 1 [47360/60000 (79%)]\tLoss: 0.295000\n",
            "Train Epoch: 1 [48000/60000 (80%)]\tLoss: 0.320405\n",
            "Train Epoch: 1 [48640/60000 (81%)]\tLoss: 0.229583\n",
            "Train Epoch: 1 [49280/60000 (82%)]\tLoss: 0.175598\n",
            "Train Epoch: 1 [49920/60000 (83%)]\tLoss: 0.217386\n",
            "Train Epoch: 1 [50560/60000 (84%)]\tLoss: 0.365441\n",
            "Train Epoch: 1 [51200/60000 (85%)]\tLoss: 0.217435\n",
            "Train Epoch: 1 [51840/60000 (86%)]\tLoss: 0.134202\n",
            "Train Epoch: 1 [52480/60000 (87%)]\tLoss: 0.279018\n",
            "Train Epoch: 1 [53120/60000 (88%)]\tLoss: 0.196050\n",
            "Train Epoch: 1 [53760/60000 (90%)]\tLoss: 0.528781\n",
            "Train Epoch: 1 [54400/60000 (91%)]\tLoss: 0.344567\n",
            "Train Epoch: 1 [55040/60000 (92%)]\tLoss: 0.315258\n",
            "Train Epoch: 1 [55680/60000 (93%)]\tLoss: 0.383296\n",
            "Train Epoch: 1 [56320/60000 (94%)]\tLoss: 0.187886\n",
            "Train Epoch: 1 [56960/60000 (95%)]\tLoss: 0.327594\n",
            "Train Epoch: 1 [57600/60000 (96%)]\tLoss: 0.267832\n",
            "Train Epoch: 1 [58240/60000 (97%)]\tLoss: 0.282968\n",
            "Train Epoch: 1 [58880/60000 (98%)]\tLoss: 0.209700\n",
            "Train Epoch: 1 [59520/60000 (99%)]\tLoss: 0.379552\n",
            "\n",
            "Test set: Avg. loss: 0.2668, Accuracy: 9226/10000 (92%)\n",
            "\n",
            "\n",
            "Test set: Avg. loss: 2.3277, Accuracy: 840/10000 (8%)\n",
            "\n",
            "Train Epoch: 1 [0/60000 (0%)]\tLoss: 2.334528\n",
            "Train Epoch: 1 [640/60000 (1%)]\tLoss: 2.062653\n",
            "Train Epoch: 1 [1280/60000 (2%)]\tLoss: 1.803319\n",
            "Train Epoch: 1 [1920/60000 (3%)]\tLoss: 1.417903\n",
            "Train Epoch: 1 [2560/60000 (4%)]\tLoss: 1.053403\n",
            "Train Epoch: 1 [3200/60000 (5%)]\tLoss: 1.100019\n",
            "Train Epoch: 1 [3840/60000 (6%)]\tLoss: 0.848167\n",
            "Train Epoch: 1 [4480/60000 (7%)]\tLoss: 0.738946\n",
            "Train Epoch: 1 [5120/60000 (9%)]\tLoss: 0.844645\n",
            "Train Epoch: 1 [5760/60000 (10%)]\tLoss: 0.799862\n",
            "Train Epoch: 1 [6400/60000 (11%)]\tLoss: 0.561739\n",
            "Train Epoch: 1 [7040/60000 (12%)]\tLoss: 0.564104\n",
            "Train Epoch: 1 [7680/60000 (13%)]\tLoss: 0.730427\n",
            "Train Epoch: 1 [8320/60000 (14%)]\tLoss: 0.588717\n",
            "Train Epoch: 1 [8960/60000 (15%)]\tLoss: 0.405858\n",
            "Train Epoch: 1 [9600/60000 (16%)]\tLoss: 0.530443\n",
            "Train Epoch: 1 [10240/60000 (17%)]\tLoss: 0.435884\n",
            "Train Epoch: 1 [10880/60000 (18%)]\tLoss: 0.486722\n",
            "Train Epoch: 1 [11520/60000 (19%)]\tLoss: 0.430700\n",
            "Train Epoch: 1 [12160/60000 (20%)]\tLoss: 0.401859\n",
            "Train Epoch: 1 [12800/60000 (21%)]\tLoss: 0.419929\n",
            "Train Epoch: 1 [13440/60000 (22%)]\tLoss: 0.526454\n",
            "Train Epoch: 1 [14080/60000 (23%)]\tLoss: 0.369556\n",
            "Train Epoch: 1 [14720/60000 (25%)]\tLoss: 0.279576\n",
            "Train Epoch: 1 [15360/60000 (26%)]\tLoss: 0.610075\n",
            "Train Epoch: 1 [16000/60000 (27%)]\tLoss: 0.552602\n",
            "Train Epoch: 1 [16640/60000 (28%)]\tLoss: 0.363210\n",
            "Train Epoch: 1 [17280/60000 (29%)]\tLoss: 0.479667\n",
            "Train Epoch: 1 [17920/60000 (30%)]\tLoss: 0.282781\n",
            "Train Epoch: 1 [18560/60000 (31%)]\tLoss: 0.618858\n",
            "Train Epoch: 1 [19200/60000 (32%)]\tLoss: 0.503931\n",
            "Train Epoch: 1 [19840/60000 (33%)]\tLoss: 0.455506\n",
            "Train Epoch: 1 [20480/60000 (34%)]\tLoss: 0.408996\n",
            "Train Epoch: 1 [21120/60000 (35%)]\tLoss: 0.359147\n",
            "Train Epoch: 1 [21760/60000 (36%)]\tLoss: 0.461105\n",
            "Train Epoch: 1 [22400/60000 (37%)]\tLoss: 0.405052\n",
            "Train Epoch: 1 [23040/60000 (38%)]\tLoss: 0.358515\n",
            "Train Epoch: 1 [23680/60000 (39%)]\tLoss: 0.299033\n",
            "Train Epoch: 1 [24320/60000 (41%)]\tLoss: 0.292302\n",
            "Train Epoch: 1 [24960/60000 (42%)]\tLoss: 0.359821\n",
            "Train Epoch: 1 [25600/60000 (43%)]\tLoss: 0.296111\n",
            "Train Epoch: 1 [26240/60000 (44%)]\tLoss: 0.440462\n",
            "Train Epoch: 1 [26880/60000 (45%)]\tLoss: 0.470676\n",
            "Train Epoch: 1 [27520/60000 (46%)]\tLoss: 0.538739\n",
            "Train Epoch: 1 [28160/60000 (47%)]\tLoss: 0.299066\n",
            "Train Epoch: 1 [28800/60000 (48%)]\tLoss: 0.461615\n",
            "Train Epoch: 1 [29440/60000 (49%)]\tLoss: 0.378504\n",
            "Train Epoch: 1 [30080/60000 (50%)]\tLoss: 0.328818\n",
            "Train Epoch: 1 [30720/60000 (51%)]\tLoss: 0.405332\n",
            "Train Epoch: 1 [31360/60000 (52%)]\tLoss: 0.332134\n",
            "Train Epoch: 1 [32000/60000 (53%)]\tLoss: 0.477307\n",
            "Train Epoch: 1 [32640/60000 (54%)]\tLoss: 0.337073\n",
            "Train Epoch: 1 [33280/60000 (55%)]\tLoss: 0.230454\n",
            "Train Epoch: 1 [33920/60000 (57%)]\tLoss: 0.301177\n",
            "Train Epoch: 1 [34560/60000 (58%)]\tLoss: 0.400477\n",
            "Train Epoch: 1 [35200/60000 (59%)]\tLoss: 0.210887\n",
            "Train Epoch: 1 [35840/60000 (60%)]\tLoss: 0.225876\n",
            "Train Epoch: 1 [36480/60000 (61%)]\tLoss: 0.234584\n",
            "Train Epoch: 1 [37120/60000 (62%)]\tLoss: 0.422519\n",
            "Train Epoch: 1 [37760/60000 (63%)]\tLoss: 0.432548\n",
            "Train Epoch: 1 [38400/60000 (64%)]\tLoss: 0.234246\n",
            "Train Epoch: 1 [39040/60000 (65%)]\tLoss: 0.475258\n",
            "Train Epoch: 1 [39680/60000 (66%)]\tLoss: 0.501663\n",
            "Train Epoch: 1 [40320/60000 (67%)]\tLoss: 0.135434\n",
            "Train Epoch: 1 [40960/60000 (68%)]\tLoss: 0.363219\n",
            "Train Epoch: 1 [41600/60000 (69%)]\tLoss: 0.214181\n",
            "Train Epoch: 1 [42240/60000 (70%)]\tLoss: 0.279812\n",
            "Train Epoch: 1 [42880/60000 (71%)]\tLoss: 0.378862\n",
            "Train Epoch: 1 [43520/60000 (72%)]\tLoss: 0.384356\n",
            "Train Epoch: 1 [44160/60000 (74%)]\tLoss: 0.318189\n",
            "Train Epoch: 1 [44800/60000 (75%)]\tLoss: 0.236961\n",
            "Train Epoch: 1 [45440/60000 (76%)]\tLoss: 0.448238\n",
            "Train Epoch: 1 [46080/60000 (77%)]\tLoss: 0.324505\n",
            "Train Epoch: 1 [46720/60000 (78%)]\tLoss: 0.212917\n",
            "Train Epoch: 1 [47360/60000 (79%)]\tLoss: 0.428025\n",
            "Train Epoch: 1 [48000/60000 (80%)]\tLoss: 0.270001\n",
            "Train Epoch: 1 [48640/60000 (81%)]\tLoss: 0.264085\n",
            "Train Epoch: 1 [49280/60000 (82%)]\tLoss: 0.209929\n",
            "Train Epoch: 1 [49920/60000 (83%)]\tLoss: 0.532557\n",
            "Train Epoch: 1 [50560/60000 (84%)]\tLoss: 0.261346\n",
            "Train Epoch: 1 [51200/60000 (85%)]\tLoss: 0.264521\n",
            "Train Epoch: 1 [51840/60000 (86%)]\tLoss: 0.194328\n",
            "Train Epoch: 1 [52480/60000 (87%)]\tLoss: 0.244943\n",
            "Train Epoch: 1 [53120/60000 (88%)]\tLoss: 0.250481\n",
            "Train Epoch: 1 [53760/60000 (90%)]\tLoss: 0.422350\n",
            "Train Epoch: 1 [54400/60000 (91%)]\tLoss: 0.279349\n",
            "Train Epoch: 1 [55040/60000 (92%)]\tLoss: 0.285543\n",
            "Train Epoch: 1 [55680/60000 (93%)]\tLoss: 0.166120\n",
            "Train Epoch: 1 [56320/60000 (94%)]\tLoss: 0.199871\n",
            "Train Epoch: 1 [56960/60000 (95%)]\tLoss: 0.223236\n",
            "Train Epoch: 1 [57600/60000 (96%)]\tLoss: 0.344091\n",
            "Train Epoch: 1 [58240/60000 (97%)]\tLoss: 0.621070\n",
            "Train Epoch: 1 [58880/60000 (98%)]\tLoss: 0.221913\n",
            "Train Epoch: 1 [59520/60000 (99%)]\tLoss: 0.323525\n",
            "\n",
            "Test set: Avg. loss: 0.2598, Accuracy: 9263/10000 (93%)\n",
            "\n",
            "--- CPU: 12.133278131484985 seconds ---\n",
            "--- GPU: 12.591364860534668 seconds ---\n"
          ],
          "name": "stdout"
        }
      ]
    },
    {
      "cell_type": "markdown",
      "metadata": {
        "id": "BhsCZfNufYld"
      },
      "source": [
        "# Evaluation"
      ]
    },
    {
      "cell_type": "code",
      "metadata": {
        "id": "tYbSA3XLfbnE",
        "outputId": "55d7cbd6-1a88-48c0-f767-4c8a71c9636b",
        "colab": {
          "base_uri": "https://localhost:8080/",
          "height": 296
        }
      },
      "source": [
        "fig = plt.figure()\n",
        "plt.plot(train_counter, train_losses, color='blue')\n",
        "plt.legend(['Train Loss'], loc='upper right')\n",
        "plt.xlabel('number of training examples seen')\n",
        "plt.ylabel('negative log likelihood loss')"
      ],
      "execution_count": 116,
      "outputs": [
        {
          "output_type": "execute_result",
          "data": {
            "text/plain": [
              "Text(0, 0.5, 'negative log likelihood loss')"
            ]
          },
          "metadata": {
            "tags": []
          },
          "execution_count": 116
        },
        {
          "output_type": "display_data",
          "data": {
            "image/png": "[encoded data removed]",
            "text/plain": [
              "<Figure size 432x288 with 1 Axes>"
            ]
          },
          "metadata": {
            "tags": [],
            "needs_background": "light"
          }
        }
      ]
    }
  ]
}