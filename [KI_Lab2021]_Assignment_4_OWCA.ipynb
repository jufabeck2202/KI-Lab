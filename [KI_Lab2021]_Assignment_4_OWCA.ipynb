{
  "nbformat": 4,
  "nbformat_minor": 0,
  "metadata": {
    "colab": {
      "name": "[KI-Lab2021] Assignment 4 OWCA.ipynb",
      "provenance": [],
      "collapsed_sections": [],
      "authorship_tag": "ABX9TyMLH3k1h35kuP145V4WJJyx",
      "include_colab_link": true
    },
    "kernelspec": {
      "name": "python3",
      "display_name": "Python 3"
    },
    "accelerator": "GPU"
  },
  "cells": [
    {
      "cell_type": "markdown",
      "metadata": {
        "id": "view-in-github",
        "colab_type": "text"
      },
      "source": [
        "<a href=\"https://colab.research.google.com/github/jufabeck2202/KI-Lab/blob/main/%5BKI_Lab2021%5D_Assignment_4_OWCA.ipynb\" target=\"_parent\"><img src=\"https://colab.research.google.com/assets/colab-badge.svg\" alt=\"Open In Colab\"/></a>"
      ]
    },
    {
      "cell_type": "markdown",
      "metadata": {
        "id": "YJKIoo8F5Ijw"
      },
      "source": [
        "Overview:\n",
        "\n",
        "• In this assignment we want to build a model that can generate German nouns\n",
        "given a prefix as input.\n",
        "Example: Input „Jahr\" → Output: „Jahrmarkt“ .\n",
        "\n",
        "• For this purpose, we load German language data and filter it for nouns with spaCy.\n",
        "\n",
        "• We then use a simple RNN to learn to generated names.\n",
        "\n",
        "• In a second step, we switch to a more sophisticated LSTM model and compare the\n",
        "results.\n"
      ]
    },
    {
      "cell_type": "markdown",
      "metadata": {
        "id": "i1NxUrjP5T12"
      },
      "source": [
        "1. Go to the following Git repo which contains a dataset of German articles:\n",
        "https://github.com/tblock/10kGNAD\n",
        "2. Download the file train.csv\tfrom there and import it into a notebook.\n",
        "3. Drop the label and only use the sentence in each line (the part after the first ; ).\n",
        "4. Use spaCy to get all nouns in the whole file.\n",
        "5. Filter out the nouns that have characters wich are not in all_letters (see\n",
        "code snippet below). The remaining set of nouns constitute our training data.\n",
        "6. Go through the PyTorch tutorial on name generation. Clone the notebook, execute it\n",
        "and understand what is going on.\n",
        "7. Use the same architecture to train a language model on the nouns that were extracted\n",
        "from the German dataset in step 1 to 5. (Note: We do not need a „category“, you have\n",
        "to remove everything that belongs to „category“ from the code).\n",
        "8. Extend the sampling logic in the sample function sucht that:\n",
        "  \n",
        "  i. The model extends any given prefix string by first feeding the prefix into the RNN\n",
        "and then start generating new characters. (Currently the model only samples based\n",
        "on a given starting letter).\n",
        "  \n",
        "  ii. Currently the model uses the highest score during sampling. Change that into\n",
        "drawing a real sample from the softmax distribution.\n",
        "9. Choose 10 random words from the training data and randomly cut-off a prefix. For\n",
        "every of those prefixes give an output for:\n",
        "  1. The model extending the prefix with the max score approach.\n",
        "  2. The mode extending the prefix with a real sampling approach.\n",
        "  3. Randomly pick characters from all_letters to extend the prefix (this is just for\n",
        "comparison reasons, i.e. how would a complete random generation look like).\n",
        "Bonus task (which will be very helpful for the next assignment):\n",
        "• Use an LSTM as described here (but without the embeddings) to train the model.\n",
        "• Feed the whole word at once to the LSTM (i.e. not a single characters at a time).\n",
        "• Generate some words to see the results\n",
        "\n",
        "Do not expect the models to generate always meaningful words. The model should\n",
        "output words that are in some sense similar to valid words and which look much closer\n",
        "to real words than randomly generated output\n"
      ]
    },
    {
      "cell_type": "code",
      "metadata": {
        "id": "_igiUR-wtzLi"
      },
      "source": [
        "!pip install -U spacy[cuda100] de &> /dev/null\n",
        "!python -m spacy download de &> /dev/null\n",
        "!pip install -q \"tqdm>=4.36.1\" &> /dev/null"
      ],
      "execution_count": 1,
      "outputs": []
    },
    {
      "cell_type": "code",
      "metadata": {
        "id": "psGdscU35EmT",
        "colab": {
          "base_uri": "https://localhost:8080/"
        },
        "outputId": "82d82341-2005-463f-90af-f14f05c33a94"
      },
      "source": [
        "import pandas as pd\n",
        "import torch\n",
        "import spacy\n",
        "spacy.prefer_gpu()\n",
        "nlp_ger = spacy.load(\"de\")\n",
        "from tqdm import tqdm\n",
        "import string\n",
        "import torch\n",
        "import torch.nn as nn\n",
        "import random\n",
        "import time\n",
        "import math\n",
        "import matplotlib.pyplot as plt\n",
        "import matplotlib.ticker as ticker\n",
        "\n",
        "device = torch.device(\"cuda:0\" if torch.cuda.is_available() else \"cpu\")\n",
        "print(device)\n"
      ],
      "execution_count": 38,
      "outputs": [
        {
          "output_type": "stream",
          "text": [
            "cuda:0\n"
          ],
          "name": "stdout"
        }
      ]
    },
    {
      "cell_type": "code",
      "metadata": {
        "colab": {
          "base_uri": "https://localhost:8080/",
          "height": 407
        },
        "id": "_5DUqhdlr31Z",
        "outputId": "b03c5d85-21da-4edd-f15e-471bf29ea167"
      },
      "source": [
        "df = pd.read_csv('https://raw.githubusercontent.com/tblock/10kGNAD/master/articles.csv', names=['temp','Data'], error_bad_lines=False, sep=';')\n",
        "df = df.drop(columns=['temp'])\n",
        "df"
      ],
      "execution_count": 3,
      "outputs": [
        {
          "output_type": "execute_result",
          "data": {
            "text/html": [
              "<div>\n",
              "<style scoped>\n",
              "    .dataframe tbody tr th:only-of-type {\n",
              "        vertical-align: middle;\n",
              "    }\n",
              "\n",
              "    .dataframe tbody tr th {\n",
              "        vertical-align: top;\n",
              "    }\n",
              "\n",
              "    .dataframe thead th {\n",
              "        text-align: right;\n",
              "    }\n",
              "</style>\n",
              "<table border=\"1\" class=\"dataframe\">\n",
              "  <thead>\n",
              "    <tr style=\"text-align: right;\">\n",
              "      <th></th>\n",
              "      <th>Data</th>\n",
              "    </tr>\n",
              "  </thead>\n",
              "  <tbody>\n",
              "    <tr>\n",
              "      <th>0</th>\n",
              "      <td>Die ARD-Tochter Degeto hat sich verpflichtet, ...</td>\n",
              "    </tr>\n",
              "    <tr>\n",
              "      <th>1</th>\n",
              "      <td>App sei nicht so angenommen worden wie geplant...</td>\n",
              "    </tr>\n",
              "    <tr>\n",
              "      <th>2</th>\n",
              "      <td>'Zum Welttag der Suizidprävention ist es Zeit,...</td>\n",
              "    </tr>\n",
              "    <tr>\n",
              "      <th>3</th>\n",
              "      <td>Mitarbeiter überreichten Eigentümervertretern ...</td>\n",
              "    </tr>\n",
              "    <tr>\n",
              "      <th>4</th>\n",
              "      <td>Service: Jobwechsel in der Kommunikationsbranc...</td>\n",
              "    </tr>\n",
              "    <tr>\n",
              "      <th>...</th>\n",
              "      <td>...</td>\n",
              "    </tr>\n",
              "    <tr>\n",
              "      <th>10268</th>\n",
              "      <td>Die Fundstelle in Südengland ist Unesco-Weltku...</td>\n",
              "    </tr>\n",
              "    <tr>\n",
              "      <th>10269</th>\n",
              "      <td>Im Team arbeitet auch ein Inspektor der sudane...</td>\n",
              "    </tr>\n",
              "    <tr>\n",
              "      <th>10270</th>\n",
              "      <td>Die zentrale Frage des Projekts: Siedelten Ägy...</td>\n",
              "    </tr>\n",
              "    <tr>\n",
              "      <th>10271</th>\n",
              "      <td>Klimatische Verschlechterungen dürften zur Auf...</td>\n",
              "    </tr>\n",
              "    <tr>\n",
              "      <th>10272</th>\n",
              "      <td>Knochen können zum Verständnis des Lebens in d...</td>\n",
              "    </tr>\n",
              "  </tbody>\n",
              "</table>\n",
              "<p>10273 rows × 1 columns</p>\n",
              "</div>"
            ],
            "text/plain": [
              "                                                    Data\n",
              "0      Die ARD-Tochter Degeto hat sich verpflichtet, ...\n",
              "1      App sei nicht so angenommen worden wie geplant...\n",
              "2      'Zum Welttag der Suizidprävention ist es Zeit,...\n",
              "3      Mitarbeiter überreichten Eigentümervertretern ...\n",
              "4      Service: Jobwechsel in der Kommunikationsbranc...\n",
              "...                                                  ...\n",
              "10268  Die Fundstelle in Südengland ist Unesco-Weltku...\n",
              "10269  Im Team arbeitet auch ein Inspektor der sudane...\n",
              "10270  Die zentrale Frage des Projekts: Siedelten Ägy...\n",
              "10271  Klimatische Verschlechterungen dürften zur Auf...\n",
              "10272  Knochen können zum Verständnis des Lebens in d...\n",
              "\n",
              "[10273 rows x 1 columns]"
            ]
          },
          "metadata": {
            "tags": []
          },
          "execution_count": 3
        }
      ]
    },
    {
      "cell_type": "code",
      "metadata": {
        "colab": {
          "base_uri": "https://localhost:8080/"
        },
        "id": "HvtWNvTXurU2",
        "outputId": "26464dd6-3015-4478-ab71-f7494c17a9c5"
      },
      "source": [
        "nouns = []\n",
        "for index, row in tqdm(df.iterrows(), total=df.shape[0], position=0, leave=True):\n",
        "    text = nlp_ger(row.Data)\n",
        "    for word in text:\n",
        "      if word.pos_ == 'NOUN':\n",
        "        nouns.append(word.text)"
      ],
      "execution_count": 4,
      "outputs": [
        {
          "output_type": "stream",
          "text": [
            "100%|██████████| 10273/10273 [06:13<00:00, 27.54it/s]\n"
          ],
          "name": "stderr"
        }
      ]
    },
    {
      "cell_type": "code",
      "metadata": {
        "colab": {
          "base_uri": "https://localhost:8080/"
        },
        "id": "Rq3RJMubzdsd",
        "outputId": "361006e3-a1e9-40e6-8f2d-5a1d4f964c75"
      },
      "source": [
        "print(len(nouns))\n",
        "nouns = list(dict.fromkeys(nouns))\n",
        "print(f\"Number of German Nouns {len(nouns)}\")\n",
        "all_letters = string.ascii_letters + 'ÄÖÜäöüß'\n",
        "nouns = [word for word in nouns if all(ch in list(all_letters) for ch in word)] \n",
        "print(f\"Number of German sanitized Nouns {len(nouns)}\")\n",
        "n_letters = len(all_letters) + 1"
      ],
      "execution_count": 42,
      "outputs": [
        {
          "output_type": "stream",
          "text": [
            "102361\n",
            "Number of German Nouns 102361\n",
            "Number of German sanitized Nouns 102361\n"
          ],
          "name": "stdout"
        }
      ]
    },
    {
      "cell_type": "code",
      "metadata": {
        "id": "tqEEMOLR1bFH"
      },
      "source": [
        "class RNN(nn.Module):\n",
        "    def __init__(self, input_size, hidden_size, output_size):\n",
        "        super(RNN, self).__init__()\n",
        "        self.hidden_size = hidden_size\n",
        "        self.i2h = nn.Linear(input_size + hidden_size, hidden_size)\n",
        "        self.i2o = nn.Linear(input_size + hidden_size, output_size)\n",
        "        self.o2o = nn.Linear(hidden_size + output_size, output_size)\n",
        "        self.dropout = nn.Dropout(0.1)\n",
        "        self.softmax = nn.LogSoftmax(dim=1)\n",
        "\n",
        "    def forward(self, input, hidden):\n",
        "        input_combined = torch.cat((input, hidden), 1)\n",
        "        hidden = self.i2h(input_combined)\n",
        "        output = self.i2o(input_combined)\n",
        "        output_combined = torch.cat((hidden, output), 1)\n",
        "        output = self.o2o(output_combined)\n",
        "        output = self.dropout(output)\n",
        "        output = self.softmax(output)\n",
        "        return output, hidden\n",
        "\n",
        "    def initHidden(self):\n",
        "        return torch.zeros(1, self.hidden_size)"
      ],
      "execution_count": 35,
      "outputs": []
    },
    {
      "cell_type": "code",
      "metadata": {
        "id": "NS0y5brk-o08"
      },
      "source": [
        "# One-hot matrix of first to last letters (not including EOS) for input\n",
        "def inputTensor(line):\n",
        "    tensor = torch.zeros(len(line), 1, n_letters)\n",
        "    for li in range(len(line)):\n",
        "        letter = line[li]\n",
        "        tensor[li][0][all_letters.find(letter)] = 1\n",
        "    return tensor\n",
        "\n",
        "# LongTensor of second letter to end (EOS) for target\n",
        "def targetTensor(line):\n",
        "    letter_indexes = [all_letters.find(line[li]) for li in range(1, len(line))]\n",
        "    letter_indexes.append(n_letters - 1) # EOS\n",
        "    return torch.LongTensor(letter_indexes)\n",
        "\n",
        "def randomTrainingPair():\n",
        "    line = randomChoice(nouns)\n",
        "    return line\n",
        "    \n",
        "def randomChoice(l):\n",
        "    return l[random.randint(0, len(l) - 1)]"
      ],
      "execution_count": 32,
      "outputs": []
    },
    {
      "cell_type": "code",
      "metadata": {
        "id": "Vai3MVjk-qOj"
      },
      "source": [
        "# Make category, input, and target tensors from a random category, line pair\n",
        "def randomTrainingExample():\n",
        "    line = randomTrainingPair()\n",
        "    input_line_tensor = inputTensor(line)\n",
        "    target_line_tensor = targetTensor(line)\n",
        "    \n",
        "    input_line_tensor = input_line_tensor.cuda()\n",
        "    target_line_tensor = target_line_tensor.cuda()\n",
        "    return input_line_tensor, target_line_tensor"
      ],
      "execution_count": 28,
      "outputs": []
    },
    {
      "cell_type": "code",
      "metadata": {
        "colab": {
          "base_uri": "https://localhost:8080/"
        },
        "id": "UYTwGFjgAQ94",
        "outputId": "7b30548b-5879-48f6-9a4a-c26a53df93aa"
      },
      "source": [
        "input, output = randomTrainingExample()\n",
        "print(input.shape)"
      ],
      "execution_count": 25,
      "outputs": [
        {
          "output_type": "stream",
          "text": [
            "torch.Size([10, 1, 60])\n"
          ],
          "name": "stdout"
        }
      ]
    },
    {
      "cell_type": "code",
      "metadata": {
        "id": "xUWXQZOx-q01"
      },
      "source": [
        "criterion = nn.NLLLoss()\n",
        "\n",
        "learning_rate = 0.0005\n",
        "\n",
        "def train(input_line_tensor, target_line_tensor):\n",
        "    target_line_tensor.unsqueeze_(-1)\n",
        "    hidden = rnn.initHidden()\n",
        "\n",
        "    rnn.zero_grad()\n",
        "\n",
        "    loss = 0\n",
        "\n",
        "    for i in range(input_line_tensor.size(0)):\n",
        "        output, hidden = rnn(input_line_tensor[i], hidden)\n",
        "        l = criterion(output, target_line_tensor[i])\n",
        "        loss += l\n",
        "\n",
        "    loss.backward()\n",
        "\n",
        "    for p in rnn.parameters():\n",
        "        p.data.add_(p.grad.data, alpha=-learning_rate)\n",
        "\n",
        "    return output, loss.item() / input_line_tensor.size(0)"
      ],
      "execution_count": 36,
      "outputs": []
    },
    {
      "cell_type": "code",
      "metadata": {
        "id": "Wp-N0umW-rZf"
      },
      "source": [
        "def timeSince(since):\n",
        "    now = time.time()\n",
        "    s = now - since\n",
        "    m = math.floor(s / 60)\n",
        "    s -= m * 60\n",
        "    return '%dm %ds' % (m, s)"
      ],
      "execution_count": 30,
      "outputs": []
    },
    {
      "cell_type": "code",
      "metadata": {
        "colab": {
          "base_uri": "https://localhost:8080/"
        },
        "id": "hbXyj8Fz-r81",
        "outputId": "bbc85e32-8377-42df-c7df-61522766ec48"
      },
      "source": [
        "rnn = RNN(n_letters, 128, n_letters)\n",
        "\n",
        "n_iters = 100000\n",
        "print_every = 10000\n",
        "plot_every = 500\n",
        "all_losses = []\n",
        "total_loss = 0 # Reset every plot_every iters\n",
        "\n",
        "start = time.time()\n",
        "for iter in tqdm(range(1, n_iters + 1),position=0, leave=True):\n",
        "    output, loss = train(*randomTrainingExample()) \n",
        "    total_loss += loss\n",
        "\n",
        "    if iter % print_every == 0:\n",
        "        print('%s (%d %d%%) %.4f' % (timeSince(start), iter, iter / n_iters * 100, loss))\n",
        "\n",
        "    if iter % plot_every == 0:\n",
        "        all_losses.append(total_loss / plot_every)\n",
        "        total_loss = 0"
      ],
      "execution_count": 39,
      "outputs": [
        {
          "output_type": "stream",
          "text": [
            "  5%|▌         | 5014/100000 [00:50<16:09, 97.98it/s] "
          ],
          "name": "stderr"
        },
        {
          "output_type": "stream",
          "text": [
            "0m 49s (5000 5%) 2.9836\n"
          ],
          "name": "stdout"
        },
        {
          "output_type": "stream",
          "text": [
            " 10%|█         | 10018/100000 [01:40<14:22, 104.28it/s]"
          ],
          "name": "stderr"
        },
        {
          "output_type": "stream",
          "text": [
            "1m 40s (10000 10%) 2.8625\n"
          ],
          "name": "stdout"
        },
        {
          "output_type": "stream",
          "text": [
            " 15%|█▌        | 15012/100000 [02:29<13:24, 105.61it/s]"
          ],
          "name": "stderr"
        },
        {
          "output_type": "stream",
          "text": [
            "2m 29s (15000 15%) 2.5210\n"
          ],
          "name": "stdout"
        },
        {
          "output_type": "stream",
          "text": [
            " 20%|██        | 20018/100000 [03:19<12:40, 105.16it/s]"
          ],
          "name": "stderr"
        },
        {
          "output_type": "stream",
          "text": [
            "3m 18s (20000 20%) 1.9581\n"
          ],
          "name": "stdout"
        },
        {
          "output_type": "stream",
          "text": [
            " 25%|██▌       | 25011/100000 [04:07<15:07, 82.64it/s]"
          ],
          "name": "stderr"
        },
        {
          "output_type": "stream",
          "text": [
            "4m 7s (25000 25%) 3.2115\n"
          ],
          "name": "stdout"
        },
        {
          "output_type": "stream",
          "text": [
            " 30%|███       | 30022/100000 [04:56<10:35, 110.16it/s]"
          ],
          "name": "stderr"
        },
        {
          "output_type": "stream",
          "text": [
            "4m 56s (30000 30%) 2.3941\n"
          ],
          "name": "stdout"
        },
        {
          "output_type": "stream",
          "text": [
            " 35%|███▌      | 35016/100000 [05:46<10:49, 99.98it/s] "
          ],
          "name": "stderr"
        },
        {
          "output_type": "stream",
          "text": [
            "5m 45s (35000 35%) 2.6642\n"
          ],
          "name": "stdout"
        },
        {
          "output_type": "stream",
          "text": [
            " 40%|████      | 40016/100000 [06:35<11:37, 85.96it/s]"
          ],
          "name": "stderr"
        },
        {
          "output_type": "stream",
          "text": [
            "6m 35s (40000 40%) 1.8628\n"
          ],
          "name": "stdout"
        },
        {
          "output_type": "stream",
          "text": [
            " 45%|████▌     | 45019/100000 [07:26<08:14, 111.24it/s]"
          ],
          "name": "stderr"
        },
        {
          "output_type": "stream",
          "text": [
            "7m 25s (45000 45%) 1.9301\n"
          ],
          "name": "stdout"
        },
        {
          "output_type": "stream",
          "text": [
            " 50%|█████     | 50019/100000 [08:15<07:32, 110.57it/s]"
          ],
          "name": "stderr"
        },
        {
          "output_type": "stream",
          "text": [
            "8m 14s (50000 50%) 1.8743\n"
          ],
          "name": "stdout"
        },
        {
          "output_type": "stream",
          "text": [
            " 55%|█████▌    | 55016/100000 [09:04<06:54, 108.50it/s]"
          ],
          "name": "stderr"
        },
        {
          "output_type": "stream",
          "text": [
            "9m 4s (55000 55%) 2.0545\n"
          ],
          "name": "stdout"
        },
        {
          "output_type": "stream",
          "text": [
            " 60%|██████    | 60019/100000 [09:53<06:22, 104.56it/s]"
          ],
          "name": "stderr"
        },
        {
          "output_type": "stream",
          "text": [
            "9m 53s (60000 60%) 2.6877\n"
          ],
          "name": "stdout"
        },
        {
          "output_type": "stream",
          "text": [
            " 65%|██████▌   | 65013/100000 [10:43<06:00, 97.18it/s]"
          ],
          "name": "stderr"
        },
        {
          "output_type": "stream",
          "text": [
            "10m 43s (65000 65%) 3.2560\n"
          ],
          "name": "stdout"
        },
        {
          "output_type": "stream",
          "text": [
            " 70%|███████   | 70015/100000 [11:32<04:46, 104.54it/s]"
          ],
          "name": "stderr"
        },
        {
          "output_type": "stream",
          "text": [
            "11m 32s (70000 70%) 2.6255\n"
          ],
          "name": "stdout"
        },
        {
          "output_type": "stream",
          "text": [
            " 75%|███████▌  | 75018/100000 [12:21<03:49, 108.97it/s]"
          ],
          "name": "stderr"
        },
        {
          "output_type": "stream",
          "text": [
            "12m 21s (75000 75%) 2.0434\n"
          ],
          "name": "stdout"
        },
        {
          "output_type": "stream",
          "text": [
            " 80%|████████  | 80008/100000 [13:11<03:55, 84.74it/s]"
          ],
          "name": "stderr"
        },
        {
          "output_type": "stream",
          "text": [
            "13m 10s (80000 80%) 2.8464\n"
          ],
          "name": "stdout"
        },
        {
          "output_type": "stream",
          "text": [
            " 85%|████████▌ | 85015/100000 [14:02<02:47, 89.45it/s]"
          ],
          "name": "stderr"
        },
        {
          "output_type": "stream",
          "text": [
            "14m 1s (85000 85%) 2.9966\n"
          ],
          "name": "stdout"
        },
        {
          "output_type": "stream",
          "text": [
            " 90%|█████████ | 90011/100000 [14:51<01:43, 96.27it/s] "
          ],
          "name": "stderr"
        },
        {
          "output_type": "stream",
          "text": [
            "14m 51s (90000 90%) 2.7356\n"
          ],
          "name": "stdout"
        },
        {
          "output_type": "stream",
          "text": [
            " 95%|█████████▌| 95015/100000 [15:42<00:45, 109.64it/s]"
          ],
          "name": "stderr"
        },
        {
          "output_type": "stream",
          "text": [
            "15m 42s (95000 95%) 1.9175\n"
          ],
          "name": "stdout"
        },
        {
          "output_type": "stream",
          "text": [
            "100%|██████████| 100000/100000 [16:32<00:00, 100.77it/s]"
          ],
          "name": "stderr"
        },
        {
          "output_type": "stream",
          "text": [
            "16m 32s (100000 100%) 2.8533\n"
          ],
          "name": "stdout"
        },
        {
          "output_type": "stream",
          "text": [
            "\n"
          ],
          "name": "stderr"
        }
      ]
    },
    {
      "cell_type": "code",
      "metadata": {
        "colab": {
          "base_uri": "https://localhost:8080/",
          "height": 282
        },
        "id": "MEGaqSjORg7m",
        "outputId": "ba1217fd-0a3d-4f56-fae7-cc281b899af6"
      },
      "source": [
        "plt.figure()\n",
        "plt.plot(all_losses)"
      ],
      "execution_count": 40,
      "outputs": [
        {
          "output_type": "execute_result",
          "data": {
            "text/plain": [
              "[<matplotlib.lines.Line2D at 0x7ffb223266a0>]"
            ]
          },
          "metadata": {
            "tags": []
          },
          "execution_count": 40
        },
        {
          "output_type": "display_data",
          "data": {
            "image/png": "[encoded data removed]",
            "text/plain": [
              "<Figure size 432x288 with 1 Axes>"
            ]
          },
          "metadata": {
            "tags": [],
            "needs_background": "light"
          }
        }
      ]
    },
    {
      "cell_type": "code",
      "metadata": {
        "id": "ZQQI-Ry3Rskz"
      },
      "source": [
        "max_length = 20\n",
        "\n",
        "# Sample from a category and starting letter\n",
        "def sample(start_letters='A'):\n",
        "    with torch.no_grad():  # no need to track history in sampling\n",
        "        hidden = rnn.initHidden()\n",
        "        complete_tensor = inputTensor(start_letters)\n",
        "        print(complete_tensor.shape)\n",
        "        \n",
        "        # set output to current prefix\n",
        "        output_name = start_letters\n",
        "\n",
        "        for letter in start_letters[:-1]:\n",
        "          input_single_letter = inputTensor(letter)\n",
        "          _ , hidden = rnn(input_single_letter[0], hidden)\n",
        "\n",
        "        input = inputTensor(start_letters[-1])\n",
        "        for i in range(max_length):\n",
        "            output, hidden = rnn(input[0], hidden)\n",
        "            topv, topi = output.topk(1)\n",
        "            topi = topi[0][0]\n",
        "            if topi == n_letters - 1:\n",
        "              #reached end of line\n",
        "                break\n",
        "            else:\n",
        "                letter = all_letters[topi]\n",
        "                output_name += letter\n",
        "            \n",
        "            input = inputTensor(letter)\n",
        "\n",
        "        return output_name\n",
        "\n",
        "# Get multiple samples from one category and multiple starting letters\n",
        "def samples(start_letters='ABC'):\n",
        "    for start_letter in start_letters:\n",
        "        print(sample(category, start_letter))"
      ],
      "execution_count": 159,
      "outputs": []
    },
    {
      "cell_type": "code",
      "metadata": {
        "colab": {
          "base_uri": "https://localhost:8080/",
          "height": 53
        },
        "id": "8asRnX7QSMja",
        "outputId": "60af73ac-6379-4d4d-d7b3-264dea8fd81b"
      },
      "source": [
        "sample(start_letters=\"Beju\")"
      ],
      "execution_count": 163,
      "outputs": [
        {
          "output_type": "stream",
          "text": [
            "torch.Size([4, 1, 60])\n"
          ],
          "name": "stdout"
        },
        {
          "output_type": "execute_result",
          "data": {
            "application/vnd.google.colaboratory.intrinsic+json": {
              "type": "string"
            },
            "text/plain": [
              "'Bejungsschafe'"
            ]
          },
          "metadata": {
            "tags": []
          },
          "execution_count": 163
        }
      ]
    }
  ]
}