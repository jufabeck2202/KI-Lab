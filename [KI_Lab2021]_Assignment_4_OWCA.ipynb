{
  "nbformat": 4,
  "nbformat_minor": 0,
  "metadata": {
    "colab": {
      "name": "[KI-Lab2021] Assignment 4 OWCA.ipynb",
      "provenance": [],
      "collapsed_sections": [],
      "authorship_tag": "ABX9TyNW+eI6obimJhS1FteM2g6X",
      "include_colab_link": true
    },
    "kernelspec": {
      "name": "python3",
      "display_name": "Python 3"
    },
    "accelerator": "GPU"
  },
  "cells": [
    {
      "cell_type": "markdown",
      "metadata": {
        "id": "view-in-github",
        "colab_type": "text"
      },
      "source": [
        "<a href=\"https://colab.research.google.com/github/jufabeck2202/KI-Lab/blob/main/%5BKI_Lab2021%5D_Assignment_4_OWCA.ipynb\" target=\"_parent\"><img src=\"https://colab.research.google.com/assets/colab-badge.svg\" alt=\"Open In Colab\"/></a>"
      ]
    },
    {
      "cell_type": "markdown",
      "metadata": {
        "id": "YJKIoo8F5Ijw"
      },
      "source": [
        "Overview:\n",
        "\n",
        "• In this assignment we want to build a model that can generate German nouns\n",
        "given a prefix as input.\n",
        "Example: Input „Jahr\" → Output: „Jahrmarkt“ .\n",
        "\n",
        "• For this purpose, we load German language data and filter it for nouns with spaCy.\n",
        "\n",
        "• We then use a simple RNN to learn to generated names.\n",
        "\n",
        "• In a second step, we switch to a more sophisticated LSTM model and compare the\n",
        "results.\n"
      ]
    },
    {
      "cell_type": "markdown",
      "metadata": {
        "id": "i1NxUrjP5T12"
      },
      "source": [
        "1. Go to the following Git repo which contains a dataset of German articles:\n",
        "https://github.com/tblock/10kGNAD\n",
        "2. Download the file train.csv\tfrom there and import it into a notebook.\n",
        "3. Drop the label and only use the sentence in each line (the part after the first ; ).\n",
        "4. Use spaCy to get all nouns in the whole file.\n",
        "5. Filter out the nouns that have characters wich are not in all_letters (see\n",
        "code snippet below). The remaining set of nouns constitute our training data.\n",
        "6. Go through the PyTorch tutorial on name generation. Clone the notebook, execute it\n",
        "and understand what is going on.\n",
        "7. Use the same architecture to train a language model on the nouns that were extracted\n",
        "from the German dataset in step 1 to 5. (Note: We do not need a „category“, you have\n",
        "to remove everything that belongs to „category“ from the code).\n",
        "8. Extend the sampling logic in the sample function sucht that:\n",
        "  \n",
        "  i. The model extends any given prefix string by first feeding the prefix into the RNN\n",
        "and then start generating new characters. (Currently the model only samples based\n",
        "on a given starting letter).\n",
        "  \n",
        "  ii. Currently the model uses the highest score during sampling. Change that into\n",
        "drawing a real sample from the softmax distribution.\n",
        "9. Choose 10 random words from the training data and randomly cut-off a prefix. For\n",
        "every of those prefixes give an output for:\n",
        "  1. The model extending the prefix with the max score approach.\n",
        "  2. The mode extending the prefix with a real sampling approach.\n",
        "  3. Randomly pick characters from all_letters to extend the prefix (this is just for\n",
        "comparison reasons, i.e. how would a complete random generation look like).\n",
        "Bonus task (which will be very helpful for the next assignment):\n",
        "• Use an LSTM as described here (but without the embeddings) to train the model.\n",
        "• Feed the whole word at once to the LSTM (i.e. not a single characters at a time).\n",
        "• Generate some words to see the results\n",
        "\n",
        "Do not expect the models to generate always meaningful words. The model should\n",
        "output words that are in some sense similar to valid words and which look much closer\n",
        "to real words than randomly generated output\n"
      ]
    },
    {
      "cell_type": "code",
      "metadata": {
        "id": "_igiUR-wtzLi"
      },
      "source": [
        "!pip install -U spacy[cuda100] de &> /dev/null\n",
        "!python -m spacy download de &> /dev/null\n",
        "!pip install -q \"tqdm>=4.36.1\" &> /dev/null"
      ],
      "execution_count": 108,
      "outputs": []
    },
    {
      "cell_type": "code",
      "metadata": {
        "id": "psGdscU35EmT",
        "colab": {
          "base_uri": "https://localhost:8080/"
        },
        "outputId": "50a4b4d0-685a-467b-a26f-42c849673cef"
      },
      "source": [
        "import pandas as pd\n",
        "import torch\n",
        "import spacy\n",
        "spacy.prefer_gpu()\n",
        "nlp_ger = spacy.load(\"de\")\n",
        "from tqdm import tqdm\n",
        "import string\n",
        "import torch\n",
        "import torch.nn as nn\n",
        "import random\n",
        "import time\n",
        "import math\n",
        "import matplotlib.pyplot as plt\n",
        "import matplotlib.ticker as ticker\n",
        "from tabulate import tabulate\n",
        "\n",
        "device = torch.device(\"cuda:0\" if torch.cuda.is_available() else \"cpu\")\n",
        "print(device)\n"
      ],
      "execution_count": 129,
      "outputs": [
        {
          "output_type": "stream",
          "text": [
            "cuda:0\n"
          ],
          "name": "stdout"
        }
      ]
    },
    {
      "cell_type": "code",
      "metadata": {
        "colab": {
          "base_uri": "https://localhost:8080/",
          "height": 407
        },
        "id": "_5DUqhdlr31Z",
        "outputId": "21c4678a-5993-4272-eb6c-dd14b49eefff"
      },
      "source": [
        "df = pd.read_csv('https://raw.githubusercontent.com/tblock/10kGNAD/master/articles.csv', names=['temp','Data'], error_bad_lines=False, sep=';')\n",
        "df = df.drop(columns=['temp'])\n",
        "df"
      ],
      "execution_count": 110,
      "outputs": [
        {
          "output_type": "execute_result",
          "data": {
            "text/html": [
              "<div>\n",
              "<style scoped>\n",
              "    .dataframe tbody tr th:only-of-type {\n",
              "        vertical-align: middle;\n",
              "    }\n",
              "\n",
              "    .dataframe tbody tr th {\n",
              "        vertical-align: top;\n",
              "    }\n",
              "\n",
              "    .dataframe thead th {\n",
              "        text-align: right;\n",
              "    }\n",
              "</style>\n",
              "<table border=\"1\" class=\"dataframe\">\n",
              "  <thead>\n",
              "    <tr style=\"text-align: right;\">\n",
              "      <th></th>\n",
              "      <th>Data</th>\n",
              "    </tr>\n",
              "  </thead>\n",
              "  <tbody>\n",
              "    <tr>\n",
              "      <th>0</th>\n",
              "      <td>Die ARD-Tochter Degeto hat sich verpflichtet, ...</td>\n",
              "    </tr>\n",
              "    <tr>\n",
              "      <th>1</th>\n",
              "      <td>App sei nicht so angenommen worden wie geplant...</td>\n",
              "    </tr>\n",
              "    <tr>\n",
              "      <th>2</th>\n",
              "      <td>'Zum Welttag der Suizidprävention ist es Zeit,...</td>\n",
              "    </tr>\n",
              "    <tr>\n",
              "      <th>3</th>\n",
              "      <td>Mitarbeiter überreichten Eigentümervertretern ...</td>\n",
              "    </tr>\n",
              "    <tr>\n",
              "      <th>4</th>\n",
              "      <td>Service: Jobwechsel in der Kommunikationsbranc...</td>\n",
              "    </tr>\n",
              "    <tr>\n",
              "      <th>...</th>\n",
              "      <td>...</td>\n",
              "    </tr>\n",
              "    <tr>\n",
              "      <th>10268</th>\n",
              "      <td>Die Fundstelle in Südengland ist Unesco-Weltku...</td>\n",
              "    </tr>\n",
              "    <tr>\n",
              "      <th>10269</th>\n",
              "      <td>Im Team arbeitet auch ein Inspektor der sudane...</td>\n",
              "    </tr>\n",
              "    <tr>\n",
              "      <th>10270</th>\n",
              "      <td>Die zentrale Frage des Projekts: Siedelten Ägy...</td>\n",
              "    </tr>\n",
              "    <tr>\n",
              "      <th>10271</th>\n",
              "      <td>Klimatische Verschlechterungen dürften zur Auf...</td>\n",
              "    </tr>\n",
              "    <tr>\n",
              "      <th>10272</th>\n",
              "      <td>Knochen können zum Verständnis des Lebens in d...</td>\n",
              "    </tr>\n",
              "  </tbody>\n",
              "</table>\n",
              "<p>10273 rows × 1 columns</p>\n",
              "</div>"
            ],
            "text/plain": [
              "                                                    Data\n",
              "0      Die ARD-Tochter Degeto hat sich verpflichtet, ...\n",
              "1      App sei nicht so angenommen worden wie geplant...\n",
              "2      'Zum Welttag der Suizidprävention ist es Zeit,...\n",
              "3      Mitarbeiter überreichten Eigentümervertretern ...\n",
              "4      Service: Jobwechsel in der Kommunikationsbranc...\n",
              "...                                                  ...\n",
              "10268  Die Fundstelle in Südengland ist Unesco-Weltku...\n",
              "10269  Im Team arbeitet auch ein Inspektor der sudane...\n",
              "10270  Die zentrale Frage des Projekts: Siedelten Ägy...\n",
              "10271  Klimatische Verschlechterungen dürften zur Auf...\n",
              "10272  Knochen können zum Verständnis des Lebens in d...\n",
              "\n",
              "[10273 rows x 1 columns]"
            ]
          },
          "metadata": {
            "tags": []
          },
          "execution_count": 110
        }
      ]
    },
    {
      "cell_type": "code",
      "metadata": {
        "colab": {
          "base_uri": "https://localhost:8080/"
        },
        "id": "HvtWNvTXurU2",
        "outputId": "eeda3cca-26ee-4502-e8f2-da6e95689091"
      },
      "source": [
        "nouns = []\n",
        "for index, row in tqdm(df.iterrows(), total=df.shape[0], position=0, leave=True):\n",
        "    text = nlp_ger(row.Data)\n",
        "    for word in text:\n",
        "      if word.pos_ == 'NOUN':\n",
        "        nouns.append(word.text)"
      ],
      "execution_count": 111,
      "outputs": [
        {
          "output_type": "stream",
          "text": [
            "100%|██████████| 10273/10273 [10:34<00:00, 16.19it/s]\n"
          ],
          "name": "stderr"
        }
      ]
    },
    {
      "cell_type": "code",
      "metadata": {
        "colab": {
          "base_uri": "https://localhost:8080/"
        },
        "id": "Rq3RJMubzdsd",
        "outputId": "2ede86f5-9b83-48e1-e2ce-d8517003b20b"
      },
      "source": [
        "print(len(nouns))\n",
        "nouns = list(dict.fromkeys(nouns))\n",
        "print(f\"Number of German Nouns {len(nouns)}\")\n",
        "all_letters = string.ascii_letters + 'ÄÖÜäöüß'\n",
        "nouns = [word for word in nouns if all(ch in list(all_letters) for ch in word)] \n",
        "print(f\"Number of German sanitized Nouns {len(nouns)}\")\n",
        "n_letters = len(all_letters) + 1"
      ],
      "execution_count": 112,
      "outputs": [
        {
          "output_type": "stream",
          "text": [
            "809777\n",
            "Number of German Nouns 131574\n",
            "Number of German sanitized Nouns 102361\n"
          ],
          "name": "stdout"
        }
      ]
    },
    {
      "cell_type": "code",
      "metadata": {
        "id": "tqEEMOLR1bFH"
      },
      "source": [
        "class RNN(nn.Module):\n",
        "    def __init__(self, input_size, hidden_size, output_size):\n",
        "        super(RNN, self).__init__()\n",
        "        self.hidden_size = hidden_size\n",
        "        self.i2h = nn.Linear(input_size + hidden_size, hidden_size)\n",
        "        self.i2o = nn.Linear(input_size + hidden_size, output_size)\n",
        "        self.o2o = nn.Linear(hidden_size + output_size, output_size)\n",
        "        self.dropout = nn.Dropout(0.1)\n",
        "        self.softmax = nn.LogSoftmax(dim=1)\n",
        "\n",
        "    def forward(self, input, hidden):\n",
        "        input_combined = torch.cat((input, hidden), 1)\n",
        "        hidden = self.i2h(input_combined)\n",
        "        output = self.i2o(input_combined)\n",
        "        output_combined = torch.cat((hidden, output), 1)\n",
        "        output = self.o2o(output_combined)\n",
        "        output = self.dropout(output)\n",
        "        output = self.softmax(output)\n",
        "        return output, hidden\n",
        "\n",
        "    def initHidden(self):\n",
        "        return torch.zeros(1, self.hidden_size)"
      ],
      "execution_count": 113,
      "outputs": []
    },
    {
      "cell_type": "code",
      "metadata": {
        "id": "NS0y5brk-o08"
      },
      "source": [
        "# One-hot matrix of first to last letters (not including EOS) for input\n",
        "def inputTensor(line):\n",
        "    tensor = torch.zeros(len(line), 1, n_letters)\n",
        "    for li in range(len(line)):\n",
        "        letter = line[li]\n",
        "        tensor[li][0][all_letters.find(letter)] = 1\n",
        "    return tensor\n",
        "\n",
        "# LongTensor of second letter to end (EOS) for target\n",
        "def targetTensor(line):\n",
        "    letter_indexes = [all_letters.find(line[li]) for li in range(1, len(line))]\n",
        "    letter_indexes.append(n_letters - 1) # EOS\n",
        "    return torch.LongTensor(letter_indexes)\n",
        "\n",
        "def randomTrainingPair():\n",
        "    line = randomChoice(nouns)\n",
        "    return line\n",
        "    \n",
        "def randomChoice(l):\n",
        "    return l[random.randint(0, len(l) - 1)]"
      ],
      "execution_count": 114,
      "outputs": []
    },
    {
      "cell_type": "code",
      "metadata": {
        "id": "Vai3MVjk-qOj"
      },
      "source": [
        "# Make category, input, and target tensors from a random category, line pair\n",
        "def randomTrainingExample():\n",
        "    line = randomTrainingPair()\n",
        "    input_line_tensor = inputTensor(line)\n",
        "    target_line_tensor = targetTensor(line)\n",
        "    \n",
        "    input_line_tensor = input_line_tensor.cuda()\n",
        "    target_line_tensor = target_line_tensor.cuda()\n",
        "    return input_line_tensor, target_line_tensor"
      ],
      "execution_count": 115,
      "outputs": []
    },
    {
      "cell_type": "code",
      "metadata": {
        "colab": {
          "base_uri": "https://localhost:8080/"
        },
        "id": "UYTwGFjgAQ94",
        "outputId": "ba2e83be-fb7b-44f8-d3c4-95c65394bfc7"
      },
      "source": [
        "input, output = randomTrainingExample()\n",
        "print(input.shape)"
      ],
      "execution_count": 116,
      "outputs": [
        {
          "output_type": "stream",
          "text": [
            "torch.Size([6, 1, 60])\n"
          ],
          "name": "stdout"
        }
      ]
    },
    {
      "cell_type": "code",
      "metadata": {
        "id": "xUWXQZOx-q01"
      },
      "source": [
        "criterion = nn.NLLLoss()\n",
        "\n",
        "learning_rate = 0.0005\n",
        "\n",
        "def train(input_line_tensor, target_line_tensor):\n",
        "    target_line_tensor.unsqueeze_(-1)\n",
        "    hidden = rnn.initHidden()\n",
        "\n",
        "    rnn.zero_grad()\n",
        "\n",
        "    loss = 0\n",
        "\n",
        "    for i in range(input_line_tensor.size(0)):\n",
        "        output, hidden = rnn(input_line_tensor[i], hidden)\n",
        "        l = criterion(output, target_line_tensor[i])\n",
        "        loss += l\n",
        "\n",
        "    loss.backward()\n",
        "\n",
        "    for p in rnn.parameters():\n",
        "        p.data.add_(p.grad.data, alpha=-learning_rate)\n",
        "\n",
        "    return output, loss.item() / input_line_tensor.size(0)"
      ],
      "execution_count": 117,
      "outputs": []
    },
    {
      "cell_type": "code",
      "metadata": {
        "id": "Wp-N0umW-rZf"
      },
      "source": [
        "def timeSince(since):\n",
        "    now = time.time()\n",
        "    s = now - since\n",
        "    m = math.floor(s / 60)\n",
        "    s -= m * 60\n",
        "    return '%dm %ds' % (m, s)"
      ],
      "execution_count": 118,
      "outputs": []
    },
    {
      "cell_type": "code",
      "metadata": {
        "colab": {
          "base_uri": "https://localhost:8080/"
        },
        "id": "hbXyj8Fz-r81",
        "outputId": "6fb69d95-7c8c-4d40-de77-8405184936d3"
      },
      "source": [
        "rnn = RNN(n_letters, 128, n_letters)\n",
        "\n",
        "n_iters = 100000\n",
        "print_every = 10000\n",
        "plot_every = 500\n",
        "all_losses = []\n",
        "total_loss = 0 # Reset every plot_every iters\n",
        "\n",
        "start = time.time()\n",
        "for iter in tqdm(range(1, n_iters + 1),position=0, leave=True):\n",
        "    output, loss = train(*randomTrainingExample()) \n",
        "    total_loss += loss\n",
        "\n",
        "    if iter % print_every == 0:\n",
        "        print('%s (%d %d%%) %.4f' % (timeSince(start), iter, iter / n_iters * 100, loss))\n",
        "\n",
        "    if iter % plot_every == 0:\n",
        "        all_losses.append(total_loss / plot_every)\n",
        "        total_loss = 0"
      ],
      "execution_count": 119,
      "outputs": [
        {
          "output_type": "stream",
          "text": [
            " 10%|█         | 10008/100000 [02:36<24:08, 62.15it/s]"
          ],
          "name": "stderr"
        },
        {
          "output_type": "stream",
          "text": [
            "2m 36s (10000 10%) 2.4057\n"
          ],
          "name": "stdout"
        },
        {
          "output_type": "stream",
          "text": [
            " 20%|██        | 20012/100000 [05:12<20:28, 65.13it/s]"
          ],
          "name": "stderr"
        },
        {
          "output_type": "stream",
          "text": [
            "5m 11s (20000 20%) 2.6200\n"
          ],
          "name": "stdout"
        },
        {
          "output_type": "stream",
          "text": [
            " 30%|███       | 30007/100000 [07:46<15:49, 73.68it/s]"
          ],
          "name": "stderr"
        },
        {
          "output_type": "stream",
          "text": [
            "7m 46s (30000 30%) 2.8213\n"
          ],
          "name": "stdout"
        },
        {
          "output_type": "stream",
          "text": [
            " 40%|████      | 40007/100000 [10:21<15:52, 62.95it/s]"
          ],
          "name": "stderr"
        },
        {
          "output_type": "stream",
          "text": [
            "10m 20s (40000 40%) 2.3871\n"
          ],
          "name": "stdout"
        },
        {
          "output_type": "stream",
          "text": [
            " 50%|█████     | 50008/100000 [12:55<12:13, 68.18it/s]"
          ],
          "name": "stderr"
        },
        {
          "output_type": "stream",
          "text": [
            "12m 55s (50000 50%) 2.2154\n"
          ],
          "name": "stdout"
        },
        {
          "output_type": "stream",
          "text": [
            " 60%|██████    | 60008/100000 [15:30<10:18, 64.64it/s]"
          ],
          "name": "stderr"
        },
        {
          "output_type": "stream",
          "text": [
            "15m 30s (60000 60%) 2.7912\n"
          ],
          "name": "stdout"
        },
        {
          "output_type": "stream",
          "text": [
            " 70%|███████   | 70014/100000 [18:06<07:25, 67.35it/s]"
          ],
          "name": "stderr"
        },
        {
          "output_type": "stream",
          "text": [
            "18m 6s (70000 70%) 1.9859\n"
          ],
          "name": "stdout"
        },
        {
          "output_type": "stream",
          "text": [
            " 80%|████████  | 80011/100000 [20:41<05:05, 65.33it/s]"
          ],
          "name": "stderr"
        },
        {
          "output_type": "stream",
          "text": [
            "20m 41s (80000 80%) 2.1637\n"
          ],
          "name": "stdout"
        },
        {
          "output_type": "stream",
          "text": [
            " 90%|█████████ | 90007/100000 [23:17<02:43, 61.07it/s]"
          ],
          "name": "stderr"
        },
        {
          "output_type": "stream",
          "text": [
            "23m 17s (90000 90%) 2.7833\n"
          ],
          "name": "stdout"
        },
        {
          "output_type": "stream",
          "text": [
            "100%|██████████| 100000/100000 [25:54<00:00, 64.33it/s]"
          ],
          "name": "stderr"
        },
        {
          "output_type": "stream",
          "text": [
            "25m 54s (100000 100%) 2.7760\n"
          ],
          "name": "stdout"
        },
        {
          "output_type": "stream",
          "text": [
            "\n"
          ],
          "name": "stderr"
        }
      ]
    },
    {
      "cell_type": "code",
      "metadata": {
        "colab": {
          "base_uri": "https://localhost:8080/",
          "height": 282
        },
        "id": "MEGaqSjORg7m",
        "outputId": "139d6ff9-2768-4906-cf69-99a4069131e3"
      },
      "source": [
        "plt.figure()\n",
        "plt.plot(all_losses)"
      ],
      "execution_count": 120,
      "outputs": [
        {
          "output_type": "execute_result",
          "data": {
            "text/plain": [
              "[<matplotlib.lines.Line2D at 0x7f6ba34f59e8>]"
            ]
          },
          "metadata": {
            "tags": []
          },
          "execution_count": 120
        },
        {
          "output_type": "display_data",
          "data": {
            "image/png": "[encoded data removed]",
            "text/plain": [
              "<Figure size 432x288 with 1 Axes>"
            ]
          },
          "metadata": {
            "tags": [],
            "needs_background": "light"
          }
        }
      ]
    },
    {
      "cell_type": "code",
      "metadata": {
        "id": "ZQQI-Ry3Rskz"
      },
      "source": [
        "max_length = 20\n",
        "\n",
        "# Sample from a category and starting letter\n",
        "def sample(start_letters='A'):\n",
        "    with torch.no_grad():  # no need to track history in sampling\n",
        "        hidden = rnn.initHidden()\n",
        "        \n",
        "        # set output to current prefix\n",
        "        generated_word = start_letters\n",
        "\n",
        "        for letter in start_letters[:-1]:\n",
        "          input_single_letter = inputTensor(letter)\n",
        "          _ , hidden = rnn(input_single_letter[0], hidden)\n",
        "\n",
        "        input = inputTensor(start_letters[0])\n",
        "        for i in range(max_length):\n",
        "            output, hidden = rnn(input[0], hidden)\n",
        "            topv, topi = output.topk(1)\n",
        "            topi = topi[0][0]\n",
        "            if topi == n_letters - 1:\n",
        "              #reached end of line\n",
        "                break\n",
        "            else:\n",
        "                letter = all_letters[topi]\n",
        "                generated_word += letter\n",
        "            #next input\n",
        "            input = inputTensor(letter)\n",
        "\n",
        "        return generated_word\n"
      ],
      "execution_count": 121,
      "outputs": []
    },
    {
      "cell_type": "code",
      "metadata": {
        "colab": {
          "base_uri": "https://localhost:8080/",
          "height": 35
        },
        "id": "8asRnX7QSMja",
        "outputId": "d6e3b243-e1bd-42e6-d66f-efb579215462"
      },
      "source": [
        "sample(start_letters=\"AUto\")"
      ],
      "execution_count": 150,
      "outputs": [
        {
          "output_type": "execute_result",
          "data": {
            "application/vnd.google.colaboratory.intrinsic+json": {
              "type": "string"
            },
            "text/plain": [
              "'AUtongen'"
            ]
          },
          "metadata": {
            "tags": []
          },
          "execution_count": 150
        }
      ]
    },
    {
      "cell_type": "code",
      "metadata": {
        "colab": {
          "base_uri": "https://localhost:8080/"
        },
        "id": "7Y_I5rSIFUMf",
        "outputId": "312cb70b-e64b-4d5f-a521-911bb76da705"
      },
      "source": [
        "def evaluate_model(wordcount = 10, min_prefix =3):\n",
        "  data = []\n",
        "  for i in range(wordcount):\n",
        "    test_word = randomChoice(nouns)\n",
        "    if len(test_word)>=3:\n",
        "      prefix_len = random.randint(2, len(test_word))\n",
        "      test_prefix = test_word[:prefix_len]\n",
        "      data.append([test_word, test_prefix, test_prefix+\"\".join((random.choices(all_letters, k=2))), sample(test_prefix) ])\n",
        "    else:\n",
        "      i -=1\n",
        "  print(tabulate(data, headers=['Word', 'Prefix','Random', \"Top\"], tablefmt='orgtbl'))\n",
        "\n",
        "\n",
        "evaluate_model(10)"
      ],
      "execution_count": 155,
      "outputs": [
        {
          "output_type": "stream",
          "text": [
            "| Word                  | Prefix          | Random            | Top                 |\n",
            "|-----------------------+-----------------+-------------------+---------------------|\n",
            "| Unilehrgänge          | Unilehrg        | UnilehrgPp        | Unilehrgngengen     |\n",
            "| Wasserpark            | Wasserpark      | WasserparkÄq      | Wasserparkeit       |\n",
            "| Mutterkult            | Mu              | MuHR              | Muerierengen        |\n",
            "| Vergleichssumme       | Vergl           | VerglZn           | Vergleiten          |\n",
            "| Festivalchefin        | Festivalche     | FestivalcheOe     | Festivalcheien      |\n",
            "| Umgewöhnung           | Umgew           | Umgewsj           | Umgewnten           |\n",
            "| Aufwandsentschädigung | Aufwandsentschä | AufwandsentschänQ | Aufwandsentschäfter |\n",
            "| Produktives           | Produ           | Produap           | Produen             |\n",
            "| Präsidenten           | Präsidenten     | PräsidentenDß     | Präsidenten         |\n",
            "| Umgebautes            | Umgeba          | Umgebakc          | Umgebahlen          |\n"
          ],
          "name": "stdout"
        }
      ]
    }
  ]
}