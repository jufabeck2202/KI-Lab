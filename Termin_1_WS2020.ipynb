{
  "nbformat": 4,
  "nbformat_minor": 0,
  "metadata": {
    "kernelspec": {
      "display_name": "Python 3",
      "language": "python",
      "name": "python3"
    },
    "language_info": {
      "codemirror_mode": {
        "name": "ipython",
        "version": 3
      },
      "file_extension": ".py",
      "mimetype": "text/x-python",
      "name": "python",
      "nbconvert_exporter": "python",
      "pygments_lexer": "ipython3",
      "version": "3.8.3"
    },
    "colab": {
      "name": "Termin_1_WS2020.ipynb",
      "provenance": [],
      "collapsed_sections": [],
      "include_colab_link": true
    }
  },
  "cells": [
    {
      "cell_type": "markdown",
      "metadata": {
        "id": "view-in-github",
        "colab_type": "text"
      },
      "source": [
        "<a href=\"https://colab.research.google.com/github/jufabeck2202/KI-Lab/blob/main/Termin_1_WS2020.ipynb\" target=\"_parent\"><img src=\"https://colab.research.google.com/assets/colab-badge.svg\" alt=\"Open In Colab\"/></a>"
      ]
    },
    {
      "cell_type": "markdown",
      "metadata": {
        "id": "iO3UBSGTGCsw"
      },
      "source": [
        "# Optimieren Übung - Termin 1"
      ]
    },
    {
      "cell_type": "markdown",
      "metadata": {
        "id": "qwwiCMEhGCsw"
      },
      "source": [
        "In dieser Übung wird ein Kreis an eine verrauschte Punktewolke angepasst. \n",
        "\n",
        "Dabei wird im ersten Teil die analytische Lösung zum Berrechnen des Kreismittelpunkts $(m_x,m_y)^T \\in \\mathbb{R}^2$ bei gegebenem Radius $r \\in \\mathbb{R}^+$ ermittelt. <br/>\n",
        "Im zweiten Teil wird eine numerische Lösung für $m_x,m_y$ und $r$ gesucht. Dabei wird im ersten Schritt eine Schätzung analytisch bestimmt.\n",
        "Diese initiale Lösung wird anschließend mit Hilfe eines Gradientenabstiegsverfahrens optimiert."
      ]
    },
    {
      "cell_type": "markdown",
      "metadata": {
        "id": "KFSoLX8lGCsw"
      },
      "source": [
        "## Nötige Imports"
      ]
    },
    {
      "cell_type": "code",
      "metadata": {
        "id": "in5_roXxGCsw"
      },
      "source": [
        "from mpl_toolkits.mplot3d import Axes3D\n",
        "import matplotlib.pyplot as plt\n",
        "from matplotlib import cm\n",
        "from matplotlib.ticker import LinearLocator, FormatStrFormatter\n",
        "import numpy as np\n",
        "import random"
      ],
      "execution_count": 1,
      "outputs": []
    },
    {
      "cell_type": "markdown",
      "metadata": {
        "id": "XbAg3ScrGCsw"
      },
      "source": [
        "## Teil 1 - Analytische Lösung"
      ]
    },
    {
      "cell_type": "markdown",
      "metadata": {
        "id": "mkzgDxCPGCsw"
      },
      "source": [
        "Schreiben Sie eine Funktion $\\mathit{circlePoint}$ mit\n",
        "\n",
        "$\n",
        "M_x, M_y, R, \\theta \\mapsto \n",
        "\\begin{pmatrix}\n",
        "R\\cos(\\theta) + M_x + \\rho_x\\\\\n",
        "R\\sin(\\theta) + M_y + \\rho_y\n",
        "\\end{pmatrix}, \n",
        "\\quad \\rho_x,\\rho_y \\sim N(0,\\frac{1}{100}) \n",
        "$\n",
        "\n",
        "Schreiben Sie eine weitere Funktion $\\mathit{sampleCirclePointsNoisy}$ welche statt $\\theta$ einen Vektor $\\Theta \\in \\mathbb{R}^{1000}$ auf eine Matrix in $\\mathbb{R}^{2 \\times 1000}$ abbildet. An diese erzeugten Daten wird anschließend ein Kreis angepasst:"
      ]
    },
    {
      "cell_type": "code",
      "metadata": {
        "id": "k6tI-i_DGCsw"
      },
      "source": [
        "def circlePoint(m,r,theta):\n",
        "  x = m[0]\n",
        "  y = m[1]\n",
        "  return np.array([r * np.cos(theta) +x + random.uniform(0, 1/100) ,  r* np.sin(theta) + y + random.uniform(0, 1/100)])\n",
        "\n",
        "  \n",
        "def sampleCirclePointsNoisy(m,r,theta):\n",
        "  my_numbers = []\n",
        "  for i in theta:\n",
        "    n = circlePoint(m,r, i)\n",
        "    my_numbers.append(n)\n",
        "  return np.array(my_numbers).T"
      ],
      "execution_count": 2,
      "outputs": []
    },
    {
      "cell_type": "markdown",
      "metadata": {
        "id": "KvYtDY1GGCsw"
      },
      "source": [
        "Ziehen sie $1000$ Zahlen gleichverteilt aus $\\Theta \\sim [0,\\frac{\\pi}{2}]^{1000}$ und berechnen Sie $\\mathit{sampleCirclePointsNoisy}(0,0,2,\\Theta)$:"
      ]
    },
    {
      "cell_type": "code",
      "metadata": {
        "id": "HH53X7EKGCsw"
      },
      "source": [
        "theta = []\n",
        "\n",
        "for i in range(1000):\n",
        "  theta.append(random.uniform(0, np.pi/2))\n",
        "\n",
        "data = sampleCirclePointsNoisy([0,0],2, theta)\n"
      ],
      "execution_count": 3,
      "outputs": []
    },
    {
      "cell_type": "markdown",
      "metadata": {
        "id": "8xUTapN4GCsw"
      },
      "source": [
        "Plotten Sie die Punktewolke mit matplotlib:"
      ]
    },
    {
      "cell_type": "code",
      "metadata": {
        "colab": {
          "base_uri": "https://localhost:8080/",
          "height": 265
        },
        "id": "I0aWsVdMGCsw",
        "outputId": "8ce35d43-9c8c-47bf-df1d-ed56157ff5ee"
      },
      "source": [
        "plt.scatter(data[0], data[1],0.1)\n",
        "plt.show()"
      ],
      "execution_count": 4,
      "outputs": [
        {
          "output_type": "display_data",
          "data": {
            "image/png": "[encoded data removed]",
            "text/plain": [
              "<Figure size 432x288 with 1 Axes>"
            ]
          },
          "metadata": {
            "tags": [],
            "needs_background": "light"
          }
        }
      ]
    },
    {
      "cell_type": "markdown",
      "metadata": {
        "id": "bJGcrmD5GCsw"
      },
      "source": [
        "Implementieren Sie die Funktion $\\mathit{fitCenteredCircle}$ aus den Vorlesungsfolien zur analytischen Bestimmung des Radius $r$ aus der Punktewolke:"
      ]
    },
    {
      "cell_type": "markdown",
      "metadata": {
        "id": "CgF6Cn7NGCsw"
      },
      "source": [
        "*Eigene Anmerkung:* $r = \\frac{1}{m} \\cdot \\sum_{i=1}^m{\\sqrt{x_i^2 + y_i^2}}$    "
      ]
    },
    {
      "cell_type": "code",
      "metadata": {
        "id": "uZL2bTv5GCsw"
      },
      "source": [
        "def fitCenteredCircle(data):\n",
        "    data = data.T\n",
        "    output = 0.00\n",
        "    for b in data:\n",
        "      output += np.sqrt((b[0]**2+b[1]**2))\n",
        "    return 0, 0, output/len(data)"
      ],
      "execution_count": 5,
      "outputs": []
    },
    {
      "cell_type": "code",
      "metadata": {
        "id": "gx-b5LztGCsw"
      },
      "source": [
        "mx,my,r = fitCenteredCircle(data)"
      ],
      "execution_count": 6,
      "outputs": []
    },
    {
      "cell_type": "code",
      "metadata": {
        "id": "Zts4__0TGCsx"
      },
      "source": [
        "def draw(mx,my,r, data):\n",
        "    circle1=plt.Circle((mx,my),r,color='r',fill=False)\n",
        "    axes = plt.gca()\n",
        "    axes.set_xlim([-3,3])\n",
        "    axes.set_ylim([-3,3])\n",
        "    plt.gca().set_aspect('equal', adjustable='box')\n",
        "    axes.add_artist(circle1)\n",
        "    plt.scatter(data[0],data[1])\n",
        "    plt.show()"
      ],
      "execution_count": 7,
      "outputs": []
    },
    {
      "cell_type": "markdown",
      "metadata": {
        "id": "BLBFrY_PGCsx"
      },
      "source": [
        "Plotten Sie Ihre Lösung mit Hilfe der $\\mathit{draw}$ Funktion:"
      ]
    },
    {
      "cell_type": "code",
      "metadata": {
        "colab": {
          "base_uri": "https://localhost:8080/",
          "height": 269
        },
        "id": "pAebMi0mGCsx",
        "outputId": "6d29dfbd-f701-4c31-9582-9f69f55f581f"
      },
      "source": [
        "draw(mx, my, r, data)"
      ],
      "execution_count": 8,
      "outputs": [
        {
          "output_type": "display_data",
          "data": {
            "image/png": "[encoded data removed]",
            "text/plain": [
              "<Figure size 432x288 with 1 Axes>"
            ]
          },
          "metadata": {
            "tags": [],
            "needs_background": "light"
          }
        }
      ]
    },
    {
      "cell_type": "markdown",
      "metadata": {
        "id": "TmvP1bZYGCsx"
      },
      "source": [
        "## Teil 2 - Numerische Lösung"
      ]
    },
    {
      "cell_type": "markdown",
      "metadata": {
        "id": "8J2Nfg3dGCsx"
      },
      "source": [
        "Implementieren Sie eine Funktion $f$, welche die Kosten für beliebige Kreisparameter $m_x,m_y,r$ und Punktewolke $d$ bestimmt:\n",
        "\n",
        "$f(m_x,m_y,r,d) = \\sum_{i=1}^{1000} \\left(\\sqrt{(m_x - d_{0,i})^2 + (m_y - d_{1,i})^2} - r\\right)^2$"
      ]
    },
    {
      "cell_type": "code",
      "metadata": {
        "id": "Zv5hai9pGCsx"
      },
      "source": [
        "def residual(mx,my,r,d): \n",
        "    inner_root = np.sqrt(((mx - d[0])**2) + ((my - d[1])**2))\n",
        "    return (inner_root - r) **2\n",
        "\n",
        "def f(mx,my,r,d):\n",
        "    error = 0.0\n",
        "    for i in d.T:\n",
        "      error += residual(mx,my,r,i)\n",
        "    return error"
      ],
      "execution_count": 9,
      "outputs": []
    },
    {
      "cell_type": "markdown",
      "metadata": {
        "id": "o2DiCtsMGCsx"
      },
      "source": [
        "Emitteln Sie die Kosten für Ihre Lösung mit Hilfe von $f$:"
      ]
    },
    {
      "cell_type": "code",
      "metadata": {
        "colab": {
          "base_uri": "https://localhost:8080/"
        },
        "id": "SsZ3_m1wGCsx",
        "outputId": "cf0cc308-c40a-4bd0-84a3-85d6a4bce4c5"
      },
      "source": [
        "f(mx,my,r,data)"
      ],
      "execution_count": 10,
      "outputs": [
        {
          "output_type": "execute_result",
          "data": {
            "text/plain": [
              "0.008839705115199105"
            ]
          },
          "metadata": {
            "tags": []
          },
          "execution_count": 10
        }
      ]
    },
    {
      "cell_type": "markdown",
      "metadata": {
        "id": "YwtdJdxUGCsx"
      },
      "source": [
        "Plotten Sie $f(0,0,r,d)$ für $r \\in [0,5]$. Was fällt Ihnen auf?"
      ]
    },
    {
      "cell_type": "code",
      "metadata": {
        "id": "f9EJWLA2GCsx",
        "outputId": "69796b1c-9868-47a9-c4c3-1ca11a40c729",
        "colab": {
          "base_uri": "https://localhost:8080/",
          "height": 265
        }
      },
      "source": [
        "error = []\n",
        "for i in np.arange(1, 5, 0.1):\n",
        "  data = sampleCirclePointsNoisy([0,0],2, theta)\n",
        "  nx,ny,nr = fitCenteredCircle(data)\n",
        "  error.append([f(nx,ny,nr,data),i])\n",
        "\n",
        "error = np.array(error).T\n",
        "\n",
        "plt.plot(error[1], error[0])\n",
        "plt.show()\n"
      ],
      "execution_count": 54,
      "outputs": [
        {
          "output_type": "display_data",
          "data": {
            "image/png": "[encoded data removed]",
            "text/plain": [
              "<Figure size 432x288 with 1 Axes>"
            ]
          },
          "metadata": {
            "tags": [],
            "needs_background": "light"
          }
        }
      ]
    },
    {
      "cell_type": "markdown",
      "metadata": {
        "id": "Glvy3wIbGCsx"
      },
      "source": [
        "Plotten Sie $f(x,y,2,d)$ für $(x,y) \\in [-3,5] \\times [0,3]$. Was fällt Ihnen auf?"
      ]
    },
    {
      "cell_type": "code",
      "metadata": {
        "id": "STKY32FZGCsx",
        "outputId": "0ea4d25f-297c-495c-eaaf-e4433bf37b34",
        "colab": {
          "base_uri": "https://localhost:8080/",
          "height": 248
        }
      },
      "source": [
        "X = np.arange(-3, 5, 0.25)\n",
        "Y = np.arange(0, 3, 0.25)\n",
        "X, Y = np.meshgrid(X, Y)\n",
        "Z = []\n",
        "for x,y in zip(X.ravel(),Y.ravel()):\n",
        "    Z += [f(x,y,2,data)]\n",
        "Z = np.array(Z).reshape(X.shape)\n",
        "fig = plt.figure()\n",
        "ax = fig.gca(projection='3d')\n",
        "ax.set_xlim(left=-3, right=5)\n",
        "surf = ax.plot_surface(X, Y, Z, cmap=cm.coolwarm,\n",
        "                       linewidth=0, antialiased=False)"
      ],
      "execution_count": 53,
      "outputs": [
        {
          "output_type": "display_data",
          "data": {
            "image/png": "[encoded data removed]",
            "text/plain": [
              "<Figure size 432x288 with 1 Axes>"
            ]
          },
          "metadata": {
            "tags": [],
            "needs_background": "light"
          }
        }
      ]
    },
    {
      "cell_type": "markdown",
      "metadata": {
        "id": "QSO2udPGGCsx"
      },
      "source": [
        "Implementieren sie eine Funktion $\\mathit{grad}$ mit den selben Parametern wie $f$, welche den Gradienten an einer gegebenen Position berechnet:\n",
        "\n",
        "$\\nabla f = (\\frac{\\partial f}{\\partial m_x},\\frac{\\partial f}{\\partial m_y},\\frac{\\partial f}{\\partial r})^T$"
      ]
    },
    {
      "cell_type": "code",
      "metadata": {
        "id": "meQWhEkLGCsx"
      },
      "source": [
        "def grad(mx,my,r,d):\n",
        "    #compute gradient    \n",
        "    return df_dmx,df_dmy,df_dr"
      ],
      "execution_count": 13,
      "outputs": []
    },
    {
      "cell_type": "markdown",
      "metadata": {
        "id": "pbXSHIjkGCsx"
      },
      "source": [
        "Schreiben sie eine Funktion $\\mathit{grad\\_finite}$, welche $\\nabla f$ mit Hilfe des zentralen Differenzenquotienten bestimmt:\n",
        "\n",
        "$\\nabla_h f = \\left(\\frac{f(m_x+h,m_y,r,d) - f(m_x-h,m_y,r,d)}{2h},\\frac{f(m_x,m_y+h,r,d) - f(m_x,m_y-h,r,d)}{2h},\\frac{f(m_x,m_y,r+h,d) - f(m_x,m_y,r-h,d)}{2h} \\right)^T$"
      ]
    },
    {
      "cell_type": "code",
      "metadata": {
        "id": "JbWykbh9GCsx"
      },
      "source": [
        "def grad_finite(mx,my,r,d):\n",
        "    h = 1E-5\n",
        "    df_dmx = 0#TODO\n",
        "    df_dmy = 0#TODO\n",
        "    df_dr = 0#TODO\n",
        "    dn = np.array([df_dmx,df_dmy,df_dr])\n",
        "    return dn"
      ],
      "execution_count": 14,
      "outputs": []
    },
    {
      "cell_type": "markdown",
      "metadata": {
        "id": "-0s4Md5WGCsx"
      },
      "source": [
        "Schreiben Sie eine Funktion $\\mathit{debugGrad}$, welche $\\nabla f$ und $\\nabla_{10^{-5}}f$ auf der Konsole ausgibt:"
      ]
    },
    {
      "cell_type": "code",
      "metadata": {
        "id": "aghMTS7gGCsx"
      },
      "source": [
        "def debugGrad(mx,my,r,d):\n",
        "    pass"
      ],
      "execution_count": 15,
      "outputs": []
    },
    {
      "cell_type": "markdown",
      "metadata": {
        "id": "_fhipirAGCsx"
      },
      "source": [
        "Rufen Sie $\\mathit{debugGrad}$ mit verschiedenen Parametern auf um sich der Korrektheit ihrer Implementierung für $\\nabla f$ zu versichern:"
      ]
    },
    {
      "cell_type": "code",
      "metadata": {
        "id": "hqLMIMfIGCsx"
      },
      "source": [
        ""
      ],
      "execution_count": 15,
      "outputs": []
    },
    {
      "cell_type": "markdown",
      "metadata": {
        "id": "KAWotLPSGCsx"
      },
      "source": [
        "Schreiben Sie eine Funktion $\\mathit{make\\_initial\\_guess}$, welche eine Punktewolke entgegennimmt und initiale Schätzungen für $m_x, m_y$ und $r$ zurückgibt:"
      ]
    },
    {
      "cell_type": "code",
      "metadata": {
        "id": "UPoUNvaDGCsx"
      },
      "source": [
        "def make_initial_guess(d):\n",
        "    #TODO\n",
        "    return mx,my,r"
      ],
      "execution_count": 16,
      "outputs": []
    },
    {
      "cell_type": "markdown",
      "metadata": {
        "id": "FSCe73FXGCsx"
      },
      "source": [
        "Testen Sie Ihre Funktion und plotten sie Ihre Schätzung mit $\\mathit{draw}$:"
      ]
    },
    {
      "cell_type": "code",
      "metadata": {
        "id": "6ymhqqE_GCsx"
      },
      "source": [
        ""
      ],
      "execution_count": 16,
      "outputs": []
    },
    {
      "cell_type": "markdown",
      "metadata": {
        "id": "6SnTsPtCGCsx"
      },
      "source": [
        "Implementieren Sie das Gradientenabstiegtsverfahren in einer Funktion $\\mathit{solve}$:"
      ]
    },
    {
      "cell_type": "code",
      "metadata": {
        "id": "zVwnWH1fGCsx"
      },
      "source": [
        "def solve(mx,my,r,d):\n",
        "    pass\n",
        "    return e,mx,my,r"
      ],
      "execution_count": 17,
      "outputs": []
    },
    {
      "cell_type": "markdown",
      "metadata": {
        "id": "Ig07JuBOGCsx"
      },
      "source": [
        "Führen sie das Gradientenabstiegsverfahren aus und starten Sie mit Ihrer initialen Schätzung. Plotten Sie Ihr Ergebnis mit $\\mathit{draw}$:"
      ]
    },
    {
      "cell_type": "code",
      "metadata": {
        "id": "PsQaAtQtGCsx"
      },
      "source": [
        ""
      ],
      "execution_count": 17,
      "outputs": []
    },
    {
      "cell_type": "markdown",
      "metadata": {
        "id": "dLhZZLCzGCsx"
      },
      "source": [
        "Optional: Visualisieren Sie die Evolution der Kreisanpassung über die Zeit (Bilderfolge oder Animation)."
      ]
    },
    {
      "cell_type": "code",
      "metadata": {
        "id": "IzjVpVBfGCsx"
      },
      "source": [
        ""
      ],
      "execution_count": 17,
      "outputs": []
    }
  ]
}