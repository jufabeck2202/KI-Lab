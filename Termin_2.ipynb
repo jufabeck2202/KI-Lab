{
  "nbformat": 4,
  "nbformat_minor": 0,
  "metadata": {
    "kernelspec": {
      "display_name": "Python 3",
      "language": "python",
      "name": "python3"
    },
    "language_info": {
      "codemirror_mode": {
        "name": "ipython",
        "version": 3
      },
      "file_extension": ".py",
      "mimetype": "text/x-python",
      "name": "python",
      "nbconvert_exporter": "python",
      "pygments_lexer": "ipython3",
      "version": "3.8.3"
    },
    "colab": {
      "name": "Termin_2.ipynb",
      "provenance": [],
      "collapsed_sections": [],
      "toc_visible": true,
      "include_colab_link": true
    },
    "widgets": {
      "application/vnd.jupyter.widget-state+json": {
        "226458041e6c45c3a9cfa6fb6d9b91e5": {
          "model_module": "@jupyter-widgets/output",
          "model_name": "OutputModel",
          "state": {
            "_view_name": "OutputView",
            "msg_id": "",
            "_dom_classes": [],
            "_model_name": "OutputModel",
            "outputs": [
              {
                "output_type": "display_data",
                "metadata": {
                  "tags": []
                },
                "application/vnd.jupyter.widget-view+json": {
                  "model_id": "06fb1d2a681248a48bf3c1fdf5888ef0",
                  "version_minor": 0,
                  "version_major": 2
                },
                "text/plain": "Plot(antialias=3, axes=['x', 'y', 'z'], axes_helper=1.0, background_color=16777215, camera=[2, -3, 0.2, 0.0, 0…"
              }
            ],
            "_view_module": "@jupyter-widgets/output",
            "_model_module_version": "1.0.0",
            "_view_count": null,
            "_view_module_version": "1.0.0",
            "layout": "IPY_MODEL_0635dc202d914ae29e727f5dcd366f82",
            "_model_module": "@jupyter-widgets/output"
          }
        },
        "06fb1d2a681248a48bf3c1fdf5888ef0": {
          "model_module": "k3d",
          "model_name": "PlotModel",
          "state": {
            "_view_name": "PlotView",
            "fps_meter": false,
            "camera_fov": 60,
            "_view_module": "k3d",
            "_model_module_version": "2.9.1",
            "_view_count": null,
            "rendering_steps": 1,
            "background_color": 16777215,
            "camera_no_pan": false,
            "layout": "IPY_MODEL_b08966a34f1940599d5727acc7d07543",
            "camera_no_rotate": false,
            "screenshot_scale": 2,
            "_model_module": "k3d",
            "camera_animation": [],
            "axes": [
              "x",
              "y",
              "z"
            ],
            "_view_module_version": "2.9.1",
            "camera": [
              2,
              -3,
              0.2,
              0,
              0,
              0,
              0,
              0,
              1
            ],
            "fps": 25,
            "camera_no_zoom": false,
            "snapshot": "",
            "snapshot_include_js": true,
            "grid_auto_fit": true,
            "_backend_version": "2.9.1",
            "axes_helper": 1,
            "auto_rendering": true,
            "_dom_classes": [],
            "screenshot": "",
            "_model_name": "PlotModel",
            "voxel_paint_color": 0,
            "clipping_planes": [],
            "object_ids": [
              140233981908472
            ],
            "antialias": 3,
            "manipulate_mode": "translate",
            "grid": [
              -1,
              -1,
              -1,
              1,
              1,
              1
            ],
            "height": 512,
            "grid_visible": true,
            "name": null,
            "camera_auto_fit": true,
            "menu_visibility": true,
            "colorbar_object_id": -1,
            "mode": "view",
            "time": 0,
            "lighting": 1.5,
            "camera_mode": "trackball",
            "colorbar_scientific": false
          }
        },
        "0635dc202d914ae29e727f5dcd366f82": {
          "model_module": "@jupyter-widgets/base",
          "model_name": "LayoutModel",
          "state": {
            "_view_name": "LayoutView",
            "grid_template_rows": null,
            "right": null,
            "justify_content": null,
            "_view_module": "@jupyter-widgets/base",
            "overflow": null,
            "_model_module_version": "1.2.0",
            "_view_count": null,
            "flex_flow": null,
            "width": null,
            "min_width": null,
            "border": null,
            "align_items": null,
            "bottom": null,
            "_model_module": "@jupyter-widgets/base",
            "top": null,
            "grid_column": null,
            "overflow_y": null,
            "overflow_x": null,
            "grid_auto_flow": null,
            "grid_area": null,
            "grid_template_columns": null,
            "flex": null,
            "_model_name": "LayoutModel",
            "justify_items": null,
            "grid_row": null,
            "max_height": null,
            "align_content": null,
            "visibility": null,
            "align_self": null,
            "height": null,
            "min_height": null,
            "padding": null,
            "grid_auto_rows": null,
            "grid_gap": null,
            "max_width": null,
            "order": null,
            "_view_module_version": "1.2.0",
            "grid_template_areas": null,
            "object_position": null,
            "object_fit": null,
            "grid_auto_columns": null,
            "margin": null,
            "display": null,
            "left": null
          }
        },
        "ea13df061f59432a8f6fd833f20149dd": {
          "model_module": "@jupyter-widgets/controls",
          "model_name": "VBoxModel",
          "state": {
            "_view_name": "VBoxView",
            "_dom_classes": [
              "widget-interact"
            ],
            "_model_name": "VBoxModel",
            "_view_module": "@jupyter-widgets/controls",
            "_model_module_version": "1.5.0",
            "_view_count": null,
            "_view_module_version": "1.5.0",
            "box_style": "",
            "layout": "IPY_MODEL_a54f8a7e624d499c886ba3f3c5afe8d7",
            "_model_module": "@jupyter-widgets/controls",
            "children": [
              "IPY_MODEL_64acabb882e149fe8bd014ddb9aacfcd",
              "IPY_MODEL_a57a915b9bcd4dbca9da3cd3e371853e"
            ]
          }
        },
        "a54f8a7e624d499c886ba3f3c5afe8d7": {
          "model_module": "@jupyter-widgets/base",
          "model_name": "LayoutModel",
          "state": {
            "_view_name": "LayoutView",
            "grid_template_rows": null,
            "right": null,
            "justify_content": null,
            "_view_module": "@jupyter-widgets/base",
            "overflow": null,
            "_model_module_version": "1.2.0",
            "_view_count": null,
            "flex_flow": null,
            "width": null,
            "min_width": null,
            "border": null,
            "align_items": null,
            "bottom": null,
            "_model_module": "@jupyter-widgets/base",
            "top": null,
            "grid_column": null,
            "overflow_y": null,
            "overflow_x": null,
            "grid_auto_flow": null,
            "grid_area": null,
            "grid_template_columns": null,
            "flex": null,
            "_model_name": "LayoutModel",
            "justify_items": null,
            "grid_row": null,
            "max_height": null,
            "align_content": null,
            "visibility": null,
            "align_self": null,
            "height": null,
            "min_height": null,
            "padding": null,
            "grid_auto_rows": null,
            "grid_gap": null,
            "max_width": null,
            "order": null,
            "_view_module_version": "1.2.0",
            "grid_template_areas": null,
            "object_position": null,
            "object_fit": null,
            "grid_auto_columns": null,
            "margin": null,
            "display": null,
            "left": null
          }
        },
        "64acabb882e149fe8bd014ddb9aacfcd": {
          "model_module": "@jupyter-widgets/controls",
          "model_name": "IntSliderModel",
          "state": {
            "_view_name": "IntSliderView",
            "style": "IPY_MODEL_0922394458844802a66355c758687880",
            "_dom_classes": [],
            "description": "x",
            "step": 1,
            "_model_name": "IntSliderModel",
            "orientation": "horizontal",
            "max": 2929,
            "_view_module": "@jupyter-widgets/controls",
            "_model_module_version": "1.5.0",
            "value": 1276,
            "_view_count": null,
            "disabled": false,
            "_view_module_version": "1.5.0",
            "min": 0,
            "continuous_update": true,
            "readout_format": "d",
            "description_tooltip": null,
            "readout": true,
            "_model_module": "@jupyter-widgets/controls",
            "layout": "IPY_MODEL_f7ca53470a9b49c4aeebd5de579eb983"
          }
        },
        "a57a915b9bcd4dbca9da3cd3e371853e": {
          "model_module": "@jupyter-widgets/output",
          "model_name": "OutputModel",
          "state": {
            "_view_name": "OutputView",
            "msg_id": "",
            "_dom_classes": [],
            "_model_name": "OutputModel",
            "outputs": [],
            "_view_module": "@jupyter-widgets/output",
            "_model_module_version": "1.0.0",
            "_view_count": null,
            "_view_module_version": "1.0.0",
            "layout": "IPY_MODEL_8c72f5dc6e3f4637a6098766e86ba23d",
            "_model_module": "@jupyter-widgets/output"
          }
        },
        "0922394458844802a66355c758687880": {
          "model_module": "@jupyter-widgets/controls",
          "model_name": "SliderStyleModel",
          "state": {
            "_view_name": "StyleView",
            "handle_color": null,
            "_model_name": "SliderStyleModel",
            "description_width": "",
            "_view_module": "@jupyter-widgets/base",
            "_model_module_version": "1.5.0",
            "_view_count": null,
            "_view_module_version": "1.2.0",
            "_model_module": "@jupyter-widgets/controls"
          }
        },
        "f7ca53470a9b49c4aeebd5de579eb983": {
          "model_module": "@jupyter-widgets/base",
          "model_name": "LayoutModel",
          "state": {
            "_view_name": "LayoutView",
            "grid_template_rows": null,
            "right": null,
            "justify_content": null,
            "_view_module": "@jupyter-widgets/base",
            "overflow": null,
            "_model_module_version": "1.2.0",
            "_view_count": null,
            "flex_flow": null,
            "width": null,
            "min_width": null,
            "border": null,
            "align_items": null,
            "bottom": null,
            "_model_module": "@jupyter-widgets/base",
            "top": null,
            "grid_column": null,
            "overflow_y": null,
            "overflow_x": null,
            "grid_auto_flow": null,
            "grid_area": null,
            "grid_template_columns": null,
            "flex": null,
            "_model_name": "LayoutModel",
            "justify_items": null,
            "grid_row": null,
            "max_height": null,
            "align_content": null,
            "visibility": null,
            "align_self": null,
            "height": null,
            "min_height": null,
            "padding": null,
            "grid_auto_rows": null,
            "grid_gap": null,
            "max_width": null,
            "order": null,
            "_view_module_version": "1.2.0",
            "grid_template_areas": null,
            "object_position": null,
            "object_fit": null,
            "grid_auto_columns": null,
            "margin": null,
            "display": null,
            "left": null
          }
        },
        "8c72f5dc6e3f4637a6098766e86ba23d": {
          "model_module": "@jupyter-widgets/base",
          "model_name": "LayoutModel",
          "state": {
            "_view_name": "LayoutView",
            "grid_template_rows": null,
            "right": null,
            "justify_content": null,
            "_view_module": "@jupyter-widgets/base",
            "overflow": null,
            "_model_module_version": "1.2.0",
            "_view_count": null,
            "flex_flow": null,
            "width": null,
            "min_width": null,
            "border": null,
            "align_items": null,
            "bottom": null,
            "_model_module": "@jupyter-widgets/base",
            "top": null,
            "grid_column": null,
            "overflow_y": null,
            "overflow_x": null,
            "grid_auto_flow": null,
            "grid_area": null,
            "grid_template_columns": null,
            "flex": null,
            "_model_name": "LayoutModel",
            "justify_items": null,
            "grid_row": null,
            "max_height": null,
            "align_content": null,
            "visibility": null,
            "align_self": null,
            "height": null,
            "min_height": null,
            "padding": null,
            "grid_auto_rows": null,
            "grid_gap": null,
            "max_width": null,
            "order": null,
            "_view_module_version": "1.2.0",
            "grid_template_areas": null,
            "object_position": null,
            "object_fit": null,
            "grid_auto_columns": null,
            "margin": null,
            "display": null,
            "left": null
          }
        },
        "ddd467a26b34488c82b50b884eebe663": {
          "model_module": "@jupyter-widgets/output",
          "model_name": "OutputModel",
          "state": {
            "_view_name": "OutputView",
            "msg_id": "",
            "_dom_classes": [],
            "_model_name": "OutputModel",
            "outputs": [
              {
                "output_type": "display_data",
                "metadata": {
                  "tags": []
                },
                "application/vnd.jupyter.widget-view+json": {
                  "model_id": "832ac532112d49788a61975168e8dc5e",
                  "version_minor": 0,
                  "version_major": 2
                },
                "text/plain": "Plot(antialias=3, axes=['x', 'y', 'z'], axes_helper=1.0, background_color=16777215, camera=[2, -3, 0.2, 0.0, 0…"
              }
            ],
            "_view_module": "@jupyter-widgets/output",
            "_model_module_version": "1.0.0",
            "_view_count": null,
            "_view_module_version": "1.0.0",
            "layout": "IPY_MODEL_ff747cbcd3cf46d68bbcf7a2ae19e683",
            "_model_module": "@jupyter-widgets/output"
          }
        },
        "832ac532112d49788a61975168e8dc5e": {
          "model_module": "k3d",
          "model_name": "PlotModel",
          "state": {
            "_view_name": "PlotView",
            "fps_meter": false,
            "camera_fov": 60,
            "_view_module": "k3d",
            "_model_module_version": "2.9.1",
            "_view_count": null,
            "rendering_steps": 1,
            "background_color": 16777215,
            "camera_no_pan": false,
            "layout": "IPY_MODEL_00b3154d282445939cda39efdccc68bb",
            "camera_no_rotate": false,
            "screenshot_scale": 2,
            "_model_module": "k3d",
            "camera_animation": [],
            "axes": [
              "x",
              "y",
              "z"
            ],
            "_view_module_version": "2.9.1",
            "camera": [
              2,
              -3,
              0.2,
              0,
              0,
              0,
              0,
              0,
              1
            ],
            "fps": 25,
            "camera_no_zoom": false,
            "snapshot": "",
            "snapshot_include_js": true,
            "grid_auto_fit": true,
            "_backend_version": "2.9.1",
            "axes_helper": 1,
            "auto_rendering": true,
            "_dom_classes": [],
            "screenshot": "",
            "_model_name": "PlotModel",
            "voxel_paint_color": 0,
            "clipping_planes": [],
            "object_ids": [
              140233981900056
            ],
            "antialias": 3,
            "manipulate_mode": "translate",
            "grid": [
              -1,
              -1,
              -1,
              1,
              1,
              1
            ],
            "height": 512,
            "grid_visible": true,
            "name": null,
            "camera_auto_fit": true,
            "menu_visibility": true,
            "colorbar_object_id": -1,
            "mode": "view",
            "time": 0,
            "lighting": 1.5,
            "camera_mode": "trackball",
            "colorbar_scientific": false
          }
        },
        "ff747cbcd3cf46d68bbcf7a2ae19e683": {
          "model_module": "@jupyter-widgets/base",
          "model_name": "LayoutModel",
          "state": {
            "_view_name": "LayoutView",
            "grid_template_rows": null,
            "right": null,
            "justify_content": null,
            "_view_module": "@jupyter-widgets/base",
            "overflow": null,
            "_model_module_version": "1.2.0",
            "_view_count": null,
            "flex_flow": null,
            "width": null,
            "min_width": null,
            "border": null,
            "align_items": null,
            "bottom": null,
            "_model_module": "@jupyter-widgets/base",
            "top": null,
            "grid_column": null,
            "overflow_y": null,
            "overflow_x": null,
            "grid_auto_flow": null,
            "grid_area": null,
            "grid_template_columns": null,
            "flex": null,
            "_model_name": "LayoutModel",
            "justify_items": null,
            "grid_row": null,
            "max_height": null,
            "align_content": null,
            "visibility": null,
            "align_self": null,
            "height": null,
            "min_height": null,
            "padding": null,
            "grid_auto_rows": null,
            "grid_gap": null,
            "max_width": null,
            "order": null,
            "_view_module_version": "1.2.0",
            "grid_template_areas": null,
            "object_position": null,
            "object_fit": null,
            "grid_auto_columns": null,
            "margin": null,
            "display": null,
            "left": null
          }
        },
        "2b30ee38f0fe44fda833a842991e4cc4": {
          "model_module": "@jupyter-widgets/controls",
          "model_name": "VBoxModel",
          "state": {
            "_view_name": "VBoxView",
            "_dom_classes": [
              "widget-interact"
            ],
            "_model_name": "VBoxModel",
            "_view_module": "@jupyter-widgets/controls",
            "_model_module_version": "1.5.0",
            "_view_count": null,
            "_view_module_version": "1.5.0",
            "box_style": "",
            "layout": "IPY_MODEL_39996e87dd5b4a5fafc4faaa5c6aae91",
            "_model_module": "@jupyter-widgets/controls",
            "children": [
              "IPY_MODEL_664f55b2ba044d999d0f487a9b18a6d9",
              "IPY_MODEL_2b0124a071584f119305b1a0dd6770c2"
            ]
          }
        },
        "39996e87dd5b4a5fafc4faaa5c6aae91": {
          "model_module": "@jupyter-widgets/base",
          "model_name": "LayoutModel",
          "state": {
            "_view_name": "LayoutView",
            "grid_template_rows": null,
            "right": null,
            "justify_content": null,
            "_view_module": "@jupyter-widgets/base",
            "overflow": null,
            "_model_module_version": "1.2.0",
            "_view_count": null,
            "flex_flow": null,
            "width": null,
            "min_width": null,
            "border": null,
            "align_items": null,
            "bottom": null,
            "_model_module": "@jupyter-widgets/base",
            "top": null,
            "grid_column": null,
            "overflow_y": null,
            "overflow_x": null,
            "grid_auto_flow": null,
            "grid_area": null,
            "grid_template_columns": null,
            "flex": null,
            "_model_name": "LayoutModel",
            "justify_items": null,
            "grid_row": null,
            "max_height": null,
            "align_content": null,
            "visibility": null,
            "align_self": null,
            "height": null,
            "min_height": null,
            "padding": null,
            "grid_auto_rows": null,
            "grid_gap": null,
            "max_width": null,
            "order": null,
            "_view_module_version": "1.2.0",
            "grid_template_areas": null,
            "object_position": null,
            "object_fit": null,
            "grid_auto_columns": null,
            "margin": null,
            "display": null,
            "left": null
          }
        },
        "664f55b2ba044d999d0f487a9b18a6d9": {
          "model_module": "@jupyter-widgets/controls",
          "model_name": "IntSliderModel",
          "state": {
            "_view_name": "IntSliderView",
            "style": "IPY_MODEL_3f180fbbb10541a19eee0f233e56358d",
            "_dom_classes": [],
            "description": "x",
            "step": 1,
            "_model_name": "IntSliderModel",
            "orientation": "horizontal",
            "max": 2929,
            "_view_module": "@jupyter-widgets/controls",
            "_model_module_version": "1.5.0",
            "value": 30,
            "_view_count": null,
            "disabled": false,
            "_view_module_version": "1.5.0",
            "min": 0,
            "continuous_update": true,
            "readout_format": "d",
            "description_tooltip": null,
            "readout": true,
            "_model_module": "@jupyter-widgets/controls",
            "layout": "IPY_MODEL_b0e19f1695564102821e001b3c2803d3"
          }
        },
        "2b0124a071584f119305b1a0dd6770c2": {
          "model_module": "@jupyter-widgets/output",
          "model_name": "OutputModel",
          "state": {
            "_view_name": "OutputView",
            "msg_id": "",
            "_dom_classes": [],
            "_model_name": "OutputModel",
            "outputs": [],
            "_view_module": "@jupyter-widgets/output",
            "_model_module_version": "1.0.0",
            "_view_count": null,
            "_view_module_version": "1.0.0",
            "layout": "IPY_MODEL_265caaf17c664ee0b8352ac048d21a92",
            "_model_module": "@jupyter-widgets/output"
          }
        },
        "3f180fbbb10541a19eee0f233e56358d": {
          "model_module": "@jupyter-widgets/controls",
          "model_name": "SliderStyleModel",
          "state": {
            "_view_name": "StyleView",
            "handle_color": null,
            "_model_name": "SliderStyleModel",
            "description_width": "",
            "_view_module": "@jupyter-widgets/base",
            "_model_module_version": "1.5.0",
            "_view_count": null,
            "_view_module_version": "1.2.0",
            "_model_module": "@jupyter-widgets/controls"
          }
        },
        "b0e19f1695564102821e001b3c2803d3": {
          "model_module": "@jupyter-widgets/base",
          "model_name": "LayoutModel",
          "state": {
            "_view_name": "LayoutView",
            "grid_template_rows": null,
            "right": null,
            "justify_content": null,
            "_view_module": "@jupyter-widgets/base",
            "overflow": null,
            "_model_module_version": "1.2.0",
            "_view_count": null,
            "flex_flow": null,
            "width": null,
            "min_width": null,
            "border": null,
            "align_items": null,
            "bottom": null,
            "_model_module": "@jupyter-widgets/base",
            "top": null,
            "grid_column": null,
            "overflow_y": null,
            "overflow_x": null,
            "grid_auto_flow": null,
            "grid_area": null,
            "grid_template_columns": null,
            "flex": null,
            "_model_name": "LayoutModel",
            "justify_items": null,
            "grid_row": null,
            "max_height": null,
            "align_content": null,
            "visibility": null,
            "align_self": null,
            "height": null,
            "min_height": null,
            "padding": null,
            "grid_auto_rows": null,
            "grid_gap": null,
            "max_width": null,
            "order": null,
            "_view_module_version": "1.2.0",
            "grid_template_areas": null,
            "object_position": null,
            "object_fit": null,
            "grid_auto_columns": null,
            "margin": null,
            "display": null,
            "left": null
          }
        },
        "265caaf17c664ee0b8352ac048d21a92": {
          "model_module": "@jupyter-widgets/base",
          "model_name": "LayoutModel",
          "state": {
            "_view_name": "LayoutView",
            "grid_template_rows": null,
            "right": null,
            "justify_content": null,
            "_view_module": "@jupyter-widgets/base",
            "overflow": null,
            "_model_module_version": "1.2.0",
            "_view_count": null,
            "flex_flow": null,
            "width": null,
            "min_width": null,
            "border": null,
            "align_items": null,
            "bottom": null,
            "_model_module": "@jupyter-widgets/base",
            "top": null,
            "grid_column": null,
            "overflow_y": null,
            "overflow_x": null,
            "grid_auto_flow": null,
            "grid_area": null,
            "grid_template_columns": null,
            "flex": null,
            "_model_name": "LayoutModel",
            "justify_items": null,
            "grid_row": null,
            "max_height": null,
            "align_content": null,
            "visibility": null,
            "align_self": null,
            "height": null,
            "min_height": null,
            "padding": null,
            "grid_auto_rows": null,
            "grid_gap": null,
            "max_width": null,
            "order": null,
            "_view_module_version": "1.2.0",
            "grid_template_areas": null,
            "object_position": null,
            "object_fit": null,
            "grid_auto_columns": null,
            "margin": null,
            "display": null,
            "left": null
          }
        }
      }
    }
  },
  "cells": [
    {
      "cell_type": "markdown",
      "metadata": {
        "id": "view-in-github",
        "colab_type": "text"
      },
      "source": [
        "<a href=\"https://colab.research.google.com/github/jufabeck2202/KI-Lab/blob/main/Termin_2.ipynb\" target=\"_parent\"><img src=\"https://colab.research.google.com/assets/colab-badge.svg\" alt=\"Open In Colab\"/></a>"
      ]
    },
    {
      "cell_type": "markdown",
      "metadata": {
        "id": "zLZhPSJ2W0d7"
      },
      "source": [
        "# Übung zum numerischen Lösen linearer Gleichungssysteme"
      ]
    },
    {
      "cell_type": "markdown",
      "metadata": {
        "id": "VQPTSdRMW0d_"
      },
      "source": [
        "## Installation\n",
        "\n",
        "⚠️ Achtung: Läuft nur mit jupyter notebook (nicht jupyter lab) ⚠️\n",
        "\n",
        "Abhängigkeiten:\n",
        "\n",
        " - k3d:\n",
        "     1. ```conda install -c conda-forge trimesh```\n",
        "     2. ```conda install -c conda-forge k3d```\n",
        "     3. ```jupyter nbextension install --py --sys-prefix k3d```\n",
        "     4. ```jupyter nbextension enable --py --sys-prefix k3d```\n",
        "     5. jupyter notebook neu starten"
      ]
    },
    {
      "cell_type": "code",
      "metadata": {
        "id": "AQKymnx8iC0F"
      },
      "source": [
        "%load_ext autoreload"
      ],
      "execution_count": 16,
      "outputs": []
    },
    {
      "cell_type": "code",
      "metadata": {
        "colab": {
          "base_uri": "https://localhost:8080/"
        },
        "id": "8zJnVEBkXYDe",
        "outputId": "512209c2-239e-416e-9f81-5413c0caca77"
      },
      "source": [
        "!pip install k3d\r\n",
        "!pip install trimesh"
      ],
      "execution_count": 17,
      "outputs": [
        {
          "output_type": "stream",
          "text": [
            "Requirement already satisfied: k3d in /usr/local/lib/python3.6/dist-packages (2.9.1)\n",
            "Requirement already satisfied: numpy>=1.11.0 in /usr/local/lib/python3.6/dist-packages (from k3d) (1.19.4)\n",
            "Requirement already satisfied: traitlets in /usr/local/lib/python3.6/dist-packages (from k3d) (4.3.3)\n",
            "Requirement already satisfied: ipywidgets>=7.0.1 in /usr/local/lib/python3.6/dist-packages (from k3d) (7.5.1)\n",
            "Requirement already satisfied: ipydatawidgets in /usr/local/lib/python3.6/dist-packages (from k3d) (4.1.0)\n",
            "Requirement already satisfied: traittypes in /usr/local/lib/python3.6/dist-packages (from k3d) (0.2.1)\n",
            "Requirement already satisfied: six in /usr/local/lib/python3.6/dist-packages (from traitlets->k3d) (1.15.0)\n",
            "Requirement already satisfied: ipython-genutils in /usr/local/lib/python3.6/dist-packages (from traitlets->k3d) (0.2.0)\n",
            "Requirement already satisfied: decorator in /usr/local/lib/python3.6/dist-packages (from traitlets->k3d) (4.4.2)\n",
            "Requirement already satisfied: nbformat>=4.2.0 in /usr/local/lib/python3.6/dist-packages (from ipywidgets>=7.0.1->k3d) (5.0.8)\n",
            "Requirement already satisfied: widgetsnbextension~=3.5.0 in /usr/local/lib/python3.6/dist-packages (from ipywidgets>=7.0.1->k3d) (3.5.1)\n",
            "Requirement already satisfied: ipython>=4.0.0; python_version >= \"3.3\" in /usr/local/lib/python3.6/dist-packages (from ipywidgets>=7.0.1->k3d) (5.5.0)\n",
            "Requirement already satisfied: ipykernel>=4.5.1 in /usr/local/lib/python3.6/dist-packages (from ipywidgets>=7.0.1->k3d) (4.10.1)\n",
            "Requirement already satisfied: jsonschema!=2.5.0,>=2.4 in /usr/local/lib/python3.6/dist-packages (from nbformat>=4.2.0->ipywidgets>=7.0.1->k3d) (2.6.0)\n",
            "Requirement already satisfied: jupyter-core in /usr/local/lib/python3.6/dist-packages (from nbformat>=4.2.0->ipywidgets>=7.0.1->k3d) (4.7.0)\n",
            "Requirement already satisfied: notebook>=4.4.1 in /usr/local/lib/python3.6/dist-packages (from widgetsnbextension~=3.5.0->ipywidgets>=7.0.1->k3d) (5.3.1)\n",
            "Requirement already satisfied: prompt-toolkit<2.0.0,>=1.0.4 in /usr/local/lib/python3.6/dist-packages (from ipython>=4.0.0; python_version >= \"3.3\"->ipywidgets>=7.0.1->k3d) (1.0.18)\n",
            "Requirement already satisfied: pexpect; sys_platform != \"win32\" in /usr/local/lib/python3.6/dist-packages (from ipython>=4.0.0; python_version >= \"3.3\"->ipywidgets>=7.0.1->k3d) (4.8.0)\n",
            "Requirement already satisfied: pickleshare in /usr/local/lib/python3.6/dist-packages (from ipython>=4.0.0; python_version >= \"3.3\"->ipywidgets>=7.0.1->k3d) (0.7.5)\n",
            "Requirement already satisfied: pygments in /usr/local/lib/python3.6/dist-packages (from ipython>=4.0.0; python_version >= \"3.3\"->ipywidgets>=7.0.1->k3d) (2.6.1)\n",
            "Requirement already satisfied: setuptools>=18.5 in /usr/local/lib/python3.6/dist-packages (from ipython>=4.0.0; python_version >= \"3.3\"->ipywidgets>=7.0.1->k3d) (50.3.2)\n",
            "Requirement already satisfied: simplegeneric>0.8 in /usr/local/lib/python3.6/dist-packages (from ipython>=4.0.0; python_version >= \"3.3\"->ipywidgets>=7.0.1->k3d) (0.8.1)\n",
            "Requirement already satisfied: jupyter-client in /usr/local/lib/python3.6/dist-packages (from ipykernel>=4.5.1->ipywidgets>=7.0.1->k3d) (5.3.5)\n",
            "Requirement already satisfied: tornado>=4.0 in /usr/local/lib/python3.6/dist-packages (from ipykernel>=4.5.1->ipywidgets>=7.0.1->k3d) (5.1.1)\n",
            "Requirement already satisfied: Send2Trash in /usr/local/lib/python3.6/dist-packages (from notebook>=4.4.1->widgetsnbextension~=3.5.0->ipywidgets>=7.0.1->k3d) (1.5.0)\n",
            "Requirement already satisfied: terminado>=0.8.1 in /usr/local/lib/python3.6/dist-packages (from notebook>=4.4.1->widgetsnbextension~=3.5.0->ipywidgets>=7.0.1->k3d) (0.9.1)\n",
            "Requirement already satisfied: jinja2 in /usr/local/lib/python3.6/dist-packages (from notebook>=4.4.1->widgetsnbextension~=3.5.0->ipywidgets>=7.0.1->k3d) (2.11.2)\n",
            "Requirement already satisfied: nbconvert in /usr/local/lib/python3.6/dist-packages (from notebook>=4.4.1->widgetsnbextension~=3.5.0->ipywidgets>=7.0.1->k3d) (5.6.1)\n",
            "Requirement already satisfied: wcwidth in /usr/local/lib/python3.6/dist-packages (from prompt-toolkit<2.0.0,>=1.0.4->ipython>=4.0.0; python_version >= \"3.3\"->ipywidgets>=7.0.1->k3d) (0.2.5)\n",
            "Requirement already satisfied: ptyprocess>=0.5 in /usr/local/lib/python3.6/dist-packages (from pexpect; sys_platform != \"win32\"->ipython>=4.0.0; python_version >= \"3.3\"->ipywidgets>=7.0.1->k3d) (0.6.0)\n",
            "Requirement already satisfied: pyzmq>=13 in /usr/local/lib/python3.6/dist-packages (from jupyter-client->ipykernel>=4.5.1->ipywidgets>=7.0.1->k3d) (20.0.0)\n",
            "Requirement already satisfied: python-dateutil>=2.1 in /usr/local/lib/python3.6/dist-packages (from jupyter-client->ipykernel>=4.5.1->ipywidgets>=7.0.1->k3d) (2.8.1)\n",
            "Requirement already satisfied: MarkupSafe>=0.23 in /usr/local/lib/python3.6/dist-packages (from jinja2->notebook>=4.4.1->widgetsnbextension~=3.5.0->ipywidgets>=7.0.1->k3d) (1.1.1)\n",
            "Requirement already satisfied: defusedxml in /usr/local/lib/python3.6/dist-packages (from nbconvert->notebook>=4.4.1->widgetsnbextension~=3.5.0->ipywidgets>=7.0.1->k3d) (0.6.0)\n",
            "Requirement already satisfied: bleach in /usr/local/lib/python3.6/dist-packages (from nbconvert->notebook>=4.4.1->widgetsnbextension~=3.5.0->ipywidgets>=7.0.1->k3d) (3.2.1)\n",
            "Requirement already satisfied: testpath in /usr/local/lib/python3.6/dist-packages (from nbconvert->notebook>=4.4.1->widgetsnbextension~=3.5.0->ipywidgets>=7.0.1->k3d) (0.4.4)\n",
            "Requirement already satisfied: pandocfilters>=1.4.1 in /usr/local/lib/python3.6/dist-packages (from nbconvert->notebook>=4.4.1->widgetsnbextension~=3.5.0->ipywidgets>=7.0.1->k3d) (1.4.3)\n",
            "Requirement already satisfied: entrypoints>=0.2.2 in /usr/local/lib/python3.6/dist-packages (from nbconvert->notebook>=4.4.1->widgetsnbextension~=3.5.0->ipywidgets>=7.0.1->k3d) (0.3)\n",
            "Requirement already satisfied: mistune<2,>=0.8.1 in /usr/local/lib/python3.6/dist-packages (from nbconvert->notebook>=4.4.1->widgetsnbextension~=3.5.0->ipywidgets>=7.0.1->k3d) (0.8.4)\n",
            "Requirement already satisfied: webencodings in /usr/local/lib/python3.6/dist-packages (from bleach->nbconvert->notebook>=4.4.1->widgetsnbextension~=3.5.0->ipywidgets>=7.0.1->k3d) (0.5.1)\n",
            "Requirement already satisfied: packaging in /usr/local/lib/python3.6/dist-packages (from bleach->nbconvert->notebook>=4.4.1->widgetsnbextension~=3.5.0->ipywidgets>=7.0.1->k3d) (20.8)\n",
            "Requirement already satisfied: pyparsing>=2.0.2 in /usr/local/lib/python3.6/dist-packages (from packaging->bleach->nbconvert->notebook>=4.4.1->widgetsnbextension~=3.5.0->ipywidgets>=7.0.1->k3d) (2.4.7)\n",
            "Requirement already satisfied: trimesh in /usr/local/lib/python3.6/dist-packages (3.8.19)\n",
            "Requirement already satisfied: setuptools in /usr/local/lib/python3.6/dist-packages (from trimesh) (50.3.2)\n",
            "Requirement already satisfied: numpy in /usr/local/lib/python3.6/dist-packages (from trimesh) (1.19.4)\n"
          ],
          "name": "stdout"
        }
      ]
    },
    {
      "cell_type": "code",
      "metadata": {
        "id": "E8A9Hu4AW0eC"
      },
      "source": [
        "import numpy as np\n",
        "from xyz_loader import read_wavefront\n",
        "from __future__ import print_function\n",
        "from ipywidgets import interact, interactive, fixed, interact_manual, IntSlider\n",
        "import ipywidgets as widgets\n",
        "import k3d\n",
        "from scipy.spatial import KDTree\n",
        "import time \n",
        "import trimesh\n",
        "from tqdm import tqdm\n",
        "from scipy.linalg import cho_factor, cho_solve, lapack\n",
        "from matplotlib import pyplot as plt"
      ],
      "execution_count": 2,
      "outputs": []
    },
    {
      "cell_type": "markdown",
      "metadata": {
        "id": "o56Potb2W0eG"
      },
      "source": [
        "## Anwendung im Bereich Geometry Processing\n",
        "\n",
        "In dieser Übung soll ein 3D-Mesh \"so starr wie möglich\" deformiert werden. \n",
        "\n",
        "Ein trianguliertes Oberflächennetz (Mesh) kann durch eine Liste von $n$ Vertices $V = [[x_0.y_0.z_0],[x_1,y_1,z_1],\\cdots,[x_{n-1}.y_{n-1}.z_{n-1}]]$ und einer Liste von Dreiecken beschrieben werden. \n",
        "Die Dreiecksliste $F$ = [[0,2,3],[3,5,8],...] verbindet 3 Vertices aus V. \n",
        "Die Indizes referenzieren den jeweiligen Vertex aus $V$.\n",
        "    \n",
        "Gegeben ist dabei ein Mesh in einer Ausgangsform. \n",
        "Zusätzlich werden interaktiv die Randbedingungen der Optimierung angegegeben. \n",
        "Dies geschieht durch manuelle Mausklicks auf dem Mesh. \n",
        "Vertices, die sich nicht bewegen dürfen, werden der Reihe nach ausgewählt. \n",
        "Der zuletzt gewählt Vertex wird auf eine vorgegebene Stelle im Raum gesetzt. \n",
        "Alle anderen Vertices sollen nun so starr wie möglich verschoben werden.\n",
        "\n",
        "In dieser Aufgaben werden die folgenden Konzepte vertieft:\n",
        "* Einführung in Geometry Processing. Viele Kozepte aus der Vorlesung werden in diesem Forschungsfeld anschaulich angewandt. \n",
        "* Implementierung und Verständnis von Kostenfunktionen.\n",
        "* Aufstellen und Lösen linearer Gleichungssysteme.\n",
        "* Eigenwertzerlegung, Singulärwertzerlegung.\n",
        "    \n",
        "In dieser Übung wird das Paper https://igl.ethz.ch/projects/ARAP/arap_web.pdf implementiert. Keine Sorge, ein Großteil des Verfahren ist hier bereits implementiert, es werden nur einzelne Teilprobleme von Ihnen gelöst."
      ]
    },
    {
      "cell_type": "markdown",
      "metadata": {
        "id": "aLkmk_lPW0eh"
      },
      "source": [
        "Im ersten Schritt wird ein Mesh aus der beiliegenden Datei cow.obj geladen:"
      ]
    },
    {
      "cell_type": "code",
      "metadata": {
        "id": "MAxc6Og0W0ej"
      },
      "source": [
        "V,F = read_wavefront(\"cow.obj\")\n",
        "F[:] = F[:,[2,1,0]]\n",
        "V[:] = V[:,[2,1,0]]"
      ],
      "execution_count": 3,
      "outputs": []
    },
    {
      "cell_type": "markdown",
      "metadata": {
        "id": "Qpmd-xC0W0es"
      },
      "source": [
        "Ein zentraler Operator im Geometry Processing ist der Laplace-Beltrami Operator (LBO). Dieser kann mit einer Matrix $L$  mit $L \\in \\mathbb{R}^{n \\times n}$ ausgedrückt werden. Der LBO lässt sich aus den Vertices $V$ und Dreiecken $F$ ermitteln. Neben dem LBO liefert die unten implementierte Funktion eine Gewichtsmatrix $W \\in \\mathbb{R}^{n \\times n}$ zurück. Wir beschreiben einen Eintrag in der Matrix $W$ in Zeile $i$ und Spalte $j$ mit $w_{ij} \\in \\mathbb{R}$\n",
        "\n",
        "Die Vorzeichen der LBO-Formulierung unterscheiden sich in den beiden genannten Quellen. Der Parameter ```sign``` konvertiert den LBO bei \"-1\" in die Darstellung für das Paper. "
      ]
    },
    {
      "cell_type": "code",
      "metadata": {
        "id": "viEARGgDW0eu"
      },
      "source": [
        "#verts und faces entsprechen V und F im Text.\n",
        "def lbo(verts,faces,sign):\n",
        "    L = np.zeros([verts.shape[0],verts.shape[0]])\n",
        "    W = np.zeros([verts.shape[0],verts.shape[0]])\n",
        "    for f in faces:\n",
        "        for i in range(3):\n",
        "            j = (i+1) % 3\n",
        "            p,q,o = f[i],f[j],f[(j+1) % 3]\n",
        "            u = verts[o] - verts[p]\n",
        "            v = verts[o] - verts[q]\n",
        "            alpha = np.arccos(np.abs(np.inner(u,v))/\n",
        "                (np.linalg.norm(u)*np.linalg.norm(v)))\n",
        "            cot = .5*np.cos(alpha)/np.sin(alpha)\n",
        "            W[p,q] -= cot\n",
        "            W[q,p] -= cot\n",
        "            L[p,p] -= cot\n",
        "            L[p,q] += cot\n",
        "            L[q,q] -= cot\n",
        "            L[q,p] += cot\n",
        "    return sign*L,sign*W"
      ],
      "execution_count": 4,
      "outputs": []
    },
    {
      "cell_type": "markdown",
      "metadata": {
        "id": "1fEU6O2nW0ey"
      },
      "source": [
        "# Die Kostenfunktion\n",
        "\n",
        "Bei einem gegebenen Mesh mit vertices $V$ und Dreiecken $F$ werden modifizierte Vertexpositionen $V' \\in \\mathbb{R}^{n \\times 3}$ gesucht. \n",
        "Einzelne Zeilen aus $V$ und $V'$ schreiben wir als $v_i,v'_i \\in \\mathbb{R}^3$, wobei $i$ die Zeilen indiziert.\n",
        "Dabei gibt der User einige Zeilen aus $V'$ fest vor (diese entsprechen den ausgewählten Punkten in der 3D Ansicht). \n",
        "Die Übrigen Zeilen werden durch Minimierung einer Kostenfuntion bestimmt.\n",
        "Neben den zu optimierenden Parametern $V'$ werden zusätzliche Parameter eingeführt.\n",
        "Für jeden Vertex wird eine Rotationsmatrix $R_i \\in \\mathbb{R}^{3 \\times 3}$ eingeführt, also insgesammt $n$ zusätzliche unbekannte Rotationsmatrizen.\n",
        "\n",
        "Bevor wir die zu minimierende Kostenfunktion definieren können, benötigen wir noch eine Definition der Nachbarschaft eines Vertex. \n",
        "Zwei Vertices sind Nachbarn, wenn sich im Mesh durch eine Kante verbunden sind. \n",
        "Wir notieren die Nachbarschaft des mit $i$ indizieren Vertex mit $\\mathcal{N}(i)$. \n",
        "Wenn die Vertices, die mit $i$ und $j$ indiziert sind Nachbarn sind, dann gilt $j \\in \\mathcal{N}(i)$ und $i \\in \\mathcal{N}(j)$, andernfalls gilt $j \\notin \\mathcal{N}(i)$ und $i \\notin \\mathcal{N}(j)$. \n",
        "Glücklicherwiese können Sie die Nachbarschaftsbeziehung aus der oben eingeführten Gewichtsmatrix $W$ ableiten.\n",
        "Es gilt $w_{ij} \\neq 0 \\iff j \\in \\mathcal{N}(i)$. \n",
        "\n",
        "Jetzt haben wir alle Komponenten, um die Kostenfunktion $E$ definieren zu können mit\n",
        "\n",
        "\\begin{equation}\n",
        "E(V',R_1,R_2,\\cdots,R_n) = \\sum_{i=1}^N  \\sum_{j \\in \\mathcal{N}(i)} w_{ij} ||v'_i-v'_j - R_i(v_i-v_j)||_2^2 \\tag{1}\n",
        "\\end{equation}"
      ]
    },
    {
      "cell_type": "markdown",
      "metadata": {
        "id": "DY4zIZGGW0e7"
      },
      "source": [
        "## Aufgabe 1\n",
        "\n",
        "Implementieren Sie die Kostenfunktion (1). \n",
        "\n",
        "```W``` is die Gewichtematrix, $R=[R_1,R_2,\\cdots,R_n]$ ist eine Liste von Rotationsmatrizen, ```verts``` entspricht $V$ und ```vertsP``` entspricht $V'$. \n",
        "\n",
        "Können Sie die Kostenfunktion in eigenen Worten beschreiben?"
      ]
    },
    {
      "cell_type": "code",
      "metadata": {
        "id": "paBhYfTiW0e9"
      },
      "source": [
        "def E(W,R,verts,vertsP):\n",
        "    error = 0\n",
        "    for i in range(len(verts)):\n",
        "       \n",
        "        N = []\n",
        "        for j in range(len(W[i])):\n",
        "            if w[i][j] != 0:\n",
        "                N.append(j)\n",
        "        \n",
        "        for j in N:\n",
        "            euclid = 0\n",
        "\n",
        "           \n",
        "            result = vertsP[i] - vertsP[j]\n",
        "            rotate = R[i] * (verts[i] - verts[j])\n",
        "\n",
        "            #euclidean function---------------\n",
        "            sum = 0\n",
        "            for element in (result-rotate):\n",
        "                sum += element**2\n",
        "            euclid = sqrt(sum)\n",
        "            #---------------------------------\n",
        "\n",
        "            euclid = euclid**2\n",
        "\n",
        "    \n",
        "            error +=  w[i][j]*euclid\n",
        "    return error"
      ],
      "execution_count": 5,
      "outputs": []
    },
    {
      "cell_type": "markdown",
      "metadata": {
        "id": "xIujOxoIW0fB"
      },
      "source": [
        "## Aufgabe 2\n",
        "\n",
        "In diesem Abschnitt lernen wir den LBO besser kennen. Zerlegen Sie den LBO in Eigenwerte ```Le``` und Eigenvektoren ```Lv```. Sortieren Sie die Eigenvektoren aufsteigend entsprechend der Eigenwerte. (Tipp: Hier können Funktionen aus dem ```linalg```-Modul von Numpy hilfreich sein.)\n",
        "\n",
        "Was können Sie über die Definitheit und die Symmetrieeigenschaften des LBOs aussagen?"
      ]
    },
    {
      "cell_type": "code",
      "metadata": {
        "colab": {
          "base_uri": "https://localhost:8080/"
        },
        "id": "Ow7q8TB5W0fC",
        "outputId": "5e5bf273-3021-4389-a7e2-9d6d44161095"
      },
      "source": [
        "?np.linalg.eig\n",
        "L,_ = lbo(V,F,-1)\n",
        "\n",
        "Le, Lv =np.linalg.eig(L)\n",
        "\n",
        "print(Le)"
      ],
      "execution_count": 14,
      "outputs": [
        {
          "output_type": "stream",
          "text": [
            "[18.06986317 18.06949181 16.82898778 ...  4.14458724  4.0085311\n",
            "  4.01293156]\n"
          ],
          "name": "stdout"
        }
      ]
    },
    {
      "cell_type": "markdown",
      "metadata": {
        "id": "XhXK5_VuW0fE"
      },
      "source": [
        "## Aufgabe 3\n",
        "\n",
        "Weisen Sie k3meshspec.attribute unterschiedliche Eigenvektoren mit Hilfe des Sliders zu. \n",
        "\n",
        "Was fällt Ihnen auf? Sie können den Slider auch mit den Pfeiltasten steuern."
      ]
    },
    {
      "cell_type": "code",
      "metadata": {
        "colab": {
          "base_uri": "https://localhost:8080/",
          "height": 110,
          "referenced_widgets": [
            "226458041e6c45c3a9cfa6fb6d9b91e5",
            "06fb1d2a681248a48bf3c1fdf5888ef0",
            "0635dc202d914ae29e727f5dcd366f82"
          ]
        },
        "id": "rzHmhi7LW0fO",
        "outputId": "70749332-284d-43ae-e10a-f7ca9940005b"
      },
      "source": [
        "C = .5*np.ones(V.shape[0],dtype=np.float32)\n",
        "k3meshplotspec_eigenvectors = k3d.plot()\n",
        "k3meshspec_eigenvectors = k3d.mesh(V,F,attribute=C,color_map=k3d.basic_color_maps.Jet, color_range=[0.0, 1.0])\n",
        "k3meshplotspec_eigenvectors += k3meshspec_eigenvectors\n",
        "k3meshplotspec_eigenvectors.display()"
      ],
      "execution_count": 7,
      "outputs": [
        {
          "output_type": "stream",
          "text": [
            "/usr/local/lib/python3.6/dist-packages/traittypes/traittypes.py:101: UserWarning: Given trait value dtype \"float64\" does not match required type \"float32\". A coerced copy has been created.\n",
            "  np.dtype(self.dtype).name))\n",
            "/usr/local/lib/python3.6/dist-packages/traittypes/traittypes.py:101: UserWarning: Given trait value dtype \"int64\" does not match required type \"uint32\". A coerced copy has been created.\n",
            "  np.dtype(self.dtype).name))\n"
          ],
          "name": "stderr"
        },
        {
          "output_type": "display_data",
          "data": {
            "application/vnd.jupyter.widget-view+json": {
              "model_id": "226458041e6c45c3a9cfa6fb6d9b91e5",
              "version_minor": 0,
              "version_major": 2
            },
            "text/plain": [
              "Output()"
            ]
          },
          "metadata": {
            "tags": []
          }
        }
      ]
    },
    {
      "cell_type": "code",
      "metadata": {
        "colab": {
          "base_uri": "https://localhost:8080/",
          "height": 49,
          "referenced_widgets": [
            "ea13df061f59432a8f6fd833f20149dd",
            "a54f8a7e624d499c886ba3f3c5afe8d7",
            "64acabb882e149fe8bd014ddb9aacfcd",
            "a57a915b9bcd4dbca9da3cd3e371853e",
            "0922394458844802a66355c758687880",
            "f7ca53470a9b49c4aeebd5de579eb983",
            "8c72f5dc6e3f4637a6098766e86ba23d"
          ]
        },
        "id": "OcA56w11W0fR",
        "outputId": "8b1542ff-83e2-4433-86a6-802926a6cb4a"
      },
      "source": [
        "def eigenvector_callback(x):\n",
        "    vis = Lv[:,x].copy()  \n",
        "    vis = (vis-vis.mean()) / (2*vis.std()) + .5\n",
        "    k3meshspec_eigenvectors.attribute = vis.astype(np.float32)\n",
        "interact(eigenvector_callback, x=widgets.IntSlider(min=0, max=V.shape[0]-1, step=1, value=50));\n"
      ],
      "execution_count": 18,
      "outputs": [
        {
          "output_type": "display_data",
          "data": {
            "application/vnd.jupyter.widget-view+json": {
              "model_id": "ea13df061f59432a8f6fd833f20149dd",
              "version_minor": 0,
              "version_major": 2
            },
            "text/plain": [
              "interactive(children=(IntSlider(value=50, description='x', max=2929), Output()), _dom_classes=('widget-interac…"
            ]
          },
          "metadata": {
            "tags": []
          }
        }
      ]
    },
    {
      "cell_type": "markdown",
      "metadata": {
        "id": "4WK9i8KfW0fR"
      },
      "source": [
        "## Aufgabe 4\n",
        "Fassen Sie den LBO als Kovarianzmatrix auf und \"komprimieren\" Sie die 3D-Form durch Dimensionsreduktion der Vertexpositionen (PCA ohne Zentrierung). \n",
        "\n",
        "Nutzen Sie den Slider, um die Anzahl der Hauptkomponenten zu regeln. Wie wirkt sich die Stellung des Sliders auf die Kompression des Meshes aus?"
      ]
    },
    {
      "cell_type": "code",
      "metadata": {
        "colab": {
          "base_uri": "https://localhost:8080/",
          "height": 110,
          "referenced_widgets": [
            "ddd467a26b34488c82b50b884eebe663",
            "832ac532112d49788a61975168e8dc5e",
            "ff747cbcd3cf46d68bbcf7a2ae19e683"
          ]
        },
        "id": "-UVhsIZzW0fT",
        "outputId": "74d99ffd-21bc-496b-99d7-e5c704eab8cc"
      },
      "source": [
        "k3meshplotspec_pca = k3d.plot()\n",
        "k3meshspec_pca = k3d.mesh(V,F,attribute=C,color_map=k3d.basic_color_maps.Jet, color_range=[0.0, 1.0])\n",
        "k3meshplotspec_pca += k3meshspec_pca\n",
        "k3meshplotspec_pca.display()"
      ],
      "execution_count": 9,
      "outputs": [
        {
          "output_type": "stream",
          "text": [
            "/usr/local/lib/python3.6/dist-packages/traittypes/traittypes.py:101: UserWarning: Given trait value dtype \"float64\" does not match required type \"float32\". A coerced copy has been created.\n",
            "  np.dtype(self.dtype).name))\n",
            "/usr/local/lib/python3.6/dist-packages/traittypes/traittypes.py:101: UserWarning: Given trait value dtype \"int64\" does not match required type \"uint32\". A coerced copy has been created.\n",
            "  np.dtype(self.dtype).name))\n"
          ],
          "name": "stderr"
        },
        {
          "output_type": "display_data",
          "data": {
            "application/vnd.jupyter.widget-view+json": {
              "model_id": "ddd467a26b34488c82b50b884eebe663",
              "version_minor": 0,
              "version_major": 2
            },
            "text/plain": [
              "Output()"
            ]
          },
          "metadata": {
            "tags": []
          }
        }
      ]
    },
    {
      "cell_type": "code",
      "metadata": {
        "colab": {
          "base_uri": "https://localhost:8080/",
          "height": 49,
          "referenced_widgets": [
            "2b30ee38f0fe44fda833a842991e4cc4",
            "39996e87dd5b4a5fafc4faaa5c6aae91",
            "664f55b2ba044d999d0f487a9b18a6d9",
            "2b0124a071584f119305b1a0dd6770c2",
            "3f180fbbb10541a19eee0f233e56358d",
            "b0e19f1695564102821e001b3c2803d3",
            "265caaf17c664ee0b8352ac048d21a92"
          ]
        },
        "id": "EGyC0wcLW0fV",
        "outputId": "e128d3d8-a135-4d71-ec48-fcbd84eab937"
      },
      "source": [
        "def eigenvector_callback(x):\n",
        "    V3 = []\n",
        "    neigs = x #Modfifizieren\n",
        "    for i in range(3):\n",
        "        C1 = Lv.T.dot(V[:,i])[:neigs]\n",
        "        V1 = Lv[:,:neigs].dot(C1).reshape(-1,1)\n",
        "        V3.append(V1)\n",
        "    V3 = np.hstack(V3).astype(np.float32)\n",
        "    k3meshspec_pca.vertices = V3\n",
        "interact(eigenvector_callback, x=widgets.IntSlider(min=0, max=V.shape[0]-1, step=1, value=30));"
      ],
      "execution_count": 10,
      "outputs": [
        {
          "output_type": "display_data",
          "data": {
            "application/vnd.jupyter.widget-view+json": {
              "model_id": "2b30ee38f0fe44fda833a842991e4cc4",
              "version_minor": 0,
              "version_major": 2
            },
            "text/plain": [
              "interactive(children=(IntSlider(value=30, description='x', max=2929), Output()), _dom_classes=('widget-interac…"
            ]
          },
          "metadata": {
            "tags": []
          }
        }
      ]
    },
    {
      "cell_type": "markdown",
      "metadata": {
        "id": "Ek_y9JgLW0fZ"
      },
      "source": [
        "# Minimierung der Kostenfunktion\n",
        "\n",
        "Wie Sie vielleicht schon erkannt haben, handelt es sich bei der Minimierung von (1) um ein nichtlineares least-sqaures Problem. Dies könnten Sie mit Hilfe von Gauss-Newton oder Levenberg-Marquardt lösen:\n",
        "\n",
        "\\begin{equation}\n",
        "\\hat{V}',\\hat{R}_1,\\hat{R}_2,\\cdots,\\hat{R}_n = \\underset{V',R_1,R_2,\\cdots,R_n}{\\operatorname{argmin}} E(V',R_1,R_2,\\cdots,R_n) \\tag{2}\n",
        "\\end{equation}\n",
        "\n",
        "Stattdessen minimieren wir hier die Kostenfunktion mit Hilfe eines alternierenden Optimierungsverfahrens. Ausgehend von einer initialen Schätzung der Parameter $V'^{(0)} = V$ suchen wir iterativ besser geeignete Parameter. Dabei minimieren wir abwechselnd\n",
        "\n",
        "\\begin{equation}\n",
        "R_1^{(k+1)},R_2^{(k+1)},\\cdots,R_n^{(k+1)} = \\underset{R_1,R_2,\\cdots,R_n}{\\operatorname{argmin}} E(V'^{(k)},R_1,R_2,\\cdots,R_n) \\tag{3}\n",
        "\\end{equation}\n",
        "\n",
        "und\n",
        "\n",
        "\\begin{equation}\n",
        "V'^{(k+1)} = \\underset{V'}{\\operatorname{argmin}} E(V',R_1^{(k+1)},R_2^{(k+1)},\\cdots,R_n^{(k+1)}) \\tag{4}\n",
        "\\end{equation}\n",
        "\n",
        "Im Gegensatz zu (2) lassen sich (3) und (4) in einer geschlossenen Form lösen. Der Optimierungsschritt (3) ist bereits implementiert, lediglich (4) ist noch zu programmieren. Partielles Ableiten nach allen Einträgen aus $V'$ und anschließendes Nullsetzen liefert die drei separierbaren linearen Gleichungssysteme\n",
        "\n",
        "\\begin{align}\n",
        "L v_x^{'(k)} &= b_x^{(k)} \\\\\n",
        "L v_y^{'(k)} &= b_y^{(k)} \\tag{5} \\\\\n",
        "L v_z^{'(k)} &= b_z^{(k)}, \\\\\n",
        "\\end{align}\n",
        "\n",
        "wobei $L$ der LBO ist, $[v_x^{'(k)}, v_y^{'(k)}, v_z^{'(k)}]=V^{'(k)}$ die drei Spalten von $V'^{(k)}$ indiziert, $[ b_x^{(k)}, b_y^{(k)}, b_z^{(k)}] = B^{(k)}$ mit $B^{(k)} \\in \\mathbb{R}^{n \\times 3}$ und die $i$-te Zeile von $B^{(k)}$ definiert ist mit\n",
        "\n",
        "\\begin{equation}\n",
        "b_i^{(k)} = \\sum_{j \\in \\mathcal{N}(I)} \\frac{w_{ij}}{2} (R_i^{(k)}+R_j^{(k)})(v_i-v_j). \\tag{5}\n",
        "\\end{equation}"
      ]
    },
    {
      "cell_type": "markdown",
      "metadata": {
        "id": "0rPkPXJhW0fa"
      },
      "source": [
        "## Aufgabe 5\n",
        "\n",
        "Implementieren Sie die rechte Seite von (5). \n",
        "\n",
        "Vervollständigen Sie die Funktion ```rhs``` mit den Gewichten $W$, der Liste an Rotationsmatrizen  $R=[R_1,R_2,\\cdots,R_n]$ und den initialen Vertexpositionen $V$ (```verts```)."
      ]
    },
    {
      "cell_type": "code",
      "metadata": {
        "id": "F4BUIrIDW0fd"
      },
      "source": [
        "def rhs(W,Rs,verts):\n",
        "    B_all = []\n",
        "    #TODO\n",
        "    return np.vstack(B_all)"
      ],
      "execution_count": 11,
      "outputs": []
    },
    {
      "cell_type": "markdown",
      "metadata": {
        "id": "b0NcENegW0fe"
      },
      "source": [
        "Die Routine zum Lösen von (3) wurde hier bereits implementiert und liefert die entsprechenden Rotationsmatrizen zurück:"
      ]
    },
    {
      "cell_type": "code",
      "metadata": {
        "id": "-8HbgCXGW0ff"
      },
      "source": [
        "def solve_Rs(verts,vertsP,faces,W):\n",
        "    Rs = []\n",
        "    for i in range(verts.shape[0]):\n",
        "        nonzeros = np.where(W[i,:])[0]\n",
        "        D = np.diag(W[i,nonzeros])\n",
        "        E = verts[i] - verts[nonzeros]\n",
        "        EP = vertsP[i] - vertsP[nonzeros]\n",
        "        S = E.T.dot(D).dot(EP)\n",
        "        svd_u,svd_sig,svd_v = np.linalg.svd(S)\n",
        "        R = svd_v.T.dot(svd_u.T)\n",
        "        if np.linalg.det(R) < 0:\n",
        "            svd_u[:,2] *= -1\n",
        "            R = svd_v.T.dot(svd_u.T)\n",
        "        assert( np.linalg.det(R) > 0 )\n",
        "        Rs.append(R)\n",
        "    return Rs"
      ],
      "execution_count": 12,
      "outputs": []
    },
    {
      "cell_type": "markdown",
      "metadata": {
        "id": "r7vpAgodW0fg"
      },
      "source": [
        "## Aufgabe 6\n",
        "\n",
        "Vervollständigen Sie die Implementierung des alternierenden Optimierungsverfahrens. \n",
        "\n",
        "Die Routine ```solve_arap``` bekommt als Parameter die Liste der Vertexindizes, welche auf feste Zielpositionen gesetzt werden. Dabei werden die spezifizierten Vertices auf ihre ursprüngliche Position gesetzt. Lediglich der letzte spezifizierte Vertex wird auf die Position ```target_point``` gesetzt.\n",
        "\n",
        "### Aufgabe 6a\n",
        "Modifizien sie den LBO $L$ und $B$, sodass das Gleichungssystem die vorgegebenen Constraints einhält.\n",
        "\n",
        "### Aufgabe 6b\n",
        "Das Gleichungssystem wird aktuell in jeder Iteration von Grund auf neu gelöst, obwohl die Systemmatrix $L$ konstant ist. Nutzen Sie eine passende Faktorisierungsmethode, um die Performance des Verfahrens zu verbessern. \n",
        "\n",
        "Hinweis: Der modifizierte LBO ist immer symmetrisch, positiv definit. \n",
        "Welche Faktorisierungmethode bietet sich daher an? Im Paket ```scipy.linalg``` finden Sie eine Sammlung an Matrixfaktorisierungsverfahren."
      ]
    },
    {
      "cell_type": "code",
      "metadata": {
        "colab": {
          "base_uri": "https://localhost:8080/",
          "height": 376
        },
        "id": "yg5QTJYhW0fg",
        "outputId": "dbe9d877-b411-435f-99ba-708276ddf6d6"
      },
      "source": [
        "n_iterations = 50\n",
        "def solve_arap(fixed_vertex_indices=[289,577,2212, 284], target_point = np.array([1,-1.1,0])):\n",
        "    LInit,W = lbo(V,F,-1)\n",
        "    vnew = V[fixed_vertex_indices]\n",
        "    vnew[-1] = target_point\n",
        "    Rs = [np.eye(3) for i in range(V.shape[0])]\n",
        "    vertices_history = []\n",
        "    error_history = []\n",
        "    vertices_history.append(V)\n",
        "    \n",
        "    U = V.copy()\n",
        "    U[fixed_vertex_indices[-1]] = target_point\n",
        "    error_history.append(E(W,Rs,V,U))\n",
        "    L = LInit.copy()\n",
        "    \n",
        "    #### Aufgabe 6a\n",
        "    \n",
        "    #### Aufgabe 6a\n",
        "    \n",
        "    #### Aufgabe 6b\n",
        "    \n",
        "    #### Aufgabe 6b\n",
        "        \n",
        "    for i in tqdm(range(n_iterations)):\n",
        "        Rs = solve_Rs(V,U,F,W)\n",
        "        error_history.append(E(W,Rs,V,U))\n",
        "        B = rhs(W,Rs,V)\n",
        "        ### Aufgabe 6a\n",
        "        \n",
        "        ### Aufgabe 6a\n",
        "        U = np.linalg.solve(L,B) #Ersetzen für Aufgabe 6b\n",
        "        error_history.append(E(W,Rs,V,U))\n",
        "        vertices_history.append(U)\n",
        "    return vertices_history,error_history\n",
        "history,errors, = solve_arap()\n",
        "plt.plot(errors)"
      ],
      "execution_count": 13,
      "outputs": [
        {
          "output_type": "error",
          "ename": "NameError",
          "evalue": "ignored",
          "traceback": [
            "\u001b[0;31m---------------------------------------------------------------------------\u001b[0m",
            "\u001b[0;31mNameError\u001b[0m                                 Traceback (most recent call last)",
            "\u001b[0;32m<ipython-input-13-5574b84be6e9>\u001b[0m in \u001b[0;36m<module>\u001b[0;34m()\u001b[0m\n\u001b[1;32m     33\u001b[0m         \u001b[0mvertices_history\u001b[0m\u001b[0;34m.\u001b[0m\u001b[0mappend\u001b[0m\u001b[0;34m(\u001b[0m\u001b[0mU\u001b[0m\u001b[0;34m)\u001b[0m\u001b[0;34m\u001b[0m\u001b[0;34m\u001b[0m\u001b[0m\n\u001b[1;32m     34\u001b[0m     \u001b[0;32mreturn\u001b[0m \u001b[0mvertices_history\u001b[0m\u001b[0;34m,\u001b[0m\u001b[0merror_history\u001b[0m\u001b[0;34m\u001b[0m\u001b[0;34m\u001b[0m\u001b[0m\n\u001b[0;32m---> 35\u001b[0;31m \u001b[0mhistory\u001b[0m\u001b[0;34m,\u001b[0m\u001b[0merrors\u001b[0m\u001b[0;34m,\u001b[0m \u001b[0;34m=\u001b[0m \u001b[0msolve_arap\u001b[0m\u001b[0;34m(\u001b[0m\u001b[0;34m)\u001b[0m\u001b[0;34m\u001b[0m\u001b[0;34m\u001b[0m\u001b[0m\n\u001b[0m\u001b[1;32m     36\u001b[0m \u001b[0mplt\u001b[0m\u001b[0;34m.\u001b[0m\u001b[0mplot\u001b[0m\u001b[0;34m(\u001b[0m\u001b[0merrors\u001b[0m\u001b[0;34m)\u001b[0m\u001b[0;34m\u001b[0m\u001b[0;34m\u001b[0m\u001b[0m\n",
            "\u001b[0;32m<ipython-input-13-5574b84be6e9>\u001b[0m in \u001b[0;36msolve_arap\u001b[0;34m(fixed_vertex_indices, target_point)\u001b[0m\n\u001b[1;32m     11\u001b[0m     \u001b[0mU\u001b[0m \u001b[0;34m=\u001b[0m \u001b[0mV\u001b[0m\u001b[0;34m.\u001b[0m\u001b[0mcopy\u001b[0m\u001b[0;34m(\u001b[0m\u001b[0;34m)\u001b[0m\u001b[0;34m\u001b[0m\u001b[0;34m\u001b[0m\u001b[0m\n\u001b[1;32m     12\u001b[0m     \u001b[0mU\u001b[0m\u001b[0;34m[\u001b[0m\u001b[0mfixed_vertex_indices\u001b[0m\u001b[0;34m[\u001b[0m\u001b[0;34m-\u001b[0m\u001b[0;36m1\u001b[0m\u001b[0;34m]\u001b[0m\u001b[0;34m]\u001b[0m \u001b[0;34m=\u001b[0m \u001b[0mtarget_point\u001b[0m\u001b[0;34m\u001b[0m\u001b[0;34m\u001b[0m\u001b[0m\n\u001b[0;32m---> 13\u001b[0;31m     \u001b[0merror_history\u001b[0m\u001b[0;34m.\u001b[0m\u001b[0mappend\u001b[0m\u001b[0;34m(\u001b[0m\u001b[0mE\u001b[0m\u001b[0;34m(\u001b[0m\u001b[0mW\u001b[0m\u001b[0;34m,\u001b[0m\u001b[0mRs\u001b[0m\u001b[0;34m,\u001b[0m\u001b[0mV\u001b[0m\u001b[0;34m,\u001b[0m\u001b[0mU\u001b[0m\u001b[0;34m)\u001b[0m\u001b[0;34m)\u001b[0m\u001b[0;34m\u001b[0m\u001b[0;34m\u001b[0m\u001b[0m\n\u001b[0m\u001b[1;32m     14\u001b[0m     \u001b[0mL\u001b[0m \u001b[0;34m=\u001b[0m \u001b[0mLInit\u001b[0m\u001b[0;34m.\u001b[0m\u001b[0mcopy\u001b[0m\u001b[0;34m(\u001b[0m\u001b[0;34m)\u001b[0m\u001b[0;34m\u001b[0m\u001b[0;34m\u001b[0m\u001b[0m\n\u001b[1;32m     15\u001b[0m \u001b[0;34m\u001b[0m\u001b[0m\n",
            "\u001b[0;32m<ipython-input-5-83ac15ece195>\u001b[0m in \u001b[0;36mE\u001b[0;34m(W, R, verts, vertsP)\u001b[0m\n\u001b[1;32m      5\u001b[0m         \u001b[0mN\u001b[0m \u001b[0;34m=\u001b[0m \u001b[0;34m[\u001b[0m\u001b[0;34m]\u001b[0m\u001b[0;34m\u001b[0m\u001b[0;34m\u001b[0m\u001b[0m\n\u001b[1;32m      6\u001b[0m         \u001b[0;32mfor\u001b[0m \u001b[0mj\u001b[0m \u001b[0;32min\u001b[0m \u001b[0mrange\u001b[0m\u001b[0;34m(\u001b[0m\u001b[0mlen\u001b[0m\u001b[0;34m(\u001b[0m\u001b[0mW\u001b[0m\u001b[0;34m[\u001b[0m\u001b[0mi\u001b[0m\u001b[0;34m]\u001b[0m\u001b[0;34m)\u001b[0m\u001b[0;34m)\u001b[0m\u001b[0;34m:\u001b[0m\u001b[0;34m\u001b[0m\u001b[0;34m\u001b[0m\u001b[0m\n\u001b[0;32m----> 7\u001b[0;31m             \u001b[0;32mif\u001b[0m \u001b[0mw\u001b[0m\u001b[0;34m[\u001b[0m\u001b[0mi\u001b[0m\u001b[0;34m]\u001b[0m\u001b[0;34m[\u001b[0m\u001b[0mj\u001b[0m\u001b[0;34m]\u001b[0m \u001b[0;34m!=\u001b[0m \u001b[0;36m0\u001b[0m\u001b[0;34m:\u001b[0m\u001b[0;34m\u001b[0m\u001b[0;34m\u001b[0m\u001b[0m\n\u001b[0m\u001b[1;32m      8\u001b[0m                 \u001b[0mN\u001b[0m\u001b[0;34m.\u001b[0m\u001b[0mappend\u001b[0m\u001b[0;34m(\u001b[0m\u001b[0mj\u001b[0m\u001b[0;34m)\u001b[0m\u001b[0;34m\u001b[0m\u001b[0;34m\u001b[0m\u001b[0m\n\u001b[1;32m      9\u001b[0m \u001b[0;34m\u001b[0m\u001b[0m\n",
            "\u001b[0;31mNameError\u001b[0m: name 'w' is not defined"
          ]
        }
      ]
    },
    {
      "cell_type": "markdown",
      "metadata": {
        "id": "deMyEMv9W0fj"
      },
      "source": [
        "## Aufgabe 7\n",
        "\n",
        "Visualisieren Sie den Fortschritt Ihres Verfahren mit Hilfe des Sliders:"
      ]
    },
    {
      "cell_type": "code",
      "metadata": {
        "id": "yOQSh6r8W0fk"
      },
      "source": [
        "k3meshplotspec_arap = k3d.plot()\n",
        "k3meshspec_arap = k3d.mesh(V,F,attribute=C,color_map=k3d.basic_color_maps.Jet, color_range=[0.0, 1.0])\n",
        "k3meshplotspec_arap += k3meshspec_arap\n",
        "k3meshplotspec_arap.display()"
      ],
      "execution_count": null,
      "outputs": []
    },
    {
      "cell_type": "code",
      "metadata": {
        "id": "BLA2-01kW0fp"
      },
      "source": [
        "def history_callback(i):    \n",
        "    k3meshspec_arap.vertices = history[i] \n",
        "interact(history_callback, i=widgets.IntSlider(min=0, max=n_iterations, step=1, value=0));"
      ],
      "execution_count": null,
      "outputs": []
    },
    {
      "cell_type": "markdown",
      "metadata": {
        "id": "BPCigfzHW0ft"
      },
      "source": [
        "# Interaktive Segmentierung\n",
        "\n",
        "Die nächste Zelle implementiert die interaktive Segmentierung des 3D-Modells. Die Anleitung zur Segmentierung finden Sie weiter unten."
      ]
    },
    {
      "cell_type": "code",
      "metadata": {
        "scrolled": true,
        "id": "Rm5YbJjNW0fw"
      },
      "source": [
        "meshSpans = V.max(axis=0) - V.min(axis=0)\n",
        "C = .5*np.ones(V.shape[0],dtype=np.float32)\n",
        "\n",
        "mesh = trimesh.Trimesh(vertices=V,\n",
        "                       faces=F)\n",
        "pitch = 0.02\n",
        "voxels = mesh.voxelized(pitch=pitch).matrix\n",
        "\n",
        "origin = V.min(axis=0)\n",
        "origin[2] = V[:,2].max()\n",
        "meshSpanY = V[:,1].max() - V[:,1].min()\n",
        "voxelSpanY = voxels.shape[1]\n",
        "\n",
        "tree = KDTree(V)\n",
        "\n",
        "k3mesh = k3d.mesh(V,F,attribute=C,color_map=k3d.basic_color_maps.Jet, color_range=[0.0, 1.0])\n",
        "\n",
        "clicks = []\n",
        "\n",
        "def on_click(x, y, z):\n",
        "    query_pt = np.array([[z,y,-x]])\n",
        "    query_pt = query_pt* (meshSpanY/ voxelSpanY) + origin\n",
        "    \n",
        "    vidx = tree.query(query_pt)[1][0]\n",
        "    cpy = k3mesh.attribute.copy()\n",
        "    cpy[clicks] = 0.0\n",
        "    cpy[vidx] = 1.0\n",
        "    k3mesh.attribute = cpy\n",
        "    time.sleep(0.05)\n",
        "    clicks.append(vidx)\n",
        "\n",
        "color_map = (0x00ff00, 0xff0000, 0x00ff00)\n",
        "obj = k3d.voxels(voxels.astype(np.uint8), color_map)\n",
        "plot = k3d.plot()\n",
        "plot += obj\n",
        "\n",
        "obj.click_callback = on_click\n",
        "plot.voxel_paint_color = 0\n",
        "plot.mode = 'callback'\n",
        "plot.display()"
      ],
      "execution_count": null,
      "outputs": []
    },
    {
      "cell_type": "markdown",
      "metadata": {
        "id": "Bnq6MDS2W0fw"
      },
      "source": [
        "# 3D Viewer\n",
        "## Aufgabe 7\n",
        "\n",
        "Wählen Sie im 3D-View oben Control->Mode-Callbacks und klicken Sie auf das Mesh um Nebenbedigungen zu setzen. Das Resultat ist in der View unten zu sehen. Grün = \"freie Vertices\", blau = \"feste Vertices\" und rot = \"fester, im Code gesetzter Vertex\"."
      ]
    },
    {
      "cell_type": "code",
      "metadata": {
        "scrolled": false,
        "id": "vgUKH50GW0fx"
      },
      "source": [
        "k3meshplot = k3d.plot()\n",
        "k3meshplot += k3mesh\n",
        "k3meshplot.display()\n",
        "k3meshplot.camera_auto_fit = False"
      ],
      "execution_count": null,
      "outputs": []
    },
    {
      "cell_type": "code",
      "metadata": {
        "id": "FASjNEafW0fy"
      },
      "source": [
        "attr = k3mesh.attribute.copy()\n",
        "fix = np.where(attr < 0.001)[0]\n",
        "fix = np.concatenate([fix,np.where(attr > 0.99)[0]])\n",
        "history_interactive,errors_interactive, = solve_arap(fix,np.array([1,-1.1,0]))\n",
        "plt.plot(errors_interactive)\n",
        "def history_interactive_callback(i):    \n",
        "    k3mesh.vertices = history_interactive[i] \n",
        "interact(history_interactive_callback, i=widgets.IntSlider(min=0, max=n_iterations, step=1, value=0));"
      ],
      "execution_count": null,
      "outputs": []
    }
  ]
}