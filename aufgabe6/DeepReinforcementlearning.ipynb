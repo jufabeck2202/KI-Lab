{
  "nbformat": 4,
  "nbformat_minor": 0,
  "metadata": {
    "colab": {
      "name": "DeepReinforcementlearning.ipynb",
      "provenance": [],
      "collapsed_sections": [],
      "include_colab_link": true
    },
    "kernelspec": {
      "name": "python3",
      "display_name": "Python 3"
    }
  },
  "cells": [
    {
      "cell_type": "markdown",
      "metadata": {
        "id": "view-in-github",
        "colab_type": "text"
      },
      "source": [
        "<a href=\"https://colab.research.google.com/github/jufabeck2202/KI-Lab/blob/main/aufgabe6/DeepReinforcementlearning.ipynb\" target=\"_parent\"><img src=\"https://colab.research.google.com/assets/colab-badge.svg\" alt=\"Open In Colab\"/></a>"
      ]
    },
    {
      "cell_type": "markdown",
      "metadata": {
        "id": "Iwm-vLKt-CxA"
      },
      "source": [
        "General idea:\n",
        "1. Use a neural network that takes as input a state (represented as numbers)\n",
        "and outputs a probability for every action.\n",
        "2. Generate episodes by inputing the current state into the network and\n",
        "sampling actions from the network’s output. Remember the\n",
        "<state, action> pairs for every episode.\n",
        "3. From these episodes, identify the ones with the highest reward.\n",
        "4. Use the <state, action> pairs from those high reward episodes as\n",
        "training examples for improving the neural network.\n",
        "5. Go back to step 2"
      ]
    },
    {
      "cell_type": "markdown",
      "metadata": {
        "id": "28X7Ou8q-E9e"
      },
      "source": [
        "Task 2\n",
        "1. Define a neural network with two fully connected-layers. The hidden layer uses a\n",
        "Relu activation. The output layer uses a softmax. Try different hidden layer sizes\n",
        "(between 100 and 500). The network takes as input a vector of the current states\n",
        "and gives out a probability for each action.\n",
        "2. Generate 100 episodes by sampling actions using the network output. Limit the\n",
        "number of steps per episode to 500. Sum up the reward of all steps of one episode.\n",
        "3. Print out the mean reward per episode of the 100 episodes.\n",
        "4. Identify the 20 best of those episodes in terms of reward and use the\n",
        "<state, action> pairs of these episodes as training examples for the network.\n",
        "5. Update the weights of the network by performing backpropagation on these <state,\n",
        "action> pairs.\n",
        "6. Repeat steps 2 to 5 until a mean reward of 100 is reached.\n",
        "7. Record a video of the lunar lander by running the trained network on one additional\n",
        "episode."
      ]
    },
    {
      "cell_type": "markdown",
      "metadata": {
        "id": "WoQx2xvS-M-i"
      },
      "source": [
        "Hints\n",
        "* Use !pip3 install box2d-py to make the environment work in Colab.\n",
        "* You cannot show the video of your lander in Colab (env.render() fails).  \n",
        "* Workaround: Download the model on your local machine and record the video there,\n",
        "using recording_demo.py as template (see Mattermost).\n",
        "* The loss is not a useful indicator for the learning progress in RL. Instead check how\n",
        "the mean reward develops over time.\n",
        "* The mean reward will jump back and forth quite a bit, but overall should increase.\n",
        "* After roughly 70 training iterations the mean reward should be positive, and after\n",
        "roughly 100 steps be over 100.\n",
        "* Note that these numbers depend on your parameter setting and it may also take\n",
        "longer or shorter.\n",
        "* Reinforcement learning is much more difficult than supervised learning, you have to\n",
        "play around quite a bit to get things into the right direction."
      ]
    },
    {
      "cell_type": "markdown",
      "metadata": {
        "id": "i0ozuttP-6-3"
      },
      "source": [
        "# Imports"
      ]
    },
    {
      "cell_type": "code",
      "metadata": {
        "id": "ZML6vY495JLW"
      },
      "source": [
        "!pip3 install box2d-py gym > /dev/null"
      ],
      "execution_count": 2,
      "outputs": []
    },
    {
      "cell_type": "code",
      "metadata": {
        "id": "nLOhghCh6375"
      },
      "source": [
        "import gym\n",
        "import torch\n",
        "import torch.nn as nn\n",
        "import torch.optim as optim\n",
        "import torch.nn.functional as F\n",
        "import numpy as np\n",
        "import matplotlib.pyplot as plt\n",
        "import heapq\n",
        "import random\n",
        "import torch.optim as optim\n",
        "%matplotlib inline\n"
      ],
      "execution_count": 3,
      "outputs": []
    },
    {
      "cell_type": "code",
      "metadata": {
        "id": "5vhGJ8K17AoF",
        "colab": {
          "base_uri": "https://localhost:8080/"
        },
        "outputId": "dc014b6e-0da4-451e-f441-5308bef4b9d9"
      },
      "source": [
        "env = gym.make('LunarLander-v2')\n",
        "rewards = []\n",
        "\n",
        "##get Action space\n",
        "print(env.observation_space.shape)\n",
        "print(env.action_space)\n",
        "print()\n",
        "print(env.observation_space.sample())\n",
        "print(env.action_space.sample())\n"
      ],
      "execution_count": 4,
      "outputs": [
        {
          "output_type": "stream",
          "text": [
            "(8,)\n",
            "Discrete(4)\n",
            "\n",
            "[-0.54360837  1.4212509   0.5395135   0.6026281  -0.7540568  -0.56199914\n",
            " -0.62567455 -0.24186279]\n",
            "1\n"
          ],
          "name": "stdout"
        }
      ]
    },
    {
      "cell_type": "markdown",
      "metadata": {
        "id": "ZQ1t9O_D_YZh"
      },
      "source": [
        "# Define Network"
      ]
    },
    {
      "cell_type": "code",
      "metadata": {
        "id": "4DA1wvKv7qLe"
      },
      "source": [
        "\n",
        "class Network(nn.Module):\n",
        "\n",
        "    def __init__(self, hidden_size,):\n",
        "        super(Network, self).__init__()\n",
        "        self.fc1 = nn.Linear(env.observation_space.shape[0], hidden_size)\n",
        "        self.fc2 = nn.Linear(hidden_size, env.action_space.n)\n",
        "        \n",
        "    def forward(self, x):\n",
        "        h = F.relu(self.fc1(x))\n",
        "        return self.fc2(h)"
      ],
      "execution_count": 5,
      "outputs": []
    },
    {
      "cell_type": "code",
      "metadata": {
        "id": "R_jgm5-hafJE"
      },
      "source": [
        "net = Network(250)\r\n",
        "criterion = nn.CrossEntropyLoss()\r\n",
        "optimizer = optim.Adam(params=net.parameters(), lr=0.01)\r\n"
      ],
      "execution_count": 6,
      "outputs": []
    },
    {
      "cell_type": "markdown",
      "metadata": {
        "id": "-pcDn0VkAG4U"
      },
      "source": [
        "# Sample Episodes"
      ]
    },
    {
      "cell_type": "code",
      "metadata": {
        "id": "QDnOo9WzAGEx"
      },
      "source": [
        "# get episodes\n",
        "def sample(episodes_n=100, max_steps=500):\n",
        "  episodes_data = []\n",
        "  \n",
        "  softmax = nn.Softmax(dim=1)\n",
        "  for i_episode in range(episodes_n):\n",
        "      steps = [] # steps[0] is the action, steps[1] is the state\n",
        "      total_reward = 0\n",
        "      state = env.reset()\n",
        "      for i_step in range(max_steps):\n",
        "\n",
        "          state_vector = torch.FloatTensor([state])\n",
        "          probability= softmax(net(state_vector))\n",
        "\n",
        "          selected_action = np.random.choice(len(probability.data.numpy()[0]), p=probability.data.numpy()[0])\n",
        "          new_state, reward, done, info = env.step(selected_action)\n",
        "\n",
        "          rewards.append(reward)\n",
        "          #important: use old state\n",
        "          \n",
        "          steps.append([selected_action, state])\n",
        "          state = new_state\n",
        "          total_reward += reward\n",
        "          \n",
        "\n",
        "          if done:\n",
        "              episodes_data.append({ \"total_reward\": total_reward  ,\"steps\": steps})\n",
        "              break\n",
        "      #print(f\"Mean reward of episode {i_episode}: {np.array(rewards).mean()}\")\n",
        "  return episodes_data\n"
      ],
      "execution_count": 7,
      "outputs": []
    },
    {
      "cell_type": "code",
      "metadata": {
        "id": "ucGcZ-es9nXd"
      },
      "source": [
        "def calculate_total_mean_reward(all_episodes):\n",
        "   all_rewards = [d['total_reward'] for d in all_episodes]\n",
        "   return np.array(all_rewards).mean()"
      ],
      "execution_count": 8,
      "outputs": []
    },
    {
      "cell_type": "code",
      "metadata": {
        "id": "jyVPXZ3xVSla"
      },
      "source": [
        "def get_top_20(all_episodes):\r\n",
        "  return heapq.nlargest(20, all_episodes, key=lambda s: s['total_reward'])"
      ],
      "execution_count": 9,
      "outputs": []
    },
    {
      "cell_type": "code",
      "metadata": {
        "id": "_S5Objpjkgaa"
      },
      "source": [
        "def get_training_data_batch(data):\n",
        "  observations = []\n",
        "  targets = []\n",
        "  for entry in data:\n",
        "    for step in entry['steps']:\n",
        "      #state\n",
        "      observations.append(step[1])\n",
        "      #action\n",
        "      targets.append(step[0])\n",
        "\n",
        "  return [observations, targets]"
      ],
      "execution_count": 11,
      "outputs": []
    },
    {
      "cell_type": "code",
      "metadata": {
        "id": "58ZUqyjwi0kA"
      },
      "source": [
        "def train_batch():\n",
        "  \n",
        "  # get the inputs; data is a list of [inputs, labels]\n",
        "  training_data = sample(episodes_n=120)\n",
        "  best_20 = get_top_20(training_data)\n",
        "  observations, targets = get_training_data_batch(best_20)\n",
        "\n",
        "  # calculate mean for the current episodes:\n",
        "\n",
        "  #convert to torch?\n",
        "  optimizer.zero_grad()\n",
        "  observations=torch.FloatTensor(observations)\n",
        "  targets =torch.LongTensor(targets)\n",
        "\n",
        "  # forward + backward + optimize\n",
        "  action_pred = net(observations)\n",
        "\n",
        "  loss = criterion(action_pred, targets)\n",
        "  loss.backward()\n",
        "  optimizer.step()\n",
        "  reward_complete = calculate_total_mean_reward(training_data)\n",
        "  return reward_complete, loss\n",
        "\n",
        "  \n",
        "\n"
      ],
      "execution_count": 12,
      "outputs": []
    },
    {
      "cell_type": "code",
      "metadata": {
        "id": "Kk4n721CILBk",
        "colab": {
          "base_uri": "https://localhost:8080/"
        },
        "outputId": "2c6b2584-ab7c-4b8d-ba73-e71eb24616aa"
      },
      "source": [
        "i = 0\n",
        "rewards = []\n",
        "losses = []\n",
        "while True:\n",
        "  i+=1\n",
        "  reward, loss = train_batch()\n",
        "  print(f\"{i}: Mean Reward for Sampling 100 episodes {reward}, Loss: {loss}\")\n",
        "  rewards.append(reward)\n",
        "  losses.append(loss)\n",
        "\n",
        "  if 150 < reward:\n",
        "    break\n"
      ],
      "execution_count": 13,
      "outputs": [
        {
          "output_type": "stream",
          "text": [
            "1: Mean Reward for Sampling 100 episodes -171.27956545299642, Loss: 1.3791851997375488\n",
            "2: Mean Reward for Sampling 100 episodes -197.18844235908563, Loss: 1.3457603454589844\n",
            "3: Mean Reward for Sampling 100 episodes -198.4321938670168, Loss: 1.2789061069488525\n",
            "4: Mean Reward for Sampling 100 episodes -172.45351476369348, Loss: 1.2257859706878662\n",
            "5: Mean Reward for Sampling 100 episodes -152.8416014499076, Loss: 1.1873854398727417\n",
            "6: Mean Reward for Sampling 100 episodes -151.73571111511035, Loss: 1.2028656005859375\n",
            "7: Mean Reward for Sampling 100 episodes -142.7093025561904, Loss: 1.1741266250610352\n",
            "8: Mean Reward for Sampling 100 episodes -177.19092585009247, Loss: 1.1533938646316528\n",
            "9: Mean Reward for Sampling 100 episodes -192.0863177078755, Loss: 1.136573314666748\n",
            "10: Mean Reward for Sampling 100 episodes -179.39502187600556, Loss: 1.133765459060669\n",
            "11: Mean Reward for Sampling 100 episodes -145.2939564475894, Loss: 1.1816458702087402\n",
            "12: Mean Reward for Sampling 100 episodes -111.79046231507816, Loss: 1.195465087890625\n",
            "13: Mean Reward for Sampling 100 episodes -84.60412483821489, Loss: 1.2029091119766235\n",
            "14: Mean Reward for Sampling 100 episodes -80.45086132721389, Loss: 1.1637635231018066\n",
            "15: Mean Reward for Sampling 100 episodes -71.8191415646378, Loss: 1.0988490581512451\n",
            "16: Mean Reward for Sampling 100 episodes -65.49581370692164, Loss: 1.0501186847686768\n",
            "17: Mean Reward for Sampling 100 episodes -55.88415447547364, Loss: 1.0043095350265503\n",
            "18: Mean Reward for Sampling 100 episodes -72.24034878780297, Loss: 0.9558790922164917\n",
            "19: Mean Reward for Sampling 100 episodes -45.92387843548311, Loss: 1.0006887912750244\n",
            "20: Mean Reward for Sampling 100 episodes -46.38162081465653, Loss: 1.0016566514968872\n",
            "21: Mean Reward for Sampling 100 episodes -55.001320805105614, Loss: 1.0016193389892578\n",
            "22: Mean Reward for Sampling 100 episodes -54.179337946896794, Loss: 0.9658722281455994\n",
            "23: Mean Reward for Sampling 100 episodes -60.924711068330375, Loss: 0.9974338412284851\n",
            "24: Mean Reward for Sampling 100 episodes -90.53166215242281, Loss: 1.0044740438461304\n",
            "25: Mean Reward for Sampling 100 episodes -104.97630743737203, Loss: 0.9894142150878906\n",
            "26: Mean Reward for Sampling 100 episodes -97.51088111252952, Loss: 1.0019505023956299\n",
            "27: Mean Reward for Sampling 100 episodes -88.91585457667658, Loss: 1.0089564323425293\n",
            "28: Mean Reward for Sampling 100 episodes -67.02160204722777, Loss: 1.0108336210250854\n",
            "29: Mean Reward for Sampling 100 episodes -43.2609597922502, Loss: 0.9890439510345459\n",
            "30: Mean Reward for Sampling 100 episodes -30.11458549403704, Loss: 0.9836999177932739\n",
            "31: Mean Reward for Sampling 100 episodes -17.919437862059098, Loss: 0.9363791942596436\n",
            "32: Mean Reward for Sampling 100 episodes -30.55781432783792, Loss: 0.8619799613952637\n",
            "33: Mean Reward for Sampling 100 episodes -26.00159084366298, Loss: 0.8963293433189392\n",
            "34: Mean Reward for Sampling 100 episodes -29.826240020193367, Loss: 0.8956020474433899\n",
            "35: Mean Reward for Sampling 100 episodes -11.106232174335112, Loss: 0.9530179500579834\n",
            "36: Mean Reward for Sampling 100 episodes -16.85647434289018, Loss: 0.9555352330207825\n",
            "37: Mean Reward for Sampling 100 episodes -8.696154251239522, Loss: 1.0551453828811646\n",
            "38: Mean Reward for Sampling 100 episodes -13.130105848684508, Loss: 1.0578590631484985\n",
            "39: Mean Reward for Sampling 100 episodes -0.8644631143303585, Loss: 1.0721700191497803\n",
            "40: Mean Reward for Sampling 100 episodes -18.886252708373398, Loss: 1.0785309076309204\n",
            "41: Mean Reward for Sampling 100 episodes -12.02503866735847, Loss: 1.0507248640060425\n",
            "42: Mean Reward for Sampling 100 episodes 5.715822076497231, Loss: 1.055148720741272\n",
            "43: Mean Reward for Sampling 100 episodes 6.080171980188905, Loss: 1.034847617149353\n",
            "44: Mean Reward for Sampling 100 episodes 24.603228002541623, Loss: 0.9883882403373718\n",
            "45: Mean Reward for Sampling 100 episodes 18.110968782166125, Loss: 0.9262122511863708\n",
            "46: Mean Reward for Sampling 100 episodes 37.448136101940456, Loss: 0.8543751835823059\n",
            "47: Mean Reward for Sampling 100 episodes 48.892562329832586, Loss: 0.7755500078201294\n",
            "48: Mean Reward for Sampling 100 episodes 38.24934962308738, Loss: 0.709457278251648\n",
            "49: Mean Reward for Sampling 100 episodes 63.24668316062342, Loss: 0.6947529315948486\n",
            "50: Mean Reward for Sampling 100 episodes 82.54862140238583, Loss: 0.6505878567695618\n",
            "51: Mean Reward for Sampling 100 episodes 102.0490000985535, Loss: 0.6546326279640198\n",
            "52: Mean Reward for Sampling 100 episodes 138.11689171864626, Loss: 0.6826073527336121\n",
            "53: Mean Reward for Sampling 100 episodes 149.8416172769764, Loss: 0.6949871778488159\n",
            "54: Mean Reward for Sampling 100 episodes 135.8661692482682, Loss: 0.679110586643219\n",
            "55: Mean Reward for Sampling 100 episodes 131.84886171485417, Loss: 0.7326286435127258\n",
            "56: Mean Reward for Sampling 100 episodes 152.41311719399218, Loss: 0.7085961699485779\n"
          ],
          "name": "stdout"
        }
      ]
    },
    {
      "cell_type": "code",
      "metadata": {
        "colab": {
          "base_uri": "https://localhost:8080/",
          "height": 278
        },
        "id": "OwS-Yt3UsRUq",
        "outputId": "5347ba71-8e61-4c4f-e731-7cdfe201007d"
      },
      "source": [
        "plt.plot(rewards)\n",
        "plt.ylabel('Rewards')\n",
        "plt.show()"
      ],
      "execution_count": 14,
      "outputs": [
        {
          "output_type": "display_data",
          "data": {
            "image/png": "[encoded data removed]",
            "text/plain": [
              "<Figure size 432x288 with 1 Axes>"
            ]
          },
          "metadata": {
            "tags": [],
            "needs_background": "light"
          }
        }
      ]
    },
    {
      "cell_type": "code",
      "metadata": {
        "colab": {
          "base_uri": "https://localhost:8080/",
          "height": 265
        },
        "id": "nmi_7YKatg6m",
        "outputId": "4f3904e3-902a-45d9-dde6-63c6f04350b4"
      },
      "source": [
        "plt.plot(losses)\n",
        "plt.ylabel(\"losses\")\n",
        "plt.show()"
      ],
      "execution_count": 15,
      "outputs": [
        {
          "output_type": "display_data",
          "data": {
            "image/png": "[encoded data removed]",
            "text/plain": [
              "<Figure size 432x288 with 1 Axes>"
            ]
          },
          "metadata": {
            "tags": [],
            "needs_background": "light"
          }
        }
      ]
    },
    {
      "cell_type": "markdown",
      "metadata": {
        "id": "KbdTOUSLbQ_r"
      },
      "source": [
        "# Deprecated code"
      ]
    },
    {
      "cell_type": "code",
      "metadata": {
        "id": "zc6nClmuXcgX"
      },
      "source": [
        "# depricated code\n",
        "def get_training_data(episode_data):\n",
        "  train_data = []\n",
        "  for entry in episodes_data:\n",
        "    for step in entry['steps']:\n",
        "      one_hot = np.zeros(env.action_space.n)\n",
        "      one_hot[step[0]] = 1\n",
        "      train_data.append([one_hot, step[1]])\n",
        "  return train_data\n",
        "\n",
        "def train(training_data):\n",
        "  for data in training_data:\n",
        "    optimizer.zero_grad()\n",
        "    # get the inputs; data is a list of [inputs, labels]\n",
        "    action, observation = data\n",
        "    #convert to torch?\n",
        "    observation=torch.from_numpy(np.expand_dims(observation, axis=0))\n",
        "    action =torch.from_numpy(np.array([np.argmax(action, axis=0)]))\n",
        "\n",
        "\n",
        "    # forward + backward + optimize\n",
        "    output_action = net(observation)\n",
        "    loss = criterion(output_action, action)\n",
        "    loss.backward()\n",
        "    optimizer.step()\n",
        "\n",
        "while False:\n",
        "  episodes_data = sample(episodes_n=30)\n",
        "  print(f\"Mean Reward for Sampling 20 episodes {calculate_total_mean_reward(episodes_data)}\")\n",
        "  best_20 = get_top_20(episodes_data)\n",
        "  train(get_training_data(best_20))"
      ],
      "execution_count": 16,
      "outputs": []
    },
    {
      "cell_type": "markdown",
      "metadata": {
        "id": "wMu2VyYHZItY"
      },
      "source": [
        "# Download Video"
      ]
    },
    {
      "cell_type": "markdown",
      "metadata": {
        "id": "kOYH3BEWdSRq"
      },
      "source": [
        "Code found [here](https://colab.research.google.com/github/jeffheaton/t81_558_deep_learning/blob/master/t81_558_class_12_01_ai_gym.ipynb#scrollTo=78BfQoQKOq7z)"
      ]
    },
    {
      "cell_type": "code",
      "metadata": {
        "id": "uF92FCzZMWPn"
      },
      "source": [
        "!pip install gym pyvirtualdisplay > /dev/null 2>&1\n",
        "!apt-get install -y xvfb python-opengl ffmpeg > /dev/null 2>&1"
      ],
      "execution_count": 17,
      "outputs": []
    },
    {
      "cell_type": "code",
      "metadata": {
        "id": "p2499HTRYX2n"
      },
      "source": [
        "## used for downloading videos\n",
        "import gym\n",
        "from gym.wrappers import Monitor\n",
        "import glob\n",
        "import io\n",
        "import base64\n",
        "from IPython.display import HTML\n",
        "from pyvirtualdisplay import Display\n",
        "from IPython import display as ipythondisplay\n",
        "\n",
        "display = Display(visible=0, size=(1400, 900))\n",
        "display.start()\n",
        "\n",
        "\"\"\"\n",
        "Utility functions to enable video recording of gym environment \n",
        "and displaying it.\n",
        "To enable video, just do \"env = wrap_env(env)\"\"\n",
        "\"\"\"\n",
        "\n",
        "def show_video():\n",
        "  mp4list = glob.glob('video/*.mp4')\n",
        "  if len(mp4list) > 0:\n",
        "    mp4 = mp4list[0]\n",
        "    video = io.open(mp4, 'r+b').read()\n",
        "    encoded = base64.b64encode(video)\n",
        "    ipythondisplay.display(HTML(data='''<video alt=\"test\" autoplay \n",
        "                loop controls style=\"height: 400px;\">\n",
        "                <source src=\"data:video/mp4;base64,{0}\" type=\"video/mp4\" />\n",
        "             </video>'''.format(encoded.decode('ascii'))))\n",
        "  else: \n",
        "    print(\"Could not find video\")\n",
        "    \n",
        "\n",
        "def wrap_env(env):\n",
        "  env = Monitor(env, './video', force=True)\n",
        "  return env\n",
        "\n",
        "\n"
      ],
      "execution_count": 18,
      "outputs": []
    },
    {
      "cell_type": "code",
      "metadata": {
        "id": "aqf4kCnjYktY",
        "colab": {
          "base_uri": "https://localhost:8080/",
          "height": 438
        },
        "outputId": "f64b3c1a-216d-44bd-eb61-e02e4617d688"
      },
      "source": [
        "env = wrap_env(gym.make(\"LunarLander-v2\"))\n",
        "softmax = nn.Softmax(dim=1)\n",
        "reward2= 0\n",
        "\n",
        "while True:\n",
        "  observation = env.reset()\n",
        "  while True:\n",
        "    \n",
        "    env.render()\n",
        "\n",
        "    #your agent goes here\n",
        "    state_vector = torch.FloatTensor([observation])\n",
        "    probability= softmax(net(state_vector))\n",
        "\n",
        "    new_state, reward, done, info = env.step(np.argmax(probability.data.numpy()[0], axis=0))\n",
        "    #+100 reward if spaceship landet\n",
        "    if reward >= 120:\n",
        "      print(reward)\n",
        "      reward2 = reward\n",
        "    if done:\n",
        "      break\n",
        "  if reward2 != 0:\n",
        "    break\n",
        "              \n",
        "env.close()\n",
        "show_video()"
      ],
      "execution_count": 32,
      "outputs": [
        {
          "output_type": "stream",
          "text": [
            "137.18791342586618\n"
          ],
          "name": "stdout"
        },
        {
          "output_type": "display_data",
          "data": {
            "text/html": [
              "<video alt=\"test\" autoplay \n",
              "                loop controls style=\"height: 400px;\">\n",
              "                <source src=\"data:video/mp4;base64,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\" type=\"video/mp4\" />\n",
              "             </video>"
            ],
            "text/plain": [
              "<IPython.core.display.HTML object>"
            ]
          },
          "metadata": {
            "tags": []
          }
        }
      ]
    }
  ]
}