{
  "nbformat": 4,
  "nbformat_minor": 0,
  "metadata": {
    "colab": {
      "name": "DeepReinforcementlearning.ipynb",
      "provenance": [],
      "collapsed_sections": [],
      "include_colab_link": true
    },
    "kernelspec": {
      "name": "python3",
      "display_name": "Python 3"
    }
  },
  "cells": [
    {
      "cell_type": "markdown",
      "metadata": {
        "id": "view-in-github",
        "colab_type": "text"
      },
      "source": [
        "<a href=\"https://colab.research.google.com/github/jufabeck2202/KI-Lab/blob/main/aufgabe6/DeepReinforcementlearning.ipynb\" target=\"_parent\"><img src=\"https://colab.research.google.com/assets/colab-badge.svg\" alt=\"Open In Colab\"/></a>"
      ]
    },
    {
      "cell_type": "markdown",
      "metadata": {
        "id": "Iwm-vLKt-CxA"
      },
      "source": [
        "General idea:\n",
        "1. Use a neural network that takes as input a state (represented as numbers)\n",
        "and outputs a probability for every action.\n",
        "2. Generate episodes by inputing the current state into the network and\n",
        "sampling actions from the network’s output. Remember the\n",
        "<state, action> pairs for every episode.\n",
        "3. From these episodes, identify the ones with the highest reward.\n",
        "4. Use the <state, action> pairs from those high reward episodes as\n",
        "training examples for improving the neural network.\n",
        "5. Go back to step 2"
      ]
    },
    {
      "cell_type": "markdown",
      "metadata": {
        "id": "28X7Ou8q-E9e"
      },
      "source": [
        "Task 2\n",
        "1. Define a neural network with two fully connected-layers. The hidden layer uses a\n",
        "Relu activation. The output layer uses a softmax. Try different hidden layer sizes\n",
        "(between 100 and 500). The network takes as input a vector of the current states\n",
        "and gives out a probability for each action.\n",
        "2. Generate 100 episodes by sampling actions using the network output. Limit the\n",
        "number of steps per episode to 500. Sum up the reward of all steps of one episode.\n",
        "3. Print out the mean reward per episode of the 100 episodes.\n",
        "4. Identify the 20 best of those episodes in terms of reward and use the\n",
        "<state, action> pairs of these episodes as training examples for the network.\n",
        "5. Update the weights of the network by performing backpropagation on these <state,\n",
        "action> pairs.\n",
        "6. Repeat steps 2 to 5 until a mean reward of 100 is reached.\n",
        "7. Record a video of the lunar lander by running the trained network on one additional\n",
        "episode."
      ]
    },
    {
      "cell_type": "markdown",
      "metadata": {
        "id": "WoQx2xvS-M-i"
      },
      "source": [
        "Hints\n",
        "* Use !pip3 install box2d-py to make the environment work in Colab.\n",
        "* You cannot show the video of your lander in Colab (env.render() fails).  \n",
        "* Workaround: Download the model on your local machine and record the video there,\n",
        "using recording_demo.py as template (see Mattermost).\n",
        "* The loss is not a useful indicator for the learning progress in RL. Instead check how\n",
        "the mean reward develops over time.\n",
        "* The mean reward will jump back and forth quite a bit, but overall should increase.\n",
        "* After roughly 70 training iterations the mean reward should be positive, and after\n",
        "roughly 100 steps be over 100.\n",
        "* Note that these numbers depend on your parameter setting and it may also take\n",
        "longer or shorter.\n",
        "* Reinforcement learning is much more difficult than supervised learning, you have to\n",
        "play around quite a bit to get things into the right direction."
      ]
    },
    {
      "cell_type": "markdown",
      "metadata": {
        "id": "i0ozuttP-6-3"
      },
      "source": [
        "# Imports"
      ]
    },
    {
      "cell_type": "code",
      "metadata": {
        "id": "ZML6vY495JLW"
      },
      "source": [
        "!pip3 install box2d-py gym > /dev/null"
      ],
      "execution_count": 2,
      "outputs": []
    },
    {
      "cell_type": "code",
      "metadata": {
        "id": "nLOhghCh6375"
      },
      "source": [
        "import gym\n",
        "import torch\n",
        "import torch.nn as nn\n",
        "import torch.optim as optim\n",
        "import torch.nn.functional as F\n",
        "import numpy as np\n",
        "import matplotlib.pyplot as plt\n",
        "import heapq\n",
        "import random\n",
        "import torch.optim as optim\n",
        "%matplotlib inline\n"
      ],
      "execution_count": 3,
      "outputs": []
    },
    {
      "cell_type": "code",
      "metadata": {
        "id": "5vhGJ8K17AoF",
        "colab": {
          "base_uri": "https://localhost:8080/"
        },
        "outputId": "dc014b6e-0da4-451e-f441-5308bef4b9d9"
      },
      "source": [
        "env = gym.make('LunarLander-v2')\n",
        "rewards = []\n",
        "\n",
        "##get Action space\n",
        "print(env.observation_space.shape)\n",
        "print(env.action_space)\n",
        "print()\n",
        "print(env.observation_space.sample())\n",
        "print(env.action_space.sample())\n"
      ],
      "execution_count": 4,
      "outputs": [
        {
          "output_type": "stream",
          "text": [
            "(8,)\n",
            "Discrete(4)\n",
            "\n",
            "[-0.54360837  1.4212509   0.5395135   0.6026281  -0.7540568  -0.56199914\n",
            " -0.62567455 -0.24186279]\n",
            "1\n"
          ],
          "name": "stdout"
        }
      ]
    },
    {
      "cell_type": "markdown",
      "metadata": {
        "id": "ZQ1t9O_D_YZh"
      },
      "source": [
        "# Define Network"
      ]
    },
    {
      "cell_type": "code",
      "metadata": {
        "id": "4DA1wvKv7qLe"
      },
      "source": [
        "\n",
        "class Network(nn.Module):\n",
        "\n",
        "    def __init__(self, hidden_size,):\n",
        "        super(Network, self).__init__()\n",
        "        self.fc1 = nn.Linear(env.observation_space.shape[0], hidden_size)\n",
        "        self.fc2 = nn.Linear(hidden_size, env.action_space.n)\n",
        "        \n",
        "    def forward(self, x):\n",
        "        h = F.relu(self.fc1(x))\n",
        "        return self.fc2(h)"
      ],
      "execution_count": 5,
      "outputs": []
    },
    {
      "cell_type": "code",
      "metadata": {
        "id": "R_jgm5-hafJE"
      },
      "source": [
        "net = Network(250)\r\n",
        "criterion = nn.CrossEntropyLoss()\r\n",
        "optimizer = optim.Adam(params=net.parameters(), lr=0.01)\r\n"
      ],
      "execution_count": 6,
      "outputs": []
    },
    {
      "cell_type": "markdown",
      "metadata": {
        "id": "-pcDn0VkAG4U"
      },
      "source": [
        "# Sample Episodes"
      ]
    },
    {
      "cell_type": "code",
      "metadata": {
        "id": "QDnOo9WzAGEx"
      },
      "source": [
        "# get episodes\n",
        "def sample(episodes_n=100, max_steps=500):\n",
        "  episodes_data = []\n",
        "  \n",
        "  softmax = nn.Softmax(dim=1)\n",
        "  for i_episode in range(episodes_n):\n",
        "      steps = [] # steps[0] is the action, steps[1] is the state\n",
        "      total_reward = 0\n",
        "      state = env.reset()\n",
        "      for i_step in range(max_steps):\n",
        "\n",
        "          state_vector = torch.FloatTensor([state])\n",
        "          probability= softmax(net(state_vector))\n",
        "\n",
        "          selected_action = np.random.choice(len(probability.data.numpy()[0]), p=probability.data.numpy()[0])\n",
        "          new_state, reward, done, info = env.step(selected_action)\n",
        "\n",
        "          rewards.append(reward)\n",
        "          #important: use old state\n",
        "          \n",
        "          steps.append([selected_action, state])\n",
        "          state = new_state\n",
        "          total_reward += reward\n",
        "          \n",
        "\n",
        "          if done:\n",
        "              episodes_data.append({ \"total_reward\": total_reward  ,\"steps\": steps})\n",
        "              break\n",
        "      #print(f\"Mean reward of episode {i_episode}: {np.array(rewards).mean()}\")\n",
        "  return episodes_data\n"
      ],
      "execution_count": 7,
      "outputs": []
    },
    {
      "cell_type": "code",
      "metadata": {
        "id": "ucGcZ-es9nXd"
      },
      "source": [
        "def calculate_total_mean_reward(all_episodes):\n",
        "   all_rewards = [d['total_reward'] for d in all_episodes]\n",
        "   return np.array(all_rewards).mean()"
      ],
      "execution_count": 8,
      "outputs": []
    },
    {
      "cell_type": "code",
      "metadata": {
        "id": "jyVPXZ3xVSla"
      },
      "source": [
        "def get_top_20(all_episodes):\r\n",
        "  return heapq.nlargest(20, all_episodes, key=lambda s: s['total_reward'])"
      ],
      "execution_count": 9,
      "outputs": []
    },
    {
      "cell_type": "code",
      "metadata": {
        "id": "_S5Objpjkgaa"
      },
      "source": [
        "def get_training_data_batch(data):\n",
        "  observations = []\n",
        "  targets = []\n",
        "  for entry in data:\n",
        "    for step in entry['steps']:\n",
        "      #state\n",
        "      observations.append(step[1])\n",
        "      #action\n",
        "      targets.append(step[0])\n",
        "\n",
        "  return [observations, targets]"
      ],
      "execution_count": 11,
      "outputs": []
    },
    {
      "cell_type": "code",
      "metadata": {
        "id": "58ZUqyjwi0kA"
      },
      "source": [
        "def train_batch():\n",
        "  \n",
        "  # get the inputs; data is a list of [inputs, labels]\n",
        "  training_data = sample(episodes_n=120)\n",
        "  best_20 = get_top_20(training_data)\n",
        "  observations, targets = get_training_data_batch(best_20)\n",
        "\n",
        "  # calculate mean for the current episodes:\n",
        "\n",
        "  #convert to torch?\n",
        "  optimizer.zero_grad()\n",
        "  observations=torch.FloatTensor(observations)\n",
        "  targets =torch.LongTensor(targets)\n",
        "\n",
        "  # forward + backward + optimize\n",
        "  action_pred = net(observations)\n",
        "\n",
        "  loss = criterion(action_pred, targets)\n",
        "  loss.backward()\n",
        "  optimizer.step()\n",
        "  reward_complete = calculate_total_mean_reward(training_data)\n",
        "  return reward_complete, loss\n",
        "\n",
        "  \n",
        "\n"
      ],
      "execution_count": 12,
      "outputs": []
    },
    {
      "cell_type": "code",
      "metadata": {
        "id": "Kk4n721CILBk",
        "colab": {
          "base_uri": "https://localhost:8080/"
        },
        "outputId": "2c6b2584-ab7c-4b8d-ba73-e71eb24616aa"
      },
      "source": [
        "i = 0\n",
        "rewards = []\n",
        "losses = []\n",
        "while True:\n",
        "  i+=1\n",
        "  reward, loss = train_batch()\n",
        "  print(f\"{i}: Mean Reward for Sampling 100 episodes {reward}, Loss: {loss}\")\n",
        "  rewards.append(reward)\n",
        "  losses.append(loss)\n",
        "\n",
        "  if 150 < reward:\n",
        "    break\n"
      ],
      "execution_count": 13,
      "outputs": [
        {
          "output_type": "stream",
          "text": [
            "1: Mean Reward for Sampling 100 episodes -171.27956545299642, Loss: 1.3791851997375488\n",
            "2: Mean Reward for Sampling 100 episodes -197.18844235908563, Loss: 1.3457603454589844\n",
            "3: Mean Reward for Sampling 100 episodes -198.4321938670168, Loss: 1.2789061069488525\n",
            "4: Mean Reward for Sampling 100 episodes -172.45351476369348, Loss: 1.2257859706878662\n",
            "5: Mean Reward for Sampling 100 episodes -152.8416014499076, Loss: 1.1873854398727417\n",
            "6: Mean Reward for Sampling 100 episodes -151.73571111511035, Loss: 1.2028656005859375\n",
            "7: Mean Reward for Sampling 100 episodes -142.7093025561904, Loss: 1.1741266250610352\n",
            "8: Mean Reward for Sampling 100 episodes -177.19092585009247, Loss: 1.1533938646316528\n",
            "9: Mean Reward for Sampling 100 episodes -192.0863177078755, Loss: 1.136573314666748\n",
            "10: Mean Reward for Sampling 100 episodes -179.39502187600556, Loss: 1.133765459060669\n",
            "11: Mean Reward for Sampling 100 episodes -145.2939564475894, Loss: 1.1816458702087402\n",
            "12: Mean Reward for Sampling 100 episodes -111.79046231507816, Loss: 1.195465087890625\n",
            "13: Mean Reward for Sampling 100 episodes -84.60412483821489, Loss: 1.2029091119766235\n",
            "14: Mean Reward for Sampling 100 episodes -80.45086132721389, Loss: 1.1637635231018066\n",
            "15: Mean Reward for Sampling 100 episodes -71.8191415646378, Loss: 1.0988490581512451\n",
            "16: Mean Reward for Sampling 100 episodes -65.49581370692164, Loss: 1.0501186847686768\n",
            "17: Mean Reward for Sampling 100 episodes -55.88415447547364, Loss: 1.0043095350265503\n",
            "18: Mean Reward for Sampling 100 episodes -72.24034878780297, Loss: 0.9558790922164917\n",
            "19: Mean Reward for Sampling 100 episodes -45.92387843548311, Loss: 1.0006887912750244\n",
            "20: Mean Reward for Sampling 100 episodes -46.38162081465653, Loss: 1.0016566514968872\n",
            "21: Mean Reward for Sampling 100 episodes -55.001320805105614, Loss: 1.0016193389892578\n",
            "22: Mean Reward for Sampling 100 episodes -54.179337946896794, Loss: 0.9658722281455994\n",
            "23: Mean Reward for Sampling 100 episodes -60.924711068330375, Loss: 0.9974338412284851\n",
            "24: Mean Reward for Sampling 100 episodes -90.53166215242281, Loss: 1.0044740438461304\n",
            "25: Mean Reward for Sampling 100 episodes -104.97630743737203, Loss: 0.9894142150878906\n",
            "26: Mean Reward for Sampling 100 episodes -97.51088111252952, Loss: 1.0019505023956299\n",
            "27: Mean Reward for Sampling 100 episodes -88.91585457667658, Loss: 1.0089564323425293\n",
            "28: Mean Reward for Sampling 100 episodes -67.02160204722777, Loss: 1.0108336210250854\n",
            "29: Mean Reward for Sampling 100 episodes -43.2609597922502, Loss: 0.9890439510345459\n",
            "30: Mean Reward for Sampling 100 episodes -30.11458549403704, Loss: 0.9836999177932739\n",
            "31: Mean Reward for Sampling 100 episodes -17.919437862059098, Loss: 0.9363791942596436\n",
            "32: Mean Reward for Sampling 100 episodes -30.55781432783792, Loss: 0.8619799613952637\n",
            "33: Mean Reward for Sampling 100 episodes -26.00159084366298, Loss: 0.8963293433189392\n",
            "34: Mean Reward for Sampling 100 episodes -29.826240020193367, Loss: 0.8956020474433899\n",
            "35: Mean Reward for Sampling 100 episodes -11.106232174335112, Loss: 0.9530179500579834\n",
            "36: Mean Reward for Sampling 100 episodes -16.85647434289018, Loss: 0.9555352330207825\n",
            "37: Mean Reward for Sampling 100 episodes -8.696154251239522, Loss: 1.0551453828811646\n",
            "38: Mean Reward for Sampling 100 episodes -13.130105848684508, Loss: 1.0578590631484985\n",
            "39: Mean Reward for Sampling 100 episodes -0.8644631143303585, Loss: 1.0721700191497803\n",
            "40: Mean Reward for Sampling 100 episodes -18.886252708373398, Loss: 1.0785309076309204\n",
            "41: Mean Reward for Sampling 100 episodes -12.02503866735847, Loss: 1.0507248640060425\n",
            "42: Mean Reward for Sampling 100 episodes 5.715822076497231, Loss: 1.055148720741272\n",
            "43: Mean Reward for Sampling 100 episodes 6.080171980188905, Loss: 1.034847617149353\n",
            "44: Mean Reward for Sampling 100 episodes 24.603228002541623, Loss: 0.9883882403373718\n",
            "45: Mean Reward for Sampling 100 episodes 18.110968782166125, Loss: 0.9262122511863708\n",
            "46: Mean Reward for Sampling 100 episodes 37.448136101940456, Loss: 0.8543751835823059\n",
            "47: Mean Reward for Sampling 100 episodes 48.892562329832586, Loss: 0.7755500078201294\n",
            "48: Mean Reward for Sampling 100 episodes 38.24934962308738, Loss: 0.709457278251648\n",
            "49: Mean Reward for Sampling 100 episodes 63.24668316062342, Loss: 0.6947529315948486\n",
            "50: Mean Reward for Sampling 100 episodes 82.54862140238583, Loss: 0.6505878567695618\n",
            "51: Mean Reward for Sampling 100 episodes 102.0490000985535, Loss: 0.6546326279640198\n",
            "52: Mean Reward for Sampling 100 episodes 138.11689171864626, Loss: 0.6826073527336121\n",
            "53: Mean Reward for Sampling 100 episodes 149.8416172769764, Loss: 0.6949871778488159\n",
            "54: Mean Reward for Sampling 100 episodes 135.8661692482682, Loss: 0.679110586643219\n",
            "55: Mean Reward for Sampling 100 episodes 131.84886171485417, Loss: 0.7326286435127258\n",
            "56: Mean Reward for Sampling 100 episodes 152.41311719399218, Loss: 0.7085961699485779\n"
          ],
          "name": "stdout"
        }
      ]
    },
    {
      "cell_type": "code",
      "metadata": {
        "colab": {
          "base_uri": "https://localhost:8080/",
          "height": 278
        },
        "id": "OwS-Yt3UsRUq",
        "outputId": "5347ba71-8e61-4c4f-e731-7cdfe201007d"
      },
      "source": [
        "plt.plot(rewards)\n",
        "plt.ylabel('Rewards')\n",
        "plt.show()"
      ],
      "execution_count": 14,
      "outputs": [
        {
          "output_type": "display_data",
          "data": {
            "image/png": "[encoded data removed]",
            "text/plain": [
              "<Figure size 432x288 with 1 Axes>"
            ]
          },
          "metadata": {
            "tags": [],
            "needs_background": "light"
          }
        }
      ]
    },
    {
      "cell_type": "code",
      "metadata": {
        "colab": {
          "base_uri": "https://localhost:8080/",
          "height": 265
        },
        "id": "nmi_7YKatg6m",
        "outputId": "4f3904e3-902a-45d9-dde6-63c6f04350b4"
      },
      "source": [
        "plt.plot(losses)\n",
        "plt.ylabel(\"losses\")\n",
        "plt.show()"
      ],
      "execution_count": 15,
      "outputs": [
        {
          "output_type": "display_data",
          "data": {
            "image/png": "[encoded data removed]",
            "text/plain": [
              "<Figure size 432x288 with 1 Axes>"
            ]
          },
          "metadata": {
            "tags": [],
            "needs_background": "light"
          }
        }
      ]
    },
    {
      "cell_type": "markdown",
      "metadata": {
        "id": "KbdTOUSLbQ_r"
      },
      "source": [
        "# Deprecated code"
      ]
    },
    {
      "cell_type": "code",
      "metadata": {
        "id": "zc6nClmuXcgX"
      },
      "source": [
        "# depricated code\n",
        "def get_training_data(episode_data):\n",
        "  train_data = []\n",
        "  for entry in episodes_data:\n",
        "    for step in entry['steps']:\n",
        "      one_hot = np.zeros(env.action_space.n)\n",
        "      one_hot[step[0]] = 1\n",
        "      train_data.append([one_hot, step[1]])\n",
        "  return train_data\n",
        "\n",
        "def train(training_data):\n",
        "  for data in training_data:\n",
        "    optimizer.zero_grad()\n",
        "    # get the inputs; data is a list of [inputs, labels]\n",
        "    action, observation = data\n",
        "    #convert to torch?\n",
        "    observation=torch.from_numpy(np.expand_dims(observation, axis=0))\n",
        "    action =torch.from_numpy(np.array([np.argmax(action, axis=0)]))\n",
        "\n",
        "\n",
        "    # forward + backward + optimize\n",
        "    output_action = net(observation)\n",
        "    loss = criterion(output_action, action)\n",
        "    loss.backward()\n",
        "    optimizer.step()\n",
        "\n",
        "while False:\n",
        "  episodes_data = sample(episodes_n=30)\n",
        "  print(f\"Mean Reward for Sampling 20 episodes {calculate_total_mean_reward(episodes_data)}\")\n",
        "  best_20 = get_top_20(episodes_data)\n",
        "  train(get_training_data(best_20))"
      ],
      "execution_count": 16,
      "outputs": []
    },
    {
      "cell_type": "markdown",
      "metadata": {
        "id": "wMu2VyYHZItY"
      },
      "source": [
        "# Download Video"
      ]
    },
    {
      "cell_type": "markdown",
      "metadata": {
        "id": "kOYH3BEWdSRq"
      },
      "source": [
        "Code found [here](https://colab.research.google.com/github/jeffheaton/t81_558_deep_learning/blob/master/t81_558_class_12_01_ai_gym.ipynb#scrollTo=78BfQoQKOq7z)"
      ]
    },
    {
      "cell_type": "code",
      "metadata": {
        "id": "uF92FCzZMWPn"
      },
      "source": [
        "!pip install gym pyvirtualdisplay > /dev/null 2>&1\n",
        "!apt-get install -y xvfb python-opengl ffmpeg > /dev/null 2>&1"
      ],
      "execution_count": 17,
      "outputs": []
    },
    {
      "cell_type": "code",
      "metadata": {
        "id": "p2499HTRYX2n"
      },
      "source": [
        "## used for downloading videos\n",
        "import gym\n",
        "from gym.wrappers import Monitor\n",
        "import glob\n",
        "import io\n",
        "import base64\n",
        "from IPython.display import HTML\n",
        "from pyvirtualdisplay import Display\n",
        "from IPython import display as ipythondisplay\n",
        "\n",
        "display = Display(visible=0, size=(1400, 900))\n",
        "display.start()\n",
        "\n",
        "\"\"\"\n",
        "Utility functions to enable video recording of gym environment \n",
        "and displaying it.\n",
        "To enable video, just do \"env = wrap_env(env)\"\"\n",
        "\"\"\"\n",
        "\n",
        "def show_video():\n",
        "  mp4list = glob.glob('video/*.mp4')\n",
        "  if len(mp4list) > 0:\n",
        "    mp4 = mp4list[0]\n",
        "    video = io.open(mp4, 'r+b').read()\n",
        "    encoded = base64.b64encode(video)\n",
        "    ipythondisplay.display(HTML(data='''<video alt=\"test\" autoplay \n",
        "                loop controls style=\"height: 400px;\">\n",
        "                <source src=\"data:video/mp4;base64,{0}\" type=\"video/mp4\" />\n",
        "             </video>'''.format(encoded.decode('ascii'))))\n",
        "  else: \n",
        "    print(\"Could not find video\")\n",
        "    \n",
        "\n",
        "def wrap_env(env):\n",
        "  env = Monitor(env, './video', force=True)\n",
        "  return env\n",
        "\n",
        "\n"
      ],
      "execution_count": 18,
      "outputs": []
    },
    {
      "cell_type": "code",
      "metadata": {
        "id": "aqf4kCnjYktY",
        "colab": {
          "base_uri": "https://localhost:8080/",
          "height": 438
        },
        "outputId": "2e80df96-371c-48d3-e3a3-817c8231d7fa"
      },
      "source": [
        "env = wrap_env(gym.make(\"LunarLander-v2\"))\n",
        "softmax = nn.Softmax(dim=1)\n",
        "reward2= 0\n",
        "\n",
        "while True:\n",
        "  observation = env.reset()\n",
        "  while True:\n",
        "    \n",
        "    env.render()\n",
        "\n",
        "    #your agent goes here\n",
        "    state_vector = torch.FloatTensor([observation])\n",
        "    probability= softmax(net(state_vector))\n",
        "\n",
        "    new_state, reward, done, info = env.step(np.argmax(probability.data.numpy()[0], axis=0))\n",
        "    #+100 reward if spaceship landet\n",
        "    if reward >= 50:\n",
        "      print(reward)\n",
        "      reward2 = reward\n",
        "    if done:\n",
        "      break\n",
        "  if reward2 != 0:\n",
        "    break\n",
        "              \n",
        "env.close()\n",
        "show_video()"
      ],
      "execution_count": 43,
      "outputs": [
        {
          "output_type": "stream",
          "text": [
            "105.86395543823093\n"
          ],
          "name": "stdout"
        },
        {
          "output_type": "display_data",
          "data": {
            "text/html": [
              "<video alt=\"test\" autoplay \n",
              "                loop controls style=\"height: 400px;\">\n",
              "                <source src=\"data:video/mp4;base64,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\" type=\"video/mp4\" />\n",
              "             </video>"
            ],
            "text/plain": [
              "<IPython.core.display.HTML object>"
            ]
          },
          "metadata": {
            "tags": []
          }
        }
      ]
    }
  ]
}