{
  "nbformat": 4,
  "nbformat_minor": 0,
  "metadata": {
    "colab": {
      "name": "DeepReinforcementlearning.ipynb",
      "provenance": [],
      "collapsed_sections": [],
      "include_colab_link": true
    },
    "kernelspec": {
      "name": "python3",
      "display_name": "Python 3"
    }
  },
  "cells": [
    {
      "cell_type": "markdown",
      "metadata": {
        "id": "view-in-github",
        "colab_type": "text"
      },
      "source": [
        "<a href=\"https://colab.research.google.com/github/jufabeck2202/KI-Lab/blob/main/aufgabe6/DeepReinforcementlearning.ipynb\" target=\"_parent\"><img src=\"https://colab.research.google.com/assets/colab-badge.svg\" alt=\"Open In Colab\"/></a>"
      ]
    },
    {
      "cell_type": "markdown",
      "metadata": {
        "id": "Iwm-vLKt-CxA"
      },
      "source": [
        "General idea:\n",
        "1. Use a neural network that takes as input a state (represented as numbers)\n",
        "and outputs a probability for every action.\n",
        "2. Generate episodes by inputing the current state into the network and\n",
        "sampling actions from the network’s output. Remember the\n",
        "<state, action> pairs for every episode.\n",
        "3. From these episodes, identify the ones with the highest reward.\n",
        "4. Use the <state, action> pairs from those high reward episodes as\n",
        "training examples for improving the neural network.\n",
        "5. Go back to step 2"
      ]
    },
    {
      "cell_type": "markdown",
      "metadata": {
        "id": "28X7Ou8q-E9e"
      },
      "source": [
        "Task 2\n",
        "1. Define a neural network with two fully connected-layers. The hidden layer uses a\n",
        "Relu activation. The output layer uses a softmax. Try different hidden layer sizes\n",
        "(between 100 and 500). The network takes as input a vector of the current states\n",
        "and gives out a probability for each action.\n",
        "2. Generate 100 episodes by sampling actions using the network output. Limit the\n",
        "number of steps per episode to 500. Sum up the reward of all steps of one episode.\n",
        "3. Print out the mean reward per episode of the 100 episodes.\n",
        "4. Identify the 20 best of those episodes in terms of reward and use the\n",
        "<state, action> pairs of these episodes as training examples for the network.\n",
        "5. Update the weights of the network by performing backpropagation on these <state,\n",
        "action> pairs.\n",
        "6. Repeat steps 2 to 5 until a mean reward of 100 is reached.\n",
        "7. Record a video of the lunar lander by running the trained network on one additional\n",
        "episode."
      ]
    },
    {
      "cell_type": "markdown",
      "metadata": {
        "id": "WoQx2xvS-M-i"
      },
      "source": [
        "Hints\n",
        "* Use !pip3 install box2d-py to make the environment work in Colab.\n",
        "* You cannot show the video of your lander in Colab (env.render() fails).  \n",
        "* Workaround: Download the model on your local machine and record the video there,\n",
        "using recording_demo.py as template (see Mattermost).\n",
        "* The loss is not a useful indicator for the learning progress in RL. Instead check how\n",
        "the mean reward develops over time.\n",
        "* The mean reward will jump back and forth quite a bit, but overall should increase.\n",
        "* After roughly 70 training iterations the mean reward should be positive, and after\n",
        "roughly 100 steps be over 100.\n",
        "* Note that these numbers depend on your parameter setting and it may also take\n",
        "longer or shorter.\n",
        "* Reinforcement learning is much more difficult than supervised learning, you have to\n",
        "play around quite a bit to get things into the right direction."
      ]
    },
    {
      "cell_type": "markdown",
      "metadata": {
        "id": "i0ozuttP-6-3"
      },
      "source": [
        "# Imports"
      ]
    },
    {
      "cell_type": "code",
      "metadata": {
        "id": "ZML6vY495JLW"
      },
      "source": [
        "!pip3 install box2d-py gym > /dev/null"
      ],
      "execution_count": 13,
      "outputs": []
    },
    {
      "cell_type": "code",
      "metadata": {
        "id": "nLOhghCh6375"
      },
      "source": [
        "import gym\n",
        "import torch\n",
        "import torch.nn as nn\n",
        "import torch.optim as optim\n",
        "import torch.nn.functional as f\n",
        "import numpy as np\n",
        "import matplotlib.pyplot as plt\n",
        "import heapq\n",
        "import random\n",
        "import torch.optim as optim\n",
        "%matplotlib inline\n"
      ],
      "execution_count": 14,
      "outputs": []
    },
    {
      "cell_type": "code",
      "metadata": {
        "colab": {
          "base_uri": "https://localhost:8080/"
        },
        "id": "5vhGJ8K17AoF",
        "outputId": "220cfaec-c8cc-483f-ee62-3ec40f1d1a62"
      },
      "source": [
        "env = gym.make('LunarLander-v2')\n",
        "rewards = []\n",
        "\n",
        "##get Action space\n",
        "print(env.observation_space.shape)\n",
        "print(env.action_space)\n",
        "print()\n",
        "print(env.observation_space.sample())\n",
        "print(env.action_space.sample())"
      ],
      "execution_count": 15,
      "outputs": [
        {
          "output_type": "stream",
          "text": [
            "(8,)\n",
            "Discrete(4)\n",
            "\n",
            "[ 6.0965806e-02 -1.1822530e+00 -1.7590096e+00 -4.1018468e-01\n",
            "  2.1645672e+00  1.4318058e-03  1.4474792e+00 -2.3055840e-01]\n",
            "2\n"
          ],
          "name": "stdout"
        }
      ]
    },
    {
      "cell_type": "markdown",
      "metadata": {
        "id": "ZQ1t9O_D_YZh"
      },
      "source": [
        "# Define Network"
      ]
    },
    {
      "cell_type": "code",
      "metadata": {
        "id": "4DA1wvKv7qLe"
      },
      "source": [
        "class Network(torch.nn.Module):\n",
        "    def __init__(self, hidden):\n",
        "        super(Network, self).__init__()\n",
        "        # input == observation space, for this problem its 8\n",
        "        self.linear1 = torch.nn.Linear(env.observation_space.shape[0], hidden)\n",
        "        # action == action space, up down left right for this problem, so 4\n",
        "        self.linear2 = torch.nn.Linear(hidden, env.action_space.n)\n",
        "\n",
        "    def forward(self, state):\n",
        "        hidden = f.relu(self.linear1(state))\n",
        "        return self.linear2(hidden)"
      ],
      "execution_count": 16,
      "outputs": []
    },
    {
      "cell_type": "code",
      "metadata": {
        "id": "R_jgm5-hafJE"
      },
      "source": [
        "torch.backends.cudnn.enabled = True\r\n",
        "GPU_ON = torch.cuda.is_available()\r\n",
        "device = torch.device(\"cuda:0\" if GPU_ON else \"cpu\")\r\n",
        "net = Network(200)\r\n",
        "#criterion = nn.CrossEntropyLoss()\r\n",
        "criterion = nn.CrossEntropyLoss()\r\n",
        "optimizer = optim.Adam(net.parameters(), lr=0.1)\r\n",
        "if GPU_ON:\r\n",
        "  net.cuda()"
      ],
      "execution_count": 17,
      "outputs": []
    },
    {
      "cell_type": "markdown",
      "metadata": {
        "id": "-pcDn0VkAG4U"
      },
      "source": [
        "# Sample Episodes"
      ]
    },
    {
      "cell_type": "code",
      "metadata": {
        "id": "QDnOo9WzAGEx"
      },
      "source": [
        "def sample(episodes_n=100, max_steps=500, training=True):\n",
        "  episodes_data = []\n",
        "  softmax = nn.Softmax(dim=1)\n",
        "  for i_episode in range(episodes_n):\n",
        "      steps = []\n",
        "      rewards = []\n",
        "      state = env.reset()\n",
        "      for t in range(max_steps):\n",
        "\n",
        "          state_vector = torch.FloatTensor([state])\n",
        "          probability= softmax(net(state_vector))\n",
        "          selected_action = np.random.choice(len(probability.data.numpy()[0]), p=probability.data.numpy()[0])\n",
        "         \n",
        "          new_state, reward, done, info = env.step(selected_action)\n",
        "          rewards.append(reward)\n",
        "          #importnt: use old state\n",
        "          steps.append([selected_action, state])\n",
        "          state = new_state\n",
        "          \n",
        "\n",
        "          if done:\n",
        "              episodes_data.append({ \"mean_reward\": np.array(rewards).mean() ,\"steps\": steps})\n",
        "              break\n",
        "      #print(f\"Mean reward of episode {i_episode}: {np.array(rewards).mean()}\")\n",
        "  return np.array(episodes_data)"
      ],
      "execution_count": 18,
      "outputs": []
    },
    {
      "cell_type": "code",
      "metadata": {
        "id": "5sERYGp7WirM"
      },
      "source": [
        "episodes_data = sample()"
      ],
      "execution_count": 19,
      "outputs": []
    },
    {
      "cell_type": "code",
      "metadata": {
        "id": "ucGcZ-es9nXd"
      },
      "source": [
        "def calculate_total_mean_reward(episode_data):\n",
        "   all_rewards = [d['mean_reward'] for d in episode_data]\n",
        "   return np.array(all_rewards).mean()"
      ],
      "execution_count": 20,
      "outputs": []
    },
    {
      "cell_type": "code",
      "metadata": {
        "id": "jyVPXZ3xVSla"
      },
      "source": [
        "def get_top_20(data):\r\n",
        "  return heapq.nlargest(20, data, key=lambda s: s['mean_reward'])"
      ],
      "execution_count": 21,
      "outputs": []
    },
    {
      "cell_type": "code",
      "metadata": {
        "id": "0swcXlC9ZGLS"
      },
      "source": [
        "def get_training_data(episode_data):\n",
        "  train_data = []\n",
        "  for entry in episodes_data:\n",
        "    for step in entry['steps']:\n",
        "      one_hot = np.zeros(env.action_space.n)\n",
        "      one_hot[step[0]] = 1\n",
        "      train_data.append([one_hot, step[1]])\n",
        "  return train_data\n"
      ],
      "execution_count": 22,
      "outputs": []
    },
    {
      "cell_type": "code",
      "metadata": {
        "id": "_S5Objpjkgaa"
      },
      "source": [
        "def get_training_data_batch(episode_data):\n",
        "  x_data = []\n",
        "  y_data = []\n",
        "  for entry in episodes_data:\n",
        "    for step in entry['steps']:\n",
        "      x_data.append(step[1])\n",
        "      y_data.append(step[0])\n",
        "  return [x_data, y_data]"
      ],
      "execution_count": 23,
      "outputs": []
    },
    {
      "cell_type": "code",
      "metadata": {
        "id": "58ZUqyjwi0kA"
      },
      "source": [
        "def train(training_data):\n",
        "  for data in training_data:\n",
        "    optimizer.zero_grad()\n",
        "    # get the inputs; data is a list of [inputs, labels]\n",
        "    action, observation = data\n",
        "    #convert to torch?\n",
        "    observation=torch.from_numpy(np.expand_dims(observation, axis=0))\n",
        "    action =torch.from_numpy(np.array([np.argmax(action, axis=0)]))\n",
        "    if GPU_ON:\n",
        "      action = action.cuda()\n",
        "      observation = observation.cuda()\n",
        "\n",
        "    # forward + backward + optimize\n",
        "    output_action = net(observation)\n",
        "    loss = criterion(output_action, action)\n",
        "    loss.backward()\n",
        "    optimizer.step()\n",
        "\n",
        "def train_batch(batch_data):\n",
        "  optimizer.zero_grad()\n",
        "  # get the inputs; data is a list of [inputs, labels]\n",
        "  x_data, y_data = batch_data\n",
        "  #convert to torch?\n",
        "  observation=torch.from_numpy(np.array(x_data))\n",
        "  target =torch.from_numpy(np.array(y_data))\n",
        "  if GPU_ON:\n",
        "    target = target.cuda()\n",
        "    observation = observation.cuda()\n",
        "\n",
        "  # forward + backward + optimize\n",
        "  output_action = net(observation)\n",
        "  loss = criterion(output_action, target)\n",
        "  loss.backward()\n",
        "  optimizer.step()\n",
        "\n"
      ],
      "execution_count": 24,
      "outputs": []
    },
    {
      "cell_type": "code",
      "metadata": {
        "id": "QP-eG0rbcFzT",
        "colab": {
          "base_uri": "https://localhost:8080/",
          "height": 167
        },
        "outputId": "297333db-7d8c-4bd9-840d-b16c0cbaa7d0"
      },
      "source": [
        "#train_batch(get_training_data_batch(best_20))"
      ],
      "execution_count": 25,
      "outputs": [
        {
          "output_type": "error",
          "ename": "NameError",
          "evalue": "ignored",
          "traceback": [
            "\u001b[0;31m---------------------------------------------------------------------------\u001b[0m",
            "\u001b[0;31mNameError\u001b[0m                                 Traceback (most recent call last)",
            "\u001b[0;32m<ipython-input-25-4fd90a56acde>\u001b[0m in \u001b[0;36m<module>\u001b[0;34m()\u001b[0m\n\u001b[0;32m----> 1\u001b[0;31m \u001b[0mtrain_batch\u001b[0m\u001b[0;34m(\u001b[0m\u001b[0mget_training_data_batch\u001b[0m\u001b[0;34m(\u001b[0m\u001b[0mbest_20\u001b[0m\u001b[0;34m)\u001b[0m\u001b[0;34m)\u001b[0m\u001b[0;34m\u001b[0m\u001b[0;34m\u001b[0m\u001b[0m\n\u001b[0m",
            "\u001b[0;31mNameError\u001b[0m: name 'best_20' is not defined"
          ]
        }
      ]
    },
    {
      "cell_type": "code",
      "metadata": {
        "id": "6kbmsQ0iurM2"
      },
      "source": [
        "while True:\n",
        "  episodes_data = sample(episodes_n=200)\n",
        "  best_20 = get_top_20(episodes_data)\n",
        "  print(f\"Mean Reward for Sampling 20 episodes {calculate_total_mean_reward(best_20)}\")\n",
        "  train(get_training_data(best_20))\n",
        "  test_data = sample(episodes_n=10, training=False)\n",
        "  print(f\"Mean Reward for 10 episodes {calculate_total_mean_reward(test_data)}\")\n",
        "\n",
        "\n",
        "  "
      ],
      "execution_count": null,
      "outputs": []
    },
    {
      "cell_type": "code",
      "metadata": {
        "id": "Kk4n721CILBk",
        "colab": {
          "base_uri": "https://localhost:8080/"
        },
        "outputId": "07410fc3-876b-4bd6-87ad-267c39a8dd49"
      },
      "source": [
        "while True:\n",
        "  episodes_data = sample()\n",
        "  best_20 = get_top_20(episodes_data)\n",
        "  print(f\"Mean Reward for Sampling 20 episodes {calculate_total_mean_reward(best_20)}\")\n",
        "  train_batch(get_training_data_batch(best_20))\n",
        "  test_data = sample(episodes_n=10, training=False)\n",
        "  print(f\"Mean Reward for 10 episodes {calculate_total_mean_reward(test_data)}\")"
      ],
      "execution_count": null,
      "outputs": [
        {
          "output_type": "stream",
          "text": [
            "Mean Reward for Sampling 20 episodes -0.7668708780839807\n",
            "Mean Reward for 10 episodes -1.8787061713394688\n",
            "Mean Reward for Sampling 20 episodes -1.280659390847514\n",
            "Mean Reward for 10 episodes -3.8279113407030962\n",
            "Mean Reward for Sampling 20 episodes -1.5376197151320214\n",
            "Mean Reward for 10 episodes -6.802849933450817\n",
            "Mean Reward for Sampling 20 episodes -2.656965326397658\n",
            "Mean Reward for 10 episodes -6.493310309612147\n",
            "Mean Reward for Sampling 20 episodes -5.3497467278984026\n",
            "Mean Reward for 10 episodes -6.868674336591245\n",
            "Mean Reward for Sampling 20 episodes -4.983026698071248\n",
            "Mean Reward for 10 episodes -6.601459171675822\n",
            "Mean Reward for Sampling 20 episodes -4.990290749779055\n",
            "Mean Reward for 10 episodes -6.9314867431963405\n",
            "Mean Reward for Sampling 20 episodes -5.324241020836044\n",
            "Mean Reward for 10 episodes -6.523884537301873\n",
            "Mean Reward for Sampling 20 episodes -5.320102853240288\n",
            "Mean Reward for 10 episodes -7.394964919511783\n",
            "Mean Reward for Sampling 20 episodes -4.92389537574801\n",
            "Mean Reward for 10 episodes -6.514061376059071\n",
            "Mean Reward for Sampling 20 episodes -5.100976132975909\n",
            "Mean Reward for 10 episodes -6.146129176816524\n",
            "Mean Reward for Sampling 20 episodes -5.044808262301125\n",
            "Mean Reward for 10 episodes -6.867721675424346\n",
            "Mean Reward for Sampling 20 episodes -4.881461224864624\n",
            "Mean Reward for 10 episodes -6.931000650748798\n",
            "Mean Reward for Sampling 20 episodes -4.917202707596248\n",
            "Mean Reward for 10 episodes -6.740014359805853\n",
            "Mean Reward for Sampling 20 episodes -5.102253913132867\n",
            "Mean Reward for 10 episodes -6.664300127069677\n",
            "Mean Reward for Sampling 20 episodes -5.0173750770243375\n",
            "Mean Reward for 10 episodes -6.785420477982159\n",
            "Mean Reward for Sampling 20 episodes -5.053551670413531\n",
            "Mean Reward for 10 episodes -6.774374178173997\n",
            "Mean Reward for Sampling 20 episodes -5.12504640763087\n",
            "Mean Reward for 10 episodes -6.623707180694585\n",
            "Mean Reward for Sampling 20 episodes -5.449086367612301\n",
            "Mean Reward for 10 episodes -6.114669404632174\n",
            "Mean Reward for Sampling 20 episodes -4.992712685341032\n",
            "Mean Reward for 10 episodes -6.748402644877444\n",
            "Mean Reward for Sampling 20 episodes -5.037733141361725\n",
            "Mean Reward for 10 episodes -5.875204221667987\n",
            "Mean Reward for Sampling 20 episodes -5.305002914077526\n",
            "Mean Reward for 10 episodes -6.437715179424405\n",
            "Mean Reward for Sampling 20 episodes -5.489555403042841\n",
            "Mean Reward for 10 episodes -6.6959143532924426\n",
            "Mean Reward for Sampling 20 episodes -5.1543722883295064\n",
            "Mean Reward for 10 episodes -7.062923458287038\n",
            "Mean Reward for Sampling 20 episodes -5.233412383949154\n",
            "Mean Reward for 10 episodes -7.0281818200919\n",
            "Mean Reward for Sampling 20 episodes -5.184867615605449\n",
            "Mean Reward for 10 episodes -6.925641127779795\n",
            "Mean Reward for Sampling 20 episodes -4.991042080777058\n",
            "Mean Reward for 10 episodes -6.803114663388446\n",
            "Mean Reward for Sampling 20 episodes -5.194835096941696\n",
            "Mean Reward for 10 episodes -6.644495657710597\n",
            "Mean Reward for Sampling 20 episodes -5.121207605856485\n",
            "Mean Reward for 10 episodes -7.033915972740671\n",
            "Mean Reward for Sampling 20 episodes -5.2306890082363475\n",
            "Mean Reward for 10 episodes -7.360753475726916\n"
          ],
          "name": "stdout"
        }
      ]
    }
  ]
}