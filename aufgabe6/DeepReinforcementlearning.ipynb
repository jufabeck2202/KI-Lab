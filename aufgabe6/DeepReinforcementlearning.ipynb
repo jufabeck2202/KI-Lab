{
  "nbformat": 4,
  "nbformat_minor": 0,
  "metadata": {
    "colab": {
      "name": "DeepReinforcementlearning.ipynb",
      "provenance": [],
      "collapsed_sections": [],
      "include_colab_link": true
    },
    "kernelspec": {
      "name": "python3",
      "display_name": "Python 3"
    }
  },
  "cells": [
    {
      "cell_type": "markdown",
      "metadata": {
        "id": "view-in-github",
        "colab_type": "text"
      },
      "source": [
        "<a href=\"https://colab.research.google.com/github/jufabeck2202/KI-Lab/blob/main/aufgabe6/DeepReinforcementlearning.ipynb\" target=\"_parent\"><img src=\"https://colab.research.google.com/assets/colab-badge.svg\" alt=\"Open In Colab\"/></a>"
      ]
    },
    {
      "cell_type": "markdown",
      "metadata": {
        "id": "Iwm-vLKt-CxA"
      },
      "source": [
        "General idea:\n",
        "1. Use a neural network that takes as input a state (represented as numbers)\n",
        "and outputs a probability for every action.\n",
        "2. Generate episodes by inputing the current state into the network and\n",
        "sampling actions from the network’s output. Remember the\n",
        "<state, action> pairs for every episode.\n",
        "3. From these episodes, identify the ones with the highest reward.\n",
        "4. Use the <state, action> pairs from those high reward episodes as\n",
        "training examples for improving the neural network.\n",
        "5. Go back to step 2"
      ]
    },
    {
      "cell_type": "markdown",
      "metadata": {
        "id": "28X7Ou8q-E9e"
      },
      "source": [
        "Task 2\n",
        "1. Define a neural network with two fully connected-layers. The hidden layer uses a\n",
        "Relu activation. The output layer uses a softmax. Try different hidden layer sizes\n",
        "(between 100 and 500). The network takes as input a vector of the current states\n",
        "and gives out a probability for each action.\n",
        "2. Generate 100 episodes by sampling actions using the network output. Limit the\n",
        "number of steps per episode to 500. Sum up the reward of all steps of one episode.\n",
        "3. Print out the mean reward per episode of the 100 episodes.\n",
        "4. Identify the 20 best of those episodes in terms of reward and use the\n",
        "<state, action> pairs of these episodes as training examples for the network.\n",
        "5. Update the weights of the network by performing backpropagation on these <state,\n",
        "action> pairs.\n",
        "6. Repeat steps 2 to 5 until a mean reward of 100 is reached.\n",
        "7. Record a video of the lunar lander by running the trained network on one additional\n",
        "episode."
      ]
    },
    {
      "cell_type": "markdown",
      "metadata": {
        "id": "WoQx2xvS-M-i"
      },
      "source": [
        "Hints\n",
        "* Use !pip3 install box2d-py to make the environment work in Colab.\n",
        "* You cannot show the video of your lander in Colab (env.render() fails).  \n",
        "* Workaround: Download the model on your local machine and record the video there,\n",
        "using recording_demo.py as template (see Mattermost).\n",
        "* The loss is not a useful indicator for the learning progress in RL. Instead check how\n",
        "the mean reward develops over time.\n",
        "* The mean reward will jump back and forth quite a bit, but overall should increase.\n",
        "* After roughly 70 training iterations the mean reward should be positive, and after\n",
        "roughly 100 steps be over 100.\n",
        "* Note that these numbers depend on your parameter setting and it may also take\n",
        "longer or shorter.\n",
        "* Reinforcement learning is much more difficult than supervised learning, you have to\n",
        "play around quite a bit to get things into the right direction."
      ]
    },
    {
      "cell_type": "markdown",
      "metadata": {
        "id": "i0ozuttP-6-3"
      },
      "source": [
        "# Imports"
      ]
    },
    {
      "cell_type": "code",
      "metadata": {
        "id": "ZML6vY495JLW"
      },
      "source": [
        "!pip3 install box2d-py gym > /dev/null"
      ],
      "execution_count": 70,
      "outputs": []
    },
    {
      "cell_type": "code",
      "metadata": {
        "id": "nLOhghCh6375"
      },
      "source": [
        "import gym\n",
        "import torch\n",
        "import torch.nn as nn\n",
        "import torch.optim as optim\n",
        "import torch.nn.functional as f\n",
        "import numpy as np\n",
        "import matplotlib.pyplot as plt\n",
        "import heapq\n",
        "import random\n",
        "import torch.optim as optim\n",
        "%matplotlib inline\n"
      ],
      "execution_count": 71,
      "outputs": []
    },
    {
      "cell_type": "code",
      "metadata": {
        "colab": {
          "base_uri": "https://localhost:8080/"
        },
        "id": "5vhGJ8K17AoF",
        "outputId": "c587d025-b1e0-408a-af2e-c4948dd878fd"
      },
      "source": [
        "env = gym.make('LunarLander-v2')\n",
        "rewards = []\n",
        "\n",
        "##get Action space\n",
        "print(env.observation_space.shape)\n",
        "print(env.action_space)\n",
        "print()\n",
        "print(env.observation_space.sample())\n",
        "print(env.action_space.sample())\n"
      ],
      "execution_count": 72,
      "outputs": [
        {
          "output_type": "stream",
          "text": [
            "(8,)\n",
            "Discrete(4)\n",
            "\n",
            "[ 0.20873137 -0.153587    0.09798027  0.99750525  0.5312874  -0.51960874\n",
            " -0.47303382  0.4787915 ]\n",
            "0\n"
          ],
          "name": "stdout"
        }
      ]
    },
    {
      "cell_type": "markdown",
      "metadata": {
        "id": "ZQ1t9O_D_YZh"
      },
      "source": [
        "# Define Network"
      ]
    },
    {
      "cell_type": "code",
      "metadata": {
        "id": "4DA1wvKv7qLe"
      },
      "source": [
        "\n",
        "class Network(nn.Module):\n",
        "    def __init__(self, hidden_size,):\n",
        "        super(Network, self).__init__()\n",
        "        self.fc1 = nn.Linear(env.observation_space.shape[0], hidden_size)\n",
        "        self.fc2 = nn.Linear(hidden_size, env.action_space.n)\n",
        "        \n",
        "    def forward(self, x):\n",
        "        x = f.relu(self.fc1(x))\n",
        "        return self.fc2(x)"
      ],
      "execution_count": 73,
      "outputs": []
    },
    {
      "cell_type": "code",
      "metadata": {
        "id": "R_jgm5-hafJE"
      },
      "source": [
        "torch.backends.cudnn.enabled = True\r\n",
        "GPU_ON = torch.cuda.is_available()\r\n",
        "device = torch.device(\"cuda:0\" if GPU_ON else \"cpu\")\r\n",
        "net = Network(200)\r\n",
        "criterion = nn.CrossEntropyLoss()\r\n",
        "optimizer = optim.Adam(params=net.parameters(), lr=0.01)\r\n",
        "if GPU_ON:\r\n",
        "  net.cuda()"
      ],
      "execution_count": 74,
      "outputs": []
    },
    {
      "cell_type": "markdown",
      "metadata": {
        "id": "-pcDn0VkAG4U"
      },
      "source": [
        "# Sample Episodes"
      ]
    },
    {
      "cell_type": "code",
      "metadata": {
        "id": "QDnOo9WzAGEx"
      },
      "source": [
        "def sample(episodes_n=100, max_steps=500):\n",
        "  episodes_data = []\n",
        "  softmax = nn.Softmax(dim=1)\n",
        "  for i_episode in range(episodes_n):\n",
        "      steps = []\n",
        "      rewards = []\n",
        "      state = env.reset()\n",
        "      for t in range(max_steps):\n",
        "\n",
        "          state_vector = torch.FloatTensor([state])\n",
        "          probability= softmax(net(state_vector))\n",
        "          selected_action = np.random.choice(len(probability.data.numpy()[0]), p=probability.data.numpy()[0])\n",
        "          new_state, reward, done, info = env.step(selected_action)\n",
        "          rewards.append(reward)\n",
        "          #imporant: use old state\n",
        "          steps.append([selected_action, state])\n",
        "          state = new_state\n",
        "          \n",
        "\n",
        "          if done:\n",
        "              episodes_data.append({ \"mean_reward\": np.array(rewards).sum() ,\"steps\": steps})\n",
        "              break\n",
        "      #print(f\"Mean reward of episode {i_episode}: {np.array(rewards).mean()}\")\n",
        "  return np.array(episodes_data)"
      ],
      "execution_count": 75,
      "outputs": []
    },
    {
      "cell_type": "code",
      "metadata": {
        "id": "5sERYGp7WirM"
      },
      "source": [
        "t = sample()\n"
      ],
      "execution_count": 76,
      "outputs": []
    },
    {
      "cell_type": "code",
      "metadata": {
        "id": "ucGcZ-es9nXd"
      },
      "source": [
        "def calculate_total_mean_reward(all_episodes):\n",
        "   all_rewards = [d['mean_reward'] for d in all_episodes]\n",
        "   return np.array(all_rewards).mean()"
      ],
      "execution_count": 77,
      "outputs": []
    },
    {
      "cell_type": "code",
      "metadata": {
        "id": "jyVPXZ3xVSla"
      },
      "source": [
        "def get_top_20(all_episodes):\r\n",
        "  return heapq.nlargest(20, all_episodes, key=lambda s: s['mean_reward'])"
      ],
      "execution_count": 78,
      "outputs": []
    },
    {
      "cell_type": "code",
      "metadata": {
        "id": "0swcXlC9ZGLS"
      },
      "source": [
        "def get_training_data(episode_data):\n",
        "  train_data = []\n",
        "  for entry in episodes_data:\n",
        "    for step in entry['steps']:\n",
        "      one_hot = np.zeros(env.action_space.n)\n",
        "      one_hot[step[0]] = 1\n",
        "      train_data.append([one_hot, step[1]])\n",
        "  return train_data\n"
      ],
      "execution_count": 79,
      "outputs": []
    },
    {
      "cell_type": "code",
      "metadata": {
        "id": "_S5Objpjkgaa"
      },
      "source": [
        "def get_training_data_batch(episode_data):\n",
        "  x_data = []\n",
        "  y_data = []\n",
        "  for entry in episodes_data:\n",
        "    for step in entry['steps']:\n",
        "      #state\n",
        "      x_data.append(step[1])\n",
        "      #action\n",
        "      y_data.append(step[0])\n",
        "\n",
        "  return [x_data, y_data]"
      ],
      "execution_count": 80,
      "outputs": []
    },
    {
      "cell_type": "code",
      "metadata": {
        "id": "58ZUqyjwi0kA"
      },
      "source": [
        "def train(training_data):\n",
        "  for data in training_data:\n",
        "    optimizer.zero_grad()\n",
        "    # get the inputs; data is a list of [inputs, labels]\n",
        "    action, observation = data\n",
        "    #convert to torch?\n",
        "    observation=torch.from_numpy(np.expand_dims(observation, axis=0))\n",
        "    action =torch.from_numpy(np.array([np.argmax(action, axis=0)]))\n",
        "    if GPU_ON:\n",
        "      action = action.cuda()\n",
        "      observation = observation.cuda()\n",
        "\n",
        "    # forward + backward + optimize\n",
        "    output_action = net(observation)\n",
        "    loss = criterion(output_action, action)\n",
        "    loss.backward()\n",
        "    optimizer.step()\n",
        "\n",
        "def train_batch(batch_data):\n",
        "  optimizer.zero_grad()\n",
        "  # get the inputs; data is a list of [inputs, labels]\n",
        "  x_data, y_data = batch_data\n",
        "  #convert to torch?\n",
        "  observation=torch.FloatTensor(x_data)\n",
        "  target =torch.LongTensor(y_data)\n",
        "  \n",
        "  if GPU_ON:\n",
        "    target = target.cuda()\n",
        "    observation = observation.cuda()\n",
        "\n",
        "  # forward + backward + optimize\n",
        "  action_pred = net(observation)\n",
        "  print(action_pred[121])\n",
        "  print(action_pred[-1])\n",
        "  print(target[121])\n",
        "  print(target[-1])\n",
        "  loss = criterion(action_pred, target)\n",
        "  print(f\"Loss {loss}\")\n",
        "  loss.backward()\n",
        "  optimizer.step()\n",
        "\n"
      ],
      "execution_count": 81,
      "outputs": []
    },
    {
      "cell_type": "code",
      "metadata": {
        "id": "QP-eG0rbcFzT",
        "outputId": "85ed26dd-7c45-47b3-c8fe-584f268c9d47",
        "colab": {
          "base_uri": "https://localhost:8080/"
        }
      },
      "source": [
        "#train_batch(get_training_data_batch(best_20))"
      ],
      "execution_count": 82,
      "outputs": [
        {
          "output_type": "stream",
          "text": [
            "tensor([ 0.1102, -0.1799,  0.1174, -0.2264], grad_fn=<SelectBackward>)\n",
            "tensor([-0.0768, -0.2034,  0.1159, -0.1493], grad_fn=<SelectBackward>)\n",
            "tensor(0)\n",
            "tensor(0)\n",
            "Loss 1.2628949880599976\n"
          ],
          "name": "stdout"
        }
      ]
    },
    {
      "cell_type": "code",
      "metadata": {
        "id": "6kbmsQ0iurM2"
      },
      "source": [
        "while False:\n",
        "  episodes_data = sample(episodes_n=200)\n",
        "  print(f\"Mean Reward for Sampling 20 episodes {calculate_total_mean_reward(episodes_data)}\")\n",
        "  best_20 = get_top_20(episodes_data)\n",
        "  train(get_training_data(best_20))\n",
        "\n",
        "\n",
        "  "
      ],
      "execution_count": 83,
      "outputs": []
    },
    {
      "cell_type": "code",
      "metadata": {
        "id": "Kk4n721CILBk",
        "colab": {
          "base_uri": "https://localhost:8080/",
          "height": 1000
        },
        "outputId": "d7816eae-f02e-4db5-a2ef-6a0d5ebb25cf"
      },
      "source": [
        "for i in range(10000):\n",
        "  episodes_data = sample()\n",
        "  print(f\"{i} Mean Reward for Sampling 20 episodes {calculate_total_mean_reward(episodes_data)}\")\n",
        "  best_20 = get_top_20(episodes_data)\n",
        "  train_batch(get_training_data_batch(best_20))"
      ],
      "execution_count": 84,
      "outputs": [
        {
          "output_type": "stream",
          "text": [
            "0 Mean Reward for Sampling 20 episodes -179.6331569380398\n",
            "tensor([ 0.4334, -0.3458, -0.3372, -0.6196], grad_fn=<SelectBackward>)\n",
            "tensor([ 0.5163, -0.6343, -0.2684, -0.5510], grad_fn=<SelectBackward>)\n",
            "tensor(1)\n",
            "tensor(3)\n",
            "Loss 1.2979854345321655\n",
            "1 Mean Reward for Sampling 20 episodes -160.44681188127217\n",
            "tensor([ 0.7472, -0.6144, -0.4322, -0.7480], grad_fn=<SelectBackward>)\n",
            "tensor([ 1.2219, -1.4181, -1.5851, -2.1110], grad_fn=<SelectBackward>)\n",
            "tensor(0)\n",
            "tensor(0)\n",
            "Loss 1.1614413261413574\n",
            "2 Mean Reward for Sampling 20 episodes -150.86992979089197\n",
            "tensor([ 0.9519, -0.8328, -0.5857, -0.9531], grad_fn=<SelectBackward>)\n",
            "tensor([ 1.7523, -1.2784, -1.0791, -1.6446], grad_fn=<SelectBackward>)\n",
            "tensor(0)\n",
            "tensor(0)\n",
            "Loss 1.033186674118042\n",
            "3 Mean Reward for Sampling 20 episodes -135.76626533338995\n",
            "tensor([ 1.0617, -1.0300, -0.7056, -0.9192], grad_fn=<SelectBackward>)\n",
            "tensor([ 1.3522, -1.3918, -1.0169, -1.1951], grad_fn=<SelectBackward>)\n",
            "tensor(1)\n",
            "tensor(0)\n",
            "Loss 0.9316107034683228\n",
            "4 Mean Reward for Sampling 20 episodes -147.34074769184963\n",
            "tensor([ 1.1209, -1.0373, -0.7795, -0.9908], grad_fn=<SelectBackward>)\n",
            "tensor([ 1.5885, -1.6178, -1.2799, -1.4255], grad_fn=<SelectBackward>)\n",
            "tensor(0)\n",
            "tensor(0)\n",
            "Loss 0.8279339671134949\n",
            "5 Mean Reward for Sampling 20 episodes -144.2995431927795\n",
            "tensor([ 1.5174, -1.3980, -1.1264, -1.4074], grad_fn=<SelectBackward>)\n",
            "tensor([ 1.7139, -1.5165, -1.2645, -1.6250], grad_fn=<SelectBackward>)\n",
            "tensor(0)\n",
            "tensor(0)\n",
            "Loss 0.7205618619918823\n",
            "6 Mean Reward for Sampling 20 episodes -137.74372987982545\n",
            "tensor([ 1.4475, -1.1875, -1.0431, -1.3863], grad_fn=<SelectBackward>)\n",
            "tensor([ 1.7347, -1.6320, -1.3779, -1.5348], grad_fn=<SelectBackward>)\n",
            "tensor(1)\n",
            "tensor(0)\n",
            "Loss 0.659844160079956\n",
            "7 Mean Reward for Sampling 20 episodes -142.69487175561278\n",
            "tensor([ 1.2128, -1.0328, -1.0662, -1.1582], grad_fn=<SelectBackward>)\n",
            "tensor([ 2.6079, -2.0459, -1.8852, -2.4898], grad_fn=<SelectBackward>)\n",
            "tensor(0)\n",
            "tensor(0)\n",
            "Loss 0.593920111656189\n",
            "8 Mean Reward for Sampling 20 episodes -143.1480271674281\n",
            "tensor([ 1.4886, -1.2553, -1.1079, -1.3850], grad_fn=<SelectBackward>)\n",
            "tensor([ 2.4323, -2.0027, -1.6957, -2.3444], grad_fn=<SelectBackward>)\n",
            "tensor(1)\n",
            "tensor(0)\n",
            "Loss 0.5241062045097351\n",
            "9 Mean Reward for Sampling 20 episodes -137.0257944658968\n",
            "tensor([ 1.6507, -1.4479, -1.2322, -1.4404], grad_fn=<SelectBackward>)\n",
            "tensor([ 2.2416, -1.9263, -1.8026, -2.1074], grad_fn=<SelectBackward>)\n",
            "tensor(0)\n",
            "tensor(0)\n",
            "Loss 0.49611225724220276\n",
            "10 Mean Reward for Sampling 20 episodes -139.73934121950663\n",
            "tensor([ 1.6431, -1.4397, -1.1974, -1.4818], grad_fn=<SelectBackward>)\n",
            "tensor([ 2.4359, -2.0556, -1.7547, -2.3172], grad_fn=<SelectBackward>)\n",
            "tensor(1)\n",
            "tensor(0)\n",
            "Loss 0.44407862424850464\n",
            "11 Mean Reward for Sampling 20 episodes -135.60561473351083\n",
            "tensor([ 2.1431, -1.6774, -1.5041, -1.9615], grad_fn=<SelectBackward>)\n",
            "tensor([ 2.4655, -2.1994, -2.0055, -2.2456], grad_fn=<SelectBackward>)\n",
            "tensor(0)\n",
            "tensor(0)\n",
            "Loss 0.41494807600975037\n",
            "12 Mean Reward for Sampling 20 episodes -139.03561942680167\n",
            "tensor([ 1.9255, -1.6948, -1.4196, -1.7184], grad_fn=<SelectBackward>)\n",
            "tensor([ 2.5428, -2.2696, -2.0791, -2.3204], grad_fn=<SelectBackward>)\n",
            "tensor(0)\n",
            "tensor(0)\n",
            "Loss 0.3836648166179657\n",
            "13 Mean Reward for Sampling 20 episodes -129.4927685808916\n",
            "tensor([ 1.9275, -1.6828, -1.4523, -1.6667], grad_fn=<SelectBackward>)\n",
            "tensor([ 2.6586, -2.2104, -1.9419, -2.5117], grad_fn=<SelectBackward>)\n",
            "tensor(0)\n",
            "tensor(0)\n",
            "Loss 0.38254597783088684\n",
            "14 Mean Reward for Sampling 20 episodes -136.51719301242724\n",
            "tensor([ 1.5762, -1.3460, -1.3629, -1.4303], grad_fn=<SelectBackward>)\n",
            "tensor([ 2.6244, -2.3348, -2.1598, -2.3702], grad_fn=<SelectBackward>)\n",
            "tensor(3)\n",
            "tensor(0)\n",
            "Loss 0.3529534935951233\n",
            "15 Mean Reward for Sampling 20 episodes -140.2869657059498\n",
            "tensor([ 2.4178, -2.1265, -2.0060, -2.1002], grad_fn=<SelectBackward>)\n",
            "tensor([ 2.9050, -2.5458, -2.3880, -2.5839], grad_fn=<SelectBackward>)\n",
            "tensor(0)\n",
            "tensor(0)\n",
            "Loss 0.3375486433506012\n",
            "16 Mean Reward for Sampling 20 episodes -129.4222189597929\n",
            "tensor([ 2.3407, -2.0284, -1.8742, -2.0287], grad_fn=<SelectBackward>)\n",
            "tensor([ 2.5595, -2.2379, -2.1428, -2.3645], grad_fn=<SelectBackward>)\n",
            "tensor(0)\n",
            "tensor(0)\n",
            "Loss 0.3218432366847992\n",
            "17 Mean Reward for Sampling 20 episodes -136.12125590045756\n",
            "tensor([ 1.9423, -1.6813, -1.5474, -1.6485], grad_fn=<SelectBackward>)\n",
            "tensor([ 3.1556, -2.6021, -2.4281, -2.8230], grad_fn=<SelectBackward>)\n",
            "tensor(0)\n",
            "tensor(0)\n",
            "Loss 0.3173462152481079\n",
            "18 Mean Reward for Sampling 20 episodes -128.8382900438696\n",
            "tensor([ 2.0407, -1.7082, -1.5354, -1.8321], grad_fn=<SelectBackward>)\n",
            "tensor([ 2.6073, -2.1670, -1.9941, -2.4768], grad_fn=<SelectBackward>)\n",
            "tensor(0)\n",
            "tensor(0)\n",
            "Loss 0.30346620082855225\n",
            "19 Mean Reward for Sampling 20 episodes -131.45644046223305\n",
            "tensor([ 2.6101, -2.0678, -1.9532, -2.3729], grad_fn=<SelectBackward>)\n",
            "tensor([ 3.7585, -2.9651, -2.7696, -3.3863], grad_fn=<SelectBackward>)\n",
            "tensor(0)\n",
            "tensor(0)\n",
            "Loss 0.2855560779571533\n",
            "20 Mean Reward for Sampling 20 episodes -141.5778175204907\n",
            "tensor([ 2.6408, -2.1386, -2.0243, -2.4254], grad_fn=<SelectBackward>)\n",
            "tensor([ 3.2445, -2.6086, -2.5527, -2.9582], grad_fn=<SelectBackward>)\n",
            "tensor(0)\n",
            "tensor(0)\n",
            "Loss 0.27749690413475037\n",
            "21 Mean Reward for Sampling 20 episodes -131.97763614079432\n",
            "tensor([ 2.2958, -1.9835, -1.7669, -2.0769], grad_fn=<SelectBackward>)\n",
            "tensor([ 8.4605, -7.0605, -6.5738, -7.4049], grad_fn=<SelectBackward>)\n",
            "tensor(0)\n",
            "tensor(0)\n",
            "Loss 0.2974790930747986\n",
            "22 Mean Reward for Sampling 20 episodes -139.09960210197306\n",
            "tensor([ 2.5442, -2.2311, -2.1837, -2.2328], grad_fn=<SelectBackward>)\n",
            "tensor([ 3.0894, -2.6999, -2.6082, -2.8226], grad_fn=<SelectBackward>)\n",
            "tensor(0)\n",
            "tensor(0)\n",
            "Loss 0.28190648555755615\n",
            "23 Mean Reward for Sampling 20 episodes -141.64339811011294\n",
            "tensor([ 2.0402, -1.7657, -1.6158, -1.6892], grad_fn=<SelectBackward>)\n",
            "tensor([ 3.0267, -2.5747, -2.4749, -2.7720], grad_fn=<SelectBackward>)\n",
            "tensor(0)\n",
            "tensor(0)\n",
            "Loss 0.2761572301387787\n",
            "24 Mean Reward for Sampling 20 episodes -144.1030359760337\n",
            "tensor([ 2.9916, -2.5703, -2.4842, -2.7515], grad_fn=<SelectBackward>)\n",
            "tensor([ 3.2738, -2.5947, -2.5769, -3.0223], grad_fn=<SelectBackward>)\n",
            "tensor(0)\n",
            "tensor(0)\n",
            "Loss 0.2902269959449768\n"
          ],
          "name": "stdout"
        },
        {
          "output_type": "error",
          "ename": "KeyboardInterrupt",
          "evalue": "ignored",
          "traceback": [
            "\u001b[0;31m---------------------------------------------------------------------------\u001b[0m",
            "\u001b[0;31mKeyboardInterrupt\u001b[0m                         Traceback (most recent call last)",
            "\u001b[0;32m<ipython-input-84-e3788d3acb46>\u001b[0m in \u001b[0;36m<module>\u001b[0;34m()\u001b[0m\n\u001b[1;32m      1\u001b[0m \u001b[0;32mfor\u001b[0m \u001b[0mi\u001b[0m \u001b[0;32min\u001b[0m \u001b[0mrange\u001b[0m\u001b[0;34m(\u001b[0m\u001b[0;36m10000\u001b[0m\u001b[0;34m)\u001b[0m\u001b[0;34m:\u001b[0m\u001b[0;34m\u001b[0m\u001b[0;34m\u001b[0m\u001b[0m\n\u001b[0;32m----> 2\u001b[0;31m   \u001b[0mepisodes_data\u001b[0m \u001b[0;34m=\u001b[0m \u001b[0msample\u001b[0m\u001b[0;34m(\u001b[0m\u001b[0;34m)\u001b[0m\u001b[0;34m\u001b[0m\u001b[0;34m\u001b[0m\u001b[0m\n\u001b[0m\u001b[1;32m      3\u001b[0m   \u001b[0mprint\u001b[0m\u001b[0;34m(\u001b[0m\u001b[0;34mf\"{i} Mean Reward for Sampling 20 episodes {calculate_total_mean_reward(episodes_data)}\"\u001b[0m\u001b[0;34m)\u001b[0m\u001b[0;34m\u001b[0m\u001b[0;34m\u001b[0m\u001b[0m\n\u001b[1;32m      4\u001b[0m   \u001b[0mbest_20\u001b[0m \u001b[0;34m=\u001b[0m \u001b[0mget_top_20\u001b[0m\u001b[0;34m(\u001b[0m\u001b[0mepisodes_data\u001b[0m\u001b[0;34m)\u001b[0m\u001b[0;34m\u001b[0m\u001b[0;34m\u001b[0m\u001b[0m\n\u001b[1;32m      5\u001b[0m   \u001b[0mtrain_batch\u001b[0m\u001b[0;34m(\u001b[0m\u001b[0mget_training_data_batch\u001b[0m\u001b[0;34m(\u001b[0m\u001b[0mbest_20\u001b[0m\u001b[0;34m)\u001b[0m\u001b[0;34m)\u001b[0m\u001b[0;34m\u001b[0m\u001b[0;34m\u001b[0m\u001b[0m\n",
            "\u001b[0;32m<ipython-input-75-82cf78c0f973>\u001b[0m in \u001b[0;36msample\u001b[0;34m(episodes_n, max_steps)\u001b[0m\n\u001b[1;32m     10\u001b[0m           \u001b[0mstate_vector\u001b[0m \u001b[0;34m=\u001b[0m \u001b[0mtorch\u001b[0m\u001b[0;34m.\u001b[0m\u001b[0mFloatTensor\u001b[0m\u001b[0;34m(\u001b[0m\u001b[0;34m[\u001b[0m\u001b[0mstate\u001b[0m\u001b[0;34m]\u001b[0m\u001b[0;34m)\u001b[0m\u001b[0;34m\u001b[0m\u001b[0;34m\u001b[0m\u001b[0m\n\u001b[1;32m     11\u001b[0m           \u001b[0mprobability\u001b[0m\u001b[0;34m=\u001b[0m \u001b[0msoftmax\u001b[0m\u001b[0;34m(\u001b[0m\u001b[0mnet\u001b[0m\u001b[0;34m(\u001b[0m\u001b[0mstate_vector\u001b[0m\u001b[0;34m)\u001b[0m\u001b[0;34m)\u001b[0m\u001b[0;34m\u001b[0m\u001b[0;34m\u001b[0m\u001b[0m\n\u001b[0;32m---> 12\u001b[0;31m           \u001b[0mselected_action\u001b[0m \u001b[0;34m=\u001b[0m \u001b[0mnp\u001b[0m\u001b[0;34m.\u001b[0m\u001b[0mrandom\u001b[0m\u001b[0;34m.\u001b[0m\u001b[0mchoice\u001b[0m\u001b[0;34m(\u001b[0m\u001b[0mlen\u001b[0m\u001b[0;34m(\u001b[0m\u001b[0mprobability\u001b[0m\u001b[0;34m.\u001b[0m\u001b[0mdata\u001b[0m\u001b[0;34m.\u001b[0m\u001b[0mnumpy\u001b[0m\u001b[0;34m(\u001b[0m\u001b[0;34m)\u001b[0m\u001b[0;34m[\u001b[0m\u001b[0;36m0\u001b[0m\u001b[0;34m]\u001b[0m\u001b[0;34m)\u001b[0m\u001b[0;34m,\u001b[0m \u001b[0mp\u001b[0m\u001b[0;34m=\u001b[0m\u001b[0mprobability\u001b[0m\u001b[0;34m.\u001b[0m\u001b[0mdata\u001b[0m\u001b[0;34m.\u001b[0m\u001b[0mnumpy\u001b[0m\u001b[0;34m(\u001b[0m\u001b[0;34m)\u001b[0m\u001b[0;34m[\u001b[0m\u001b[0;36m0\u001b[0m\u001b[0;34m]\u001b[0m\u001b[0;34m)\u001b[0m\u001b[0;34m\u001b[0m\u001b[0;34m\u001b[0m\u001b[0m\n\u001b[0m\u001b[1;32m     13\u001b[0m           \u001b[0mnew_state\u001b[0m\u001b[0;34m,\u001b[0m \u001b[0mreward\u001b[0m\u001b[0;34m,\u001b[0m \u001b[0mdone\u001b[0m\u001b[0;34m,\u001b[0m \u001b[0minfo\u001b[0m \u001b[0;34m=\u001b[0m \u001b[0menv\u001b[0m\u001b[0;34m.\u001b[0m\u001b[0mstep\u001b[0m\u001b[0;34m(\u001b[0m\u001b[0mselected_action\u001b[0m\u001b[0;34m)\u001b[0m\u001b[0;34m\u001b[0m\u001b[0;34m\u001b[0m\u001b[0m\n\u001b[1;32m     14\u001b[0m           \u001b[0mrewards\u001b[0m\u001b[0;34m.\u001b[0m\u001b[0mappend\u001b[0m\u001b[0;34m(\u001b[0m\u001b[0mreward\u001b[0m\u001b[0;34m)\u001b[0m\u001b[0;34m\u001b[0m\u001b[0;34m\u001b[0m\u001b[0m\n",
            "\u001b[0;31mKeyboardInterrupt\u001b[0m: "
          ]
        }
      ]
    }
  ]
}