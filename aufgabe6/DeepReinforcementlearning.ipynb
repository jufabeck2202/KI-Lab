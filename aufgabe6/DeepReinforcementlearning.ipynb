{
  "nbformat": 4,
  "nbformat_minor": 0,
  "metadata": {
    "colab": {
      "name": "DeepReinforcementlearning.ipynb",
      "provenance": [],
      "collapsed_sections": [],
      "include_colab_link": true
    },
    "kernelspec": {
      "name": "python3",
      "display_name": "Python 3"
    }
  },
  "cells": [
    {
      "cell_type": "markdown",
      "metadata": {
        "id": "view-in-github",
        "colab_type": "text"
      },
      "source": [
        "<a href=\"https://colab.research.google.com/github/jufabeck2202/KI-Lab/blob/main/aufgabe6/DeepReinforcementlearning.ipynb\" target=\"_parent\"><img src=\"https://colab.research.google.com/assets/colab-badge.svg\" alt=\"Open In Colab\"/></a>"
      ]
    },
    {
      "cell_type": "markdown",
      "metadata": {
        "id": "Iwm-vLKt-CxA"
      },
      "source": [
        "General idea:\n",
        "1. Use a neural network that takes as input a state (represented as numbers)\n",
        "and outputs a probability for every action.\n",
        "2. Generate episodes by inputing the current state into the network and\n",
        "sampling actions from the network’s output. Remember the\n",
        "<state, action> pairs for every episode.\n",
        "3. From these episodes, identify the ones with the highest reward.\n",
        "4. Use the <state, action> pairs from those high reward episodes as\n",
        "training examples for improving the neural network.\n",
        "5. Go back to step 2"
      ]
    },
    {
      "cell_type": "markdown",
      "metadata": {
        "id": "28X7Ou8q-E9e"
      },
      "source": [
        "Task 2\n",
        "1. Define a neural network with two fully connected-layers. The hidden layer uses a\n",
        "Relu activation. The output layer uses a softmax. Try different hidden layer sizes\n",
        "(between 100 and 500). The network takes as input a vector of the current states\n",
        "and gives out a probability for each action.\n",
        "2. Generate 100 episodes by sampling actions using the network output. Limit the\n",
        "number of steps per episode to 500. Sum up the reward of all steps of one episode.\n",
        "3. Print out the mean reward per episode of the 100 episodes.\n",
        "4. Identify the 20 best of those episodes in terms of reward and use the\n",
        "<state, action> pairs of these episodes as training examples for the network.\n",
        "5. Update the weights of the network by performing backpropagation on these <state,\n",
        "action> pairs.\n",
        "6. Repeat steps 2 to 5 until a mean reward of 100 is reached.\n",
        "7. Record a video of the lunar lander by running the trained network on one additional\n",
        "episode."
      ]
    },
    {
      "cell_type": "markdown",
      "metadata": {
        "id": "WoQx2xvS-M-i"
      },
      "source": [
        "Hints\n",
        "* Use !pip3 install box2d-py to make the environment work in Colab.\n",
        "* You cannot show the video of your lander in Colab (env.render() fails).  \n",
        "* Workaround: Download the model on your local machine and record the video there,\n",
        "using recording_demo.py as template (see Mattermost).\n",
        "* The loss is not a useful indicator for the learning progress in RL. Instead check how\n",
        "the mean reward develops over time.\n",
        "* The mean reward will jump back and forth quite a bit, but overall should increase.\n",
        "* After roughly 70 training iterations the mean reward should be positive, and after\n",
        "roughly 100 steps be over 100.\n",
        "* Note that these numbers depend on your parameter setting and it may also take\n",
        "longer or shorter.\n",
        "* Reinforcement learning is much more difficult than supervised learning, you have to\n",
        "play around quite a bit to get things into the right direction."
      ]
    },
    {
      "cell_type": "markdown",
      "metadata": {
        "id": "i0ozuttP-6-3"
      },
      "source": [
        "# Imports"
      ]
    },
    {
      "cell_type": "code",
      "metadata": {
        "id": "ZML6vY495JLW"
      },
      "source": [
        "!pip3 install box2d-py gym > /dev/null"
      ],
      "execution_count": 2,
      "outputs": []
    },
    {
      "cell_type": "code",
      "metadata": {
        "id": "nLOhghCh6375"
      },
      "source": [
        "import gym\n",
        "import torch\n",
        "import torch.nn as nn\n",
        "import torch.optim as optim\n",
        "import torch.nn.functional as F\n",
        "import numpy as np\n",
        "import matplotlib.pyplot as plt\n",
        "import heapq\n",
        "import random\n",
        "import torch.optim as optim\n",
        "%matplotlib inline\n"
      ],
      "execution_count": 3,
      "outputs": []
    },
    {
      "cell_type": "code",
      "metadata": {
        "id": "5vhGJ8K17AoF",
        "colab": {
          "base_uri": "https://localhost:8080/"
        },
        "outputId": "dc014b6e-0da4-451e-f441-5308bef4b9d9"
      },
      "source": [
        "env = gym.make('LunarLander-v2')\n",
        "rewards = []\n",
        "\n",
        "##get Action space\n",
        "print(env.observation_space.shape)\n",
        "print(env.action_space)\n",
        "print()\n",
        "print(env.observation_space.sample())\n",
        "print(env.action_space.sample())\n"
      ],
      "execution_count": 4,
      "outputs": [
        {
          "output_type": "stream",
          "text": [
            "(8,)\n",
            "Discrete(4)\n",
            "\n",
            "[-0.54360837  1.4212509   0.5395135   0.6026281  -0.7540568  -0.56199914\n",
            " -0.62567455 -0.24186279]\n",
            "1\n"
          ],
          "name": "stdout"
        }
      ]
    },
    {
      "cell_type": "markdown",
      "metadata": {
        "id": "ZQ1t9O_D_YZh"
      },
      "source": [
        "# Define Network"
      ]
    },
    {
      "cell_type": "code",
      "metadata": {
        "id": "4DA1wvKv7qLe"
      },
      "source": [
        "\n",
        "class Network(nn.Module):\n",
        "\n",
        "    def __init__(self, hidden_size,):\n",
        "        super(Network, self).__init__()\n",
        "        self.fc1 = nn.Linear(env.observation_space.shape[0], hidden_size)\n",
        "        self.fc2 = nn.Linear(hidden_size, env.action_space.n)\n",
        "        \n",
        "    def forward(self, x):\n",
        "        h = F.relu(self.fc1(x))\n",
        "        return self.fc2(h)"
      ],
      "execution_count": 5,
      "outputs": []
    },
    {
      "cell_type": "code",
      "metadata": {
        "id": "R_jgm5-hafJE"
      },
      "source": [
        "net = Network(250)\r\n",
        "criterion = nn.CrossEntropyLoss()\r\n",
        "optimizer = optim.Adam(params=net.parameters(), lr=0.01)\r\n"
      ],
      "execution_count": 6,
      "outputs": []
    },
    {
      "cell_type": "markdown",
      "metadata": {
        "id": "-pcDn0VkAG4U"
      },
      "source": [
        "# Sample Episodes"
      ]
    },
    {
      "cell_type": "code",
      "metadata": {
        "id": "QDnOo9WzAGEx"
      },
      "source": [
        "# get episodes\n",
        "def sample(episodes_n=100, max_steps=500):\n",
        "  episodes_data = []\n",
        "  \n",
        "  softmax = nn.Softmax(dim=1)\n",
        "  for i_episode in range(episodes_n):\n",
        "      steps = [] # steps[0] is the action, steps[1] is the state\n",
        "      total_reward = 0\n",
        "      state = env.reset()\n",
        "      for i_step in range(max_steps):\n",
        "\n",
        "          state_vector = torch.FloatTensor([state])\n",
        "          probability= softmax(net(state_vector))\n",
        "\n",
        "          selected_action = np.random.choice(len(probability.data.numpy()[0]), p=probability.data.numpy()[0])\n",
        "          new_state, reward, done, info = env.step(selected_action)\n",
        "\n",
        "          rewards.append(reward)\n",
        "          #important: use old state\n",
        "          \n",
        "          steps.append([selected_action, state])\n",
        "          state = new_state\n",
        "          total_reward += reward\n",
        "          \n",
        "\n",
        "          if done:\n",
        "              episodes_data.append({ \"total_reward\": total_reward  ,\"steps\": steps})\n",
        "              break\n",
        "      #print(f\"Mean reward of episode {i_episode}: {np.array(rewards).mean()}\")\n",
        "  return episodes_data\n"
      ],
      "execution_count": 7,
      "outputs": []
    },
    {
      "cell_type": "code",
      "metadata": {
        "id": "ucGcZ-es9nXd"
      },
      "source": [
        "def calculate_total_mean_reward(all_episodes):\n",
        "   all_rewards = [d['total_reward'] for d in all_episodes]\n",
        "   return np.array(all_rewards).mean()"
      ],
      "execution_count": 8,
      "outputs": []
    },
    {
      "cell_type": "code",
      "metadata": {
        "id": "jyVPXZ3xVSla"
      },
      "source": [
        "def get_top_20(all_episodes):\r\n",
        "  return heapq.nlargest(20, all_episodes, key=lambda s: s['total_reward'])"
      ],
      "execution_count": 9,
      "outputs": []
    },
    {
      "cell_type": "code",
      "metadata": {
        "id": "_S5Objpjkgaa"
      },
      "source": [
        "def get_training_data_batch(data):\n",
        "  observations = []\n",
        "  targets = []\n",
        "  for entry in data:\n",
        "    for step in entry['steps']:\n",
        "      #state\n",
        "      observations.append(step[1])\n",
        "      #action\n",
        "      targets.append(step[0])\n",
        "\n",
        "  return [observations, targets]"
      ],
      "execution_count": 11,
      "outputs": []
    },
    {
      "cell_type": "code",
      "metadata": {
        "id": "58ZUqyjwi0kA"
      },
      "source": [
        "def train_batch():\n",
        "  \n",
        "  # get the inputs; data is a list of [inputs, labels]\n",
        "  training_data = sample(episodes_n=120)\n",
        "  best_20 = get_top_20(training_data)\n",
        "  observations, targets = get_training_data_batch(best_20)\n",
        "\n",
        "  # calculate mean for the current episodes:\n",
        "\n",
        "  #convert to torch?\n",
        "  optimizer.zero_grad()\n",
        "  observations=torch.FloatTensor(observations)\n",
        "  targets =torch.LongTensor(targets)\n",
        "\n",
        "  # forward + backward + optimize\n",
        "  action_pred = net(observations)\n",
        "\n",
        "  loss = criterion(action_pred, targets)\n",
        "  loss.backward()\n",
        "  optimizer.step()\n",
        "  reward_complete = calculate_total_mean_reward(training_data)\n",
        "  return reward_complete, loss\n",
        "\n",
        "  \n",
        "\n"
      ],
      "execution_count": 12,
      "outputs": []
    },
    {
      "cell_type": "code",
      "metadata": {
        "id": "Kk4n721CILBk",
        "colab": {
          "base_uri": "https://localhost:8080/"
        },
        "outputId": "2c6b2584-ab7c-4b8d-ba73-e71eb24616aa"
      },
      "source": [
        "i = 0\n",
        "rewards = []\n",
        "losses = []\n",
        "while True:\n",
        "  i+=1\n",
        "  reward, loss = train_batch()\n",
        "  print(f\"{i}: Mean Reward for Sampling 100 episodes {reward}, Loss: {loss}\")\n",
        "  rewards.append(reward)\n",
        "  losses.append(loss)\n",
        "\n",
        "  if 150 < reward:\n",
        "    break\n"
      ],
      "execution_count": 13,
      "outputs": [
        {
          "output_type": "stream",
          "text": [
            "1: Mean Reward for Sampling 100 episodes -171.27956545299642, Loss: 1.3791851997375488\n",
            "2: Mean Reward for Sampling 100 episodes -197.18844235908563, Loss: 1.3457603454589844\n",
            "3: Mean Reward for Sampling 100 episodes -198.4321938670168, Loss: 1.2789061069488525\n",
            "4: Mean Reward for Sampling 100 episodes -172.45351476369348, Loss: 1.2257859706878662\n",
            "5: Mean Reward for Sampling 100 episodes -152.8416014499076, Loss: 1.1873854398727417\n",
            "6: Mean Reward for Sampling 100 episodes -151.73571111511035, Loss: 1.2028656005859375\n",
            "7: Mean Reward for Sampling 100 episodes -142.7093025561904, Loss: 1.1741266250610352\n",
            "8: Mean Reward for Sampling 100 episodes -177.19092585009247, Loss: 1.1533938646316528\n",
            "9: Mean Reward for Sampling 100 episodes -192.0863177078755, Loss: 1.136573314666748\n",
            "10: Mean Reward for Sampling 100 episodes -179.39502187600556, Loss: 1.133765459060669\n",
            "11: Mean Reward for Sampling 100 episodes -145.2939564475894, Loss: 1.1816458702087402\n",
            "12: Mean Reward for Sampling 100 episodes -111.79046231507816, Loss: 1.195465087890625\n",
            "13: Mean Reward for Sampling 100 episodes -84.60412483821489, Loss: 1.2029091119766235\n",
            "14: Mean Reward for Sampling 100 episodes -80.45086132721389, Loss: 1.1637635231018066\n",
            "15: Mean Reward for Sampling 100 episodes -71.8191415646378, Loss: 1.0988490581512451\n",
            "16: Mean Reward for Sampling 100 episodes -65.49581370692164, Loss: 1.0501186847686768\n",
            "17: Mean Reward for Sampling 100 episodes -55.88415447547364, Loss: 1.0043095350265503\n",
            "18: Mean Reward for Sampling 100 episodes -72.24034878780297, Loss: 0.9558790922164917\n",
            "19: Mean Reward for Sampling 100 episodes -45.92387843548311, Loss: 1.0006887912750244\n",
            "20: Mean Reward for Sampling 100 episodes -46.38162081465653, Loss: 1.0016566514968872\n",
            "21: Mean Reward for Sampling 100 episodes -55.001320805105614, Loss: 1.0016193389892578\n",
            "22: Mean Reward for Sampling 100 episodes -54.179337946896794, Loss: 0.9658722281455994\n",
            "23: Mean Reward for Sampling 100 episodes -60.924711068330375, Loss: 0.9974338412284851\n",
            "24: Mean Reward for Sampling 100 episodes -90.53166215242281, Loss: 1.0044740438461304\n",
            "25: Mean Reward for Sampling 100 episodes -104.97630743737203, Loss: 0.9894142150878906\n",
            "26: Mean Reward for Sampling 100 episodes -97.51088111252952, Loss: 1.0019505023956299\n",
            "27: Mean Reward for Sampling 100 episodes -88.91585457667658, Loss: 1.0089564323425293\n",
            "28: Mean Reward for Sampling 100 episodes -67.02160204722777, Loss: 1.0108336210250854\n",
            "29: Mean Reward for Sampling 100 episodes -43.2609597922502, Loss: 0.9890439510345459\n",
            "30: Mean Reward for Sampling 100 episodes -30.11458549403704, Loss: 0.9836999177932739\n",
            "31: Mean Reward for Sampling 100 episodes -17.919437862059098, Loss: 0.9363791942596436\n",
            "32: Mean Reward for Sampling 100 episodes -30.55781432783792, Loss: 0.8619799613952637\n",
            "33: Mean Reward for Sampling 100 episodes -26.00159084366298, Loss: 0.8963293433189392\n",
            "34: Mean Reward for Sampling 100 episodes -29.826240020193367, Loss: 0.8956020474433899\n",
            "35: Mean Reward for Sampling 100 episodes -11.106232174335112, Loss: 0.9530179500579834\n",
            "36: Mean Reward for Sampling 100 episodes -16.85647434289018, Loss: 0.9555352330207825\n",
            "37: Mean Reward for Sampling 100 episodes -8.696154251239522, Loss: 1.0551453828811646\n",
            "38: Mean Reward for Sampling 100 episodes -13.130105848684508, Loss: 1.0578590631484985\n",
            "39: Mean Reward for Sampling 100 episodes -0.8644631143303585, Loss: 1.0721700191497803\n",
            "40: Mean Reward for Sampling 100 episodes -18.886252708373398, Loss: 1.0785309076309204\n",
            "41: Mean Reward for Sampling 100 episodes -12.02503866735847, Loss: 1.0507248640060425\n",
            "42: Mean Reward for Sampling 100 episodes 5.715822076497231, Loss: 1.055148720741272\n",
            "43: Mean Reward for Sampling 100 episodes 6.080171980188905, Loss: 1.034847617149353\n",
            "44: Mean Reward for Sampling 100 episodes 24.603228002541623, Loss: 0.9883882403373718\n",
            "45: Mean Reward for Sampling 100 episodes 18.110968782166125, Loss: 0.9262122511863708\n",
            "46: Mean Reward for Sampling 100 episodes 37.448136101940456, Loss: 0.8543751835823059\n",
            "47: Mean Reward for Sampling 100 episodes 48.892562329832586, Loss: 0.7755500078201294\n",
            "48: Mean Reward for Sampling 100 episodes 38.24934962308738, Loss: 0.709457278251648\n",
            "49: Mean Reward for Sampling 100 episodes 63.24668316062342, Loss: 0.6947529315948486\n",
            "50: Mean Reward for Sampling 100 episodes 82.54862140238583, Loss: 0.6505878567695618\n",
            "51: Mean Reward for Sampling 100 episodes 102.0490000985535, Loss: 0.6546326279640198\n",
            "52: Mean Reward for Sampling 100 episodes 138.11689171864626, Loss: 0.6826073527336121\n",
            "53: Mean Reward for Sampling 100 episodes 149.8416172769764, Loss: 0.6949871778488159\n",
            "54: Mean Reward for Sampling 100 episodes 135.8661692482682, Loss: 0.679110586643219\n",
            "55: Mean Reward for Sampling 100 episodes 131.84886171485417, Loss: 0.7326286435127258\n",
            "56: Mean Reward for Sampling 100 episodes 152.41311719399218, Loss: 0.7085961699485779\n"
          ],
          "name": "stdout"
        }
      ]
    },
    {
      "cell_type": "code",
      "metadata": {
        "colab": {
          "base_uri": "https://localhost:8080/",
          "height": 278
        },
        "id": "OwS-Yt3UsRUq",
        "outputId": "5347ba71-8e61-4c4f-e731-7cdfe201007d"
      },
      "source": [
        "plt.plot(rewards)\n",
        "plt.ylabel('Rewards')\n",
        "plt.show()"
      ],
      "execution_count": 14,
      "outputs": [
        {
          "output_type": "display_data",
          "data": {
            "image/png": "[encoded data removed]",
            "text/plain": [
              "<Figure size 432x288 with 1 Axes>"
            ]
          },
          "metadata": {
            "tags": [],
            "needs_background": "light"
          }
        }
      ]
    },
    {
      "cell_type": "code",
      "metadata": {
        "colab": {
          "base_uri": "https://localhost:8080/",
          "height": 265
        },
        "id": "nmi_7YKatg6m",
        "outputId": "4f3904e3-902a-45d9-dde6-63c6f04350b4"
      },
      "source": [
        "plt.plot(losses)\n",
        "plt.ylabel(\"losses\")\n",
        "plt.show()"
      ],
      "execution_count": 15,
      "outputs": [
        {
          "output_type": "display_data",
          "data": {
            "image/png": "[encoded data removed]",
            "text/plain": [
              "<Figure size 432x288 with 1 Axes>"
            ]
          },
          "metadata": {
            "tags": [],
            "needs_background": "light"
          }
        }
      ]
    },
    {
      "cell_type": "markdown",
      "metadata": {
        "id": "KbdTOUSLbQ_r"
      },
      "source": [
        "# Deprecated code"
      ]
    },
    {
      "cell_type": "code",
      "metadata": {
        "id": "zc6nClmuXcgX"
      },
      "source": [
        "# depricated code\n",
        "def get_training_data(episode_data):\n",
        "  train_data = []\n",
        "  for entry in episodes_data:\n",
        "    for step in entry['steps']:\n",
        "      one_hot = np.zeros(env.action_space.n)\n",
        "      one_hot[step[0]] = 1\n",
        "      train_data.append([one_hot, step[1]])\n",
        "  return train_data\n",
        "\n",
        "def train(training_data):\n",
        "  for data in training_data:\n",
        "    optimizer.zero_grad()\n",
        "    # get the inputs; data is a list of [inputs, labels]\n",
        "    action, observation = data\n",
        "    #convert to torch?\n",
        "    observation=torch.from_numpy(np.expand_dims(observation, axis=0))\n",
        "    action =torch.from_numpy(np.array([np.argmax(action, axis=0)]))\n",
        "\n",
        "\n",
        "    # forward + backward + optimize\n",
        "    output_action = net(observation)\n",
        "    loss = criterion(output_action, action)\n",
        "    loss.backward()\n",
        "    optimizer.step()\n",
        "\n",
        "while False:\n",
        "  episodes_data = sample(episodes_n=30)\n",
        "  print(f\"Mean Reward for Sampling 20 episodes {calculate_total_mean_reward(episodes_data)}\")\n",
        "  best_20 = get_top_20(episodes_data)\n",
        "  train(get_training_data(best_20))"
      ],
      "execution_count": 16,
      "outputs": []
    },
    {
      "cell_type": "markdown",
      "metadata": {
        "id": "wMu2VyYHZItY"
      },
      "source": [
        "# Download Video"
      ]
    },
    {
      "cell_type": "markdown",
      "metadata": {
        "id": "kOYH3BEWdSRq"
      },
      "source": [
        "Code found [here](https://colab.research.google.com/github/jeffheaton/t81_558_deep_learning/blob/master/t81_558_class_12_01_ai_gym.ipynb#scrollTo=78BfQoQKOq7z)"
      ]
    },
    {
      "cell_type": "code",
      "metadata": {
        "id": "uF92FCzZMWPn"
      },
      "source": [
        "!pip install gym pyvirtualdisplay > /dev/null 2>&1\n",
        "!apt-get install -y xvfb python-opengl ffmpeg > /dev/null 2>&1"
      ],
      "execution_count": 17,
      "outputs": []
    },
    {
      "cell_type": "code",
      "metadata": {
        "id": "p2499HTRYX2n"
      },
      "source": [
        "## used for downloading videos\n",
        "import gym\n",
        "from gym.wrappers import Monitor\n",
        "import glob\n",
        "import io\n",
        "import base64\n",
        "from IPython.display import HTML\n",
        "from pyvirtualdisplay import Display\n",
        "from IPython import display as ipythondisplay\n",
        "\n",
        "display = Display(visible=0, size=(1400, 900))\n",
        "display.start()\n",
        "\n",
        "\"\"\"\n",
        "Utility functions to enable video recording of gym environment \n",
        "and displaying it.\n",
        "To enable video, just do \"env = wrap_env(env)\"\"\n",
        "\"\"\"\n",
        "\n",
        "def show_video():\n",
        "  mp4list = glob.glob('video/*.mp4')\n",
        "  if len(mp4list) > 0:\n",
        "    mp4 = mp4list[0]\n",
        "    video = io.open(mp4, 'r+b').read()\n",
        "    encoded = base64.b64encode(video)\n",
        "    ipythondisplay.display(HTML(data='''<video alt=\"test\" autoplay \n",
        "                loop controls style=\"height: 400px;\">\n",
        "                <source src=\"data:video/mp4;base64,{0}\" type=\"video/mp4\" />\n",
        "             </video>'''.format(encoded.decode('ascii'))))\n",
        "  else: \n",
        "    print(\"Could not find video\")\n",
        "    \n",
        "\n",
        "def wrap_env(env):\n",
        "  env = Monitor(env, './video', force=True)\n",
        "  return env\n",
        "\n",
        "\n"
      ],
      "execution_count": 18,
      "outputs": []
    },
    {
      "cell_type": "code",
      "metadata": {
        "id": "aqf4kCnjYktY",
        "colab": {
          "base_uri": "https://localhost:8080/",
          "height": 421
        },
        "outputId": "9c67994b-964c-473e-c565-d5e6f301ea34"
      },
      "source": [
        "env = wrap_env(gym.make(\"LunarLander-v2\"))\n",
        "softmax = nn.Softmax(dim=1)\n",
        "reward2= 0\n",
        "\n",
        "while True:\n",
        "  observation = env.reset()\n",
        "  while True:\n",
        "    \n",
        "    env.render()\n",
        "\n",
        "    #your agent goes here\n",
        "    state_vector = torch.FloatTensor([observation])\n",
        "    probability= softmax(net(state_vector))\n",
        "\n",
        "    new_state, reward, done, info = env.step(np.argmax(probability.data.numpy()[0], axis=0))\n",
        "    if reward >= 100:\n",
        "      reward2 = reward\n",
        "    if done:\n",
        "      break\n",
        "  if reward2 != 0:\n",
        "    break\n",
        "              \n",
        "env.close()\n",
        "show_video()"
      ],
      "execution_count": 24,
      "outputs": [
        {
          "output_type": "display_data",
          "data": {
            "text/html": [
              "<video alt=\"test\" autoplay \n",
              "                loop controls style=\"height: 400px;\">\n",
              "                <source src=\"data:video/mp4;base64,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\" type=\"video/mp4\" />\n",
              "             </video>"
            ],
            "text/plain": [
              "<IPython.core.display.HTML object>"
            ]
          },
          "metadata": {
            "tags": []
          }
        }
      ]
    }
  ]
}