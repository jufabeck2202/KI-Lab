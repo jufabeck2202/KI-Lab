{
  "nbformat": 4,
  "nbformat_minor": 0,
  "metadata": {
    "colab": {
      "name": "DeepReinforcementlearning.ipynb",
      "provenance": [],
      "collapsed_sections": [],
      "include_colab_link": true
    },
    "kernelspec": {
      "name": "python3",
      "display_name": "Python 3"
    }
  },
  "cells": [
    {
      "cell_type": "markdown",
      "metadata": {
        "id": "view-in-github",
        "colab_type": "text"
      },
      "source": [
        "<a href=\"https://colab.research.google.com/github/jufabeck2202/KI-Lab/blob/main/aufgabe6/DeepReinforcementlearning.ipynb\" target=\"_parent\"><img src=\"https://colab.research.google.com/assets/colab-badge.svg\" alt=\"Open In Colab\"/></a>"
      ]
    },
    {
      "cell_type": "markdown",
      "metadata": {
        "id": "Iwm-vLKt-CxA"
      },
      "source": [
        "General idea:\n",
        "1. Use a neural network that takes as input a state (represented as numbers)\n",
        "and outputs a probability for every action.\n",
        "2. Generate episodes by inputing the current state into the network and\n",
        "sampling actions from the network’s output. Remember the\n",
        "<state, action> pairs for every episode.\n",
        "3. From these episodes, identify the ones with the highest reward.\n",
        "4. Use the <state, action> pairs from those high reward episodes as\n",
        "training examples for improving the neural network.\n",
        "5. Go back to step 2"
      ]
    },
    {
      "cell_type": "markdown",
      "metadata": {
        "id": "28X7Ou8q-E9e"
      },
      "source": [
        "Task 2\n",
        "1. Define a neural network with two fully connected-layers. The hidden layer uses a\n",
        "Relu activation. The output layer uses a softmax. Try different hidden layer sizes\n",
        "(between 100 and 500). The network takes as input a vector of the current states\n",
        "and gives out a probability for each action.\n",
        "2. Generate 100 episodes by sampling actions using the network output. Limit the\n",
        "number of steps per episode to 500. Sum up the reward of all steps of one episode.\n",
        "3. Print out the mean reward per episode of the 100 episodes.\n",
        "4. Identify the 20 best of those episodes in terms of reward and use the\n",
        "<state, action> pairs of these episodes as training examples for the network.\n",
        "5. Update the weights of the network by performing backpropagation on these <state,\n",
        "action> pairs.\n",
        "6. Repeat steps 2 to 5 until a mean reward of 100 is reached.\n",
        "7. Record a video of the lunar lander by running the trained network on one additional\n",
        "episode."
      ]
    },
    {
      "cell_type": "markdown",
      "metadata": {
        "id": "WoQx2xvS-M-i"
      },
      "source": [
        "Hints\n",
        "* Use !pip3 install box2d-py to make the environment work in Colab.\n",
        "* You cannot show the video of your lander in Colab (env.render() fails).  \n",
        "* Workaround: Download the model on your local machine and record the video there,\n",
        "using recording_demo.py as template (see Mattermost).\n",
        "* The loss is not a useful indicator for the learning progress in RL. Instead check how\n",
        "the mean reward develops over time.\n",
        "* The mean reward will jump back and forth quite a bit, but overall should increase.\n",
        "* After roughly 70 training iterations the mean reward should be positive, and after\n",
        "roughly 100 steps be over 100.\n",
        "* Note that these numbers depend on your parameter setting and it may also take\n",
        "longer or shorter.\n",
        "* Reinforcement learning is much more difficult than supervised learning, you have to\n",
        "play around quite a bit to get things into the right direction."
      ]
    },
    {
      "cell_type": "markdown",
      "metadata": {
        "id": "i0ozuttP-6-3"
      },
      "source": [
        "# Imports"
      ]
    },
    {
      "cell_type": "code",
      "metadata": {
        "id": "ZML6vY495JLW"
      },
      "source": [
        "!pip3 install box2d-py gym > /dev/null"
      ],
      "execution_count": 1,
      "outputs": []
    },
    {
      "cell_type": "code",
      "metadata": {
        "id": "nLOhghCh6375"
      },
      "source": [
        "import gym\n",
        "import torch\n",
        "import torch.nn as nn\n",
        "import torch.optim as optim\n",
        "import torch.nn.functional as F\n",
        "import numpy as np\n",
        "import matplotlib.pyplot as plt\n",
        "import heapq\n",
        "import random\n",
        "import torch.optim as optim\n",
        "%matplotlib inline\n"
      ],
      "execution_count": 2,
      "outputs": []
    },
    {
      "cell_type": "code",
      "metadata": {
        "id": "5vhGJ8K17AoF",
        "colab": {
          "base_uri": "https://localhost:8080/"
        },
        "outputId": "7dbda060-8dc9-4c57-86f8-9fc15dbf92f9"
      },
      "source": [
        "env = gym.make('LunarLander-v2')\n",
        "\n",
        "##get Action space\n",
        "print(env.observation_space.shape)\n",
        "print(env.action_space)\n",
        "print()\n",
        "print(env.observation_space.sample())\n",
        "print(env.action_space.sample())\n"
      ],
      "execution_count": 3,
      "outputs": [
        {
          "output_type": "stream",
          "text": [
            "(8,)\n",
            "Discrete(4)\n",
            "\n",
            "[ 1.1535357  -1.2871013  -0.36672607  0.69180244  2.3458402   0.5397459\n",
            "  0.30645445  0.51829046]\n",
            "0\n"
          ],
          "name": "stdout"
        }
      ]
    },
    {
      "cell_type": "markdown",
      "metadata": {
        "id": "ZQ1t9O_D_YZh"
      },
      "source": [
        "# Define Network"
      ]
    },
    {
      "cell_type": "code",
      "metadata": {
        "id": "4DA1wvKv7qLe"
      },
      "source": [
        "\n",
        "class Network(nn.Module):\n",
        "\n",
        "    def __init__(self, hidden_size,):\n",
        "        super(Network, self).__init__()\n",
        "        self.fc1 = nn.Linear(env.observation_space.shape[0], hidden_size)\n",
        "        self.fc2 = nn.Linear(hidden_size, env.action_space.n)\n",
        "        \n",
        "    def forward(self, x):\n",
        "        h = F.relu(self.fc1(x))\n",
        "        return self.fc2(h)"
      ],
      "execution_count": 4,
      "outputs": []
    },
    {
      "cell_type": "code",
      "metadata": {
        "id": "R_jgm5-hafJE"
      },
      "source": [
        "net = Network(250)\r\n",
        "criterion = nn.CrossEntropyLoss()\r\n",
        "optimizer = optim.Adam(params=net.parameters(), lr=0.01)\r\n"
      ],
      "execution_count": 5,
      "outputs": []
    },
    {
      "cell_type": "markdown",
      "metadata": {
        "id": "-pcDn0VkAG4U"
      },
      "source": [
        "# Sample Episodes"
      ]
    },
    {
      "cell_type": "code",
      "metadata": {
        "id": "QDnOo9WzAGEx"
      },
      "source": [
        "# get episodes\n",
        "def sample(episodes_n=100, max_steps=500):\n",
        "  episodes_data = []\n",
        "  \n",
        "  softmax = nn.Softmax(dim=1)\n",
        "  for i_episode in range(episodes_n):\n",
        "      steps = [] # steps[0] is the action, steps[1] is the state\n",
        "      total_reward = 0\n",
        "      state = env.reset()\n",
        "      for i_step in range(max_steps):\n",
        "\n",
        "          state_vector = torch.FloatTensor([state])\n",
        "          probability= softmax(net(state_vector))\n",
        "\n",
        "          selected_action = np.random.choice(len(probability.data.numpy()[0]), p=probability.data.numpy()[0])\n",
        "          new_state, r_state, done, info = env.step(selected_action)\n",
        "\n",
        "          #important: use old state\n",
        "          \n",
        "          steps.append([selected_action, state])\n",
        "          state = new_state\n",
        "          total_reward += r_state\n",
        "          \n",
        "\n",
        "          if done:\n",
        "              episodes_data.append({ \"total_reward\": total_reward  ,\"steps\": steps})\n",
        "              break\n",
        "      #print(f\"Mean reward of episode {i_episode}: {np.array(rewards).mean()}\")\n",
        "  return episodes_data\n"
      ],
      "execution_count": 6,
      "outputs": []
    },
    {
      "cell_type": "code",
      "metadata": {
        "id": "ucGcZ-es9nXd"
      },
      "source": [
        "def calculate_total_mean_reward(all_episodes):\n",
        "   all_rewards = [d['total_reward'] for d in all_episodes]\n",
        "   return np.array(all_rewards).mean()"
      ],
      "execution_count": 7,
      "outputs": []
    },
    {
      "cell_type": "code",
      "metadata": {
        "id": "jyVPXZ3xVSla"
      },
      "source": [
        "def get_top_20(all_episodes):\r\n",
        "  return heapq.nlargest(20, all_episodes, key=lambda s: s['total_reward'])"
      ],
      "execution_count": 8,
      "outputs": []
    },
    {
      "cell_type": "code",
      "metadata": {
        "id": "_S5Objpjkgaa"
      },
      "source": [
        "def get_training_data_batch(data):\n",
        "  observations = []\n",
        "  targets = []\n",
        "  for entry in data:\n",
        "    for step in entry['steps']:\n",
        "      #state\n",
        "      observations.append(step[1])\n",
        "      #action\n",
        "      targets.append(step[0])\n",
        "\n",
        "  return [observations, targets]"
      ],
      "execution_count": 9,
      "outputs": []
    },
    {
      "cell_type": "code",
      "metadata": {
        "id": "58ZUqyjwi0kA"
      },
      "source": [
        "def train_batch():\n",
        "  \n",
        "  # get the inputs; data is a list of [inputs, labels]\n",
        "  training_data = sample(episodes_n=120)\n",
        "  best_20 = get_top_20(training_data)\n",
        "  observations, targets = get_training_data_batch(best_20)\n",
        "\n",
        "  # calculate mean for the current episodes:\n",
        "\n",
        "  #convert to torch?\n",
        "  optimizer.zero_grad()\n",
        "  observations=torch.FloatTensor(observations)\n",
        "  targets =torch.LongTensor(targets)\n",
        "\n",
        "  # forward + backward + optimize\n",
        "  action_pred = net(observations)\n",
        "\n",
        "  loss = criterion(action_pred, targets)\n",
        "  loss.backward()\n",
        "  optimizer.step()\n",
        "  reward_complete = calculate_total_mean_reward(training_data)\n",
        "  return reward_complete, loss\n",
        "\n",
        "  \n",
        "\n"
      ],
      "execution_count": 10,
      "outputs": []
    },
    {
      "cell_type": "code",
      "metadata": {
        "id": "Kk4n721CILBk",
        "colab": {
          "base_uri": "https://localhost:8080/"
        },
        "outputId": "4336e557-0b4f-4a6a-8021-3644f4255228"
      },
      "source": [
        "i = 0\n",
        "final_rewards = []\n",
        "losses = []\n",
        "while True:\n",
        "  i+=1\n",
        "  r, loss = train_batch()\n",
        "  print(f\"{i}: Mean Reward for Sampling 100 episodes {r}, Loss: {loss}\")\n",
        "  final_rewards.append(r)\n",
        "  losses.append(loss)\n",
        "\n",
        "  if 150 < r:\n",
        "    break\n"
      ],
      "execution_count": 11,
      "outputs": [
        {
          "output_type": "stream",
          "text": [
            "1: Mean Reward for Sampling 100 episodes -202.24525542899895, Loss: 1.3732413053512573\n",
            "2: Mean Reward for Sampling 100 episodes -223.94572152915123, Loss: 1.369246006011963\n",
            "3: Mean Reward for Sampling 100 episodes -164.87479355488242, Loss: 1.3242515325546265\n",
            "4: Mean Reward for Sampling 100 episodes -137.04816206219525, Loss: 1.2468591928482056\n",
            "5: Mean Reward for Sampling 100 episodes -148.21273691157705, Loss: 1.1878736019134521\n",
            "6: Mean Reward for Sampling 100 episodes -147.95059991210047, Loss: 1.1186662912368774\n",
            "7: Mean Reward for Sampling 100 episodes -128.77663793884963, Loss: 1.0819272994995117\n",
            "8: Mean Reward for Sampling 100 episodes -121.50744913314124, Loss: 1.0722639560699463\n",
            "9: Mean Reward for Sampling 100 episodes -107.88412152440726, Loss: 1.0676261186599731\n",
            "10: Mean Reward for Sampling 100 episodes -102.53602570509936, Loss: 1.0783575773239136\n",
            "11: Mean Reward for Sampling 100 episodes -92.82650083756944, Loss: 1.1044262647628784\n",
            "12: Mean Reward for Sampling 100 episodes -92.32869446782088, Loss: 1.1305890083312988\n",
            "13: Mean Reward for Sampling 100 episodes -86.95778993511561, Loss: 1.1134377717971802\n",
            "14: Mean Reward for Sampling 100 episodes -102.87863031006623, Loss: 1.0925959348678589\n",
            "15: Mean Reward for Sampling 100 episodes -128.7208936720658, Loss: 1.0792136192321777\n",
            "16: Mean Reward for Sampling 100 episodes -137.67919298567816, Loss: 1.0729156732559204\n",
            "17: Mean Reward for Sampling 100 episodes -169.59778942913576, Loss: 1.0590382814407349\n",
            "18: Mean Reward for Sampling 100 episodes -191.68575615691395, Loss: 1.045708417892456\n",
            "19: Mean Reward for Sampling 100 episodes -158.50684985310147, Loss: 1.017939567565918\n",
            "20: Mean Reward for Sampling 100 episodes -148.76679217818548, Loss: 1.0267916917800903\n",
            "21: Mean Reward for Sampling 100 episodes -87.1514802804118, Loss: 0.9853277206420898\n",
            "22: Mean Reward for Sampling 100 episodes -85.342544877451, Loss: 0.9234408140182495\n",
            "23: Mean Reward for Sampling 100 episodes -60.94991505961882, Loss: 0.8948253989219666\n",
            "24: Mean Reward for Sampling 100 episodes -58.11881529881139, Loss: 0.9350537657737732\n",
            "25: Mean Reward for Sampling 100 episodes -56.185668577191805, Loss: 0.880989134311676\n",
            "26: Mean Reward for Sampling 100 episodes -39.34714215373579, Loss: 0.8429918885231018\n",
            "27: Mean Reward for Sampling 100 episodes -44.22738218285592, Loss: 0.87415611743927\n",
            "28: Mean Reward for Sampling 100 episodes -32.29072942954486, Loss: 0.9159315228462219\n",
            "29: Mean Reward for Sampling 100 episodes -25.35472225335876, Loss: 0.9337014555931091\n",
            "30: Mean Reward for Sampling 100 episodes -33.2328295648155, Loss: 0.898224413394928\n",
            "31: Mean Reward for Sampling 100 episodes -25.640423382526063, Loss: 0.8597447872161865\n",
            "32: Mean Reward for Sampling 100 episodes -15.635764893999307, Loss: 0.8132063150405884\n",
            "33: Mean Reward for Sampling 100 episodes -9.271895620454616, Loss: 0.8188835978507996\n",
            "34: Mean Reward for Sampling 100 episodes -14.415515067018736, Loss: 0.8625043034553528\n",
            "35: Mean Reward for Sampling 100 episodes -7.564024296214862, Loss: 0.7934689521789551\n",
            "36: Mean Reward for Sampling 100 episodes -3.471664965045774, Loss: 0.7536274790763855\n",
            "37: Mean Reward for Sampling 100 episodes 11.325766567275135, Loss: 0.7685595750808716\n",
            "38: Mean Reward for Sampling 100 episodes 31.880798552937218, Loss: 0.7040808796882629\n",
            "39: Mean Reward for Sampling 100 episodes 36.45423074006501, Loss: 0.7305816411972046\n",
            "40: Mean Reward for Sampling 100 episodes 65.8179542755446, Loss: 0.7658699154853821\n",
            "41: Mean Reward for Sampling 100 episodes 35.05473168338646, Loss: 0.8121382594108582\n",
            "42: Mean Reward for Sampling 100 episodes 31.14714159705865, Loss: 0.7844712138175964\n",
            "43: Mean Reward for Sampling 100 episodes 95.56930934749883, Loss: 0.7703796029090881\n",
            "44: Mean Reward for Sampling 100 episodes 75.042477593437, Loss: 0.7689809799194336\n",
            "45: Mean Reward for Sampling 100 episodes 142.2715175964397, Loss: 0.7480475306510925\n",
            "46: Mean Reward for Sampling 100 episodes 131.201788218762, Loss: 0.7345069050788879\n",
            "47: Mean Reward for Sampling 100 episodes 135.33293563454097, Loss: 0.7261521220207214\n",
            "48: Mean Reward for Sampling 100 episodes 133.3004359752441, Loss: 0.7313429117202759\n",
            "49: Mean Reward for Sampling 100 episodes 143.94245522585942, Loss: 0.7245752811431885\n",
            "50: Mean Reward for Sampling 100 episodes 137.67375271797707, Loss: 0.6798458099365234\n",
            "51: Mean Reward for Sampling 100 episodes 165.04707392677253, Loss: 0.7009494304656982\n"
          ],
          "name": "stdout"
        }
      ]
    },
    {
      "cell_type": "code",
      "metadata": {
        "colab": {
          "base_uri": "https://localhost:8080/",
          "height": 265
        },
        "id": "OwS-Yt3UsRUq",
        "outputId": "88e9725b-e8e1-4e6f-cf4a-d311e78e5d08"
      },
      "source": [
        "plt.plot(final_rewards, label=\"Rewards\")\n",
        "plt.show()"
      ],
      "execution_count": 12,
      "outputs": [
        {
          "output_type": "display_data",
          "data": {
            "image/png": "[encoded data removed]",
            "text/plain": [
              "<Figure size 432x288 with 1 Axes>"
            ]
          },
          "metadata": {
            "tags": [],
            "needs_background": "light"
          }
        }
      ]
    },
    {
      "cell_type": "code",
      "metadata": {
        "colab": {
          "base_uri": "https://localhost:8080/",
          "height": 267
        },
        "id": "nmi_7YKatg6m",
        "outputId": "9e4d661c-da12-445a-9d94-6eafad7a2205"
      },
      "source": [
        "plt.plot(losses)\n",
        "plt.ylabel(\"losses\")\n",
        "plt.show()"
      ],
      "execution_count": 13,
      "outputs": [
        {
          "output_type": "display_data",
          "data": {
            "image/png": "[encoded data removed]",
            "text/plain": [
              "<Figure size 432x288 with 1 Axes>"
            ]
          },
          "metadata": {
            "tags": [],
            "needs_background": "light"
          }
        }
      ]
    },
    {
      "cell_type": "markdown",
      "metadata": {
        "id": "KbdTOUSLbQ_r"
      },
      "source": [
        "# Deprecated code"
      ]
    },
    {
      "cell_type": "code",
      "metadata": {
        "id": "zc6nClmuXcgX"
      },
      "source": [
        "# depricated code\n",
        "def get_training_data(episode_data):\n",
        "  train_data = []\n",
        "  for entry in episodes_data:\n",
        "    for step in entry['steps']:\n",
        "      one_hot = np.zeros(env.action_space.n)\n",
        "      one_hot[step[0]] = 1\n",
        "      train_data.append([one_hot, step[1]])\n",
        "  return train_data\n",
        "\n",
        "def train(training_data):\n",
        "  for data in training_data:\n",
        "    optimizer.zero_grad()\n",
        "    # get the inputs; data is a list of [inputs, labels]\n",
        "    action, observation = data\n",
        "    #convert to torch?\n",
        "    observation=torch.from_numpy(np.expand_dims(observation, axis=0))\n",
        "    action =torch.from_numpy(np.array([np.argmax(action, axis=0)]))\n",
        "\n",
        "\n",
        "    # forward + backward + optimize\n",
        "    output_action = net(observation)\n",
        "    loss = criterion(output_action, action)\n",
        "    loss.backward()\n",
        "    optimizer.step()\n",
        "\n",
        "while False:\n",
        "  episodes_data = sample(episodes_n=30)\n",
        "  print(f\"Mean Reward for Sampling 20 episodes {calculate_total_mean_reward(episodes_data)}\")\n",
        "  best_20 = get_top_20(episodes_data)\n",
        "  train(get_training_data(best_20))"
      ],
      "execution_count": 14,
      "outputs": []
    },
    {
      "cell_type": "markdown",
      "metadata": {
        "id": "wMu2VyYHZItY"
      },
      "source": [
        "# Download Video"
      ]
    },
    {
      "cell_type": "markdown",
      "metadata": {
        "id": "kOYH3BEWdSRq"
      },
      "source": [
        "Code found [here](https://colab.research.google.com/github/jeffheaton/t81_558_deep_learning/blob/master/t81_558_class_12_01_ai_gym.ipynb#scrollTo=78BfQoQKOq7z)"
      ]
    },
    {
      "cell_type": "code",
      "metadata": {
        "id": "uF92FCzZMWPn"
      },
      "source": [
        "!pip install gym pyvirtualdisplay > /dev/null 2>&1\n",
        "!apt-get install -y xvfb python-opengl ffmpeg > /dev/null 2>&1"
      ],
      "execution_count": 15,
      "outputs": []
    },
    {
      "cell_type": "code",
      "metadata": {
        "id": "p2499HTRYX2n"
      },
      "source": [
        "## used for downloading videos\n",
        "import gym\n",
        "from gym.wrappers import Monitor\n",
        "import glob\n",
        "import io\n",
        "import base64\n",
        "from IPython.display import HTML\n",
        "from pyvirtualdisplay import Display\n",
        "from IPython import display as ipythondisplay\n",
        "\n",
        "display = Display(visible=0, size=(1400, 900))\n",
        "display.start()\n",
        "\n",
        "\"\"\"\n",
        "Utility functions to enable video recording of gym environment \n",
        "and displaying it.\n",
        "To enable video, just do \"env = wrap_env(env)\"\"\n",
        "\"\"\"\n",
        "\n",
        "def show_video():\n",
        "  mp4list = glob.glob('video/*.mp4')\n",
        "  if len(mp4list) > 0:\n",
        "    mp4 = mp4list[0]\n",
        "    video = io.open(mp4, 'r+b').read()\n",
        "    encoded = base64.b64encode(video)\n",
        "    ipythondisplay.display(HTML(data='''<video alt=\"test\" autoplay \n",
        "                loop controls style=\"height: 400px;\">\n",
        "                <source src=\"data:video/mp4;base64,{0}\" type=\"video/mp4\" />\n",
        "             </video>'''.format(encoded.decode('ascii'))))\n",
        "  else: \n",
        "    print(\"Could not find video\")\n",
        "    \n",
        "\n",
        "def wrap_env(env):\n",
        "  env = Monitor(env, './video', force=True)\n",
        "  return env\n",
        "\n",
        "\n"
      ],
      "execution_count": 16,
      "outputs": []
    },
    {
      "cell_type": "code",
      "metadata": {
        "id": "aqf4kCnjYktY",
        "colab": {
          "base_uri": "https://localhost:8080/",
          "height": 438
        },
        "outputId": "0237fde2-b58e-49e1-e664-cfb26c33ce0c"
      },
      "source": [
        "env = wrap_env(gym.make(\"LunarLander-v2\"))\n",
        "softmax = nn.Softmax(dim=1)\n",
        "reward2= 0\n",
        "\n",
        "while True:\n",
        "  observation = env.reset()\n",
        "  while True:\n",
        "    \n",
        "    env.render()\n",
        "\n",
        "    #your agent goes here\n",
        "    state_vector = torch.FloatTensor([observation])\n",
        "    probability= softmax(net(state_vector))\n",
        "\n",
        "    new_state, reward, done, info = env.step(np.argmax(probability.data.numpy()[0], axis=0))\n",
        "    #+100 reward if spaceship landet\n",
        "    if reward >= 50:\n",
        "      print(reward)\n",
        "      reward2 = reward\n",
        "    if done:\n",
        "      break\n",
        "  if reward2 != 0:\n",
        "    break\n",
        "              \n",
        "env.close()\n",
        "show_video()"
      ],
      "execution_count": 19,
      "outputs": [
        {
          "output_type": "stream",
          "text": [
            "100.89652974015232\n"
          ],
          "name": "stdout"
        },
        {
          "output_type": "display_data",
          "data": {
            "text/html": [
              "<video alt=\"test\" autoplay \n",
              "                loop controls style=\"height: 400px;\">\n",
              "                <source src=\"data:video/mp4;base64,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\" type=\"video/mp4\" />\n",
              "             </video>"
            ],
            "text/plain": [
              "<IPython.core.display.HTML object>"
            ]
          },
          "metadata": {
            "tags": []
          }
        }
      ]
    }
  ]
}