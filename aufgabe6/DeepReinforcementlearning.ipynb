{
  "nbformat": 4,
  "nbformat_minor": 0,
  "metadata": {
    "colab": {
      "name": "DeepReinforcementlearning.ipynb",
      "provenance": [],
      "collapsed_sections": [],
      "include_colab_link": true
    },
    "kernelspec": {
      "name": "python3",
      "display_name": "Python 3"
    }
  },
  "cells": [
    {
      "cell_type": "markdown",
      "metadata": {
        "id": "view-in-github",
        "colab_type": "text"
      },
      "source": [
        "<a href=\"https://colab.research.google.com/github/jufabeck2202/KI-Lab/blob/main/aufgabe6/DeepReinforcementlearning.ipynb\" target=\"_parent\"><img src=\"https://colab.research.google.com/assets/colab-badge.svg\" alt=\"Open In Colab\"/></a>"
      ]
    },
    {
      "cell_type": "markdown",
      "metadata": {
        "id": "Iwm-vLKt-CxA"
      },
      "source": [
        "General idea:\n",
        "1. Use a neural network that takes as input a state (represented as numbers)\n",
        "and outputs a probability for every action.\n",
        "2. Generate episodes by inputing the current state into the network and\n",
        "sampling actions from the network’s output. Remember the\n",
        "<state, action> pairs for every episode.\n",
        "3. From these episodes, identify the ones with the highest reward.\n",
        "4. Use the <state, action> pairs from those high reward episodes as\n",
        "training examples for improving the neural network.\n",
        "5. Go back to step 2"
      ]
    },
    {
      "cell_type": "markdown",
      "metadata": {
        "id": "28X7Ou8q-E9e"
      },
      "source": [
        "Task 2\n",
        "1. Define a neural network with two fully connected-layers. The hidden layer uses a\n",
        "Relu activation. The output layer uses a softmax. Try different hidden layer sizes\n",
        "(between 100 and 500). The network takes as input a vector of the current states\n",
        "and gives out a probability for each action.\n",
        "2. Generate 100 episodes by sampling actions using the network output. Limit the\n",
        "number of steps per episode to 500. Sum up the reward of all steps of one episode.\n",
        "3. Print out the mean reward per episode of the 100 episodes.\n",
        "4. Identify the 20 best of those episodes in terms of reward and use the\n",
        "<state, action> pairs of these episodes as training examples for the network.\n",
        "5. Update the weights of the network by performing backpropagation on these <state,\n",
        "action> pairs.\n",
        "6. Repeat steps 2 to 5 until a mean reward of 100 is reached.\n",
        "7. Record a video of the lunar lander by running the trained network on one additional\n",
        "episode."
      ]
    },
    {
      "cell_type": "markdown",
      "metadata": {
        "id": "WoQx2xvS-M-i"
      },
      "source": [
        "Hints\n",
        "* Use !pip3 install box2d-py to make the environment work in Colab.\n",
        "* You cannot show the video of your lander in Colab (env.render() fails).  \n",
        "* Workaround: Download the model on your local machine and record the video there,\n",
        "using recording_demo.py as template (see Mattermost).\n",
        "* The loss is not a useful indicator for the learning progress in RL. Instead check how\n",
        "the mean reward develops over time.\n",
        "* The mean reward will jump back and forth quite a bit, but overall should increase.\n",
        "* After roughly 70 training iterations the mean reward should be positive, and after\n",
        "roughly 100 steps be over 100.\n",
        "* Note that these numbers depend on your parameter setting and it may also take\n",
        "longer or shorter.\n",
        "* Reinforcement learning is much more difficult than supervised learning, you have to\n",
        "play around quite a bit to get things into the right direction."
      ]
    },
    {
      "cell_type": "markdown",
      "metadata": {
        "id": "i0ozuttP-6-3"
      },
      "source": [
        "# Imports"
      ]
    },
    {
      "cell_type": "code",
      "metadata": {
        "id": "ZML6vY495JLW"
      },
      "source": [
        "!pip3 install box2d-py gym > /dev/null"
      ],
      "execution_count": 1,
      "outputs": []
    },
    {
      "cell_type": "code",
      "metadata": {
        "id": "nLOhghCh6375"
      },
      "source": [
        "import gym\n",
        "import torch\n",
        "import torch.nn as nn\n",
        "import torch.optim as optim\n",
        "import torch.nn.functional as F\n",
        "import numpy as np\n",
        "import matplotlib.pyplot as plt\n",
        "import heapq\n",
        "import random\n",
        "import torch.optim as optim\n",
        "%matplotlib inline\n"
      ],
      "execution_count": 2,
      "outputs": []
    },
    {
      "cell_type": "code",
      "metadata": {
        "id": "5vhGJ8K17AoF",
        "colab": {
          "base_uri": "https://localhost:8080/"
        },
        "outputId": "7dbda060-8dc9-4c57-86f8-9fc15dbf92f9"
      },
      "source": [
        "env = gym.make('LunarLander-v2')\n",
        "\n",
        "##get Action space\n",
        "print(env.observation_space.shape)\n",
        "print(env.action_space)\n",
        "print()\n",
        "print(env.observation_space.sample())\n",
        "print(env.action_space.sample())\n"
      ],
      "execution_count": 3,
      "outputs": [
        {
          "output_type": "stream",
          "text": [
            "(8,)\n",
            "Discrete(4)\n",
            "\n",
            "[ 1.1535357  -1.2871013  -0.36672607  0.69180244  2.3458402   0.5397459\n",
            "  0.30645445  0.51829046]\n",
            "0\n"
          ],
          "name": "stdout"
        }
      ]
    },
    {
      "cell_type": "markdown",
      "metadata": {
        "id": "ZQ1t9O_D_YZh"
      },
      "source": [
        "# Define Network"
      ]
    },
    {
      "cell_type": "code",
      "metadata": {
        "id": "4DA1wvKv7qLe"
      },
      "source": [
        "\n",
        "class Network(nn.Module):\n",
        "\n",
        "    def __init__(self, hidden_size,):\n",
        "        super(Network, self).__init__()\n",
        "        self.fc1 = nn.Linear(env.observation_space.shape[0], hidden_size)\n",
        "        self.fc2 = nn.Linear(hidden_size, env.action_space.n)\n",
        "        \n",
        "    def forward(self, x):\n",
        "        h = F.relu(self.fc1(x))\n",
        "        return self.fc2(h)"
      ],
      "execution_count": 4,
      "outputs": []
    },
    {
      "cell_type": "code",
      "metadata": {
        "id": "R_jgm5-hafJE"
      },
      "source": [
        "net = Network(250)\r\n",
        "criterion = nn.CrossEntropyLoss()\r\n",
        "optimizer = optim.Adam(params=net.parameters(), lr=0.01)\r\n"
      ],
      "execution_count": 5,
      "outputs": []
    },
    {
      "cell_type": "markdown",
      "metadata": {
        "id": "-pcDn0VkAG4U"
      },
      "source": [
        "# Sample Episodes"
      ]
    },
    {
      "cell_type": "code",
      "metadata": {
        "id": "QDnOo9WzAGEx"
      },
      "source": [
        "# get episodes\n",
        "def sample(episodes_n=100, max_steps=500):\n",
        "  episodes_data = []\n",
        "  \n",
        "  softmax = nn.Softmax(dim=1)\n",
        "  for i_episode in range(episodes_n):\n",
        "      steps = [] # steps[0] is the action, steps[1] is the state\n",
        "      total_reward = 0\n",
        "      state = env.reset()\n",
        "      for i_step in range(max_steps):\n",
        "\n",
        "          state_vector = torch.FloatTensor([state])\n",
        "          probability= softmax(net(state_vector))\n",
        "\n",
        "          selected_action = np.random.choice(len(probability.data.numpy()[0]), p=probability.data.numpy()[0])\n",
        "          new_state, r_state, done, info = env.step(selected_action)\n",
        "\n",
        "          #important: use old state\n",
        "          \n",
        "          steps.append([selected_action, state])\n",
        "          state = new_state\n",
        "          total_reward += r_state\n",
        "          \n",
        "\n",
        "          if done:\n",
        "              episodes_data.append({ \"total_reward\": total_reward  ,\"steps\": steps})\n",
        "              break\n",
        "      #print(f\"Mean reward of episode {i_episode}: {np.array(rewards).mean()}\")\n",
        "  return episodes_data\n"
      ],
      "execution_count": 6,
      "outputs": []
    },
    {
      "cell_type": "code",
      "metadata": {
        "id": "ucGcZ-es9nXd"
      },
      "source": [
        "def calculate_total_mean_reward(all_episodes):\n",
        "   all_rewards = [d['total_reward'] for d in all_episodes]\n",
        "   return np.array(all_rewards).mean()"
      ],
      "execution_count": 7,
      "outputs": []
    },
    {
      "cell_type": "code",
      "metadata": {
        "id": "jyVPXZ3xVSla"
      },
      "source": [
        "def get_top_20(all_episodes):\r\n",
        "  return heapq.nlargest(20, all_episodes, key=lambda s: s['total_reward'])"
      ],
      "execution_count": 8,
      "outputs": []
    },
    {
      "cell_type": "code",
      "metadata": {
        "id": "_S5Objpjkgaa"
      },
      "source": [
        "def get_training_data_batch(data):\n",
        "  observations = []\n",
        "  targets = []\n",
        "  for entry in data:\n",
        "    for step in entry['steps']:\n",
        "      #state\n",
        "      observations.append(step[1])\n",
        "      #action\n",
        "      targets.append(step[0])\n",
        "\n",
        "  return [observations, targets]"
      ],
      "execution_count": 9,
      "outputs": []
    },
    {
      "cell_type": "code",
      "metadata": {
        "id": "58ZUqyjwi0kA"
      },
      "source": [
        "def train_batch():\n",
        "  \n",
        "  # get the inputs; data is a list of [inputs, labels]\n",
        "  training_data = sample(episodes_n=120)\n",
        "  best_20 = get_top_20(training_data)\n",
        "  observations, targets = get_training_data_batch(best_20)\n",
        "\n",
        "  # calculate mean for the current episodes:\n",
        "\n",
        "  #convert to torch?\n",
        "  optimizer.zero_grad()\n",
        "  observations=torch.FloatTensor(observations)\n",
        "  targets =torch.LongTensor(targets)\n",
        "\n",
        "  # forward + backward + optimize\n",
        "  action_pred = net(observations)\n",
        "\n",
        "  loss = criterion(action_pred, targets)\n",
        "  loss.backward()\n",
        "  optimizer.step()\n",
        "  reward_complete = calculate_total_mean_reward(training_data)\n",
        "  return reward_complete, loss\n",
        "\n",
        "  \n",
        "\n"
      ],
      "execution_count": 10,
      "outputs": []
    },
    {
      "cell_type": "code",
      "metadata": {
        "id": "Kk4n721CILBk",
        "colab": {
          "base_uri": "https://localhost:8080/"
        },
        "outputId": "4336e557-0b4f-4a6a-8021-3644f4255228"
      },
      "source": [
        "i = 0\n",
        "final_rewards = []\n",
        "losses = []\n",
        "while True:\n",
        "  i+=1\n",
        "  r, loss = train_batch()\n",
        "  print(f\"{i}: Mean Reward for Sampling 100 episodes {r}, Loss: {loss}\")\n",
        "  final_rewards.append(r)\n",
        "  losses.append(loss)\n",
        "\n",
        "  if 150 < r:\n",
        "    break\n"
      ],
      "execution_count": 11,
      "outputs": [
        {
          "output_type": "stream",
          "text": [
            "1: Mean Reward for Sampling 100 episodes -202.24525542899895, Loss: 1.3732413053512573\n",
            "2: Mean Reward for Sampling 100 episodes -223.94572152915123, Loss: 1.369246006011963\n",
            "3: Mean Reward for Sampling 100 episodes -164.87479355488242, Loss: 1.3242515325546265\n",
            "4: Mean Reward for Sampling 100 episodes -137.04816206219525, Loss: 1.2468591928482056\n",
            "5: Mean Reward for Sampling 100 episodes -148.21273691157705, Loss: 1.1878736019134521\n",
            "6: Mean Reward for Sampling 100 episodes -147.95059991210047, Loss: 1.1186662912368774\n",
            "7: Mean Reward for Sampling 100 episodes -128.77663793884963, Loss: 1.0819272994995117\n",
            "8: Mean Reward for Sampling 100 episodes -121.50744913314124, Loss: 1.0722639560699463\n",
            "9: Mean Reward for Sampling 100 episodes -107.88412152440726, Loss: 1.0676261186599731\n",
            "10: Mean Reward for Sampling 100 episodes -102.53602570509936, Loss: 1.0783575773239136\n",
            "11: Mean Reward for Sampling 100 episodes -92.82650083756944, Loss: 1.1044262647628784\n",
            "12: Mean Reward for Sampling 100 episodes -92.32869446782088, Loss: 1.1305890083312988\n",
            "13: Mean Reward for Sampling 100 episodes -86.95778993511561, Loss: 1.1134377717971802\n",
            "14: Mean Reward for Sampling 100 episodes -102.87863031006623, Loss: 1.0925959348678589\n",
            "15: Mean Reward for Sampling 100 episodes -128.7208936720658, Loss: 1.0792136192321777\n",
            "16: Mean Reward for Sampling 100 episodes -137.67919298567816, Loss: 1.0729156732559204\n",
            "17: Mean Reward for Sampling 100 episodes -169.59778942913576, Loss: 1.0590382814407349\n",
            "18: Mean Reward for Sampling 100 episodes -191.68575615691395, Loss: 1.045708417892456\n",
            "19: Mean Reward for Sampling 100 episodes -158.50684985310147, Loss: 1.017939567565918\n",
            "20: Mean Reward for Sampling 100 episodes -148.76679217818548, Loss: 1.0267916917800903\n",
            "21: Mean Reward for Sampling 100 episodes -87.1514802804118, Loss: 0.9853277206420898\n",
            "22: Mean Reward for Sampling 100 episodes -85.342544877451, Loss: 0.9234408140182495\n",
            "23: Mean Reward for Sampling 100 episodes -60.94991505961882, Loss: 0.8948253989219666\n",
            "24: Mean Reward for Sampling 100 episodes -58.11881529881139, Loss: 0.9350537657737732\n",
            "25: Mean Reward for Sampling 100 episodes -56.185668577191805, Loss: 0.880989134311676\n",
            "26: Mean Reward for Sampling 100 episodes -39.34714215373579, Loss: 0.8429918885231018\n",
            "27: Mean Reward for Sampling 100 episodes -44.22738218285592, Loss: 0.87415611743927\n",
            "28: Mean Reward for Sampling 100 episodes -32.29072942954486, Loss: 0.9159315228462219\n",
            "29: Mean Reward for Sampling 100 episodes -25.35472225335876, Loss: 0.9337014555931091\n",
            "30: Mean Reward for Sampling 100 episodes -33.2328295648155, Loss: 0.898224413394928\n",
            "31: Mean Reward for Sampling 100 episodes -25.640423382526063, Loss: 0.8597447872161865\n",
            "32: Mean Reward for Sampling 100 episodes -15.635764893999307, Loss: 0.8132063150405884\n",
            "33: Mean Reward for Sampling 100 episodes -9.271895620454616, Loss: 0.8188835978507996\n",
            "34: Mean Reward for Sampling 100 episodes -14.415515067018736, Loss: 0.8625043034553528\n",
            "35: Mean Reward for Sampling 100 episodes -7.564024296214862, Loss: 0.7934689521789551\n",
            "36: Mean Reward for Sampling 100 episodes -3.471664965045774, Loss: 0.7536274790763855\n",
            "37: Mean Reward for Sampling 100 episodes 11.325766567275135, Loss: 0.7685595750808716\n",
            "38: Mean Reward for Sampling 100 episodes 31.880798552937218, Loss: 0.7040808796882629\n",
            "39: Mean Reward for Sampling 100 episodes 36.45423074006501, Loss: 0.7305816411972046\n",
            "40: Mean Reward for Sampling 100 episodes 65.8179542755446, Loss: 0.7658699154853821\n",
            "41: Mean Reward for Sampling 100 episodes 35.05473168338646, Loss: 0.8121382594108582\n",
            "42: Mean Reward for Sampling 100 episodes 31.14714159705865, Loss: 0.7844712138175964\n",
            "43: Mean Reward for Sampling 100 episodes 95.56930934749883, Loss: 0.7703796029090881\n",
            "44: Mean Reward for Sampling 100 episodes 75.042477593437, Loss: 0.7689809799194336\n",
            "45: Mean Reward for Sampling 100 episodes 142.2715175964397, Loss: 0.7480475306510925\n",
            "46: Mean Reward for Sampling 100 episodes 131.201788218762, Loss: 0.7345069050788879\n",
            "47: Mean Reward for Sampling 100 episodes 135.33293563454097, Loss: 0.7261521220207214\n",
            "48: Mean Reward for Sampling 100 episodes 133.3004359752441, Loss: 0.7313429117202759\n",
            "49: Mean Reward for Sampling 100 episodes 143.94245522585942, Loss: 0.7245752811431885\n",
            "50: Mean Reward for Sampling 100 episodes 137.67375271797707, Loss: 0.6798458099365234\n",
            "51: Mean Reward for Sampling 100 episodes 165.04707392677253, Loss: 0.7009494304656982\n"
          ],
          "name": "stdout"
        }
      ]
    },
    {
      "cell_type": "code",
      "metadata": {
        "colab": {
          "base_uri": "https://localhost:8080/",
          "height": 265
        },
        "id": "OwS-Yt3UsRUq",
        "outputId": "88e9725b-e8e1-4e6f-cf4a-d311e78e5d08"
      },
      "source": [
        "plt.plot(final_rewards, label=\"Rewards\")\n",
        "plt.show()"
      ],
      "execution_count": 12,
      "outputs": [
        {
          "output_type": "display_data",
          "data": {
            "image/png": "[encoded data removed]",
            "text/plain": [
              "<Figure size 432x288 with 1 Axes>"
            ]
          },
          "metadata": {
            "tags": [],
            "needs_background": "light"
          }
        }
      ]
    },
    {
      "cell_type": "code",
      "metadata": {
        "colab": {
          "base_uri": "https://localhost:8080/",
          "height": 267
        },
        "id": "nmi_7YKatg6m",
        "outputId": "9e4d661c-da12-445a-9d94-6eafad7a2205"
      },
      "source": [
        "plt.plot(losses)\n",
        "plt.ylabel(\"losses\")\n",
        "plt.show()"
      ],
      "execution_count": 13,
      "outputs": [
        {
          "output_type": "display_data",
          "data": {
            "image/png": "[encoded data removed]",
            "text/plain": [
              "<Figure size 432x288 with 1 Axes>"
            ]
          },
          "metadata": {
            "tags": [],
            "needs_background": "light"
          }
        }
      ]
    },
    {
      "cell_type": "markdown",
      "metadata": {
        "id": "KbdTOUSLbQ_r"
      },
      "source": [
        "# Deprecated code"
      ]
    },
    {
      "cell_type": "code",
      "metadata": {
        "id": "zc6nClmuXcgX"
      },
      "source": [
        "# depricated code\n",
        "def get_training_data(episode_data):\n",
        "  train_data = []\n",
        "  for entry in episodes_data:\n",
        "    for step in entry['steps']:\n",
        "      one_hot = np.zeros(env.action_space.n)\n",
        "      one_hot[step[0]] = 1\n",
        "      train_data.append([one_hot, step[1]])\n",
        "  return train_data\n",
        "\n",
        "def train(training_data):\n",
        "  for data in training_data:\n",
        "    optimizer.zero_grad()\n",
        "    # get the inputs; data is a list of [inputs, labels]\n",
        "    action, observation = data\n",
        "    #convert to torch?\n",
        "    observation=torch.from_numpy(np.expand_dims(observation, axis=0))\n",
        "    action =torch.from_numpy(np.array([np.argmax(action, axis=0)]))\n",
        "\n",
        "\n",
        "    # forward + backward + optimize\n",
        "    output_action = net(observation)\n",
        "    loss = criterion(output_action, action)\n",
        "    loss.backward()\n",
        "    optimizer.step()\n",
        "\n",
        "while False:\n",
        "  episodes_data = sample(episodes_n=30)\n",
        "  print(f\"Mean Reward for Sampling 20 episodes {calculate_total_mean_reward(episodes_data)}\")\n",
        "  best_20 = get_top_20(episodes_data)\n",
        "  train(get_training_data(best_20))"
      ],
      "execution_count": 14,
      "outputs": []
    },
    {
      "cell_type": "markdown",
      "metadata": {
        "id": "wMu2VyYHZItY"
      },
      "source": [
        "# Download Video"
      ]
    },
    {
      "cell_type": "markdown",
      "metadata": {
        "id": "kOYH3BEWdSRq"
      },
      "source": [
        "Code found [here](https://colab.research.google.com/github/jeffheaton/t81_558_deep_learning/blob/master/t81_558_class_12_01_ai_gym.ipynb#scrollTo=78BfQoQKOq7z)"
      ]
    },
    {
      "cell_type": "code",
      "metadata": {
        "id": "uF92FCzZMWPn"
      },
      "source": [
        "!pip install gym pyvirtualdisplay > /dev/null 2>&1\n",
        "!apt-get install -y xvfb python-opengl ffmpeg > /dev/null 2>&1"
      ],
      "execution_count": 15,
      "outputs": []
    },
    {
      "cell_type": "code",
      "metadata": {
        "id": "p2499HTRYX2n"
      },
      "source": [
        "## used for downloading videos\n",
        "import gym\n",
        "from gym.wrappers import Monitor\n",
        "import glob\n",
        "import io\n",
        "import base64\n",
        "from IPython.display import HTML\n",
        "from pyvirtualdisplay import Display\n",
        "from IPython import display as ipythondisplay\n",
        "\n",
        "display = Display(visible=0, size=(1400, 900))\n",
        "display.start()\n",
        "\n",
        "\"\"\"\n",
        "Utility functions to enable video recording of gym environment \n",
        "and displaying it.\n",
        "To enable video, just do \"env = wrap_env(env)\"\"\n",
        "\"\"\"\n",
        "\n",
        "def show_video():\n",
        "  mp4list = glob.glob('video/*.mp4')\n",
        "  if len(mp4list) > 0:\n",
        "    mp4 = mp4list[0]\n",
        "    video = io.open(mp4, 'r+b').read()\n",
        "    encoded = base64.b64encode(video)\n",
        "    ipythondisplay.display(HTML(data='''<video alt=\"test\" autoplay \n",
        "                loop controls style=\"height: 400px;\">\n",
        "                <source src=\"data:video/mp4;base64,{0}\" type=\"video/mp4\" />\n",
        "             </video>'''.format(encoded.decode('ascii'))))\n",
        "  else: \n",
        "    print(\"Could not find video\")\n",
        "    \n",
        "\n",
        "def wrap_env(env):\n",
        "  env = Monitor(env, './video', force=True)\n",
        "  return env\n",
        "\n",
        "\n"
      ],
      "execution_count": 16,
      "outputs": []
    },
    {
      "cell_type": "code",
      "metadata": {
        "id": "aqf4kCnjYktY",
        "colab": {
          "base_uri": "https://localhost:8080/",
          "height": 438
        },
        "outputId": "ed01b253-e5cb-477e-8118-b03f09766d88"
      },
      "source": [
        "env = wrap_env(gym.make(\"LunarLander-v2\"))\n",
        "softmax = nn.Softmax(dim=1)\n",
        "reward2= 0\n",
        "\n",
        "while True:\n",
        "  observation = env.reset()\n",
        "  while True:\n",
        "    \n",
        "    env.render()\n",
        "\n",
        "    #your agent goes here\n",
        "    state_vector = torch.FloatTensor([observation])\n",
        "    probability= softmax(net(state_vector))\n",
        "\n",
        "    new_state, reward, done, info = env.step(np.argmax(probability.data.numpy()[0], axis=0))\n",
        "    #+100 reward if spaceship landet\n",
        "    if reward >= 50:\n",
        "      print(reward)\n",
        "      reward2 = reward\n",
        "    if done:\n",
        "      break\n",
        "  if reward2 != 0:\n",
        "    break\n",
        "              \n",
        "env.close()\n",
        "show_video()"
      ],
      "execution_count": 22,
      "outputs": [
        {
          "output_type": "stream",
          "text": [
            "118.56618445211936\n"
          ],
          "name": "stdout"
        },
        {
          "output_type": "display_data",
          "data": {
            "text/html": [
              "<video alt=\"test\" autoplay \n",
              "                loop controls style=\"height: 400px;\">\n",
              "                <source src=\"data:video/mp4;base64,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\" type=\"video/mp4\" />\n",
              "             </video>"
            ],
            "text/plain": [
              "<IPython.core.display.HTML object>"
            ]
          },
          "metadata": {
            "tags": []
          }
        }
      ]
    }
  ]
}