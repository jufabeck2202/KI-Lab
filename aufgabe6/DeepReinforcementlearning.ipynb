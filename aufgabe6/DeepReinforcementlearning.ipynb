{
  "nbformat": 4,
  "nbformat_minor": 0,
  "metadata": {
    "colab": {
      "name": "DeepReinforcementlearning.ipynb",
      "provenance": [],
      "collapsed_sections": [],
      "include_colab_link": true
    },
    "kernelspec": {
      "name": "python3",
      "display_name": "Python 3"
    }
  },
  "cells": [
    {
      "cell_type": "markdown",
      "metadata": {
        "id": "view-in-github",
        "colab_type": "text"
      },
      "source": [
        "<a href=\"https://colab.research.google.com/github/jufabeck2202/KI-Lab/blob/main/aufgabe6/DeepReinforcementlearning.ipynb\" target=\"_parent\"><img src=\"https://colab.research.google.com/assets/colab-badge.svg\" alt=\"Open In Colab\"/></a>"
      ]
    },
    {
      "cell_type": "markdown",
      "metadata": {
        "id": "Iwm-vLKt-CxA"
      },
      "source": [
        "General idea:\n",
        "1. Use a neural network that takes as input a state (represented as numbers)\n",
        "and outputs a probability for every action.\n",
        "2. Generate episodes by inputing the current state into the network and\n",
        "sampling actions from the network’s output. Remember the\n",
        "<state, action> pairs for every episode.\n",
        "3. From these episodes, identify the ones with the highest reward.\n",
        "4. Use the <state, action> pairs from those high reward episodes as\n",
        "training examples for improving the neural network.\n",
        "5. Go back to step 2"
      ]
    },
    {
      "cell_type": "markdown",
      "metadata": {
        "id": "28X7Ou8q-E9e"
      },
      "source": [
        "Task 2\n",
        "1. Define a neural network with two fully connected-layers. The hidden layer uses a\n",
        "Relu activation. The output layer uses a softmax. Try different hidden layer sizes\n",
        "(between 100 and 500). The network takes as input a vector of the current states\n",
        "and gives out a probability for each action.\n",
        "2. Generate 100 episodes by sampling actions using the network output. Limit the\n",
        "number of steps per episode to 500. Sum up the reward of all steps of one episode.\n",
        "3. Print out the mean reward per episode of the 100 episodes.\n",
        "4. Identify the 20 best of those episodes in terms of reward and use the\n",
        "<state, action> pairs of these episodes as training examples for the network.\n",
        "5. Update the weights of the network by performing backpropagation on these <state,\n",
        "action> pairs.\n",
        "6. Repeat steps 2 to 5 until a mean reward of 100 is reached.\n",
        "7. Record a video of the lunar lander by running the trained network on one additional\n",
        "episode."
      ]
    },
    {
      "cell_type": "markdown",
      "metadata": {
        "id": "WoQx2xvS-M-i"
      },
      "source": [
        "Hints\n",
        "* Use !pip3 install box2d-py to make the environment work in Colab.\n",
        "* You cannot show the video of your lander in Colab (env.render() fails).  \n",
        "* Workaround: Download the model on your local machine and record the video there,\n",
        "using recording_demo.py as template (see Mattermost).\n",
        "* The loss is not a useful indicator for the learning progress in RL. Instead check how\n",
        "the mean reward develops over time.\n",
        "* The mean reward will jump back and forth quite a bit, but overall should increase.\n",
        "* After roughly 70 training iterations the mean reward should be positive, and after\n",
        "roughly 100 steps be over 100.\n",
        "* Note that these numbers depend on your parameter setting and it may also take\n",
        "longer or shorter.\n",
        "* Reinforcement learning is much more difficult than supervised learning, you have to\n",
        "play around quite a bit to get things into the right direction."
      ]
    },
    {
      "cell_type": "markdown",
      "metadata": {
        "id": "i0ozuttP-6-3"
      },
      "source": [
        "# Imports"
      ]
    },
    {
      "cell_type": "code",
      "metadata": {
        "id": "ZML6vY495JLW"
      },
      "source": [
        "!pip3 install box2d-py gym > /dev/null"
      ],
      "execution_count": 54,
      "outputs": []
    },
    {
      "cell_type": "code",
      "metadata": {
        "id": "nLOhghCh6375"
      },
      "source": [
        "import gym\n",
        "import torch\n",
        "import torch.nn as nn\n",
        "import torch.optim as optim\n",
        "import torch.nn.functional as f\n",
        "import numpy as np\n",
        "import matplotlib.pyplot as plt\n",
        "import heapq\n",
        "import random\n",
        "import torch.optim as optim\n",
        "%matplotlib inline\n"
      ],
      "execution_count": 55,
      "outputs": []
    },
    {
      "cell_type": "code",
      "metadata": {
        "colab": {
          "base_uri": "https://localhost:8080/"
        },
        "id": "5vhGJ8K17AoF",
        "outputId": "9631f930-6ab1-4aee-ee4e-0b60bc7da544"
      },
      "source": [
        "env = gym.make('LunarLander-v2')\n",
        "rewards = []\n",
        "\n",
        "##get Action space\n",
        "print(env.observation_space.shape)\n",
        "print(env.action_space)\n",
        "print()\n",
        "print(env.observation_space.sample())\n",
        "print(env.action_space.sample())"
      ],
      "execution_count": 74,
      "outputs": [
        {
          "output_type": "stream",
          "text": [
            "(8,)\n",
            "Discrete(4)\n",
            "\n",
            "[-0.29276934  0.09673637 -0.3055346   0.07672118  0.03873079 -0.48137853\n",
            " -0.1174748  -0.361454  ]\n",
            "1\n"
          ],
          "name": "stdout"
        }
      ]
    },
    {
      "cell_type": "markdown",
      "metadata": {
        "id": "ZQ1t9O_D_YZh"
      },
      "source": [
        "# Define Network"
      ]
    },
    {
      "cell_type": "code",
      "metadata": {
        "id": "4DA1wvKv7qLe"
      },
      "source": [
        "class Network(torch.nn.Module):\n",
        "    def __init__(self, hidden):\n",
        "        super(Network, self).__init__()\n",
        "        # input == observation space, for this problem its 8\n",
        "        self.linear1 = torch.nn.Linear(env.observation_space.shape[0], hidden)\n",
        "        # action == action space, up down left right for this problem, so 4\n",
        "        self.linear2 = torch.nn.Linear(hidden, env.action_space.n)\n",
        "\n",
        "    def forward(self, state):\n",
        "        hidden = f.relu(self.linear1(state))\n",
        "        return self.linear2(hidden)"
      ],
      "execution_count": 57,
      "outputs": []
    },
    {
      "cell_type": "code",
      "metadata": {
        "id": "R_jgm5-hafJE"
      },
      "source": [
        "torch.backends.cudnn.enabled = True\r\n",
        "GPU_ON = torch.cuda.is_available()\r\n",
        "device = torch.device(\"cuda:0\" if GPU_ON else \"cpu\")\r\n",
        "net = Network(200)\r\n",
        "#criterion = nn.CrossEntropyLoss()\r\n",
        "criterion = nn.CrossEntropyLoss()\r\n",
        "optimizer = optim.Adam(net.parameters(), lr=0.1)\r\n",
        "if GPU_ON:\r\n",
        "  net.cuda()"
      ],
      "execution_count": 58,
      "outputs": []
    },
    {
      "cell_type": "markdown",
      "metadata": {
        "id": "-pcDn0VkAG4U"
      },
      "source": [
        "# Sample Episodes"
      ]
    },
    {
      "cell_type": "code",
      "metadata": {
        "id": "QDnOo9WzAGEx"
      },
      "source": [
        "def sample(episodes_n=100, max_steps=500):\n",
        "  episodes_data = []\n",
        "  print(episodes_data)\n",
        "  softmax = nn.Softmax(dim=1)\n",
        "  for i_episode in range(episodes_n):\n",
        "      steps = []\n",
        "      rewards = []\n",
        "      state = env.reset()\n",
        "      for t in range(max_steps):\n",
        "\n",
        "          state_vector = torch.FloatTensor([state])\n",
        "          probability= softmax(net(state_vector))\n",
        "          selected_action = np.random.choice(len(probability.data.numpy()[0]), p=probability.data.numpy()[0])\n",
        "         \n",
        "          new_state, reward, done, info = env.step(selected_action)\n",
        "          rewards.append(reward)\n",
        "          #importnt: use old state\n",
        "          steps.append([selected_action, state])\n",
        "          state = new_state\n",
        "          \n",
        "\n",
        "          if done:\n",
        "              episodes_data.append({ \"mean_reward\": np.array(rewards).sum() ,\"steps\": steps})\n",
        "              break\n",
        "      #print(f\"Mean reward of episode {i_episode}: {np.array(rewards).mean()}\")\n",
        "  return np.array(episodes_data)"
      ],
      "execution_count": 73,
      "outputs": []
    },
    {
      "cell_type": "code",
      "metadata": {
        "id": "5sERYGp7WirM"
      },
      "source": [
        "episodes_data = sample()"
      ],
      "execution_count": 60,
      "outputs": []
    },
    {
      "cell_type": "code",
      "metadata": {
        "id": "ucGcZ-es9nXd"
      },
      "source": [
        "def calculate_total_mean_reward(episode_data):\n",
        "   all_rewards = [d['mean_reward'] for d in episode_data]\n",
        "   return np.array(all_rewards).mean()"
      ],
      "execution_count": 61,
      "outputs": []
    },
    {
      "cell_type": "code",
      "metadata": {
        "id": "jyVPXZ3xVSla"
      },
      "source": [
        "def get_top_20(data):\r\n",
        "  return heapq.nlargest(20, data, key=lambda s: s['mean_reward'])"
      ],
      "execution_count": 62,
      "outputs": []
    },
    {
      "cell_type": "code",
      "metadata": {
        "id": "0swcXlC9ZGLS"
      },
      "source": [
        "def get_training_data(episode_data):\n",
        "  train_data = []\n",
        "  for entry in episodes_data:\n",
        "    for step in entry['steps']:\n",
        "      one_hot = np.zeros(env.action_space.n)\n",
        "      one_hot[step[0]] = 1\n",
        "      train_data.append([one_hot, step[1]])\n",
        "  return train_data\n"
      ],
      "execution_count": 63,
      "outputs": []
    },
    {
      "cell_type": "code",
      "metadata": {
        "id": "_S5Objpjkgaa"
      },
      "source": [
        "def get_training_data_batch(episode_data):\n",
        "  x_data = []\n",
        "  y_data = []\n",
        "  for entry in episodes_data:\n",
        "    for step in entry['steps']:\n",
        "      x_data.append(step[1])\n",
        "      y_data.append(step[0])\n",
        "  return [x_data, y_data]"
      ],
      "execution_count": 64,
      "outputs": []
    },
    {
      "cell_type": "code",
      "metadata": {
        "id": "58ZUqyjwi0kA"
      },
      "source": [
        "def train(training_data):\n",
        "  for data in training_data:\n",
        "    optimizer.zero_grad()\n",
        "    # get the inputs; data is a list of [inputs, labels]\n",
        "    action, observation = data\n",
        "    #convert to torch?\n",
        "    observation=torch.from_numpy(np.expand_dims(observation, axis=0))\n",
        "    action =torch.from_numpy(np.array([np.argmax(action, axis=0)]))\n",
        "    if GPU_ON:\n",
        "      action = action.cuda()\n",
        "      observation = observation.cuda()\n",
        "\n",
        "    # forward + backward + optimize\n",
        "    output_action = net(observation)\n",
        "    loss = criterion(output_action, action)\n",
        "    loss.backward()\n",
        "    optimizer.step()\n",
        "\n",
        "def train_batch(batch_data):\n",
        "  optimizer.zero_grad()\n",
        "  # get the inputs; data is a list of [inputs, labels]\n",
        "  x_data, y_data = batch_data\n",
        "  #convert to torch?\n",
        "  observation=torch.from_numpy(np.array(x_data))\n",
        "  target =torch.from_numpy(np.array(y_data))\n",
        "  if GPU_ON:\n",
        "    target = target.cuda()\n",
        "    observation = observation.cuda()\n",
        "\n",
        "  # forward + backward + optimize\n",
        "  action_pred = net(observation)\n",
        "  print(action_pred[0])\n",
        "  print(target[0])\n",
        "  loss = criterion(action_pred, target)\n",
        "  print(f\"Loss {loss}\")\n",
        "  loss.backward()\n",
        "  optimizer.step()\n",
        "\n"
      ],
      "execution_count": 69,
      "outputs": []
    },
    {
      "cell_type": "code",
      "metadata": {
        "id": "QP-eG0rbcFzT"
      },
      "source": [
        "#train_batch(get_training_data_batch(best_20))"
      ],
      "execution_count": 66,
      "outputs": []
    },
    {
      "cell_type": "code",
      "metadata": {
        "id": "6kbmsQ0iurM2"
      },
      "source": [
        "while False:\n",
        "  episodes_data = sample(episodes_n=200)\n",
        "  best_20 = get_top_20(episodes_data)\n",
        "  print(f\"Mean Reward for Sampling 20 episodes {calculate_total_mean_reward(best_20)}\")\n",
        "  train(get_training_data(best_20))\n",
        "  test_data = sample(episodes_n=10, training=False)\n",
        "  print(f\"Mean Reward for 10 episodes {calculate_total_mean_reward(test_data)}\")\n",
        "\n",
        "\n",
        "  "
      ],
      "execution_count": 67,
      "outputs": []
    },
    {
      "cell_type": "code",
      "metadata": {
        "id": "Kk4n721CILBk",
        "colab": {
          "base_uri": "https://localhost:8080/"
        },
        "outputId": "9122c4af-4164-4610-d399-5da96738d61c"
      },
      "source": [
        "for i in range(10000):\n",
        "  episodes_data = sample()\n",
        "  print(f\"{1} Mean Reward for Sampling 20 episodes {calculate_total_mean_reward(episodes_data)}\")\n",
        "  best_20 = get_top_20(episodes_data)\n",
        "  train_batch(get_training_data_batch(best_20))"
      ],
      "execution_count": null,
      "outputs": [
        {
          "output_type": "stream",
          "text": [
            "[]\n",
            "1 Mean Reward for Sampling 20 episodes -546.057700399698\n",
            "tensor([-31.8211,  45.3078, -22.2468,  -1.7579], grad_fn=<SelectBackward>)\n",
            "tensor(1)\n",
            "Loss 0.0\n",
            "[]\n",
            "1 Mean Reward for Sampling 20 episodes -566.8107148099164\n",
            "tensor([-30.5632,  42.8974, -22.5649,  -2.0903], grad_fn=<SelectBackward>)\n",
            "tensor(1)\n",
            "Loss 0.0\n",
            "[]\n",
            "1 Mean Reward for Sampling 20 episodes -599.5380120802761\n",
            "tensor([-42.3141,  62.6549, -37.2489,  -6.6790], grad_fn=<SelectBackward>)\n",
            "tensor(1)\n",
            "Loss 0.0\n",
            "[]\n",
            "1 Mean Reward for Sampling 20 episodes -588.6702129954579\n",
            "tensor([-46.7895,  69.9956, -42.8068,  -9.1575], grad_fn=<SelectBackward>)\n",
            "tensor(1)\n",
            "Loss 0.0\n",
            "[]\n",
            "1 Mean Reward for Sampling 20 episodes -623.6690116598968\n",
            "tensor([-49.0571,  73.5927, -44.6151, -11.4792], grad_fn=<SelectBackward>)\n",
            "tensor(1)\n",
            "Loss 0.0\n",
            "[]\n",
            "1 Mean Reward for Sampling 20 episodes -609.123018708564\n",
            "tensor([-41.1370,  59.5764, -36.1616,  -7.9662], grad_fn=<SelectBackward>)\n",
            "tensor(1)\n",
            "Loss 0.0\n",
            "[]\n",
            "1 Mean Reward for Sampling 20 episodes -583.5912979566223\n",
            "tensor([-39.6086,  56.2012, -33.4995,  -7.3122], grad_fn=<SelectBackward>)\n",
            "tensor(1)\n",
            "Loss 0.0\n",
            "[]\n",
            "1 Mean Reward for Sampling 20 episodes -594.8553442610488\n",
            "tensor([-58.8886,  89.8197, -56.6954, -17.7717], grad_fn=<SelectBackward>)\n",
            "tensor(1)\n",
            "Loss 0.0\n",
            "[]\n",
            "1 Mean Reward for Sampling 20 episodes -523.6614904717835\n",
            "tensor([-54.3366,  82.1570, -49.8660, -17.2135], grad_fn=<SelectBackward>)\n",
            "tensor(1)\n",
            "Loss 0.0\n",
            "[]\n",
            "1 Mean Reward for Sampling 20 episodes -570.6669144086604\n",
            "tensor([-62.1387,  95.6339, -55.8462, -22.7925], grad_fn=<SelectBackward>)\n",
            "tensor(1)\n",
            "Loss 0.0\n",
            "[]\n",
            "1 Mean Reward for Sampling 20 episodes -570.726952019662\n",
            "tensor([-52.2700,  77.7399, -46.8127, -16.3956], grad_fn=<SelectBackward>)\n",
            "tensor(1)\n",
            "Loss 0.0\n",
            "[]\n",
            "1 Mean Reward for Sampling 20 episodes -571.7172358890406\n",
            "tensor([-62.0177,  94.4313, -61.8637, -19.8569], grad_fn=<SelectBackward>)\n",
            "tensor(1)\n",
            "Loss 0.0\n",
            "[]\n",
            "1 Mean Reward for Sampling 20 episodes -563.8822202751418\n",
            "tensor([-64.6189,  99.4958, -61.6983, -24.6201], grad_fn=<SelectBackward>)\n",
            "tensor(1)\n",
            "Loss 0.0\n",
            "[]\n",
            "1 Mean Reward for Sampling 20 episodes -585.9871514916149\n",
            "tensor([-64.5460,  99.0629, -63.8688, -23.5807], grad_fn=<SelectBackward>)\n",
            "tensor(1)\n",
            "Loss 0.0\n",
            "[]\n",
            "1 Mean Reward for Sampling 20 episodes -569.1871019726177\n",
            "tensor([-72.8940, 113.0468, -73.8463, -27.9941], grad_fn=<SelectBackward>)\n",
            "tensor(1)\n",
            "Loss 0.0\n",
            "[]\n",
            "1 Mean Reward for Sampling 20 episodes -589.4442734355631\n",
            "tensor([-65.2832,  98.7918, -66.7359, -20.7433], grad_fn=<SelectBackward>)\n",
            "tensor(1)\n",
            "Loss 0.0\n",
            "[]\n",
            "1 Mean Reward for Sampling 20 episodes -578.2207930780896\n",
            "tensor([-75.5413, 118.2389, -70.7094, -33.2472], grad_fn=<SelectBackward>)\n",
            "tensor(1)\n",
            "Loss 0.0\n",
            "[]\n",
            "1 Mean Reward for Sampling 20 episodes -584.2960845657922\n",
            "tensor([-65.1338,  99.6628, -64.6819, -24.4792], grad_fn=<SelectBackward>)\n",
            "tensor(1)\n",
            "Loss 0.0\n",
            "[]\n",
            "1 Mean Reward for Sampling 20 episodes -530.0554307552998\n",
            "tensor([-63.6009,  96.7497, -60.3041, -24.7520], grad_fn=<SelectBackward>)\n",
            "tensor(1)\n",
            "Loss 0.0\n",
            "[]\n",
            "1 Mean Reward for Sampling 20 episodes -585.9864719541781\n",
            "tensor([-68.6560, 105.8691, -67.9374, -27.7886], grad_fn=<SelectBackward>)\n",
            "tensor(1)\n",
            "Loss 0.0\n",
            "[]\n",
            "1 Mean Reward for Sampling 20 episodes -610.3579599189576\n",
            "tensor([-68.1235, 103.2621, -70.0758, -22.9166], grad_fn=<SelectBackward>)\n",
            "tensor(1)\n",
            "Loss 0.0\n",
            "[]\n"
          ],
          "name": "stdout"
        }
      ]
    }
  ]
}