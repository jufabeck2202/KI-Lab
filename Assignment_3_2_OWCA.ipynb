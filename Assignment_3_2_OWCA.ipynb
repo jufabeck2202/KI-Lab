{
  "nbformat": 4,
  "nbformat_minor": 0,
  "metadata": {
    "colab": {
      "name": "Assignment 3_2 OWCA.ipynb",
      "provenance": [],
      "authorship_tag": "ABX9TyOVemjkpH5RpLCBalioKFVv",
      "include_colab_link": true
    },
    "kernelspec": {
      "name": "python3",
      "display_name": "Python 3"
    },
    "accelerator": "GPU"
  },
  "cells": [
    {
      "cell_type": "markdown",
      "metadata": {
        "id": "view-in-github",
        "colab_type": "text"
      },
      "source": [
        "<a href=\"https://colab.research.google.com/github/jufabeck2202/KI-Lab/blob/main/Assignment_3_2_OWCA.ipynb\" target=\"_parent\"><img src=\"https://colab.research.google.com/assets/colab-badge.svg\" alt=\"Open In Colab\"/></a>"
      ]
    },
    {
      "cell_type": "markdown",
      "metadata": {
        "id": "Ke3QmjcgjSHn"
      },
      "source": [
        "1. Load a reduced dataset for transfer learning that:\n",
        "    1. Only contains the classes „ship“ and „truck“\n",
        "    2. Only contains the first 50 images of the original dataset that are either „ship“ or „truck“.\n",
        "2. Apply transfer learning by loading the model that was trained on the eight CIFAR classes\n",
        "(Notebook 1) and do the following experiments:\n",
        "    1. Re-initalize the last fully connected layer to predict on two classes.\n",
        "    2. Train on the 50 training images (as on the last slide) with the model using two different\n",
        "approaches:\n",
        "        1. Fine-tune all parameters (i.e. do not freeze parameters but reduce learning rate).\n",
        "        2. Freeze all parameters expect the ones from the last fc-layer.\n",
        "    3. Calculate the accuracy for both approaches on 50 test images.\n",
        "3. Do the same as in step 2 but use the pre-trained network resnet18 from the torch vision library.\n",
        "Compare the results.\n",
        "4. Resnet18 was pre-trained on the image net data, which has an image resolution of 224x224.\n",
        "However, Resnet18 still works on other solutions because it uses an adaptive pooling layer\n",
        "before the fc-layer (see discussion here). Try to see if you can improve the results by resizing\n",
        "the CIFAR images to 224x224 before passing it to the Resnet.\n",
        "5. Bonus: Check how the transfer learning approach works with the pre-trained VGG16 model."
      ]
    },
    {
      "cell_type": "code",
      "metadata": {
        "id": "J-b7CSa1tvkn"
      },
      "source": [
        ""
      ],
      "execution_count": null,
      "outputs": []
    },
    {
      "cell_type": "markdown",
      "metadata": {
        "id": "1P0vNxGmjZeQ"
      },
      "source": [
        "#Import"
      ]
    },
    {
      "cell_type": "code",
      "metadata": {
        "id": "PkNHySYCjbLq"
      },
      "source": [
        "import torch\n",
        "import torchvision\n",
        "import torchvision.transforms as transforms\n",
        "import matplotlib.pyplot as plt\n",
        "import numpy as np\n",
        "import torch.nn as nn\n",
        "import torch.nn.functional as F\n",
        "import torch.optim as optim\n",
        "from torch.utils.data import Dataset, DataLoader\n",
        "from __future__ import print_function, division\n",
        "\n",
        "import torch\n",
        "import torch.nn as nn\n",
        "import torch.optim as optim\n",
        "from torch.optim import lr_scheduler\n",
        "import numpy as np\n",
        "import torchvision\n",
        "from torchvision import datasets, models, transforms\n",
        "import matplotlib.pyplot as plt\n",
        "import time\n",
        "import os\n",
        "import copy\n"
      ],
      "execution_count": 1,
      "outputs": []
    },
    {
      "cell_type": "code",
      "metadata": {
        "id": "2FvI64_5jcU6",
        "outputId": "3b338329-43fe-4da8-b81a-fec02c56e8bd",
        "colab": {
          "base_uri": "https://localhost:8080/"
        }
      },
      "source": [
        "from google.colab import drive\n",
        "drive.mount('/content/drive')"
      ],
      "execution_count": 2,
      "outputs": [
        {
          "output_type": "stream",
          "text": [
            "Drive already mounted at /content/drive; to attempt to forcibly remount, call drive.mount(\"/content/drive\", force_remount=True).\n"
          ],
          "name": "stdout"
        }
      ]
    },
    {
      "cell_type": "markdown",
      "metadata": {
        "id": "RVc6qxY8jdhS"
      },
      "source": [
        "#Import Data"
      ]
    },
    {
      "cell_type": "code",
      "metadata": {
        "id": "G2wyR6pAjfT1"
      },
      "source": [
        "class NewCifar(Dataset):\n",
        "\n",
        "    def __init__(self, oldCifar):\n",
        "        self.newCifar = []\n",
        "\n",
        "        counterTruck=0\n",
        "        counterShip=0\n",
        "\n",
        "        for i in range(len(oldCifar)):\n",
        "            if (oldCifar.targets[i] == 8) and (counterTruck < 50):\n",
        "                counterTruck += 1\n",
        "                oldCifar.targets[i] = 0\n",
        "                self.newCifar.append(oldCifar[i])\n",
        "            if (oldCifar.targets[i] == 9) and (counterShip < 50):\n",
        "                counterShip += 1\n",
        "                oldCifar.targets[i] = 1\n",
        "                self.newCifar.append(oldCifar[i])\n",
        "\n",
        "\n",
        "    def __len__(self):\n",
        "        return len(self.newCifar) # 1000 per calss\n",
        "\n",
        "    def __getitem__(self, idx):\n",
        "        if torch.is_tensor(idx):\n",
        "            idx= idx.tolist()\n",
        "\n",
        "        return self.newCifar[idx]"
      ],
      "execution_count": 3,
      "outputs": []
    },
    {
      "cell_type": "code",
      "metadata": {
        "id": "Nj0KeTgqjg2v",
        "outputId": "1310a8bb-77d6-4b2f-d284-684e5c56660d",
        "colab": {
          "base_uri": "https://localhost:8080/"
        }
      },
      "source": [
        "transform = transforms.Compose(\n",
        "    [transforms.ToTensor(),\n",
        "     transforms.Normalize((0.5, 0.5, 0.5), (0.5, 0.5, 0.5))])\n",
        "\n",
        "trainset = NewCifar(torchvision.datasets.CIFAR10(root='./data', train=True,\n",
        "                                        download=True, transform=transform))\n",
        "\n",
        "\n",
        "trainloader = torch.utils.data.DataLoader(trainset, batch_size=4,\n",
        "                                          shuffle=True, num_workers=2)\n",
        "\n",
        "testset = NewCifar(torchvision.datasets.CIFAR10(root='./data', train=False,\n",
        "                                       download=True, transform=transform))\n",
        "testloader = torch.utils.data.DataLoader(testset, batch_size=4,\n",
        "                                         shuffle=False, num_workers=2)\n",
        "\n",
        "classes = ('ship', 'truck')\n",
        "\n",
        "print(len(testset))"
      ],
      "execution_count": 4,
      "outputs": [
        {
          "output_type": "stream",
          "text": [
            "Files already downloaded and verified\n",
            "Files already downloaded and verified\n",
            "100\n"
          ],
          "name": "stdout"
        }
      ]
    },
    {
      "cell_type": "markdown",
      "metadata": {
        "id": "dZgGBBvEkfFM"
      },
      "source": [
        "#Data"
      ]
    },
    {
      "cell_type": "code",
      "metadata": {
        "id": "IWWd_R3WkemI",
        "outputId": "e2922667-49bd-4fe9-d7d6-607f94be5dad",
        "colab": {
          "base_uri": "https://localhost:8080/",
          "height": 156
        }
      },
      "source": [
        "\n",
        "def imshow(img):\n",
        "    img = img / 2 + 0.5     # unnormalize\n",
        "    npimg = img.numpy()\n",
        "    plt.imshow(np.transpose(npimg, (1, 2, 0)))\n",
        "    plt.show()\n",
        "\n",
        "\n",
        "# get some random training images\n",
        "dataiter = iter(trainloader)\n",
        "images, labels = dataiter.next()\n",
        "\n",
        "# show images\n",
        "imshow(torchvision.utils.make_grid(images))\n",
        "# print labels\n",
        "print(' '.join('%5s' % classes[labels[j]] for j in range(4)))"
      ],
      "execution_count": 5,
      "outputs": [
        {
          "output_type": "display_data",
          "data": {
            "image/png": "[encoded data removed]",
            "text/plain": [
              "<Figure size 432x288 with 1 Axes>"
            ]
          },
          "metadata": {
            "tags": [],
            "needs_background": "light"
          }
        },
        {
          "output_type": "stream",
          "text": [
            "truck  ship  ship  ship\n"
          ],
          "name": "stdout"
        }
      ]
    },
    {
      "cell_type": "markdown",
      "metadata": {
        "id": "BcgHYthJn7De"
      },
      "source": [
        "#Load Model"
      ]
    },
    {
      "cell_type": "code",
      "metadata": {
        "id": "Nd9WdIO6n88D",
        "outputId": "51a709a3-71bb-4594-cf7c-7f2a32788a61",
        "colab": {
          "base_uri": "https://localhost:8080/"
        }
      },
      "source": [
        "class Net(nn.Module):\n",
        "    def __init__(self):\n",
        "        super(Net, self).__init__()\n",
        "        self.conv1 = nn.Conv2d(3, 6, 5)\n",
        "        self.pool = nn.MaxPool2d(2, 2)\n",
        "        self.conv2 = nn.Conv2d(6, 16, 5)\n",
        "        self.fc1 = nn.Linear(16 * 5 * 5, 120)\n",
        "        self.fc2 = nn.Linear(120, 84)\n",
        "        self.fc3 = nn.Linear(84, 8)\n",
        "\n",
        "    def forward(self, x):\n",
        "        x = self.pool(F.relu(self.conv1(x)))\n",
        "        x = self.pool(F.relu(self.conv2(x)))\n",
        "        x = x.view(-1, 16 * 5 * 5)\n",
        "        x = F.relu(self.fc1(x))\n",
        "        x = F.relu(self.fc2(x))\n",
        "        x = self.fc3(x)\n",
        "        return x\n",
        "\n",
        "def load_images(freeze = False):\n",
        "    model = Net()\n",
        "\n",
        "    PATH = '/content/drive/My Drive/a3/cifar_net.pth'\n",
        "    model.load_state_dict(torch.load(PATH))\n",
        "\n",
        "    if freeze:\n",
        "        for param in model.parameters():\n",
        "            param.requires_grad = False\n",
        "        \n",
        "    num_ftrs = model.fc3.in_features\n",
        "    model.fc3 = nn.Linear(num_ftrs, 2)\n",
        "\n"
      ],
      "execution_count": 17,
      "outputs": [
        {
          "output_type": "stream",
          "text": [
            "84\n"
          ],
          "name": "stdout"
        }
      ]
    }
  ]
}