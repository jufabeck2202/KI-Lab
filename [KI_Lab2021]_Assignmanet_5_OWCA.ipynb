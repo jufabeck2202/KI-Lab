{
  "nbformat": 4,
  "nbformat_minor": 0,
  "metadata": {
    "colab": {
      "name": "[KI-Lab2021] Assignmanet 5 OWCA.ipynb",
      "provenance": [],
      "collapsed_sections": [],
      "toc_visible": true,
      "authorship_tag": "ABX9TyNh0Mq7EynXc18A+oxA+bnK",
      "include_colab_link": true
    },
    "kernelspec": {
      "name": "python3",
      "display_name": "Python 3"
    },
    "accelerator": "GPU"
  },
  "cells": [
    {
      "cell_type": "markdown",
      "metadata": {
        "id": "view-in-github",
        "colab_type": "text"
      },
      "source": [
        "<a href=\"https://colab.research.google.com/github/jufabeck2202/KI-Lab/blob/main/%5BKI_Lab2021%5D_Assignmanet_5_OWCA.ipynb\" target=\"_parent\"><img src=\"https://colab.research.google.com/assets/colab-badge.svg\" alt=\"Open In Colab\"/></a>"
      ]
    },
    {
      "cell_type": "markdown",
      "metadata": {
        "id": "x21zLnYHVMB8"
      },
      "source": [
        "## Assignment 5: \n",
        "Text Preparation:\n",
        "1. We use the same dataset from last time: https://github.com/tblock/10kGNAD.\n",
        "2. Download the files train.csv and test.csv\n",
        "3.Filter both files to include only lines that fulfill both of the following conditions:\n",
        "    1. The line is of the category „Wirtschaft“ or „Sport“.\n",
        "    2. The line only contains valid characters (note that ‘\\‘ is a line break in Python):\n",
        "4. The number of valid lines for training and test should be 2154 and 244.\n",
        "\n",
        "5. Divide the valid training data lines into tokens using SpaCy.\n",
        "\n",
        "---------------------------------------------\n",
        "\n",
        "6. Determine the 5000 most common tokens in the training data.\n",
        "7. For those tokens, create the word_to_ix dictionary as shown in the tutorial.\n",
        "8. Train a language classification model using the two categories and the sentences using an LSTM model\n",
        "\n",
        "9. Use the same architecture as in the tutorial but an embedding dim of 128 and a hidden dim of 256.\n",
        "10. In one training loop go through every line of the training data and update the weights after every line (like in the tutorial).\n",
        "11. For every line, transform the words according to the word_to_ix dictionary and feed it to the LSTM as one sequence. Note: Skip words that are not in word_to_ix (they are not part of the 5000 most common tokens.)\n",
        "12. Do this for 5 epochs and print the accuracy on the test data after every epoch.\n",
        "13. Note: Since we do not train in batches, but line per line, this will take quite a while (~ 15 minutes for one training loop).\n",
        "\n",
        "#Bonus\n",
        "14. The training is quite slow, since we do not train in batches but line by line. Providing the text lines in batches to the LSTM, will not work out of the box, because all tensors in one batch need to have the same length.\n",
        "15. The DataLoader class can be created with a collate_fn function that can be used to bring all lines in one batch to the same size:\n",
        "16. Determine the longest tensor in the current batch.\n",
        "17. Fill up all tensors that are shorter with an unused padding value (e.g. -1).\n",
        "18. Task: Put the data into a DataLoader, pad the lines in one batch to the same length and train in batches on the GPU. Compare the training time to the line-wise training."
      ]
    },
    {
      "cell_type": "markdown",
      "metadata": {
        "id": "QbfV6CYAXGjV"
      },
      "source": [
        "#Import"
      ]
    },
    {
      "cell_type": "code",
      "metadata": {
        "id": "CPOknfK6XHh2"
      },
      "source": [
        "!pip install -U spacy[cuda100] de &> /dev/null\n",
        "!python -m spacy download de &> /dev/null\n",
        "!pip install -q \"tqdm>=4.36.1\" &> /dev/null"
      ],
      "execution_count": 30,
      "outputs": []
    },
    {
      "cell_type": "code",
      "metadata": {
        "colab": {
          "base_uri": "https://localhost:8080/"
        },
        "id": "tVDjzIq-VLzP",
        "outputId": "fe982f1a-f1ec-4c05-dc69-5c88113831a3"
      },
      "source": [
        "import pandas as pd\n",
        "import torch\n",
        "import spacy\n",
        "spacy.prefer_gpu()\n",
        "nlp_ger = spacy.load(\"de\")\n",
        "from tqdm import tqdm\n",
        "import string\n",
        "import torch\n",
        "import torch.nn as nn\n",
        "import random\n",
        "import time\n",
        "import math\n",
        "import matplotlib.pyplot as plt\n",
        "import matplotlib.ticker as ticker\n",
        "from collections import Counter\n",
        "from tabulate import tabulate\n",
        "\n",
        "device = torch.device(\"cuda:0\" if torch.cuda.is_available() else \"cpu\")\n",
        "print(device)\n"
      ],
      "execution_count": 80,
      "outputs": [
        {
          "output_type": "stream",
          "text": [
            "cuda:0\n"
          ],
          "name": "stdout"
        }
      ]
    },
    {
      "cell_type": "markdown",
      "metadata": {
        "id": "JQSTHjCkWyi1"
      },
      "source": [
        "# Import files\n"
      ]
    },
    {
      "cell_type": "code",
      "metadata": {
        "colab": {
          "base_uri": "https://localhost:8080/",
          "height": 424
        },
        "id": "Kb0sKSgIU8LV",
        "outputId": "3b9c93dd-09b1-4449-c4fd-192d48ade58b"
      },
      "source": [
        "df_test = pd.read_csv('https://raw.githubusercontent.com/tblock/10kGNAD/master/test.csv', \\\n",
        "                      names=['trash','category','Data'], sep='^([^;]+);', engine=\"python\")\n",
        "df_test = df_test.drop(columns=['trash'])\n",
        "df_test"
      ],
      "execution_count": 32,
      "outputs": [
        {
          "output_type": "execute_result",
          "data": {
            "text/html": [
              "<div>\n",
              "<style scoped>\n",
              "    .dataframe tbody tr th:only-of-type {\n",
              "        vertical-align: middle;\n",
              "    }\n",
              "\n",
              "    .dataframe tbody tr th {\n",
              "        vertical-align: top;\n",
              "    }\n",
              "\n",
              "    .dataframe thead th {\n",
              "        text-align: right;\n",
              "    }\n",
              "</style>\n",
              "<table border=\"1\" class=\"dataframe\">\n",
              "  <thead>\n",
              "    <tr style=\"text-align: right;\">\n",
              "      <th></th>\n",
              "      <th>category</th>\n",
              "      <th>Data</th>\n",
              "    </tr>\n",
              "  </thead>\n",
              "  <tbody>\n",
              "    <tr>\n",
              "      <th>0</th>\n",
              "      <td>Wirtschaft</td>\n",
              "      <td>'Die Gewerkschaft GPA-djp lanciert den \"All-in...</td>\n",
              "    </tr>\n",
              "    <tr>\n",
              "      <th>1</th>\n",
              "      <td>Sport</td>\n",
              "      <td>Franzosen verteidigen 2:1-Führung – Kritische ...</td>\n",
              "    </tr>\n",
              "    <tr>\n",
              "      <th>2</th>\n",
              "      <td>Web</td>\n",
              "      <td>'Neues Video von Designern macht im Netz die R...</td>\n",
              "    </tr>\n",
              "    <tr>\n",
              "      <th>3</th>\n",
              "      <td>Sport</td>\n",
              "      <td>23-jähriger Brasilianer muss vier Spiele pausi...</td>\n",
              "    </tr>\n",
              "    <tr>\n",
              "      <th>4</th>\n",
              "      <td>International</td>\n",
              "      <td>Aufständische verwendeten Chemikalie bei Gefec...</td>\n",
              "    </tr>\n",
              "    <tr>\n",
              "      <th>...</th>\n",
              "      <td>...</td>\n",
              "      <td>...</td>\n",
              "    </tr>\n",
              "    <tr>\n",
              "      <th>1023</th>\n",
              "      <td>Web</td>\n",
              "      <td>Programm \"Ebay Plus\" soll Ende September start...</td>\n",
              "    </tr>\n",
              "    <tr>\n",
              "      <th>1024</th>\n",
              "      <td>Inland</td>\n",
              "      <td>Fehlerhafte Bilanz 2013, Partei will berufen –...</td>\n",
              "    </tr>\n",
              "    <tr>\n",
              "      <th>1025</th>\n",
              "      <td>Sport</td>\n",
              "      <td>Als erster Olympia-Champion auch Hawaii-Sieger...</td>\n",
              "    </tr>\n",
              "    <tr>\n",
              "      <th>1026</th>\n",
              "      <td>Sport</td>\n",
              "      <td>Der Außenseiter aus Denver gewinnt die 50. Sup...</td>\n",
              "    </tr>\n",
              "    <tr>\n",
              "      <th>1027</th>\n",
              "      <td>Web</td>\n",
              "      <td>Wohl keine Einschränkungen bei Google-Services...</td>\n",
              "    </tr>\n",
              "  </tbody>\n",
              "</table>\n",
              "<p>1028 rows × 2 columns</p>\n",
              "</div>"
            ],
            "text/plain": [
              "           category                                               Data\n",
              "0        Wirtschaft  'Die Gewerkschaft GPA-djp lanciert den \"All-in...\n",
              "1             Sport  Franzosen verteidigen 2:1-Führung – Kritische ...\n",
              "2               Web  'Neues Video von Designern macht im Netz die R...\n",
              "3             Sport  23-jähriger Brasilianer muss vier Spiele pausi...\n",
              "4     International  Aufständische verwendeten Chemikalie bei Gefec...\n",
              "...             ...                                                ...\n",
              "1023            Web  Programm \"Ebay Plus\" soll Ende September start...\n",
              "1024         Inland  Fehlerhafte Bilanz 2013, Partei will berufen –...\n",
              "1025          Sport  Als erster Olympia-Champion auch Hawaii-Sieger...\n",
              "1026          Sport  Der Außenseiter aus Denver gewinnt die 50. Sup...\n",
              "1027            Web  Wohl keine Einschränkungen bei Google-Services...\n",
              "\n",
              "[1028 rows x 2 columns]"
            ]
          },
          "metadata": {
            "tags": []
          },
          "execution_count": 32
        }
      ]
    },
    {
      "cell_type": "code",
      "metadata": {
        "colab": {
          "base_uri": "https://localhost:8080/",
          "height": 424
        },
        "id": "4t6EN8AOXA1v",
        "outputId": "325ddb34-b1d4-4c8b-dccb-a959099146c3"
      },
      "source": [
        "df_train = pd.read_csv('https://raw.githubusercontent.com/tblock/10kGNAD/master/train.csv', \\\n",
        "                      names=['trash','category','Data'], sep='^([^;]+);', engine=\"python\")\n",
        "df_train = df_train.drop(columns=['trash'])\n",
        "\n",
        "df_train"
      ],
      "execution_count": 33,
      "outputs": [
        {
          "output_type": "execute_result",
          "data": {
            "text/html": [
              "<div>\n",
              "<style scoped>\n",
              "    .dataframe tbody tr th:only-of-type {\n",
              "        vertical-align: middle;\n",
              "    }\n",
              "\n",
              "    .dataframe tbody tr th {\n",
              "        vertical-align: top;\n",
              "    }\n",
              "\n",
              "    .dataframe thead th {\n",
              "        text-align: right;\n",
              "    }\n",
              "</style>\n",
              "<table border=\"1\" class=\"dataframe\">\n",
              "  <thead>\n",
              "    <tr style=\"text-align: right;\">\n",
              "      <th></th>\n",
              "      <th>category</th>\n",
              "      <th>Data</th>\n",
              "    </tr>\n",
              "  </thead>\n",
              "  <tbody>\n",
              "    <tr>\n",
              "      <th>0</th>\n",
              "      <td>Sport</td>\n",
              "      <td>21-Jähriger fällt wohl bis Saisonende aus. Wie...</td>\n",
              "    </tr>\n",
              "    <tr>\n",
              "      <th>1</th>\n",
              "      <td>Kultur</td>\n",
              "      <td>'Erfundene Bilder zu Filmen, die als verloren ...</td>\n",
              "    </tr>\n",
              "    <tr>\n",
              "      <th>2</th>\n",
              "      <td>Web</td>\n",
              "      <td>Der frischgekürte CEO Sundar Pichai setzt auf ...</td>\n",
              "    </tr>\n",
              "    <tr>\n",
              "      <th>3</th>\n",
              "      <td>Wirtschaft</td>\n",
              "      <td>Putin: \"Einigung, dass wir Menge auf Niveau vo...</td>\n",
              "    </tr>\n",
              "    <tr>\n",
              "      <th>4</th>\n",
              "      <td>Inland</td>\n",
              "      <td>Estland sieht den künftigen österreichischen P...</td>\n",
              "    </tr>\n",
              "    <tr>\n",
              "      <th>...</th>\n",
              "      <td>...</td>\n",
              "      <td>...</td>\n",
              "    </tr>\n",
              "    <tr>\n",
              "      <th>9240</th>\n",
              "      <td>Inland</td>\n",
              "      <td>Bernd Saurer war Bridge-Juniorenweltmeister un...</td>\n",
              "    </tr>\n",
              "    <tr>\n",
              "      <th>9241</th>\n",
              "      <td>International</td>\n",
              "      <td>Sandhere soll in vergangener Woche bei Luftang...</td>\n",
              "    </tr>\n",
              "    <tr>\n",
              "      <th>9242</th>\n",
              "      <td>Wirtschaft</td>\n",
              "      <td>Derzeit Konzeptgruppe in Berlin – Kein Komment...</td>\n",
              "    </tr>\n",
              "    <tr>\n",
              "      <th>9243</th>\n",
              "      <td>Inland</td>\n",
              "      <td>Landeshauptmann will den vierten Regierungssit...</td>\n",
              "    </tr>\n",
              "    <tr>\n",
              "      <th>9244</th>\n",
              "      <td>Panorama</td>\n",
              "      <td>Er ist einer von Millionen syrischen Flüchtlin...</td>\n",
              "    </tr>\n",
              "  </tbody>\n",
              "</table>\n",
              "<p>9245 rows × 2 columns</p>\n",
              "</div>"
            ],
            "text/plain": [
              "           category                                               Data\n",
              "0             Sport  21-Jähriger fällt wohl bis Saisonende aus. Wie...\n",
              "1            Kultur  'Erfundene Bilder zu Filmen, die als verloren ...\n",
              "2               Web  Der frischgekürte CEO Sundar Pichai setzt auf ...\n",
              "3        Wirtschaft  Putin: \"Einigung, dass wir Menge auf Niveau vo...\n",
              "4            Inland  Estland sieht den künftigen österreichischen P...\n",
              "...             ...                                                ...\n",
              "9240         Inland  Bernd Saurer war Bridge-Juniorenweltmeister un...\n",
              "9241  International  Sandhere soll in vergangener Woche bei Luftang...\n",
              "9242     Wirtschaft  Derzeit Konzeptgruppe in Berlin – Kein Komment...\n",
              "9243         Inland  Landeshauptmann will den vierten Regierungssit...\n",
              "9244       Panorama  Er ist einer von Millionen syrischen Flüchtlin...\n",
              "\n",
              "[9245 rows x 2 columns]"
            ]
          },
          "metadata": {
            "tags": []
          },
          "execution_count": 33
        }
      ]
    },
    {
      "cell_type": "code",
      "metadata": {
        "colab": {
          "base_uri": "https://localhost:8080/"
        },
        "id": "3lBQ3x1hXsI0",
        "outputId": "4f354a0b-e839-40bd-ac3a-0c5d704210dc"
      },
      "source": [
        "#filter:\n",
        "df_test = df_test.loc[(df_test[\"category\"]==\"Wirtschaft\") | (df_test[\"category\"]==\"Sport\")]\n",
        "df_train = df_train.loc[(df_train[\"category\"]==\"Wirtschaft\") | (df_train[\"category\"]==\"Sport\")]\n",
        "\n",
        "print(len(df_test))\n",
        "print(len(df_train))"
      ],
      "execution_count": 34,
      "outputs": [
        {
          "output_type": "stream",
          "text": [
            "261\n",
            "2351\n"
          ],
          "name": "stdout"
        }
      ]
    },
    {
      "cell_type": "code",
      "metadata": {
        "colab": {
          "base_uri": "https://localhost:8080/"
        },
        "id": "4RWPc-aOZvua",
        "outputId": "305ac4b6-c8fd-4d17-faf4-ceef4f842aa9"
      },
      "source": [
        "rows_test = []\n",
        "for index, row in tqdm(df_test.iterrows(), total=df_test.shape[0], position=0, leave=True):\n",
        "    rows_test.append(row.Data)\n",
        "\n",
        "rows_train = []\n",
        "for index, row in tqdm(df_train.iterrows(), total=df_train.shape[0], position=0, leave=True):\n",
        "    rows_train.append(row.Data)\n"
      ],
      "execution_count": 35,
      "outputs": [
        {
          "output_type": "stream",
          "text": [
            "100%|██████████| 261/261 [00:00<00:00, 11091.99it/s]\n",
            "100%|██████████| 2351/2351 [00:00<00:00, 11890.76it/s]\n"
          ],
          "name": "stderr"
        }
      ]
    },
    {
      "cell_type": "code",
      "metadata": {
        "colab": {
          "base_uri": "https://localhost:8080/"
        },
        "id": "DCzGdWaDbb7T",
        "outputId": "f0a4aa9a-3772-40ee-d0ad-91d085dc053c"
      },
      "source": [
        "all_letters = string.ascii_letters + 'ÄÖÜäöüß–' + string.punctuation + \\\n",
        "                string.digits + string.whitespace\n",
        "\n",
        "rows_test_1 = [line for line in rows_test if all(ch in list(all_letters) for ch in line)]\n",
        "print(len(rows_test_1))\n",
        "\n",
        "rows_train_1 = [line for line in rows_train if all(ch in list(all_letters) for ch in line)]\n",
        "print(len(rows_train_1))"
      ],
      "execution_count": 38,
      "outputs": [
        {
          "output_type": "stream",
          "text": [
            "261\n",
            "244\n",
            "2351\n",
            "2154\n"
          ],
          "name": "stdout"
        }
      ]
    },
    {
      "cell_type": "code",
      "metadata": {
        "colab": {
          "base_uri": "https://localhost:8080/"
        },
        "id": "acgl85NDhPqq",
        "outputId": "0fb45f5b-3a6b-4bb7-cd72-8e2e4aa41088"
      },
      "source": [
        "rows_train_token = []\n",
        "for sentence in tqdm(rows_train_1, position=0, leave=True):\n",
        "    token = nlp_ger(sentence)\n",
        "    for token_s in token:\n",
        "        rows_train_token.append(token_s.text)"
      ],
      "execution_count": 85,
      "outputs": [
        {
          "output_type": "stream",
          "text": [
            "100%|█████████▉| 2153/2154 [01:30<00:00, 26.80it/s]\n",
            "100%|██████████| 2154/2154 [01:30<00:00, 23.83it/s]\n"
          ],
          "name": "stderr"
        }
      ]
    },
    {
      "cell_type": "code",
      "metadata": {
        "colab": {
          "base_uri": "https://localhost:8080/"
        },
        "id": "JBN4p1UBm0Kb",
        "outputId": "4ef49cd1-e671-4af1-8f8c-4728afdaf3df"
      },
      "source": [
        "word_freq = Counter(rows_train_token)\n",
        "common_words = word_freq.most_common(5000)\n",
        "print(common_words)"
      ],
      "execution_count": 86,
      "outputs": [
        {
          "output_type": "stream",
          "text": [
            "[('.', 45468), (',', 40543), ('der', 22639), ('die', 19536), ('in', 13411), ('und', 12308), ('(', 9056), ('den', 8954), (')', 8914), ('von', 7050), ('mit', 6765), ('–', 6456), ('im', 6280), ('auf', 6082), ('das', 5982), ('zu', 5699), (':', 5650), ('für', 5497), ('ist', 5447), ('Die', 5371), ('nicht', 5366), ('sich', 4838), ('dem', 4559), ('ein', 4363), ('es', 4280), (' ', 4049), ('am', 3868), ('des', 3752), ('eine', 3727), ('auch', 3704), ('nach', 3453), ('bei', 3393), ('als', 3367), ('Der', 3350), ('hat', 3176), ('an', 3002), ('dass', 2954), ('aus', 2710), ('war', 2606), ('aber', 2550), ('werden', 2490), ('einem', 2479), ('noch', 2426), ('gegen', 2413), ('um', 2408), ('vor', 2356), ('Das', 2327), ('einen', 2254), ('haben', 2204), ('Prozent', 2176), ('wird', 2169), ('sind', 2109), ('er', 2052), ('Euro', 2049), ('wie', 2046), ('einer', 2001), ('nur', 1868), ('mehr', 1840), ('über', 1727), ('hatte', 1677), ('zum', 1629), ('sie', 1591), ('/', 1493), ('so', 1475), ('In', 1469), ('man', 1378), ('Es', 1378), ('wir', 1376), ('bis', 1368), ('sei', 1302), ('wurde', 1267), ('sein', 1245), ('Wien', 1228), ('sagte', 1223), ('ich', 1184), ('habe', 1151), ('durch', 1133), ('zwei', 1125), ('Österreich', 1113), ('zur', 1095), ('Wir', 1058), ('oder', 1057), ('schon', 1037), ('Ich', 1005), ('Jahr', 927), ('beim', 926), ('seit', 926), ('wieder', 924), ('Im', 919), ('ersten', 917), ('vom', 889), ('drei', 884), ('unter', 878), ('soll', 875), ('bereits', 871), ('Millionen', 864), ('?', 835), ('Sie', 833), ('kann', 821), ('damit', 820), ('Jahren', 809), ('dann', 800), ('keine', 791), ('nun', 789), ('sehr', 770), ('können', 732), ('rund', 722), ('Für', 722), ('will', 715), ('Auch', 712), ('muss', 706), ('waren', 699), ('ab', 681), ('STANDARD', 678), ('Nach', 675), ('gibt', 672), ('wenn', 663), ('immer', 655), ('gut', 643), ('seine', 637), ('müssen', 609), ('Er', 606), ('geht', 597), ('Austria', 594), ('ins', 589), ('Ende', 586), ('uns', 577), ('ihre', 573), ('Mit', 573), ('seiner', 572), ('Milliarden', 571), ('diese', 569), ('worden', 565), ('Unternehmen', 565), ('vier', 561), ('Ein', 553), ('Spiel', 550), ('Bei', 545), ('wegen', 544), ('weiter', 534), ('viel', 528), ('werde', 527), ('sagt', 515), ('eines', 511), ('seinen', 509), ('fünf', 506), ('wurden', 506), ('Aber', 503), ('Bank', 503), ('dieser', 497), ('zweiten', 490), ('was', 488), ('Deutschland', 481), ('Salzburg', 480), ('könnte', 478), ('gab', 472), ('Sonntag', 470), ('erst', 470), ('steht', 469), ('vergangenen', 469), ('seinem', 465), ('2014', 461), ('alle', 459), ('\"', 457), ('Saison', 457), ('seien', 457), ('ohne', 456), ('wäre', 456), ('Und', 455), ('allem', 451), ('FC', 450), ('hatten', 449), ('USA', 449), ('Platz', 447), ('Jahre', 443), ('da', 442), ('Sieg', 441), ('Rapid', 437), ('weil', 436), ('neue', 435), ('zuletzt', 433), ('2015', 433), ('sollen', 431), ('Am', 429), ('Punkte', 428), ('Zeit', 424), ('neuen', 422), ('laut', 421), ('etwa', 420), ('Minute', 419), ('2016', 413), ('Samstag', 412), ('etwas', 411), ('kein', 410), ('APA', 407), ('Trainer', 406), ('viele', 406), ('würde', 403), ('Montag', 403), ('Donnerstag', 399), ('Wenn', 394), ('zwischen', 390), ('mich', 386), ('Mannschaft', 386), ('anderen', 385), ('Freitag', 385), ('Eine', 384), ('Wiener', 383), ('zehn', 381), ('Mittwoch', 380), ('-', 380), ('jetzt', 378), ('wollen', 377), ('alles', 375), ('einmal', 374), ('Dienstag', 369), ('sechs', 368), ('selbst', 367), ('kam', 364), ('diesem', 362), ('liegt', 361), ('dabei', 359), ('zurück', 357), (\"'\", 353), ('Minuten', 351), ('sowie', 350), ('erste', 349), ('bisher', 343), ('Geld', 342), ('kommt', 340), ('Tore', 337), ('nichts', 337), ('geben', 337), ('Europa', 336), ('also', 336), ('sondern', 335), ('kommen', 334), ('ob', 334), ('bin', 331), ('gewesen', 331), ('erklärte', 330), ('zwar', 330), ('dafür', 329), ('weniger', 327), ('würden', 325), ('Land', 324), ('bzw.', 323), ('allerdings', 321), ('letzten', 320), ('Regierung', 320), ('beiden', 319), ('Mio.', 318), ('Team', 318), ('Dollar', 317), ('fast', 316), ('doch', 315), ('Banken', 315), ('andere', 313), ('ihren', 313), ('Runde', 311), ('ganz', 311), ('davon', 308), ('Wie', 307), ('derzeit', 305), ('hätte', 304), ('Menschen', 303), ('Woche', 302), ('machen', 301), ('weitere', 300), ('knapp', 299), ('Griechenland', 297), ('Spieler', 297), ('So', 287), ('mir', 286), ('ihr', 286), ('EU', 285), ('Uhr', 284), ('Tor', 284), ('ihrer', 284), ('musste', 283), ('League', 282), ('dieses', 282), ('stehen', 280), ('heute', 278), ('deutlich', 277), ('Auf', 277), ('großen', 275), ('deutschen', 275), ('gehen', 275), ('Als', 274), ('hätten', 274), ('sieben', 272), ('Folge', 272), ('sieht', 269), ('1:0', 268), ('dritten', 266), ('konnte', 265), ('Mrd.', 264), ('Man', 263), ('gemacht', 262), ('1.', 258), ('wenig', 257), ('Mal', 256), ('Jänner', 252), ('acht', 251), ('Vor', 250), ('Führung', 249), ('Hälfte', 248), ('Doch', 247), ('Da', 246), ('New', 246), ('ihm', 245), ('Damit', 242), ('ihn', 241), ('wohl', 240), ('jedoch', 240), ('Österreichs', 239), ('große', 239), ('Thiem', 239), ('sollte', 238), ('besser', 238), ('keinen', 238), ('Bayern', 236), ('lassen', 236), ('ging', 236), ('China', 234), ('Entscheidung', 233), ('könnten', 232), ('Russland', 231), ('darauf', 231), ('pro', 231), ('hier', 230), ('Den', 229), ('Fall', 229), ('Partie', 229), ('meinte', 229), ('gewonnen', 227), ('15', 227), ('Österreicher', 227), ('deutsche', 226), ('Liga', 226), ('Welt', 226), ('wo', 225), ('Gruppe', 224), ('2013', 224), ('Tag', 223), ('20', 223), (';', 223), ('heißt', 222), ('dort', 222), ('Was', 222), ('dazu', 221), ('St.', 221), ('Wochen', 220), ('Vorjahr', 219), ('erstmals', 218), ('ja', 218), ('Mitarbeiter', 217), ('gilt', 216), ('später', 216), ('Ziel', 215), ('ebenfalls', 213), ('nie', 213), ('Chance', 212), ('spielen', 212), ('macht', 212), ('gegenüber', 212), ('hält', 210), ('heuer', 210), ('erwartet', 209), ('bleiben', 208), ('Dass', 208), ('Diese', 207), ('gar', 206), ('Juni', 206), ('Michael', 205), ('zuvor', 205), ('Sturm', 205), ('Laut', 204), ('wollte', 203), ('klar', 201), ('Rennen', 201), ('Schweizer', 199), ('kommenden', 199), ('gleich', 198), ('möglich', 198), ('hinter', 197), ('100', 196), ('Wirtschaft', 196), ('Teil', 195), ('bekommen', 195), ('Nummer', 195), ('Admira', 194), ('lange', 194), ('Frage', 193), ('österreichischen', 193), ('zweite', 193), ('verloren', 192), ('stark', 192), ('sehen', 192), ('weiteren', 191), ('insgesamt', 191), ('Salzburger', 190), ('2:0', 190), ('Spiele', 190), ('Sommer', 190), ('1:1', 189), ('Anfang', 189), ('nächsten', 189), ('Peter', 189), ('gute', 188), ('zufolge', 188), ('dürfte', 187), ('Frankreich', 187), ('Athen', 187), ('Erfolg', 186), ('30', 186), ('trotz', 185), ('einfach', 185), ('City', 185), ('je', 184), ('Punkten', 183), ('denen', 183), ('sogar', 183), ('Weg', 182), ('Thomas', 181), ('sicher', 181), ('September', 180), ('dies', 180), ('München', 179), ('Andreas', 179), ('könne', 179), ('Monaten', 178), ('Von', 178), ('Seit', 177), ('bleibt', 177), ('Vergleich', 177), ('EU-Kommission', 177), ('2:1', 176), ('kaum', 176), ('Berlin', 176), ('Rang', 176), ('setzte', 175), ('diesen', 175), ('Gegner', 175), ('Red', 175), ('Finanzminister', 174), ('Verhandlungen', 174), ('Niederlage', 174), ('ließ', 173), ('Pause', 172), ('neun', 172), ('hingegen', 171), ('März', 170), ('Denn', 170), ('2.', 170), ('betonte', 169), ('50', 168), ('Vertrag', 168), ('Tsipras', 167), ('erneut', 167), ('blieb', 167), ('hoch', 167), ('Ergebnis', 167), ('gegeben', 166), ('gewinnen', 166), ('Wachstum', 165), ('Verfügung', 165), ('November', 164), ('Sekunden', 164), ('Februar', 164), ('österreichische', 163), ('Juli', 163), ('zumindest', 163), ('Graz', 163), ('York', 162), ('0:1', 162), ('Mai', 162), ('damals', 161), ('Höhe', 161), ('während', 161), ('einige', 161), ('Beim', 161), ('Dabei', 160), ('ihrem', 160), ('Kopf', 159), ('SV', 158), ('Dezember', 158), ('Tage', 158), ('zunächst', 158), ('Oktober', 158), ('Grödig', 158), ('Barisic', 158), ('Angaben', 157), ('Thema', 157), ('Kunden', 157), ('Chancen', 157), ('2017', 157), ('per', 157), ('Serie', 156), ('Aus', 156), ('Manchester', 156), ('Real', 156), ('Entwicklung', 155), ('daher', 155), ('eigenen', 155), ('weit', 155), ('denn', 155), ('Allerdings', 155), ('hieß', 154), ('Ball', 154), ('Problem', 154), ('halten', 153), ('Druck', 153), ('sagen', 153), ('2012', 153), ('Hofmann', 153), ('bekannt', 152), ('Flüchtlinge', 152), ('teilte', 152), ('London', 152), ('Spielen', 152), ('Madrid', 152), ('Zahl', 151), ('Hypo', 151), ('Länder', 151), ('Brüssel', 151), ('Stunden', 151), ('Punkt', 151), ('0:0', 151), ('3.', 151), ('bringen', 150), ('allen', 149), ('dagegen', 149), ('lässt', 149), ('müsse', 149), ('Titel', 148), ('liegen', 148), ('oft', 148), ('Ländern', 148), ('Bull', 148), ('tun', 147), ('Probleme', 147), ('4.', 146), ('Stefan', 146), ('Jahres', 146), ('natürlich', 146), ('dürfen', 146), ('Klagenfurt', 146), ('Deutschen', 146), ('vielen', 146), ('Italien', 146), ('danach', 145), ('Drittel', 145), ('Markt', 145), ('überhaupt', 144), ('Zudem', 144), ('Konzern', 143), ('daran', 143), ('weiterhin', 143), ('anderem', 143), ('gelang', 142), ('Christian', 142), ('SR', 142), ('Zukunft', 142), ('Finale', 142), ('Nur', 141), ('darf', 141), ('deshalb', 141), ('14', 141), ('Grund', 141), ('erhalten', 140), ('zudem', 140), ('gerade', 140), ('Arbeit', 140), ('Meister', 140), ('besonders', 139), ('Kärnten', 139), ('nehmen', 139), ('Match', 139), ('finden', 138), ('stand', 138), ('Kosten', 138), ('künftig', 138), ('dessen', 138), ('arbeiten', 137), ('Fans', 137), ('1', 137), ('größten', 136), ('EZB', 136), ('kurz', 136), ('Altach', 136), ('beide', 136), ('AUT', 136), ('de', 135), ('trifft', 135), ('gekommen', 134), ('Rückstand', 134), ('traf', 134), ('brachte', 134), ('2011', 133), ('gewann', 133), ('VW', 133), ('anders', 133), ('Alexander', 133), ('Paris', 133), ('WAC', 133), ('seines', 133), ('Ried', 132), ('sollten', 132), ('April', 132), ('konnten', 132), ('Leistung', 132), ('meisten', 132), ('Bundesliga', 131), ('Treffer', 131), ('Zu', 131), ('gespielt', 131), ('ebenso', 131), ('schwer', 131), ('geworden', 130), ('gebracht', 130), ('Zahlen', 130), ('Martin', 130), ('vierten', 130), ('Kärntner', 130), ('Champions', 129), ('erzielte', 129), ('Beginn', 129), ('gebe', 129), ('statt', 129), ('Um', 129), ('Innsbruck', 129), ('David', 128), ('Barcelona', 128), ('18', 128), ('erklärt', 128), ('Schritt', 128), ('Deutsche', 128), ('fehlen', 128), ('Umsatz', 127), ('40', 127), ('Hinspiel', 127), ('Gäste', 127), ('Mitte', 127), ('Bis', 126), ('darüber', 126), ('2008', 126), ('Tagen', 126), ('lag', 125), ('griechischen', 125), ('Ergebnisse', 125), ('Monate', 125), ('Gewinn', 125), ('Duell', 125), ('An', 124), ('Fußball', 124), ('schnell', 124), ('eigentlich', 124), ('griechische', 124), ('wissen', 124), ('aufgrund', 124), ('Valencia', 124), ('13', 123), ('weiß', 123), ('dank', 123), ('verkauft', 123), ('unsere', 123), ('Teams', 123), ('Zähler', 123), ('2009', 122), ('machte', 122), ('zeigt', 122), ('Zeitung', 122), ('elf', 122), ('besten', 122), ('eins', 121), ('5.', 121), ('6.', 121), ('Während', 121), ('müssten', 121), ('zwölf', 121), ('Stadion', 121), ('führt', 120), ('16', 120), ('Schweiz', 120), ('Einsatz', 119), ('14.', 119), ('Wer', 119), ('Zum', 119), ('genau', 118), ('Situation', 118), ('wirklich', 118), ('10.', 118), ('Gründen', 118), ('Hause', 118), ('Kapitän', 117), ('Lage', 117), ('25', 117), ('jüngsten', 117), ('vorbei', 117), ('Dies', 117), ('Vorsprung', 116), ('Verlängerung', 116), ('Nicht', 116), ('Eurozone', 116), ('Gläubiger', 116), ('Müller', 116), ('Alaba', 115), ('Seite', 115), ('Verfahren', 115), ('jedenfalls', 115), ('Dann', 115), ('neben', 115), ('Firmen', 115), ('17', 115), ('0:2', 115), ('Moskau', 114), ('europäischen', 114), ('Kritik', 114), ('Landes', 114), ('deren', 114), ('United', 114), ('Mattersburg', 114), ('Sicht', 113), ('Wert', 113), ('hohe', 113), ('entschieden', 113), ('Maßnahmen', 113), ('mehrere', 113), ('aller', 113), ('mussten', 113), ('August', 113), ('Experten', 112), ('Wochenende', 112), ('Janko', 112), ('spielt', 112), ('Ob', 112), ('größte', 112), ('Spanier', 111), ('ÖVP', 111), ('Jetzt', 111), ('Personen', 111), ('erreicht', 111), ('wichtig', 111), ('führen', 111), ('Studie', 111), ('Quartal', 111), ('dennoch', 111), ('Titelverteidiger', 110), ('Dortmund', 110), ('Robert', 110), ('vorerst', 110), ('2010', 110), ('Daten', 110), ('Schelling', 110), ('nachdem', 110), ('Bericht', 110), ('einigen', 110), ('Einigung', 109), ('spielte', 109), ('jeder', 109), ('zufrieden', 109), ('Frankfurt', 108), ('eher', 108), ('betroffen', 108), ('Ausgleich', 108), ('erfolgreich', 108), ('davor', 107), ('internationalen', 107), ('fest', 107), ('Chef', 107), ('dritte', 107), ('15.', 107), ('läuft', 106), ('mittlerweile', 106), ('guten', 106), ('kamen', 106), ('gehört', 106), ('Angebot', 105), ('Koller', 105), ('erster', 105), ('gesehen', 105), ('meine', 105), ('Arbeitsmarkt', 105), ('leicht', 105), ('Investoren', 105), ('setzt', 104), ('heimischen', 104), ('Hand', 104), ('Erst', 104), ('offen', 104), ('Steuern', 104), ('Daniel', 104), ('Lösung', 103), ('Kampf', 103), ('zeigte', 103), ('jeweils', 103), ('Dem', 103), ('innerhalb', 103), ('Kainz', 103), ('1:2', 103), ('Linz', 103), ('Fehler', 102), ('zusammen', 102), ('zweimal', 102), ('letzte', 102), ('Wolfsburg', 102), ('Gegen', 102), ('stellte', 102), ('hin', 102), ('Schnitt', 101), ('Leben', 101), ('trotzdem', 101), ('Präsident', 100), ('Ausland', 100), ('Markus', 100), ('bringt', 100), ('Volkswagen', 100), ('Kraft', 100), ('schaffen', 100), ('gehabt', 100), ('Zuschauer', 100), ('gestellt', 100), ('Staaten', 100), ('Start', 100), ('IWF', 100), ('Liverpool', 100), ('Verein', 99), ('Aussendung', 99), ('Geschäft', 99), ('lang', 99), ('Abschluss', 99), ('Sport', 99), ('Noch', 99), ('13.', 99), ('Gastgeber', 99), ('8.', 99), ('solche', 99), ('geplant', 98), ('du', 98), ('vielleicht', 98), ('Über', 98), ('Coach', 98), ('Schweden', 98), ('Heta', 98), ('Beispiel', 98), ('Sein', 98), ('geführt', 98), ('verdient', 98), ('2', 98), ('4', 98), ('3', 98), ('20.', 97), ('60', 97), ('Niederösterreicher', 97), ('Rolle', 97), ('nächste', 97), ('Dazu', 96), ('Zentralbank', 96), ('findet', 96), ('genug', 96), ('sorgte', 96), ('Ersatz', 96), ('Preis', 95), ('gegangen', 95), ('Politik', 95), ('Staatsanwaltschaft', 95), ('Außerdem', 95), ('Partien', 95), ('Viertelfinale', 95), ('Training', 95), ('5', 94), ('Staat', 94), ('ihnen', 94), ('Insgesamt', 94), ('richtig', 94), ('Zinsen', 94), ('!', 93), ('beste', 93), ('7.', 93), ('stärker', 93), ('starken', 93), ('gehe', 93), ('Nun', 93), ('hohen', 93), ('berichtet', 93), ('stellen', 93), ('Investitionen', 93), ('legte', 93), ('EM', 93), ('möchte', 92), ('Richtung', 92), ('Karriere', 92), ('Stuttgart', 92), ('zahlen', 92), ('Parlament', 92), ('weltweit', 92), ('Verkauf', 92), ('holte', 92), ('km', 92), ('Qualifikation', 91), ('18.', 91), ('Runden', 91), ('Karten', 91), ('Dort', 91), ('Schulden', 91), ('jene', 91), ('fiel', 91), ('Bereich', 91), ('Stelle', 91), ('geschlagen', 91), ('Bund', 91), ('Wacker', 90), ('erreichen', 90), ('Programm', 90), ('SPÖ', 90), ('Stand', 90), ('Weil', 90), ('setzen', 90), ('braucht', 90), ('bereit', 90), ('angesichts', 90), ('Open', 90), ('FMA', 90), ('russischen', 89), ('erzielt', 89), ('Frühjahr', 89), ('bisherigen', 89), ('Marcel', 89), ('Summe', 89), ('wären', 89), ('Neben', 89), ('Nein', 89), ('gesagt', 89), ('England', 89), ('Wolfgang', 89), ('nämlich', 88), ('Halbzeit', 88), ('Mann', 88), ('Christoph', 88), ('angekündigt', 88), ('Ja', 88), ('Schluss', 88), ('gingen', 88), ('jeden', 88), ('Einen', 88), ('rechtlichen', 88), ('9.', 88), ('San', 87), ('Bereits', 87), ('Schuss', 87), ('rechnen', 87), ('Arbeitslosigkeit', 87), ('Jobs', 87), ('Rahmen', 87), ('früheren', 87), ('Achtelfinale', 87), ('Mitarbeitern', 86), ('Durch', 86), ('Unter', 86), ('hinaus', 86), ('Erste', 86), ('Autos', 86), ('Gewerkschaft', 86), ('3:0', 86), ('WM', 86), ('paar', 86), ('Spitze', 86), ('gemeinsam', 85), ('zeigen', 85), ('Herbst', 85), ('fahren', 85), ('Nachfrage', 85), ('Handel', 85), ('Leute', 85), ('treffen', 85), ('starke', 85), ('fehlt', 85), ('Niveau', 84), ('Preise', 84), ('10', 84), ('17.', 84), ('Familie', 84), ('of', 84), ('Möglichkeit', 84), ('a', 84), ('Kilometer', 84), ('steigen', 84), ('bekommt', 84), ('2018', 83), ('Plan', 83), ('Position', 83), ('16.', 83), ('Florian', 83), ('GER', 83), ('30.', 83), ('OMV', 82), ('gestiegen', 82), ('lediglich', 82), ('2007', 82), ('Notenbank', 82), ('Premier', 82), ('entscheiden', 82), ('höher', 82), ('Anteil', 82), ('Geschichte', 82), ('zog', 82), ('schließlich', 82), ('Satz', 82), ('Basel', 82), ('Arnautovic', 81), ('Hans', 81), ('Industrie', 81), ('Toren', 81), ('verlor', 81), ('schlecht', 81), ('6', 81), ('Nadal', 81), ('Jörg', 80), ('berichtete', 80), ('völlig', 80), ('groß', 80), ('Washington', 80), ('schwierig', 80), ('2:2', 80), ('mindestens', 80), ('darum', 80), ('Top', 80), ('frühere', 80), ('Türkei', 80), ('Mehr', 79), ('3:1', 79), ('Treffen', 79), ('Post', 79), ('Krise', 79), ('wolle', 79), ('Bargeld', 79), ('red', 79), ('Viele', 79), ('erwarten', 79), ('Pölten', 79), ('sah', 79), ('Ukraine', 79), ('Almer', 78), ('gesetzt', 78), ('Schon', 78), ('recht', 78), ('Wegen', 78), ('Antwort', 78), ('kündigte', 78), ('Informationen', 78), ('darunter', 78), ('Job', 78), ('durchaus', 78), ('Sache', 78), ('Firma', 78), ('Spanien', 78), ('200', 77), ('voll', 77), ('länger', 77), ('ehemalige', 77), ('Europäischen', 77), ('Heimspiel', 77), ('extrem', 77), ('ohnehin', 77), ('24', 77), ('Japan', 77), ('versucht', 77), ('Namen', 77), ('einzige', 77), ('Aktien', 77), ('Djokovic', 77), ('brauchen', 76), ('Ingolstadt', 76), ('neuer', 76), ('21', 76), ('TTIP', 76), ('Behörden', 76), ('basierenden', 76), ('Weltmeister', 76), ('Halbfinale', 76), ('2004', 76), ('vorne', 76), ('Philipp', 76), ('Vergangenheit', 76), ('sprach', 76), ('Federer', 76), ('bald', 75), ('Art', 75), ('Anstieg', 75), ('geplante', 75), ('eigene', 75), ('stellt', 75), ('wenigen', 75), ('Manager', 75), ('Derzeit', 75), ('Gespräche', 75), ('29.', 75), ('verlieren', 75), ('wenige', 75), ('Artikels', 75), ('neues', 75), ('neu', 75), ('Club', 75), ('Fußball-Bundesliga', 74), ('12.', 74), ('Gespräch', 74), ('mitteilte', 74), ('Karte', 74), ('fünften', 74), ('ehe', 74), ('22.', 74), ('großer', 74), ('Los', 74), ('droht', 74), ('bessere', 74), ('Trotz', 74), ('70', 74), ('Angeles', 74), ('23.', 74), ('Hütter', 74), ('Soriano', 74), ('laufenden', 73), ('früh', 73), ('Zwei', 73), ('Plus', 73), ('aktuellen', 73), ('Gas', 73), ('stieg', 73), ('weg', 73), ('Volltext', 73), ('Agenturmeldungen', 73), ('19.', 73), ('Siegen', 73), ('müsste', 73), ('Pfeiffer', 73), ('Atletico', 73), ('fällt', 72), ('Juventus', 72), ('19', 72), ('Gelbe', 72), ('bestätigte', 72), ('steigt', 72), ('Börse', 72), ('Gericht', 72), ('tatsächlich', 72), ('holen', 72), ('Vereine', 72), ('Dominic', 72), ('Unterstützung', 72), ('eben', 72), ('2006', 72), ('Fuchs', 71), ('Danach', 71), ('gezeigt', 71), ('Dieser', 71), ('kleinen', 71), ('ganze', 71), ('rechnet', 71), ('direkt', 71), ('beschäftigt', 71), ('mein', 71), ('Glück', 71), ('Energie', 71), ('fordert', 71), ('feierte', 71), ('Aufstieg', 71), ('Urteil', 71), ('Einkommen', 71), ('Borussia', 70), ('Linie', 70), ('früher', 70), ('Fahrzeuge', 70), ('Qualität', 70), ('Manuel', 70), ('Filialen', 70), ('80', 70), ('getroffen', 70), ('Schobesberger', 70), ('aktuell', 70), ('schrieb', 70), ('begonnen', 70), ('Tabellenführer', 69), ('Leicester', 69), ('fand', 69), ('21.', 69), ('System', 69), ('Währungsfonds', 69), ('90', 69), ('laufen', 69), ('relativ', 69), ('Dinge', 69), ('gelten', 69), ('500', 69), ('überraschend', 69), ('geholt', 69), ('OeNB', 69), ('wer', 68), ('Gefahr', 68), ('28.', 68), ('Blick', 68), ('scheint', 68), ('Griechenlands', 68), ('Beide', 68), ('höhere', 68), ('Marke', 68), ('diesmal', 68), ('Stunde', 68), ('demnach', 68), ('spricht', 68), ('Stürmer', 68), ('geschafft', 68), ('betrifft', 68), ('Siege', 68), ('Fink', 68), ('auswärts', 68), ('Hamilton', 68), ('Produktion', 67), ('2020', 67), ('Bremen', 67), ('Meter', 67), ('Branche', 67), ('schreibt', 67), ('fallen', 67), ('meint', 67), ('übernehmen', 67), ('oben', 67), ('Portugal', 67), ('gefunden', 67), ('Gesamtscore', 67), ('3:2', 67), ('Allein', 67), ('Bisher', 67), ('Zuschauern', 67), ('obwohl', 67), ('allein', 67), ('State', 67), ('Form', 67), ('dadurch', 67), ('Winter', 66), ('nimmt', 66), ('Tiroler', 66), ('1,5', 66), ('Hinteregger', 66), ('Frauen', 66), ('Grünen', 66), ('welche', 66), ('Finanzministerium', 66), ('Griechen', 66), ('Alexis', 66), ('Mario', 66), ('Forderungen', 66), ('Zusammenhang', 66), ('Auswirkungen', 66), ('freilich', 66), ('23', 66), ('positiv', 66), ('Villarreal', 66), ('schweren', 66), ('erhöht', 66), ('AG', 66), ('&', 66), ('chinesischen', 66), ('Übernahme', 65), ('gesamte', 65), ('übrigens', 65), ('Dragovic', 65), ('25.', 65), ('meiner', 65), ('Aufgabe', 65), ('Louis', 65), ('Steuerreform', 65), ('Kanada', 65), ('...', 65), ('27.', 65), ('SK', 65), ('ESP', 65), ('Medien', 64), ('offenbar', 64), ('Konjunktur', 64), ('keiner', 64), ('Nacht', 64), ('genommen', 64), ('Gesellschaft', 64), ('aktuelle', 64), ('langen', 64), ('Kevin', 64), ('Wechsel', 64), ('Peking', 64), ('Zuletzt', 64), ('Cup', 64), ('wartet', 64), ('Kommission', 64), ('bevor', 63), ('Elfmeter', 63), ('26', 63), ('wollten', 63), ('Junuzovic', 63), ('Ermittlungen', 63), ('jedes', 63), ('europäische', 63), ('Folgen', 63), ('ziehen', 63), ('verlassen', 63), ('Arbeitnehmer', 63), ('zählt', 63), ('Stadt', 63), ('spanischen', 63), ('Großbritannien', 63), ('Weiter', 63), ('Golden', 63), ('24.', 63), ('Bilanz', 63), ('Klub', 62), ('Marc', 62), ('Arena', 62), ('Sanktionen', 62), ('Alle', 62), ('Ohne', 62), ('Reformen', 62), ('passiert', 62), ('27', 62), ('Seiten', 62), ('22', 62), ('Meisterschaft', 62), ('bedeutet', 62), ('nahm', 62), ('wiederum', 62), ('meinen', 62), ('Ungarn', 62), ('28', 62), ('warum', 62), ('Ihr', 62), ('12', 62), ('beträgt', 62), ('Tour', 62), ('sofort', 62), ('Auftakt', 62), ('h', 62), ('Kiew', 62), ('nötig', 62), ('verantwortlich', 61), ('geplanten', 61), ('Teamchef', 61), ('Mittel', 61), ('solle', 61), ('Hier', 61), ('Europäische', 61), ('abgeschlossen', 61), ('Fragen', 61), ('öffentlichen', 61), ('Abkommen', 61), ('heraus', 61), ('weiteres', 61), ('gutes', 61), ('Auto', 61), ('Angst', 61), ('Rede', 61), ('Gruber', 61), ('höchsten', 61), ('31.', 61), ('Lukas', 61), ('beendet', 61), ('dahin', 61), ('Georg', 61), ('Sevilla', 61), ('helfen', 61), ('Dafür', 61), ('bestätigt', 61), ('Risiko', 61), ('kämpfen', 61), ('Arsenal', 61), ('Kader', 61), ('Meinl', 61), ('Polen', 61), ('gesamten', 60), ('erstes', 60), ('Rom', 60), ('warten', 60), ('Zeiten', 60), ('Sprecher', 60), ('unserer', 60), ('ziemlich', 60), ('beteiligt', 60), ('m', 60), ('Gruppenphase', 60), ('Kinder', 60), ('BIP', 60), ('weiterer', 60), ('Kredite', 60), ('Vorwürfe', 60), ('führte', 60), ('Schwab', 60), ('Warriors', 60), ('Seine', 60), ('Toronto', 60), ('26.', 60), ('Minnesota', 60), ('Keita', 60), ('Rosberg', 60), ('300', 59), ('Sicherheit', 59), ('Schalke', 59), ('immerhin', 59), ('Auftrag', 59), ('AMS', 59), ('handelt', 59), ('sowohl', 59), ('sprechen', 59), ('Hersteller', 59), ('forderte', 59), ('betont', 59), ('n', 59), ('Natürlich', 59), ('Turnier', 59), ('Konkurrenz', 59), ('Freund', 59), ('kritisiert', 59), ('Wiesberger', 59), ('folgt', 59), ('Chinas', 59), ('Knie', 58), ('Chicago', 58), ('gefallen', 58), ('Monat', 58), ('geschlossen', 58), ('2000', 58), ('veröffentlicht', 58), ('Europas', 58), ('gerne', 58), ('glaube', 58), ('Sollte', 58), ('Damen', 58), ('Bedingungen', 58), ('wichtige', 58), ('Halbjahr', 58), ('Zoran', 58), ('verletzt', 58), ('Einführung', 58), ('kleine', 58), ('Maria', 58), ('rasch', 58), ('Franken', 58), ('Ziele', 58), ('11.', 58), ('Sinn', 58), ('verzichten', 57), ('Deshalb', 57), ('Mainz', 57), ('Abend', 57), ('Rückgang', 57), ('ehemaligen', 57), ('Damals', 57), ('Ist', 57), ('betroffenen', 57), ('Vorstand', 57), ('Rund', 57), ('Viertel', 57), ('hofft', 57), ('Rumänien', 57), ('Ökonomen', 57), ('Neustadt', 57), ('bisschen', 57), ('Moment', 57), ('Niederlagen', 57), ('Sieger', 57), ('Regeln', 57), ('Capitals', 57), ('Fonds', 57), ('0', 57), ('Messi', 57), ('englischen', 56), ('Bild', 56), ('verhindern', 56), ('zusätzlich', 56), ('überzeugt', 56), ('Möglichkeiten', 56), ('Tirol', 56), ('Anwalt', 56), ('niemand', 56), ('beispielsweise', 56), ('Italiener', 56), ('Dritter', 56), ('Märkte', 56), ('Schlusslicht', 56), ('solchen', 56), ('Haider-Maurer', 56), ('Metern', 56), ('Verlust', 56), ('Vastic', 56), ('Blatter', 56), ('Murray', 56), ('möglichen', 55), ('Mailand', 55), ('hielt', 55), ('sechsten', 55), ('sonst', 55), ('Stellungnahme', 55), ('Ab', 55), ('sorgen', 55), ('Zuge', 55), ('politische', 55), ('Ansicht', 55), ('Luft', 55), ('Basis', 55), ('35', 55), ('Gesetz', 55), ('Endspiel', 55), ('schlug', 55), ('ändern', 55), ('Keine', 55), ('M.', 55), ('unbedingt', 55), ('Zur', 55), ('Vienna', 55), ('wobei', 55), ('Stoke', 55), ('gearbeitet', 55), ('Hintergrund', 55), ('Leverkusen', 55), ('Zeidler', 55), ('Mayröcker', 55), ('Group', 54), ('nahe', 54), ('Zwar', 54), ('leisten', 54), ('Interesse', 54), ('her', 54), ('Schaub', 54), ('notwendig', 54), ('Truppe', 54), ('indes', 54), ('31', 54), ('bekam', 54), ('schaffte', 54), ('Mercedes', 54), ('glauben', 54), ('nationalen', 54), ('Zürich', 54), ('Tottenham', 54), ('beschlossen', 54), ('Schaden', 54), ('gestartet', 54), ('Pressekonferenz', 54), ('gewinnt', 54), ('somit', 54), ('Gazprom', 54), ('Verteidiger', 53), ('einzigen', 53), ('Unternehmer', 53), ('Marko', 53), ('Nachfolger', 53), ('Großteil', 53), ('plus', 53), ('leben', 53), ('mal', 53), ('außerdem', 53), ('Dieses', 53), ('Produkte', 53), ('gefährlich', 53), ('Klage', 53), ('zieht', 53), ('inzwischen', 53), ('Haushalte', 53), ('blieben', 53), ('Klaus', 53), ('Sprung', 53), ('Demnach', 53), ('jedem', 53), ('Zeitpunkt', 53), ('Geschäfte', 53), ('scheiterte', 53), ('70.', 53), ('38.', 53), ('unterwegs', 53), ('Remis', 53), ('Jelic', 53), ('live', 53), ('Gut', 53), ('Durchgang', 53), ('Cent', 53), ('Anleger', 53), ('Rio', 53), ('voran', 52), ('verkaufen', 52), ('investiert', 52), ('ungeschlagen', 52), ('Million', 52), ('Anleihen', 52), ('Vorschläge', 52), ('anderer', 52), ('mögliche', 52), ('Wahl', 52), ('Rest', 52), ('Minus', 52), ('unser', 52), ('Einnahmen', 52), ('Selbst', 52), ('Versuch', 52), ('Boden', 52), ('großes', 52), ('Steirer', 52), ('Verband', 52), ('anderes', 52), ('Vertrauen', 52), ('Zweifel', 52), ('2005', 52), ('Nachdem', 52), ('Aktie', 52), ('Konter', 52), ('Norwegen', 52), ('Miami', 52), ('entwickelt', 52), ('Vermögen', 52), ('Einschätzung', 52), ('positive', 51), ('Stellen', 51), ('staatlichen', 51), ('wichtiger', 51), ('klare', 51), ('Norweger', 51), ('Herren', 51), ('Partner', 51), ('ähnlich', 51), ('hervor', 51), ('36', 51), ('guter', 51), ('Beitrag', 51), ('45', 51), ('83.', 51), ('Weise', 51), ('russische', 51), ('setzten', 51), ('gefordert', 51), ('ORF', 51), ('Konzerne', 51), ('Projekt', 51), ('niedrigen', 51), ('weder', 51), ('perfekt', 51), ('Franzosen', 51), ('Hirscher', 51), ('Ronaldo', 51), ('jede', 51), ('Fischer', 51), ('Vonn', 51), ('Dennoch', 50), ('beginnen', 50), ('Bayer', 50), ('Kauf', 50), ('gehören', 50), ('Beschäftigten', 50), ('begann', 50), ('Statistik', 50), ('Causa', 50), ('ihres', 50), ('Argentinien', 50), ('Pläne', 50), ('Luxemburg', 50), ('Münchner', 50), ('Arbeitgeber', 50), ('Betriebe', 50), ('Internationalen', 50), ('Schlussphase', 50), ('Tschechien', 50), ('folgen', 50), ('wahrscheinlich', 50), ('Turin', 50), ('4:0', 50), ('jährlich', 50), ('Öffentlichkeit', 50), ('Garcia', 50), ('Bürger', 50), ('erhöhen', 50), ('Tabelle', 50), ('Plätze', 50), ('aufgenommen', 50), ('Kulterer', 50), ('ITA', 50), ('KAC', 50), ('kaufen', 50), ('Nationalbank', 50), ('Panama', 50), ('Vorarlberger', 50), ('Grazer', 50), ('linken', 49), ('Unternehmens', 49), ('Dallas', 49), ('Teilnahme', 49), ('tätig', 49), ('Medienberichten', 49), ('reicht', 49), ('Arbeitsplätze', 49), ('versuchen', 49), ('schwere', 49), ('Werner', 49), ('minus', 49), ('fix', 49), ('gelungen', 49), ('Strafraum', 49), ('Lauf', 49), ('Elf', 49), ('Gewinne', 49), ('Leistungen', 49), ('Kroatien', 49), ('Erfahrung', 49), ('7', 49), ('Ihre', 49), ('8', 49), ('Rückkehr', 49), ('Leipzig', 49), ('Geschäftsführer', 48), ('unseren', 48), ('Aufsteiger', 48), ('lief', 48), ('87.', 48), ('Wirtschaftskammer', 48), ('Tonnen', 48), ('Händler', 48), ('zusätzliche', 48), ('Abschaffung', 48), ('mehreren', 48), ('Matthias', 48), ('Kollegen', 48), ('Meinung', 48), ('Patrick', 48), ('Schmidt', 48), ('S.', 48), ('Debatte', 48), ('Recht', 48), ('EU-Staaten', 48), ('vergab', 48), ('höheren', 48), ('schneller', 48), ('Strebinger', 48), ('funktioniert', 48), ('Merkel', 48), ('vorzeitig', 48), ('Facebook', 48), ('dürften', 48), ('alten', 48), ('Eurowings', 48), ('OECD', 48), ('Zielpunkt', 48), ('GmbH', 47), ('US-Dollar', 47), ('Köln', 47), ('Paul', 47), ('AC', 47), ('Innenverteidiger', 47), ('schlechter', 47), ('bezahlt', 47), ('Pleite', 47), ('eingesetzt', 47), ('Zugang', 47), ('Betrieb', 47), ('Eurogruppe', 47), ('gescheitert', 47), ('Haus', 47), ('gaben', 47), ('Bau', 47), ('Institute', 47), ('4:1', 47), ('heimische', 47), ('unten', 47), ('Stankovic', 47), ('61.', 47), ('Novak', 47), ('denke', 47), ('neuerlich', 47), ('ÖSV', 47), ('Fenninger', 47), ('Reihe', 47), ('komplett', 47), ('gedacht', 47), ('Zweiter', 47), ('Mehrheit', 47), ('Weber', 47), ('italienischen', 47), ('hart', 47), ('fordern', 47), ('alt', 47), ('entschied', 47), ('Stimmung', 47), ('LASK', 47), ('Vettel', 47), ('Spitzenreiter', 46), ('Oliver', 46), ('Deal', 46), ('Harnik', 46), ('legt', 46), ('Julian', 46), ('Finanzkrise', 46), ('zählen', 46), ('arbeitet', 46), ('stehe', 46), ('Union', 46), ('Karl', 46), ('bietet', 46), ('Unterschied', 46), ('V.', 46), ('Dinamo', 46), ('Reform', 46), ('Jürgen', 46), ('Oberösterreicher', 46), ('Mannschaften', 46), ('Volumen', 46), ('74.', 46), ('folgte', 46), ('nutzen', 46), ('aufs', 46), ('vierte', 46), ('Wild', 46), ('Nationalteam', 46), ('Untersuchung', 46), ('britische', 46), ('verlängert', 46), ('56.', 46), ('Chelsea', 46), ('Sebastian', 46), ('Rückspiel', 46), ('Schachtar', 46), ('Drei', 46), ('77.', 46), ('Heute', 46), ('Amazon', 46), ('Dank', 45), ('starten', 45), ('trafen', 45), ('82.', 45), ('Ernst', 45), ('sorgten', 45), ('Baumgartlinger', 45), ('Integration', 45), ('profitieren', 45), ('besseren', 45), ('genannt', 45), ('Warum', 45), ('Zuvor', 45), ('Entscheidungen', 45), ('Idee', 45), ('sogenannten', 45), ('Sorgen', 45), ('11', 45), ('Gläubigern', 45), ('Ausgaben', 45), ('Abfahrt', 45), ('Wirtschaftsleistung', 45), ('höchste', 45), ('Defensive', 45), ('Australien', 45), ('Beteiligung', 45), ('wichtigen', 45), ('Pfeifenberger', 45), ('Stange', 45), ('Iran', 45), ('Jeder', 45), ('sehe', 45), ('Rapids', 45), ('genauso', 45), ('Polizei', 45), ('Mittwochabend', 45), ('investieren', 45), ('Aufschlag', 45), ('übernommen', 45), ('Boston', 45), ('Vorarlberg', 45), ('gewannen', 45), ('international', 45), ('internationale', 45), ('F.', 45), ('Slowakei', 45), ('Finish', 45), ('übernimmt', 44), ('Herausforderung', 44), ('46.', 44), ('Milan', 44), ('Slowenien', 44), ('zahlreiche', 44), ('76.', 44), ('Niederösterreich', 44), ('Änderungen', 44), ('alte', 44), ('samt', 44), ('meist', 44), ('kostet', 44), ('Ministerpräsident', 44), ('gezogen', 44), ('Erklärung', 44), ('sogenannte', 44), ('Weitere', 44), ('bewusst', 44), ('landete', 44), ('John', 44), ('interessiert', 44), ('Schritte', 44), ('Linzer', 44), ('kosten', 44), ('Phase', 44), ('Seitenwechsel', 44), ('Zeichen', 44), ('halben', 44), ('Vertreter', 44), ('Konsum', 44), ('Distanz', 44), ('übernahm', 44), ('63.', 44), ('Auftritt', 44), ('schauen', 44), ('Diskussion', 44), ('Franz', 44), ('besteht', 44), ('Wirtschaftswachstum', 44), ('Mittelfeld', 44), ('Klopp', 44), ('Hauptstadt', 44), ('glaubt', 44), ('Grünwald', 44), ('Frau', 44), ('Burgenländer', 44), ('Bullen', 44), ('brauche', 44), ('Ibrahimovic', 44), ('Vorschlag', 44), ('Nowotny', 44), ('*', 44), ('abgelaufenen', 43), ('Verfolger', 43), ('Werder', 43), ('59.', 43), ('72.', 43), ('Sky', 43), ('en', 43), ('35.', 43), ('Porsche', 43), ('Trend', 43), ('insbesondere', 43), ('teilweise', 43), ('Reuters', 43), ('Freihandelsabkommen', 43), ('wonach', 43), ('Gefühl', 43), ('gleichen', 43), ('1,2', 43), ('endlich', 43), ('Sturz', 43), ('29', 43), ('West', 43), ('verbessert', 43), ('Strich', 43), ('mache', 43), ('kommende', 43), ('direkten', 43), ('Konkurrenten', 43), ('erfolgreichen', 43), ('Hütteldorfer', 43), ('Liste', 43), ('umgesetzt', 43), ('1:3', 43), ('Internet', 43), ('Kayode', 43), ('De', 43), ('57.', 43), ('kürzlich', 43), ('Thorsten', 43), ('Schöttel', 43), ('Philadelphia', 43), ('Cleveland', 43), ('Roger', 43), ('achten', 43), ('69.', 43), ('Inflation', 43), ('Niederlande', 43), ('Bay', 43), ('Antonio', 42), ('Hofer', 42), ('suite', 42), ('Russen', 42), ('hoffe', 42), ('Klein', 42), ('Details', 42), ('prüfen', 42), ('Konsumenten', 42), ('hierzulande', 42), ('quasi', 42), ('geraten', 42), ('wichtigsten', 42), ('Angriff', 42), ('via', 42), ('Offensive', 42), ('einiges', 42), ('diskutiert', 42), ('geblieben', 42), ('vorgesehen', 42), ('Anfrage', 42), ('Sprecherin', 42), ('Weltcup', 42), ('55', 42), ('Grenzen', 42), ('Minsk', 42), ('Erwartungen', 42), ('58.', 42), ('Analysten', 42), ('legen', 42), ('Petsos', 42), ('Schließlich', 42), ('Dibon', 42), ('Weltrangliste', 42), ('Schiedsrichter', 42), ('Sachen', 42), ('Derby', 42), ('verwies', 42), ('Vielleicht', 42), ('britischen', 42), ('Düsseldorf', 42), ('1,8', 42), ('Donezk', 42), ('vergangene', 42), ('Selbstvertrauen', 42), ('französischen', 42), ('Umsetzung', 42), ('Strafe', 42), ('Rekord', 42), ('73.', 42), ('Stöger', 42), ('entfernt', 42), ('Koch', 42), ('Vanek', 42), ('Standort', 41), ('Guardiola', 41), ('beginnt', 41), ('Comeback', 41), ('ausgeschlossen', 41), ('50.', 41), ('frei', 41), ('erhöhte', 41), ('Minister', 41), ('ermittelt', 41), ('eingestellt', 41), ('2,5', 41), ('Streit', 41), ('verlangt', 41), ('erfüllen', 41), ('Behörde', 41), ('Zusammenarbeit', 41), ('verhandelt', 41), ('komme', 41), ('Antrag', 41), ('van', 41), ('möglicherweise', 41), ('Brasilien', 41), ('bisherige', 41), ('Sitzung', 41), ('Bedeutung', 41), ('gefeiert', 41), ('Olympia', 41), ('10.000', 41), ('Finnland', 41), ('letztlich', 41), ('Barrel', 41), ('erreichte', 41), ('Eck', 41), ('voraussichtlich', 41), ('stolz', 41), ('freuen', 41), ('Nachspielzeit', 41), ('Verträge', 41), ('gesperrt', 41), ('Steffen', 41), ('schoss', 41), ('Sonnleitner', 41), ('Pavelic', 41), ('1.000', 41), ('Kontrolle', 41), ('verpasst', 41), ('Zählern', 41), ('genutzt', 41), ('maximal', 41), ('Kurs', 41), ('Fällen', 41), ('italienische', 41), ('Baumeister', 41), ('48', 41), ('Vorbereitung', 41), ('Tesla', 41), ('hoffen', 41), ('Wings', 41), ('Denver', 41), ('Auer', 41), ('jungen', 41), ('Etappe', 41), ('VKI', 41), ('Saisonende', 40), ('Mödling', 40), ('souverän', 40), ('National', 40), ('endete', 40), ('positiven', 40), ('Arbeitslosen', 40), ('fährt', 40), ('1,3', 40), ('längst', 40), ('passieren', 40), ('Tisch', 40), ('geschaffen', 40), ('Autobauer', 40), ('Hannover', 40), ('Stars', 40), ('unterstützen', 40), ('Konzerns', 40), ('gesprochen', 40), ('64.', 40), ('34', 40), ('Irland', 40), ('Wettbewerb', 40), ('einst', 40), ('Reaktion', 40), ('jener', 40), ('machten', 40), ('Insolvenz', 40), ('kurzer', 40), ('Auslosung', 40), ('Olympischen', 40), ('Mittelfeldspieler', 40), ('Favorit', 40), ('78.', 40), ('Tempo', 40), ('Prosenik', 40), ('reduziert', 40), ('Strom', 40), ('Eigentümer', 40), ('Goalie', 40), ('International', 40), ('erfolgt', 40), ('gleiche', 40), ('Lufthansa', 40), ('Lebensmittel', 40), ('9', 40), ('2:3', 40), ('Conference', 40), ('gehalten', 40), ('chinesische', 40), ('Verantwortung', 40), ('Maple', 40), ('0:3', 40), ('OGH', 40), ('jemand', 39), ('60.', 39), ('erzielen', 39), ('hinten', 39), ('Feld', 39), ('33.', 39), ('Republik', 39), ('darin', 39), ('außerhalb', 39), ('Grexit', 39), ('Augen', 39), ('Software', 39), ('ließen', 39), ('Beschäftigung', 39), ('Berufung', 39), ('Verletzung', 39), ('massiv', 39), ('Wirkung', 39), ('regelmäßig', 39), ('stattfinden', 39), ('Freistoß', 39), ('75', 39), ('Belgien', 39), ('Hoffnung', 39), ('Bad', 39), ('32.', 39), ('45.', 39), ('Verdacht', 39), ('Esser', 39), ('Trotzdem', 39), ('Stück', 39), ('Happel-Stadion', 39), ('Grahovac', 39), ('Trainingslager', 39), ('wechselt', 39), ('veröffentlichten', 39), ('anbieten', 39), ('Präsidenten', 39), ('Börsen', 39), ('Fahrer', 39), ('Immerhin', 39), ('Kein', 39), ('gelte', 39), ('37', 39), ('erzielten', 39), ('Gleichzeitig', 39), ('Vorteil', 39), ('siebenten', 39), ('zuständige', 39), ('Burgenland', 39), ('privaten', 39), ('Anm', 39), ('Alles', 39), ('Shiffrin', 39), ('Sitz', 38), ('Fokus', 38), ('VfB', 38), ('Roma', 38), ('gleichzeitig', 38), ('gesunken', 38), ('Journalisten', 38), ('Nachrichtenagentur', 38), ('Aufsichtsrat', 38), ('Referendum', 38), ('Währung', 38), ('Untersuchungen', 38), ('Mitglieder', 38), ('stets', 38), ('täglich', 38), ('Dynamo', 38), ('Sportdirektor', 38), ('Rücktritt', 38), ('bester', 38), ('Dominik', 38), ('schlagen', 38), ('52.', 38), ('Bevölkerung', 38), ('entgegen', 38), ('Anteile', 38), ('James', 38), ('Welche', 38), ('Flüchtlingen', 38), ('150', 38), ('wies', 38), ('Positionen', 38), ('Brief', 38), ('inklusive', 38), ('absolviert', 38), ('72', 38), ('stiegen', 38), ('schwachen', 38), ('43.', 38), ('Verletzungen', 38), ('55.', 38), ('Leiter', 38), ('Tabellenführung', 38), ('Stangl', 38), ('Schlager', 38), ('Strategie', 38), ('Gegenzug', 38), ('Zustimmung', 38), ('Abstieg', 38), ('Bescheid', 38), ('bezeichnete', 38), ('Geschäftsjahr', 38), ('bieten', 38), ('Bernd', 38), ('Gründe', 38), ('Respekt', 38), ('Leafs', 38), ('Anschluss', 38), ('Budget', 38), ('Grabner', 38), ('Putin', 37), ('eröffnet', 37), ('feierten', 37), ('AS', 37), ('betrug', 37), ('vorstellen', 37), ('Johannes', 37), ('Mir', 37), ('gesichert', 37), ('vertreten', 37), ('Tochter', 37), ('Milliarde', 37), ('konzentrieren', 37), ('Unterlagen', 37), ('Ebene', 37), ('Regierungschef', 37), ('abgeben', 37), ('kritisierte', 37), ('32', 37), ('Indien', 37), ('warnte', 37), ('Regierungschefs', 37), ('Novomatic', 37), ('gehandelt', 37), ('nannte', 37), ('optimistisch', 37), ('wirtschaftliche', 37), ('denken', 37), ('Öl', 37), ('Raum', 37), ('Fuß', 37), ('Wolfsberger', 37), ('Clubs', 37), ('super', 37), ('Also', 37), ('68.', 37), ('langsam', 37), ('froh', 37), ('null', 37), ('Erhöhung', 37), ('66.', 37), ('reden', 37), ('endgültig', 37), ('Bundesregierung', 37), ('Apple', 37), ('Forderung', 37), ('reichen', 37), ('tut', 37), ('Black', 37), ('siegte', 37), ('Strafminuten', 37), ('bestreiten', 37), ('Jahresende', 37), ('Obwohl', 37), ('Kurz', 37), ('Berisha', 37), ('schließen', 37), ('Dienstagabend', 37), ('erhielt', 36), ('Großen', 36), ('entscheidenden', 36), ('SC', 36), ('04', 36), ('Stephan', 36), ('gewählt', 36), ('Traum', 36), ('Aktion', 36), ('Gerichtshof', 36), ('finanziert', 36), ('Modelle', 36), ('Interview', 36), ('aktiv', 36), ('entsprechenden', 36), ('überlegen', 36), ('Rekordmeister', 36), ('niedrig', 36), ('schreiben', 36), ('glücklich', 36), ('Spielzeit', 36), ('Jose', 36), ('Anspruch', 36), ('Ökonom', 36), ('geändert', 36), ('gestrichen', 36), ('eingewechselte', 36), ('90.', 36), ('enttäuscht', 36), ('Internationale', 36), ('durfte', 36), ('Richard', 36), ('Liechtenstein', 36), ('Pflicht', 36), ('Rechnung', 36), ('41.', 36), ('spanische', 36), ('Marco', 36), ('Kühbauer', 36), ('Dadurch', 36), ('all', 36), ('Halle', 36), ('größer', 36), ('gerechnet', 36), ('Gorgon', 36), ('verpasste', 36), ('49.', 36), ('staatliche', 36), ('Andre', 36), ('sorgt', 36), ('Ulmer', 36), ('Franzose', 36), ('Spurs', 36), ('Davon', 36), ('2002', 36), ('NHL', 36), ('Pittsburgh', 36), ('Rezession', 36), ('Hilfsprogramm', 36), ('Spielern', 36), ('67.', 36), ('fertig', 36), ('Schöpf', 36), ('Niederlanden', 35), ('qualifiziert', 35), ('18.30', 35), ('A', 35), ('39', 35), ('Sohn', 35), ('Rücken', 35), ('offiziellen', 35), ('wirtschaftlichen', 35), ('Verbraucher', 35), ('gelegt', 35), ('richtige', 35), ('Freude', 35), ('2019', 35), ('offiziell', 35), ('eng', 35), ('Praxis', 35), ('Modell', 35), ('befinden', 35), ('schön', 35), ('entsprechende', 35), ('Standards', 35), ('zitiert', 35), ('gestanden', 35), ('Varoufakis', 35), ('Bauern', 35), ('Strecke', 35), ('dreimal', 35), ('Super-G', 35), ('67', 35), ('Klasse', 35), ('FK', 35), ('Besonders', 35), ('68', 35), ('gelassen', 35), ('Maschinen', 35), ('Exporte', 35), ('Ausbau', 35), ('81.', 35), ('33', 35), ('falsch', 35), ('Anna', 35), ('Option', 35), ('Topf', 35), ('Einfluss', 35), ('verändert', 35), ('gefragt', 35), ('Presse', 35), ('Gegensatz', 35), ('verpflichtet', 35), ('doppelt', 35), ('suchen', 35), ('Ausbildung', 35), ('Flughafen', 35), ('junge', 35), ('Telekom', 35), ('42.', 35), ('Wunsch', 35), ('Umfeld', 35), ('Sperre', 35), ('Dokumente', 35), ('34.', 35), ('Hasenhüttl', 35), ('Sätzen', 35), ('FRA', 35), ('jenen', 35), ('Mitteilung', 35), ('Seele', 35), ('Anders', 35), ('spät', 35), ('Unicredit', 35), ('88.', 35), ('Panthers', 35), ('Venuto', 35), ('Sportler', 35), ('Hoffenheim', 34), ('Mönchengladbach', 34), ('Außenseiter', 34), ('verletzten', 34), ('ersetzt', 34), ('65.', 34), ('Vortag', 34), ('schlägt', 34), ('Steiermark', 34), ('Papier', 34), ('Anklage', 34), ('3,5', 34), ('Institut', 34), ('politischen', 34), ('Zahlung', 34), ('liege', 34), ('dauern', 34), ('volle', 34), ('präsentiert', 34), ('Beschäftigte', 34), ('Fast', 34), ('Meistertitel', 34), ('Tormann', 34), ('tritt', 34), ('Klubs', 34), ('Grenze', 34), ('Saisonsieg', 34), ('Spaß', 34), ('mag', 34), ('daraus', 34), ('Kapital', 34), ('Kopfball', 34), ('85.', 34), ('letzter', 34), ('Kofler', 34), ('grundsätzlich', 34), ('B', 34), ('Netz', 34), ('400', 34), ('Gold', 34), ('Schröcksnadel', 34), ('Vorgaben', 34), ('Neue', 34), ('leichter', 34), ('Zahlungen', 34), ('Hausherren', 34), ('äußerte', 34), ('Rudolf', 34), ('zehnten', 34), ('Formel', 34), ('Kritiker', 34), ('2014.', 34), ('bestimmte', 34), ('Bahn', 34), ('Dach', 34), ('US', 34), ('u.a.', 34), ('gesenkt', 34), ('Wobei', 34), ('Verluste', 34), ('Daher', 34), ('Damari', 34), ('FIFA', 34), ('Aussicht', 34), ('Kreuzbandriss', 34), ('Geldpolitik', 34), ('betragen', 34), ('Beric', 34), ('1:4', 34), ('Wawrinka', 34), ('Florida', 34), ('Bewerb', 33), ('Hamburg', 33), ('plant', 33), ('Super', 33), ('Reise', 33), ('Russlands', 33), ('Torhüter', 33), ('Posten', 33), ('laufende', 33), ('warnt', 33), ('Oberösterreich', 33), ('ganzen', 33), ('2001', 33), ('Horn', 33), ('Zunächst', 33), ('gewusst', 33), ('lagen', 33), ('Mexiko', 33), ('Amt', 33), ('sicherte', 33), ('klaren', 33), ('Prozess', 33), ('erklären', 33), ('Walter', 33), ('Gerade', 33), ('akzeptieren', 33), ('Mindestlohn', 33), ('Widerstand', 33), ('Endstand', 33), ('Geldgeber', 33), ('Löhne', 33), ('tief', 33), ('Eckball', 33), ('80.', 33), ('ÖFB-Team', 33), ('Bühne', 33), ('Kombination', 33), ('schwierigen', 33), ('The', 33), ('Preidler', 33), ('Abstand', 33), ('verweist', 33), ('Rote', 33), ('ausreichend', 33), ('eineinhalb', 33), ('Syriza', 33), ('Konto', 33), ('Wimmer', 33), ('entspricht', 33), ('71.', 33), ('Novota', 33), ('private', 33), ('erfolgen', 33), ('gegründet', 33), ('Montagabend', 33), ('Vorsaison', 33), ('Verpflichtung', 33), ('Treffern', 33), ('Foda', 33), ('Gewinner', 33), ('Carlo', 33), ('Bulls', 33), ('37.', 33), ('zuständig', 33), ('ausschließlich', 33), ('Augsburg', 33), ('Petersburg', 33), ('weist', 33), ('meinem', 33), ('Times', 33), ('schwache', 33), ('Abwehr', 33), ('Tomi', 33), ('Förderung', 32), ('Amsterdam', 32), ('Vorstandschef', 32), ('späten', 32), ('Rene', 32), ('beinahe', 32), ('einzelnen', 32), ('Fälle', 32), ('Landwirtschaft', 32), ('informiert', 32), ('hängt', 32), ('abgelehnt', 32), ('sitzt', 32), ('wächst', 32), ('Schutz', 32), ('38', 32), ('Harald', 32), ('1,6', 32), ('Politiker', 32), ('Latte', 32), ('handle', 32), ('eigenem', 32), ('Prozentpunkte', 32), ('44', 32), ('Aussage', 32), ('profitiert', 32), ('100.000', 32), ('Klassenerhalt', 32), ('daheim', 32), ('schien', 32), ('Einige', 32), ('Ölpreis', 32), ('sozialen', 32), ('ÖFB-Teamspieler', 32), ('harte', 32), ('rutschte', 32), ('Vom', 32), ('verbessern', 32), ('größere', 32), ('halbe', 32), ('dahinter', 32), ('Audi', 32), ('entscheidend', 32), ('Lizenz', 32), ('Fifa', 32), ('Juncker', 32), ('sparen', 32), ('richtigen', 32), ('näher', 32), ('Andy', 32), ('Günter', 32), ('Eigentor', 32), ('Vorfeld', 32), ('selten', 32), ('Marken', 32), ('Bildung', 32), ('sank', 32), ('Mutter', 32), ('Grand', 32), ('Einzug', 32), ('verwendet', 32), ('Dänemark', 32), ('Foul', 32), ('Lissabon', 32), ('Liter', 32), ('schloss', 32), ('Cavaliers', 32), ('geschrieben', 32), ('Weinzierl', 32), ('fühlt', 32), ('Ihnen', 32), ('Nachrichten', 32), ('84.', 32), ('Währungsunion', 32), ('schwieriger', 32), ('bezahlen', 32), ('Dijsselbloem', 32), ('holt', 32), ('irgendwann', 32), ('dürfe', 32), ('Ausschuss', 32), ('Ferrari', 32), ('denkt', 31), ('Windtner', 31), ('Prödl', 31), ('2003', 31), ('gemeldet', 31), ('außer', 31), ('fließen', 31), ('Berliner', 31), ('erfüllt', 31), ('offene', 31), ('eingeführt', 31), ('Falle', 31), ('aufgehoben', 31), ('hoher', 31), ('öffentliche', 31), ('Unser', 31), ('gekauft', 31), ('damaligen', 31), ('Faymann', 31), ('Rupprechter', 31), ('Weihnachten', 31), ('Erster', 31), ('Hannes', 31), ('Bernhard', 31), ('4:3', 31), ('Alter', 31), ('86', 31), ('globalen', 31), ('Jahresbeginn', 31), ('lautet', 31), ('Osteuropa', 31), ('Asylwerber', 31), ('erhält', 31), ('einiger', 31), ('Angesichts', 31), ('Publikum', 31), ('Ebner', 31), ('Ganz', 31), ('fünfte', 31), ('Grödiger', 31), ('Wolfsberg', 31), ('Brasilianer', 31), ('unterstützt', 31), ('Ernst-Happel-Stadion', 31), ('hintereinander', 31), ('Person', 31), ('Licht', 31), ('antreten', 31), ('negativen', 31), ('Zeitraum', 31), ('gelegen', 31), ('Curry', 31), ('Schuldenschnitt', 31), ('43', 31), ('weshalb', 31), ('Vizemeister', 31), ('gemeinsame', 31), ('bezeichnet', 31), ('Jäger', 31), ('gewachsen', 31), ('vorgeworfen', 31), ('BA', 31), ('langfristig', 31), ('Finanz', 31), ('Vater', 31), ('manche', 31), ('Van', 31), ('Skandal', 31), ('Oscar', 31), ('Aigner', 31), ('Rafael', 31), ('verurteilt', 31), ('VSV', 31), ('69', 31), ('Insider', 31), ('regulären', 31), ('Slalom', 31), ('dran', 31), ('Gelegenheit', 31), ('Alar', 31), ('Piloten', 31), ('Befragung', 31), ('daraufhin', 31), ('plötzlich', 31), ('Studien', 31), ('neuerlichen', 31), ('Avdijaj', 31), ('Gesundheit', 31), ('vereinbart', 31), ('Salzburgs', 31), ('36.', 31), ('Tampa', 31), ('RB', 31), ('Holding', 30), ('Forschung', 30), ('Landsmann', 30), ('VfL', 30), ('genannten', 30), ('G', 30), ('überrascht', 30), ('75.', 30), ('Darmstadt', 30), ('lernen', 30), ('Region', 30), ('politisch', 30), ('Richter', 30), ('möglichst', 30), ('Leitl', 30), ('freute', 30), ('beziehungsweise', 30), ('sowieso', 30), ('praktisch', 30), ('egal', 30), ('BayernLB', 30), ('Deutschlands', 30), ('belastet', 30), ('reagiert', 30), ('Auge', 30), ('Greenpeace', 30), ('Klagen', 30), ('unklar', 30), ('Teile', 30), ('wechselte', 30), ('negative', 30), ('einstellen', 30), ('äußerst', 30), ('hinzu', 30), ('Hilfe', 30), ('Reichelt', 30), ('Asien', 30), ('ausländischen', 30), ('6:4', 30), ('NOR', 30), ('4:2', 30), ('zuversichtlich', 30), ('Vorteile', 30), ('39.', 30), ('fanden', 30), ('Herbert', 30), ('französische', 30), ('Christopher', 30), ('Neuseeland', 30), ('Athleten', 30), ('Herr', 30), ('Grozurek', 30), ('leider', 30), ('Max', 30), ('englische', 30), ('Ljubljana', 30), ('Mitglied', 30), ('Angela', 30), ('Londoner', 30), ('ausgeschieden', 30), ('Aufgaben', 30), ('beendete', 30), ('fuhr', 30), ('getan', 30), ('44.', 30), ('Management', 30), ('Märkten', 30), ('verstärkt', 30), ('Reinhold', 30), ('Hayböck', 30), ('Kaiser', 30), ('Pichler', 30), ('Rossi', 30), ('Kind', 30), ('Zug', 30), ('eindeutig', 30), ('Hertha', 30), ('Gelb-Rot', 30), ('Villach', 30), ('Aufgrund', 30), ('Riesentorlauf', 30), ('Banker', 30), ('Vereinbarung', 30), ('France', 30), ('vergeben', 30), ('zugelassen', 30), ('verdienen', 30), ('Matches', 30), ('fort', 30), ('Schäuble', 30), ('Gesamtwertung', 30), ('Agentur', 30), ('Raffl', 30), ('Malmö', 30), ('Rad', 30), ('Risiken', 30), ('Worten', 29), ('befindet', 29), ('angeblich', 29), ('96', 29), ('62.', 29), ('Standorte', 29), ('Orleans', 29), ('Jets', 29), ('fit', 29), ('Ordnung', 29), ('geprüft', 29), ('Bewegung', 29), ('Männer', 29), ('1,4', 29), ('Hilfen', 29), ('fürs', 29), ('Abwicklung', 29), ('erlaubt', 29), ('bestehen', 29), ('Grad', 29), ('stabil', 29), ('freue', 29), ('Wege', 29), ('umstrittenen', 29), ('standen', 29), ('weitgehend', 29), ('Untreue', 29), ('Kitzbühel', 29), ('alleine', 29), ('Prag', 29), ('kurzem', 29), ('Bereichen', 29), ('2:0.', 29), ('5:1', 29), ('Regel', 29), ('mehrfach', 29), ('fortsetzen', 29), ('Finanzierung', 29), ('Melzer', 29), ('kassiert', 29), ('Doppelpack', 29), ('Min', 29), ('120', 29), ('engagiert', 29), ('0:4', 29), ('Szene', 29), ('NBA', 29), ('Superstar', 29), ('Aussagen', 29), ('Regionen', 29), ('15.000', 29), ('30.000', 29), ('unterlag', 29), ('verbesserte', 29), ('Bresnik', 29), ('Initiative', 29), ('wirtschaftlich', 29), ('Briten', 29), ('Transfer', 29), ('solcher', 29), ('startet', 29), ('verliert', 29), ('abgegeben', 29), ('Ausmaß', 29), ('locker', 29), ('Grillitsch', 29), ('verteidigen', 29), ('Znojmo', 29), ('startete', 29), ('vorher', 29), ('Co.', 29), ('Kings', 29), ('trägt', 29), ('Vier', 29), ('Abgeordneten', 29), ('falsche', 29), ('Berger', 29), ('Lustenau', 29), ('Miller', 29), ('Detroit', 29), ('reichte', 29), ('Ausblick', 29), ('lösen', 29), ('Lagarde', 29), ('Liefering', 29), ('Negativzinsen', 29), ('Flyers', 29), ('vs.', 29), ('Zotter', 29), ('wesentlich', 28), ('feiern', 28), ('Bruno', 28), ('Inter', 28), ('kassierte', 28), ('Anschlusstreffer', 28), ('Football', 28), ('unmittelbar', 28), ('Ilsanker', 28), ('Zlatko', 28), ('Motor', 28), ('Aleksandar', 28), ('Analyse', 28), ('tragen', 28), ('halt', 28), ('Ministerium', 28), ('ursprünglich', 28), ('Erfahrungen', 28), ('Darüber', 28), ('Pensionen', 28), ('Kooperation', 28), ('befürchtet', 28), ('angeboten', 28), ('Strafen', 28), ('wusste', 28), ('trat', 28), ('Ebenfalls', 28), ('Heimat', 28), ('geringer', 28), ('frühen', 28), ('kurzen', 28), ('Teilnehmer', 28), ('Diskussionen', 28), ('Gegenteil', 28), ('Waren', 28), ('Nürnberg', 28), ('spüren', 28), ('Öl-', 28), ('Hart', 28), ('brach', 28), ('Geldwäsche', 28), ('neunten', 28), ('kurzfristig', 28), ('FAC', 28), ('54.', 28), ('Seidl', 28), ('fielen', 28), ('Singapur', 28), ('trainiert', 28), ('bleibe', 28), ('fehlte', 28), ('Österreicherin', 28), ('Helmut', 28), ('wachsen', 28), ('Quote', 28), ('Abstimmung', 28), ('Rahmenbedingungen', 28), ('stoppen', 28), ('vorgelegt', 28), ('Mitterlehner', 28), ('gesorgt', 28), ('steckt', 28), ('schwerer', 28), ('vorbereitet', 28), ('passt', 28), ('handeln', 28), ('Unsere', 28), ('Heimsieg', 28), ('produziert', 28), ('40.', 28), ('1995', 28), ('Atlanta', 28), ('entsprechend', 28), ('verdienten', 28), ('Abgang', 28), ('Neymar', 28), ('kennt', 28), ('Zuwachs', 28), ('Vorwurf', 28), ('Andrea', 28), ('Serbien', 28), ('Verfassung', 28), ('Schwegler', 28), ('Suttner', 28), ('einzelne', 28), ('Bilbao', 28), ('La', 28), ('Ort', 28), ('Beste', 28), ('Buenos', 28), ('Aires', 28), ('Lionel', 28), ('Barca', 28), ('brachten', 28), ('ausgesprochen', 28), ('Ferrer', 28), ('Williams', 28), ('Katar', 28), ('Brem', 28), ('Wladimir', 27), ('jüngst', 27), ('ausgebaut', 27), ('Carolina', 27), ('binnen', 27), ('0,4', 27), ('offenen', 27), ('Grasser', 27), ('angesetzt', 27), ('überall', 27), ('Adria', 27), ('Auflagen', 27), ('gezwungen', 27), ('FPÖ', 27), ('Hinzu', 27), ('eingebracht', 27), ('kämpft', 27), ('Visier', 27), ('Affäre', 27), ('gewisse', 27), ('niedrige', 27), ('Schweinsteiger', 27), ('verschiedene', 27), ('gefährdet', 27), ('HC', 27), ('morgen', 27), ('Buch', 27), ('Angelegenheit', 27), ('begründet', 27), ('nennt', 27), ('wert', 27), ('gefahren', 27), ('generell', 27), ('gelaufen', 27), ('Ski', 27), ('Elfmeterschießen', 27), ('Prüfung', 27), ('Heuer', 27), ('Italiens', 27), ('6:3', 27), ('dauert', 27), ('49', 27), ('negativ', 27), ('Siebenhandl', 27), ('zeigten', 27), ('Umsätze', 27), ('entscheidende', 27), ('zunehmend', 27), ('Edomwonyi', 27), ('gesetzten', 27), ('zogen', 27), ('Abstiegskampf', 27), ('Vierter', 27), ('Denifl', 27), ('Wende', 27), ('Wort', 27), ('Ten', 27), ('Tests', 27), ('Piste', 27), ('Anzahl', 27), ('finanzielle', 27), ('hinnehmen', 27), ('wirft', 27), ('Gruppen', 27), ('bestreitet', 27), ('Oder', 27), ('durchschnittlich', 27), ('Hoffnungen', 27), ('zweiter', 27), ('85', 27), ('86.', 27), ('Jan', 27), ('ausfallen', 27), ('bewertet', 27), ('Partei', 27), ('eingeleitet', 27), ('Wifo', 27), ('fixiert', 27), ('nahezu', 27), ('vergessen', 27), ('Billionen', 27), ('Rot', 27), ('Eis', 27), ('Organisation', 27), ('Diesel', 27), ('Beweis', 27), ('Argument', 27), ('Vorhaben', 27), ('heutigen', 27), ('Staats-', 27), ('Cristiano', 27), ('Gesprächen', 27), ('schlechte', 27), ('präsent', 27), ('Uefa', 27), ('Vorjahres', 27), ('Reyna', 27), ('AUA', 27), ('Aufsicht', 27), ('finanziell', 27), ('SKN', 27), ('89.', 27), ('Porto', 27), ('Seattle', 27), ('Graf', 27), ('wichtigste', 26), ('Eintracht', 26), ('Sports', 26), ('spielten', 26), ('Dieter', 26), ('zurückgegangen', 26), ('vorliegt', 26), ('Justiz', 26), ('Meine', 26), ('Wirtschafts-', 26), ('Infrastruktur', 26), ('ergänzte', 26), ('Verkehr', 26), ('Alpe', 26), ('Betrag', 26), ('verhinderte', 26), ('verboten', 26), ('Transparenz', 26), ('Branchen', 26), ('ergeben', 26), ('Mayer', 26), ('Regelung', 26), ('Personal', 26), ('Verlierer', 26), ('betrachtet', 26), ('häufig', 26), ('Entlastung', 26), ('Ham', 26), ('1:0.', 26), ('Verhältnis', 26), ('Veränderungen', 26), ('beschäftigen', 26), ('andererseits', 26), ('Ballbesitz', 26), ('56', 26), ('Erdgas', 26), ('Kienast', 26), ('steigende', 26), ('Istanbul', 26), ('SCR', 26), ('Schütz', 26), ('82', 26), ('65', 26), ('beenden', 26), ('Nationalmannschaft', 26), ('Schößwendter', 26), ('53.', 26), ('unserem', 26), ('Teamkollegen', 26), ('Problemen', 26), ('Brändle', 26), ('Europacup', 26), ('Oklahoma', 26), ('Volkswirtschaft', 26), ('Lösungen', 26), ('51', 26), ('Service', 26), ('online', 26), ('Rande', 26), ('Voraussetzungen', 26), ('Steuerhinterziehung', 26), ('Bedenken', 26), ('Wirtschaftsminister', 26), ('Prevc', 26), ('Landeshauptmann', 26), ('Grundlage', 26), ('Dividende', 26), ('Martschinko', 26), ('Friesenbichler', 26), ('Wasser', 26), ('österreichischer', 26), ('gewechselt', 26), ('Villa', 26), ('Tatsächlich', 26), ('Voraussetzung', 26), ('Gerhard', 26), ('Ivica', 26), ('Canadi', 26), ('Dornbirn', 26), ('Kalifornien', 26), ('freut', 26), ('Trump', 26), ('tat', 26), ('Macht', 26), ('Luis', 26), ('Weltwirtschaft', 26), ('Obama', 26), ('Frist', 26), ('Bezug', 26), ('U-Ausschuss', 26), ('Monte', 26), ('Schnee', 26), ('Armut', 26), ('bekämpfen', 26), ('IHS', 26), ('0,3', 26), ('Suche', 26), ('Street', 26), ('Gedanken', 26), ('Heinz', 26), ('Alex', 26), ('konkret', 26), ('Meischberger', 26), ('Google', 26), ('Schreiben', 26), ('Simon', 26), ('Kirchgasser', 26), ('Wels', 25), ('Lewandowski', 25), ('Freitagabend', 25), ('Karl-Heinz', 25), ('Rummenigge', 25), ('wirkte', 25), ('1998', 25), ('fortgesetzt', 25), ('Prognose', 25), ('Beschluss', 25), ('Umwelt', 25), ('indem', 25), ('harten', 25), ('ausländische', 25), ('Draghi', 25), ('entscheidet', 25), ('Papiere', 25), ('600', 25), ('heftig', 25), ('Realität', 25), ('Gaal', 25), ('Teilen', 25), ('verteilt', 25), ('rechten', 25), ('Nutz', 25), ('Registrierkassenpflicht', 25), ('teils', 25), ('Konsequenzen', 25), ('verteidigte', 25), ('bereitete', 25), ('nationale', 25), ('vieles', 25), ('Engländer', 25), ('steigern', 25), ('derzeitigen', 25), ('unterdessen', 25), ('50.000', 25), ('Regelungen', 25), ('fürchten', 25), ('gelingt', 25), ('Ruhe', 25), ('Spiridonovic', 25), ('900', 25), ('durchgeführt', 25), ('gesucht', 25), ('Lightning', 25), ('betreibt', 25), ('Eigenkapital', 25), ('ersetzen', 25), ('Fünf', 25), ('Roman', 25), ('Bruttoinlandsprodukt', 25), ('Monaco', 25), ('NED', 25), ('Wales', 25), ('qualifizieren', 25), ('51.', 25), ('Wallner', 25), ('800', 25), ('kleinere', 25), ('Podest', 25), ('größeren', 25), ('Zoidl', 25), ('Honda', 25), ('UEFA', 25), ('ausgerechnet', 25), ('Ausschluss', 25), ('übrigen', 25), ('bestehenden', 25), ('dotierten', 25), ('Prix', 25), ('Werte', 25), ('Samstagabend', 25), ('Bälle', 25), ('Mensch', 25), ('Vorgehen', 25), ('Kredit', 25), ('Anbieter', 25), ('lieber', 25), ('technischen', 25), ('verbunden', 25), ('Holzhauser', 25), ('Flanke', 25), ('Diego', 25), ('Costa', 25), ('Finanzmarktaufsicht', 25), ('zahlreichen', 25), ('sitzen', 25), ('billiger', 25), ('Johann', 25), ('Herausforderungen', 25), ('Fortschritte', 25), ('gemeinsamen', 25), ('Toyota', 25), ('Ajax', 25), ('empfängt', 25), ('Villacher', 25), ('Spiels', 25), ('Einer', 25), ('bezwang', 25), ('Moritz', 25), ('Center', 25), ('nennen', 25), ('bestimmten', 25), ('Katalanen', 25), ('Krediten', 25), ('Pfund', 25), ('Blues', 25), ('persönlich', 25), ('reagierte', 25), ('0,5', 25), ('teurer', 25), ('gering', 25), ('Miranda', 25), ('Oberlin', 25), ('Kammer', 25), ('hielten', 25), ('Vorwoche', 25), ('lehnt', 25), ('Amtszeit', 25), ('schlechten', 25), ('Moser', 25), ('Sorge', 25), ('Geht', 25), ('Index', 25), ('Assist', 25), ('Standard', 25), ('entwickeln', 25), ('Albanien', 25), ('Stream', 25), ('Gewerkschaften', 25), ('lobte', 25), ('Änderung', 25), ('Hamburger', 24), ('deswegen', 24), ('41', 24), ('angemeldet', 24), ('außen', 24), ('ändert', 24), ('Gegentor', 24), ('sucht', 24), ('Sabitzer', 24), ('deutliche', 24), ('Arbeiterkammer', 24), ('Bundesland', 24), ('geeinigt', 24), ('gestern', 24), ('klarer', 24), ('Tür', 24), ('zustimmen', 24), ('Andere', 24), ('Wagen', 24), ('jeweiligen', 24), ('Gesellschaften', 24), ('Abbau', 24), ('drittes', 24), ('Josef', 24), ('Platini', 24), ('stärksten', 24), ('offizielle', 24), ('steigenden', 24), ('71', 24), ('Schwierigkeiten', 24), ('2.000', 24), ('bestätigen', 24), ('rechtzeitig', 24), ('Argentinier', 24), ('Beine', 24), ('Mark', 24), ('umstrittene', 24), ('verfügt', 24), ('Viel', 24), ('geschehen', 24), ('Silvio', 24), ('Schick', 24), ('verteidigt', 24), ('Rapid-Trainer', 24), ('Gruppensieger', 24), ('Cheftrainer', 24), ('gefehlt', 24), ('MESZ', 24), ('Flüge', 24), ('besitzt', 24), ('Sinne', 24), ('Pech', 24), ('zugleich', 24), ('Abschied', 24), ('erfahren', 24), ('Verweis', 24), ('saß', 24), ('zugunsten', 24), ('Allianz', 24), ('Wird', 24), ('Fahrt', 24), ('Break', 24), ('Umfrage', 24), ('54', 24), ('Rasen', 24), ('Knieverletzung', 24), ('Kapitalmarkt', 24), ('Immofinanz', 24), ('Dritte', 24), ('Hundstorfer', 24), ('baute', 24), ('Absatz', 24), ('Bewertung', 24), ('entstanden', 24), ('Zentrum', 24), ('Blutsch', 24), ('42', 24), ('Vorentscheidung', 24), ('79.', 24), ('gelöst', 24), ('Matchball', 24), ('hohem', 24), ('Felix', 24), ('Motors', 24), ('1999', 24), ('Gludovatz', 24), ('trainieren', 24), ('jüngste', 24), ('Enttäuschung', 24), ('belohnt', 24), ('ENG', 24), ('reagieren', 24), ('restlichen', 24), ('definitiv', 24), ('öfter', 24), ('Donald', 24), ('ukrainischen', 24), ('nunmehr', 24), ('Co', 24), ('di', 24), ('0,8', 24), ('vermutlich', 24), ('Umstellung', 24), ('Streik', 24), ('Paket', 24), ('Veranstaltung', 24), ('allesamt', 24), ('Walke', 24), ('knappen', 24), ('Laimer', 24), ('dramatisch', 24), ('Auswärtsspiel', 24), ('World', 24), ('Eishockey', 24), ('Osten', 24), ('Kapfenberg', 24), ('Islanders', 24), ('Netzer', 24), ('Nachmittag', 24), ('Signal', 24), ('Eltern', 24), ('Tadic', 24), ('Madl', 24), ('B.', 24), ('Abgeordnete', 24), ('Green', 24), ('Betrug', 24), ('Chinesen', 24), ('Potenzial', 24), ('Rivalen', 24), ('Houston', 24), ('Astana', 24), ('Aufnahme', 24), ('Haftungen', 24), ('Morgenstern', 24), ('Vidal', 24), ('rechtliche', 24), ('Tirolerin', 24), ('Ragger', 24), ('Murg', 23), ('belegt', 23), ('Aubameyang', 23), ('stärken', 23), ('Angebote', 23), ('Bowl', 23), ('konzentriert', 23), ('legten', 23), ('Hackl', 23), ('landen', 23), ('Verbesserung', 23), ('Entwurf', 23), ('Gutachten', 23), ('Gang', 23), ('Haben', 23), ('Prinzip', 23), ('Konzept', 23), ('Frank', 23), ('freien', 23), ('befürchten', 23), ('Betriebsrat', 23), ('Nachfolge', 23), ('hundert', 23), ('fügte', 23), ('US-Amerikaner', 23), ('begnügen', 23), ('Svindal', 23), ('Du', 23), ('Südkorea', 23), ('drinnen', 23), ('lieferte', 23), ('5:0', 23), ('Sergio', 23), ('unabhängig', 23), ('Zwischen', 23), ('finanzieren', 23), ('Zagreb', 23), ('vorgestellt', 23), ('Konkret', 23), ('Entwicklungen', 23), ('Division', 23), ('kleiner', 23), ('versuchte', 23), ('Bedarf', 23), ('Jacobo', 23), ('Standfest', 23), ('Horvath', 23), ('geleistet', 23), ('verwertete', 23), ('Front', 23), ('rein', 23), ('Starkl', 23), ('Ersten', 23), ('mitgeteilt', 23), ('Neville', 23), ('Spaniens', 23), ('Vereinen', 23), ('leichten', 23), ('Vizepräsident', 23), ('sinnvoll', 23), ('erfasst', 23), ('Tageszeitung', 23), ('galt', 23), ('Große', 23), ('Ruf', 23), ('treten', 23), ('zuständigen', 23), ('Turbulenzen', 23), ('Alternative', 23), ('automatisch', 23), ('schwach', 23), ('Mein', 23), ('Einstieg', 23), ('lasse', 23), ('Japaner', 23), ('schaut', 23), ('Überprüfung', 23), ('Marquez', 23), ('Enzersdorf', 23), ('Schicker', 23), ('gemäß', 23), ('umgerechnet', 23), ('74', 23), ('infrage', 23), ('öffentlich', 23), ('Maßnahme', 23), ('Bulgarien', 23), ('Watford', 23), ('Erfolge', 23), ('Lake', 23), ('Frankfurter', 23), ('Wo', 23), ('sportlichen', 23), ('16.00', 23), ('vermeiden', 23), ('Par', 23), ('drehte', 23), ('weltweiten', 23), ('Hawks', 23), ('aufnehmen', 23), ('6:2', 23), ('TPP', 23), ('argumentiert', 23), ('erlebt', 23), ('globale', 23), ('Schwellenländern', 23), ('gesetzte', 23), ('Airlines', 23), ('Ryanair', 23), ('traurig', 23), ('Immobilien', 23), ('enorm', 23), ('Laufzeit', 23), ('versicherte', 23), ('Caleta-Car', 23), ('Lazaro', 23), ('Pehlivan', 23), ('Albrecht', 23), ('Unsicherheit', 23), ('Hinterseer', 23), ('Unentschieden', 23), ('los', 23), ('Devils', 23), ('Wall', 23), ('vorgenommen', 23), ('räumte', 23), ('Profis', 23), ('II', 23), ('Brady', 23), ('finanziellen', 23), ('Lara', 23), ('Heraf', 23), ('Sotschi', 23), ('Blackhawks', 23), ('Verfassungsgerichtshof', 23), ('gern', 23), ('Valverde', 23), ('Sekunde', 23), ('Montreal', 23), ('Haber', 23), ('Ikea', 23), ('Shell', 23), ('Grünberg', 23), ('leidet', 22), ('Saudi-Arabien', 22), ('Stellung', 22), ('gastiert', 22), ('Zweitligisten', 22), ('echte', 22), ('Napoli', 22), ('Auswärtssieg', 22), ('Torschütze', 22), ('längerem', 22), ('Bereiche', 22), ('Loch', 22), ('ähnliche', 22), ('zugestimmt', 22), ('möglicher', 22), ('Stattdessen', 22), ('Konten', 22), ('fällig', 22), ('Austritt', 22), ('Themen', 22), ('Dienstleistungen', 22), ('Produkt', 22), ('Scheitern', 22), ('getrennt', 22), ('spiele', 22), ('Vorstoß', 22), ('Debüt', 22), ('werfen', 22), ('deutlichen', 22), ('musst', 22), ('Gegenseite', 22), ('verfehlte', 22), ('3:4', 22), ('Korruption', 22), ('Verpflichtungen', 22), ('Wohnung', 22), ('Schule', 22), ('Arbeitslose', 22), ('700', 22), ('Austrian', 22), ('Soligorsk', 22), ('Belastungen', 22), ('lebt', 22), ('Aktuell', 22), ('vollen', 22), ('Erstmals', 22), ('Bajrami', 22), ('klassischen', 22), ('Struktur', 22), ('Anfangsphase', 22), ('führten', 22), ('48.', 22), ('Belgier', 22), ('Maximilian', 22), ('Maak', 22), ('Rasner', 22), ('schafft', 22), ('allzu', 22), ('Ausscheiden', 22), ('stellten', 22), ('Effizienz', 22), ('Kabine', 22), ('Montenegro', 22), ('Fußballer', 22), ('ausgelöst', 22), ('SUI', 22), ('Wunder', 22), ('Movistar', 22), ('holten', 22), ('Arbeitsmarktservice', 22), ('best', 22), ('Haft', 22), ('Geldgebern', 22), ('behalten', 22), ('Kanadier', 22), ('vergleichsweise', 22), ('Spannung', 22), ('Begründung', 22), ('elften', 22), ('Amerikaner', 22), ('Vorschriften', 22), ('persönliche', 22), ('Innsbrucker', 22), ('Früh', 22), ('ermöglichen', 22), ('retten', 22), ('Steuerzahler', 22), ('Arbeitszeit', 22), ('Überraschung', 22), ('Arbeitslosenrate', 22), ('Einstellung', 22), ('verzichtet', 22), ('Worte', 22), ('Ralph', 22), ('festgestellt', 22), ('ausgehen', 22), ('Damir', 22), ('durchgesetzt', 22), ('rettete', 22), ('Statt', 22), ('Anhebung', 22), ('beigetragen', 22), ('Western', 22), ('stimmen', 22), ('Länderspiele', 22), ('Milch', 22), ('Test', 22), ('Aufschwung', 22), ('aufgestellt', 22), ('US-Amerikanerin', 22), ('Papers', 22), ('Minamino', 22), ('Leitgeb', 22), ('erwischt', 22), ('Effekte', 22), ('reduzieren', 22), ('Semifinale', 22), ('Double', 22), ('nordamerikanischen', 22), ('Ghizzoni', 22), ('wiederholt', 22), ('hilft', 22), ('Schlag', 22), ('Patriots', 22), ('RUS', 22), ('Sanierung', 22), ('sodass', 22), ('Fed', 22), ('durchsetzen', 22), ('Janeiro', 22), ('Projekte', 22), ('schob', 22), ('nötigen', 22), ('Aufeinandertreffen', 22), ('Straße', 22), ('Airbus', 22), ('derart', 22), ('Verdi', 22), ('angetreten', 22), ('Fritz', 22), ('Rotpuller', 22), ('Neos', 22), ('Benzema', 22), ('Gesicht', 22), ('Nord', 22), ('Protest', 22), ('Rugby', 22), ('Diethart', 22), ('Borgward', 22), ('Mailänder', 21), ('zumeist', 21), ('Lazio', 21), ('EM-Qualifikation', 21), ('Herz', 21), ('Pass', 21), ('BMW', 21), ('fühle', 21), ('AK', 21), ('betreiben', 21), ('Termin', 21), ('Sonntagabend', 21), ('Landesgericht', 21), ('Aufklärung', 21), ('Fahrzeugen', 21), ('Sparkurs', 21), ('Insidern', 21), ('wann', 21), ('gezahlt', 21), ('unverändert', 21), ('entwickelte', 21), ('entlassen', 21), ('Dauer', 21), ('wirken', 21), ('besiegte', 21), ('parlamentarischen', 21), ('Franco', 21), ('Keeper', 21), ('sämtliche', 21), ('Funktion', 21), ('gefolgt', 21), ('Kategorie', 21), ('erstellt', 21), ('Steigerung', 21), ('bewiesen', 21), ('#', 21), ('2:1.', 21), ('5:2', 21), ('leichte', 21), ('Vielmehr', 21), ('Medaille', 21), ('Zugleich', 21), ('Toth', 21), ('Wostry', 21), ('Malicsek', 21), ('gesteigert', 21), ('heran', 21), ('Wichtig', 21), ('bestehe', 21), ('Brite', 21), ('Mittlerweile', 21), ('Beamten', 21), ('ans', 21), ('Klagenfurter', 21), ('Sollbauer', 21), ('Goffin', 21), ('Joao', 21), ('strebt', 21), ('Baumgartner', 21), ('Sulimani', 21), ('91.', 21), ('bauen', 21), ('keinem', 21), ('sportliche', 21), ('selber', 21), ('Abteilung', 21), ('Sind', 21), ('unteren', 21), ('mehrheitlich', 21), ('gefällt', 21), ('Marktanteil', 21), ('Thunder', 21), ('Nachricht', 21), ('großem', 21), ('Stephen', 21), ('hinsichtlich', 21), ('offensichtlich', 21), ('keinerlei', 21), ('technisch', 21), ('Laufe', 21), ('stehenden', 21), ('jetzigen', 21), ('Triumph', 21), ('Aufwand', 21), ('befand', 21), ('Fernando', 21), ('Ideen', 21), ('Grundsätzlich', 21), ('rechtskräftig', 21), ('Wissen', 21), ('roten', 21), ('Vorgänger', 21), ('bestritten', 21), ('Lorenzo', 21), ('Foulelfmeter', 21), ('Davor', 21), ('verschärft', 21), ('ÖBB', 21), ('Vorstellung', 21), ('Opfer', 21), ('Gardos', 21), ('Fegerl', 21), ('Kern', 21), ('senken', 21), ('unterschrieb', 21), ('unterschrieben', 21), ('manchen', 21), ('erwarteten', 21), ('Tokio', 21), ('Sporting', 21), ('Tschechen', 21), ('ausgesetzt', 21), ('El', 21), ('schafften', 21), ('Verständnis', 21), ('Oakland', 21), ('funktionieren', 21), ('Einwohner', 21), ('Wind', 21), ('passen', 21), ('Paszek', 21), ('Güssing', 21), ('dir', 21), ('einig', 21), ('bezieht', 21), ('Sowohl', 21), ('Umständen', 21), ('einziges', 21), ('Platzierung', 21), ('rief', 21), ('Viktoria', 21), ('Käufer', 21), ('Turniers', 21), ('viermal', 21), ('stimmt', 21), ('Island', 21), ('Saisonergebnisse', 21), ('Lainer', 21), ('A.', 21), ('womöglich', 21), ('dringend', 21), ('Hilfspaket', 21), ('Financial', 21), ('Cunningham', 21), ('Niederländer', 21), ('Ngwat-Mahop', 21), ('Estadio', 21), ('Lukse', 21), ('Lienhart', 21), ('absolut', 21), ('Ortszeit', 21), ('Hadzic', 21), ('Vorarbeit', 21), ('Briefkastenfirmen', 21), ('Bawag', 21), ('Kubikmeter', 21), ('Clippers', 21), ('Sechs', 21), ('schützen', 21), ('Sparer', 21), ('Raiffeisen', 21), ('Werk', 21), ('Wirtschaftsprüfer', 21), ('98', 21), ('Ähnlich', 21), ('2030', 21), ('Karim', 21), ('ausgeglichen', 21), ('finde', 21), ('Onisiwo', 21), ('Deloitte', 21), ('Böhler', 21), ('66', 20), ('Yards', 20), ('Engagement', 20), ('Kicker', 20), ('Toni', 20), ('Urlaub', 20), ('Okotie', 20), ('arbeitslos', 20), ('sinken', 20), ('verfolgt', 20), ('erfolgreiche', 20), ('Ablehnung', 20), ('ergibt', 20), ('Ausnahme', 20), ('verhandeln', 20), ('spekuliert', 20), ('geklärt', 20), ('herrscht', 20), ('klären', 20), ('Auszahlung', 20), ('links', 20), ('US-Behörden', 20), ('zurückgezogen', 20), ('Presse-Agentur', 20), ('Ärzte', 20), ('erhoben', 20), ('Produktivität', 20), ('Manche', 20), ('unterschiedlichen', 20), ('berichteten', 20), ('begrenzt', 20), ('Wirtschaftskrise', 20), ('ermöglicht', 20), ('Durchschnitt', 20), ('Berg', 20), ('bereitet', 20), ('zusätzlichen', 20), ('Tobias', 20), ('verstehen', 20), ('anschließend', 20), ('Sechster', 20), ('gerecht', 20), ('sid', 20), ('dargestellt', 20), ('Befragten', 20), ('verschiedenen', 20), ('Donnerstagabend', 20), ('the', 20), ('Inland', 20), ('billig', 20), ('spätestens', 20), ('befragten', 20), ('Zehntel', 20), ('Zwierschitz', 20), ('Sax', 20), ('Kaufpreis', 20), ('wuchs', 20), ('Spielfeld', 20), ('endet', 20), ('mittels', 20), ('aufgeben', 20), ('Vorstellungen', 20), ('All', 20), ('Gegentreffer', 20), ('Moral', 20), ('T.', 20), ('Fraglich', 20), ('Rechtsstreit', 20), ('eigener', 20), ('unglaublich', 20), ('lautete', 20), ('Profi', 20), ('ausgetragen', 20), ('Vorlage', 20), ('Favoriten', 20), ('Kreis', 20), ('Schwung', 20), ('sinkt', 20), ('diesbezüglich', 20), ('73', 20), ('Tennis', 20), ('Angestellten', 20), ('Pensionisten', 20), ('Erik', 20), ('drängen', 20), ('Wirtschaftsministerium', 20), ('130', 20), ('Arbeitskräfte', 20), ('Pension', 20), ('Kanzlerin', 20), ('Golf', 20), ('übrig', 20), ('Vorsitzende', 20), ('Prince', 20), ('Doppel', 20), ('Mühe', 20), ('kennen', 20), ('Immer', 20), ('geliefert', 20), ('vorsichtig', 20), ('1,7', 20), ('behauptet', 20), ('Saisonstart', 20), ('Lager', 20), ('schätzt', 20), ('zuhause', 20), ('japanischen', 20), ('Play-off', 20), ('nützen', 20), ('europäischer', 20), ('präsentierte', 20), ('Kompromiss', 20), ('abhängig', 20), ('Jordan', 20), ('Magic', 20), ('Bestmarke', 20), ('Memphis', 20), ('Plattform', 20), ('Kunde', 20), ('berücksichtigt', 20), ('befragt', 20), ('Ausnahmen', 20), ('Stil', 20), ('28-jährige', 20), ('Auswahl', 20), ('Städten', 20), ('massiven', 20), ('Schmitz', 20), ('Kongress', 20), ('Gast', 20), ('Gründung', 20), ('Zypern', 20), ('Heinrich', 20), ('dar', 20), ('Özcan', 20), ('eingewechselt', 20), ('türkische', 20), ('türkischen', 20), ('Emotionen', 20), ('tolle', 20), ('Kobras', 20), ('verschoben', 20), ('Renzi', 20), ('Athletic', 20), ('zweites', 20), ('Ranking', 20), ('Jersey', 20), ('Prokopic', 20), ('Germain', 20), ('Potzmann', 20), ('Jeroen', 20), ('Alessandro', 20), ('kräftig', 20), ('langfristigen', 20), ('kehrt', 20), ('Mahrer', 20), ('Annahme', 20), ('Yorker', 20), ('Bregenz', 20), ('Wells', 20), ('Diesmal', 20), ('verhindert', 20), ('umso', 20), ('Hongkong', 20), ('Manning', 20), ('zurückkehren', 20), ('dient', 20), ('erleichtert', 20), ('Kasai', 20), ('Spieltag', 20), ('abgesagt', 20), ('92.', 20), ('VwGH', 20), ('Agenda', 20), ('klagte', 20), ('Cornelia', 20), ('klein', 20), ('Verbände', 20), ('Strauss', 20), ('PVA', 20), ('Prinz', 20), ('Dagegen', 20), ('Name', 20), ('Nico', 20), ('Flassbeck', 20), ('beraten', 19), ('20.30', 19), ('Pflichtspiel', 19), ('Pep', 19), ('glich', 19), ('Fünfte', 19), ('Elisabeth', 19), ('Sensation', 19), ('abgesehen', 19), ('erteilt', 19), ('bedient', 19), ('46', 19), ('änderte', 19), ('konfrontiert', 19), ('vorgeschlagen', 19), ('erfolgte', 19), ('zurückzuführen', 19), ('Knapp', 19), ('Bundesländer', 19), ('nochmals', 19), ('Rückzahlung', 19), ('Haushalt', 19), ('vereinbarten', 19), ('Horst', 19), ('Einlagen', 19), ('sahen', 19), ('Hinweis', 19), ('einander', 19), ('fördern', 19), ('Europäer', 19), ('größter', 19), ('umgehen', 19), ('drohen', 19), ('kämen', 19), ('Gabriel', 19), ('sichern', 19), ('besondere', 19), ('zurückgewiesen', 19), ('Mitgliedsstaaten', 19), ('Systems', 19), ('Anhänger', 19), ('bekräftigte', 19), ('Familien', 19), ('halte', 19), ('Österreichischen', 19), ('festgelegt', 19), ('fühlen', 19), ('Nerven', 19), ('bemüht', 19), ('Parteien', 19), ('Sek', 19), ('Baumann', 19), ('historischen', 19), ('wünscht', 19), ('teilen', 19), ('Schneider', 19), ('Bezahlung', 19), ('Etwa', 19), ('Überstunden', 19), ('and', 19), ('6:1', 19), ('Ausweitung', 19), ('zentrale', 19), ('Strecken', 19), ('Filipovic', 19), ('operative', 19), ('einerseits', 19), ('Medikamente', 19), ('Tribüne', 19), ('Abseits', 19), ('Händen', 19), ('Heimo', 19), ('Strafraumgrenze', 19), ('längere', 19), ('Gerald', 19), ('Dämpfer', 19), ('Freilos', 19), ('dato', 19), ('bekanntgegeben', 19), ('Aufhebung', 19), ('C', 19), ('93.', 19), ('47.', 19), ('1997', 19), ('Sponsoren', 19), ('kassierten', 19), ('selben', 19), ('verabschiedet', 19), ('Lackner', 19), ('Zustand', 19), ('250', 19), ('erläutert', 19), ('Steuer', 19), ('speziell', 19), ('Vernehmen', 19), ('Assists', 19), ('warf', 19), ('Uruguay', 19), ('Kürzungen', 19), ('Gibt', 19), ('niedriger', 19), ('Gelder', 19), ('zentralen', 19), ('4:6', 19), ('ums', 19), ('Eigentlich', 19), ('präsentieren', 19), ('Sand', 19), ('29-Jährige', 19), ('ausgestattet', 19), ('letztes', 19), ('zustande', 19), ('genießen', 19), ('Präsentation', 19), ('schied', 19), ('Fiskus', 19), ('Umfang', 19), ('starker', 19), ('Ausschreibung', 19), ('erkennen', 19), ('Gregor', 19), ('Zuwanderung', 19), ('Manfred', 19), ('späteren', 19), ('hervorgeht', 19), ('Aktivitäten', 19), ('Anforderungen', 19), ('benötigt', 19), ('Torchancen', 19), ('Windbichler', 19), ('geklagt', 19), ('7:5', 19), ('anstelle', 19), ('Gesetze', 19), ('Inzwischen', 19), ('20.000', 19), ('Musk', 19), ('500.000', 19), ('Nyon', 19), ('offensiv', 19), ('Salzburg-Trainer', 19), ('Court', 19), ('Neuer', 19), ('2:4', 19), ('Suns', 19), ('Lakers', 19), ('Charlotte', 19), ('Celtics', 19), ('Portland', 19), ('optimal', 19), ('Julia', 19), ('4,5', 19), ('Bundesligisten', 19), ('Weißrussland', 19), ('Sonst', 19), ('Roland', 19), ('zeige', 19), ('gewährt', 19), ('Wohlstand', 19), ('leiden', 19), ('Genau', 19), ('mitten', 19), ('amerikanischen', 19), ('Suarez', 19), ('Elfer', 19), ('Verbund', 19), ('Kasachstan', 19), ('Instanz', 19), ('Paderborn', 19), ('Erich', 19), ('Sparmaßnahmen', 19), ('Hinblick', 19), ('Tod', 19), ('vorhanden', 19), ('Hat', 19), ('jung', 19), ('Hockey', 19), ('Nähe', 19), ('Tom', 19), ('Sharks', 19), ('Altacher', 19), ('Absturz', 19), ('Schanghai', 19), ('Yuan', 19), ('Lederer', 19), ('Jonatan', 19), ('Moscovici', 19), ('Spielraum', 19), ('sofern', 19), ('2016.', 19), ('Röcher', 19), ('Pink', 19), ('Katjuscha', 19), ('Monsanto', 19), ('Christine', 19), ('63', 19), ('Segovia', 19), ('Mandat', 19), ('Indian', 19), ('Belek', 19), ('wirkt', 19), ('Sozialleistungen', 19), ('Olympiasieger', 19), ('Rettung', 19), ('Anlauf', 19), ('Universität', 19), ('Thomsen', 19), ('Froome', 19), ('Piräus', 19), ('Generalprobe', 19), ('voraus', 19), ('Obi', 19), ('Raich', 19), ('Vereins', 19), ('Shanghai', 19), ('Grundeinkommen', 19), ('Matschiner', 19), ('BSC', 18), ('Pröll', 18), ('seither', 18), ('Schlagzeilen', 18), ('schießt', 18), ('knappe', 18), ('wachsenden', 18), ('3,2', 18), ('qualifizierte', 18), ('Magazin', 18), ('Tages', 18), ('Größe', 18), ('genehmigt', 18), ('Anstrengungen', 18), ('Athener', 18), ('hängen', 18), ('rechts', 18), ('Global', 18), ('Kapitel', 18), ('Kontakt', 18), ('bestimmt', 18), ('informieren', 18), ('Bestimmungen', 18), ('Abgaswerte', 18), ('angepasst', 18), ('sagten', 18), ('folgten', 18), ('Registrierkasse', 18), ('Umgang', 18), ('Betroffen', 18), ('Kasse', 18), ('Verdachts', 18), ('belegte', 18), ('Belastung', 18), ('Matchwinner', 18), ('Michel', 18), ('Casinos', 18), ('Arbeiten', 18), ('Verhalten', 18), ('52', 18), ('schlossen', 18), ('2015.', 18), ('verdiente', 18), ('47', 18), ('Aufträge', 18), ('1,9', 18), ('Thyssen', 18), ('Eindruck', 18), ('Weniger', 18), ('Absicherung', 18), ('Bord', 18), ('absolvierte', 18), ('Australier', 18), ('Adam', 18), ('Importe', 18), ('womit', 18), ('Bruder', 18), ('Swete', 18), ('Fabian', 18), ('Bewerben', 18), ('schlimmer', 18), ('agieren', 18), ('27-Jährige', 18), ('EPA', 18), ('Gefahren', 18), ('Erfolgen', 18), ('bestes', 18), ('angeschlagen', 18), ('Gary', 18), ('gesetzlichen', 18), ('Beamte', 18), ('Rebounds', 18), ('eingeräumt', 18), ('Einrichtung', 18), ('Vorbild', 18), ('höchst', 18), ('Victor', 18), ('schließt', 18), ('Instituts', 18), ('reine', 18), ('Wimbledon', 18), ('Syrien', 18), ('verfügen', 18), ('zahlt', 18), ('eingereicht', 18), ('Aufsichtsratschef', 18), ('besetzt', 18), ('Angeklagten', 18), ('kroatischen', 18), ('verwiesen', 18), ('teuer', 18), ('Kärntens', 18), ('Umbau', 18), ('falls', 18), ('Kehat', 18), ('rote', 18), ('defensiv', 18), ('schnellen', 18), ('Anlass', 18), ('schwierige', 18), ('verhängt', 18), ('Revolution', 18), ('kontrolliert', 18), ('Industriellenvereinigung', 18), ('internen', 18), ('verkaufte', 18), ('Teamspieler', 18), ('Louise', 18), ('beruft', 18), ('welchem', 18), ('Elektroautos', 18), ('Einsparungen', 18), ('besorgt', 18), ('japanische', 18), ('Renault', 18), ('Königsklasse', 18), ('greifen', 18), ('organisiert', 18), ('vieler', 18), ('Benjamin', 18), ('produzieren', 18), ('angeführt', 18), ('Heat', 18), ('Phoenix', 18), ('dienen', 18), ('ständig', 18), ('welcher', 18), ('Auflage', 18), ('ausgegangen', 18), ('Ecclestone', 18), ('schossen', 18), ('weltweite', 18), ('wehrte', 18), ('3:3', 18), ('Nutzung', 18), ('Förderungen', 18), ('Aiginger', 18), ('Haider', 18), ('Konzentration', 18), ('Australian', 18), ('Tickets', 18), ('ManCity', 18), ('Deutscher', 18), ('Oberschenkel', 18), ('Generation', 18), ('beschränkt', 18), ('zwischenzeitlich', 18), ('gewohnt', 18), ('Doping', 18), ('Weltverband', 18), ('angenommen', 18), ('Salomon', 18), ('Gästen', 18), ('Wolfsburger', 18), ('Benfica', 18), ('Ivan', 18), ('Pierre', 18), ('Ratingagentur', 18), ('ESM', 18), ('Notenbanker', 18), ('Zweite', 18), ('Giro', 18), ('Wäre', 18), ('Anlage', 18), ('Prognosen', 18), ('enthalten', 18), ('Perlak', 18), ('Ittner', 18), ('Maß', 18), ('durften', 18), ('behielt', 18), ('sportlich', 18), ('28-Jährige', 18), ('steigerte', 18), ('Linken', 18), ('Young', 18), ('Start-ups', 18), ('unterzeichnet', 18), ('RBI', 18), ('Arizona', 18), ('Nibali', 18), ('unterm', 18), ('zumal', 18), ('gemessen', 18), ('wechseln', 18), ('Hypo-U-Ausschuss', 18), ('Malta', 18), ('Niersbach', 18), ('Je', 18), ('Benitez', 18), ('Lindsey', 18), ('Hedgefonds', 18), ('Borisow', 18), ('Nishikori', 18), ('Rangers', 18), ('Rainer', 18), ('Rückschlag', 18), ('Uber', 18), ('Lewis', 18), ('Gartler', 18), ('Kira', 18), ('Elsner', 18), ('Offensivspieler', 17), ('absolvieren', 17), ('Pole', 17), ('Capello', 17), ('Heimspiele', 17), ('Moldau', 17), ('Stockholm', 17), ('Bisherige', 17), ('nieder', 17), ('Qualifikationen', 17), ('0,6', 17), ('Generell', 17), ('erlitten', 17), ('Justizministerium', 17), ('Motto', 17), ('Grüne', 17), ('Lücke', 17), ('erinnert', 17), ('vorlegen', 17), ('planen', 17), ('heurigen', 17), ('Institutionen', 17), ('anstehenden', 17), ('Veröffentlichung', 17), ('Aufregung', 17), ('Produkten', 17), ('erlassen', 17), ('technische', 17), ('ungefähr', 17), ('Schuld', 17), ('Kilogramm', 17), ('2,9', 17), ('Willen', 17), ('Tsakalotos', 17), ('Jansrud', 17), ('fehlten', 17), ('Kriechmayr', 17), ('Tourismus', 17), ('Pflichtspielen', 17), ('körperlich', 17), ('Verbindung', 17), ('solches', 17), ('langsamer', 17), ('welchen', 17), ('behandelt', 17), ('Motivation', 17), ('kritisch', 17), ('erworben', 17), ('2,6', 17), ('Resultat', 17), ('verlief', 17), ('Tschernegg', 17), ('Hüttenbrenner', 17), ('Buche', 17), ('Gesamtjahr', 17), ('Veranstalter', 17), ('Geschäften', 17), ('sechste', 17), ('Kerschbaum', 17), ('Klapfer', 17), ('Läufer', 17), ('Eric', 17), ('95', 17), ('WM-Titel', 17), ('Joseph', 17), ('Generalsekretär', 17), ('gestoppt', 17), ('schießen', 17), ('leitete', 17), ('Krankenhaus', 17), ('Nichts', 17), ('Matteo', 17), ('aufgelöst', 17), ('Gleich', 17), ('AUS', 17), ('Saisonen', 17), ('massive', 17), ('Jack', 17), ('Beschwerde', 17), ('Jean-Claude', 17), ('Duellen', 17), ('Versicherung', 17), ('üblich', 17), ('Zusätzlich', 17), ('Kogler', 17), ('räumt', 17), ('mehrmals', 17), ('erzählt', 17), ('weisen', 17), ('Schwechat', 17), ('Ablauf', 17), ('signalisiert', 17), ('kroatische', 17), ('bekannten', 17), ('schuldig', 17), ('E-Control', 17), ('Berechnungen', 17), ('Duo', 17), ('Aktionäre', 17), ('teilten', 17), ('I', 17), ('Valentino', 17), ('konkrete', 17), ('Vukojevic', 17), ('Zulj', 17), ('Gemeinden', 17), ('überwiegend', 17), ('fragt', 17), ('verringern', 17), ('Westen', 17), ('Twitter', 17), ('Mike', 17), ('wussten', 17), ('rückläufig', 17), ('gelangen', 17), ('Ebenso', 17), ('Besuch', 17), ('springen', 17), ('Forscher', 17), ('profitierte', 17), ('schlechtesten', 17), ('gemeint', 17), ('mittelfristig', 17), ('Mitsubishi', 17), ('Carlos', 17), ('nächster', 17), ('schilderte', 17), ('CO2', 17), ('siehe', 17), ('kenne', 17), ('Brent', 17), ('liefern', 17), ('Knicks', 17), ('Wizards', 17), ('Grizzlies', 17), ('Utah', 17), ('derartige', 17), ('erinnerte', 17), ('nervös', 17), ('6,7', 17), ('beschreibt', 17), ('Regionalliga', 17), ('aktiven', 17), ('Kugel', 17), ('Österreichern', 17), ('gesetzliche', 17), ('Verantwortlichen', 17), ('ukrainische', 17), ('Stimmen', 17), ('unwahrscheinlich', 17), ('Rodriguez', 17), ('Konflikt', 17), ('Pilsen', 17), ('Sechzehntelfinale', 17), ('eingezogen', 17), ('ähnlichen', 17), ('Daimler', 17), ('Torjäger', 17), ('entfällt', 17), ('Titelgewinn', 17), ('Zweiten', 17), ('Weiters', 17), ('manchmal', 17), ('Ablöse', 17), ('Nationalspieler', 17), ('aufgefordert', 17), ('äußern', 17), ('Mukhtar', 17), ('entweder', 17), ('echten', 17), ('Interessen', 17), ('jenes', 17), ('Bofinger', 17), ('Rick', 17), ('Reds', 17), ('Besteuerung', 17), ('Roth', 17), ('wachsende', 17), ('zwölften', 17), ('Einhaltung', 17), ('Ihm', 17), ('Plänen', 17), ('unterschiedliche', 17), ('Schreiner', 17), ('Partnerschaft', 17), ('rechtlich', 17), ('Standorten', 17), ('Brot', 17), ('Kuster', 17), ('gewarnt', 17), ('Testspiele', 17), ('einfacher', 17), ('Quarterback', 17), ('Trennung', 17), ('kostete', 17), ('Revision', 17), ('erledigt', 17), ('Investment', 17), ('Palmers', 17), ('mitunter', 17), ('Landwirtschaftsminister', 17), ('Grafik', 17), ('ATX', 17), ('konsequent', 17), ('Broncos', 17), ('Std.', 17), ('Reichweite', 17), ('Mittelschicht', 17), ('Katzian', 17), ('Ansprüche', 17), ('Quintana', 17), ('Innenverteidigung', 17), ('Gruppenspiel', 17), ('61', 17), ('Strobl', 17), ('Eindhoven', 17), ('Glasgow', 17), ('Geldstrafe', 17), ('Teamkollege', 17), ('Predators', 17), ('komplette', 17), ('Schmid', 17), ('Pariser', 17), ('Verschuldung', 17), ('Lauda', 17), ('Verstaatlichung', 17), ('Bologna', 17), ('Löw', 17), ('erlitt', 16), ('ergab', 16), ('Menge', 16), ('Fünfter', 16), ('Gregoritsch', 16), ('23-Jährige', 16), ('Mitteln', 16), ('Routinier', 16), ('Eder', 16), ('NFL', 16), ('linke', 16), ('quer', 16), ('daneben', 16), ('zurückgetreten', 16), ('Deutsch', 16), ('Kurse', 16), ('Bundesländern', 16), ('sprachen', 16), ('2,3', 16), ('verteilen', 16), ('Höhepunkt', 16), ('Volk', 16), ('belegen', 16), ('erwähnt', 16), ('Joachim', 16), ('richten', 16), ('geöffnet', 16), ('zwingen', 16), ('Variante', 16), ('beeinflussen', 16), ('Genehmigung', 16), ('Zulassung', 16), ('Geduld', 16), ('Süddeutschen', 16), ('geringe', 16), ('Interessenten', 16), ('Absage', 16), ('Manipulation', 16), ('Manipulationen', 16), ('Kenntnis', 16), ('führenden', 16), ('Länderspielpause', 16), ('ÖFB', 16), ('Tätigkeit', 16), ('folgenden', 16), ('Lange', 16), ('Limit', 16), ('leer', 16), ('Striedinger', 16), ('hoffte', 16), ('Anlagen', 16), ('vornehmen', 16), ('untersucht', 16), ('selbstverständlich', 16), ('Sektor', 16), ('hauptsächlich', 16), ('schwarzen', 16), ('Experte', 16), ('geriet', 16), ('2,4', 16), ('günstiger', 16), ('Unterschiede', 16), ('geschickt', 16), ('erlauben', 16), ('2.500', 16), ('Kontrollen', 16), ('Elsneg', 16), ('Kuttin', 16), ('Gebauer', 16), ('Rieder', 16), ('weite', 16), ('bezogen', 16), ('Investor', 16), ('trug', 16), ('vergeblich', 16), ('Andererseits', 16), ('110', 16), ('53', 16), ('Abgaben', 16), ('fraglich', 16), ('Philip', 16), ('Ouedraogo', 16), ('Kamavuaka', 16), ('0,2', 16), ('1,1', 16), ('Generali', 16), ('Robin', 16), ('IOC', 16), ('19-jährige', 16), ('Gruppensieg', 16), ('Später', 16), ('keines', 16), ('Denner', 16), ('Brauer', 16), ('Springen', 16), ('Ausgabe', 16), ('verärgert', 16), ('deutscher', 16), ('erheblichen', 16), ('Ausfälle', 16), ('Verbot', 16), ('Besitzer', 16), ('vorläufig', 16), ('gesetzlich', 16), ('sichtbar', 16), ('nützte', 16), ('Schulter', 16), ('belgischen', 16), ('erreichten', 16), ('Riccardo', 16), ('stehende', 16), ('450', 16), ('Champion', 16), ('Werfer', 16), ('ernst', 16), ('Tabellenspitze', 16), ('05', 16), ('Reus', 16), ('Versicherungen', 16), ('notwendigen', 16), ('Anderson', 16), ('Tsonga', 16), ('Kreditgeber', 16), ('erscheint', 16), ('Ursache', 16), ('gebrochen', 16), ('WKStA', 16), ('Ukrainer', 16), ('Irak', 16), ('Chefin', 16), ('agiert', 16), ('verstoßen', 16), ('Börsengang', 16), ('zulässig', 16), ('Hofbauer', 16), ('traditionellen', 16), ('Fünftel', 16), ('Verhandlung', 16), ('..', 16), ('oberste', 16), ('20-jährige', 16), ('aufmerksam', 16), ('Straßen', 16), ('verlangen', 16), ('Saisontor', 16), ('Sikov', 16), ('besorgte', 16), ('P.', 16), ('Bundes', 16), ('Männern', 16), ('Freunde', 16), ('Gott', 16), ('Schlüssel', 16), ('Recherchen', 16), ('Flugzeuge', 16), ('zeitweise', 16), ('Diesen', 16), ('Colorado', 16), ('Vordergrund', 16), ('Model', 16), ('bekannte', 16)]\n"
          ],
          "name": "stdout"
        }
      ]
    },
    {
      "cell_type": "code",
      "metadata": {
        "id": "6hX-gfdeprWF"
      },
      "source": [
        "word_to_ix = {}\n",
        "for sent in rows_train_token:\n",
        "    for word in sent:\n",
        "        if word not in word_to_ix:\n",
        "            word_to_ix[word] = len(word_to_ix)\n",
        "print(word_to_ix)"
      ],
      "execution_count": null,
      "outputs": []
    }
  ]
}