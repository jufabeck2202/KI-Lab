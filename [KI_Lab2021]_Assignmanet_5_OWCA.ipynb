{
  "nbformat": 4,
  "nbformat_minor": 0,
  "metadata": {
    "colab": {
      "name": "[KI-Lab2021] Assignmanet 5 OWCA.ipynb",
      "provenance": [],
      "collapsed_sections": [],
      "toc_visible": true,
      "authorship_tag": "ABX9TyNUFuE+OOtjgUv0z5sLJNUr",
      "include_colab_link": true
    },
    "kernelspec": {
      "name": "python3",
      "display_name": "Python 3"
    },
    "accelerator": "GPU"
  },
  "cells": [
    {
      "cell_type": "markdown",
      "metadata": {
        "id": "view-in-github",
        "colab_type": "text"
      },
      "source": [
        "<a href=\"https://colab.research.google.com/github/jufabeck2202/KI-Lab/blob/main/%5BKI_Lab2021%5D_Assignmanet_5_OWCA.ipynb\" target=\"_parent\"><img src=\"https://colab.research.google.com/assets/colab-badge.svg\" alt=\"Open In Colab\"/></a>"
      ]
    },
    {
      "cell_type": "markdown",
      "metadata": {
        "id": "x21zLnYHVMB8"
      },
      "source": [
        "## Assignment 5: \n",
        "Text Preparation:\n",
        "1. We use the same dataset from last time: https://github.com/tblock/10kGNAD.\n",
        "2. Download the files train.csv and test.csv\n",
        "3.Filter both files to include only lines that fulfill both of the following conditions:\n",
        "    1. The line is of the category „Wirtschaft“ or „Sport“.\n",
        "    2. The line only contains valid characters (note that ‘\\‘ is a line break in Python):\n",
        "4. The number of valid lines for training and test should be 2154 and 244.\n",
        "\n",
        "5. Divide the valid training data lines into tokens using SpaCy.\n",
        "\n",
        "---------------------------------------------\n",
        "\n",
        "6. Determine the 5000 most common tokens in the training data.\n",
        "7. For those tokens, create the word_to_ix dictionary as shown in the tutorial.\n",
        "8. Train a language classification model using the two categories and the sentences using an LSTM model\n",
        "\n",
        "9. Use the same architecture as in the tutorial but an embedding dim of 128 and a hidden dim of 256.\n",
        "10. In one training loop go through every line of the training data and update the weights after every line (like in the tutorial).\n",
        "11. For every line, transform the words according to the word_to_ix dictionary and feed it to the LSTM as one sequence. Note: Skip words that are not in word_to_ix (they are not part of the 5000 most common tokens.)\n",
        "12. Do this for 5 epochs and print the accuracy on the test data after every epoch.\n",
        "13. Note: Since we do not train in batches, but line per line, this will take quite a while (~ 15 minutes for one training loop).\n",
        "\n",
        "#Bonus\n",
        "14. The training is quite slow, since we do not train in batches but line by line. Providing the text lines in batches to the LSTM, will not work out of the box, because all tensors in one batch need to have the same length.\n",
        "15. The DataLoader class can be created with a collate_fn function that can be used to bring all lines in one batch to the same size:\n",
        "16. Determine the longest tensor in the current batch.\n",
        "17. Fill up all tensors that are shorter with an unused padding value (e.g. -1).\n",
        "18. Task: Put the data into a DataLoader, pad the lines in one batch to the same length and train in batches on the GPU. Compare the training time to the line-wise training."
      ]
    },
    {
      "cell_type": "markdown",
      "metadata": {
        "id": "QbfV6CYAXGjV"
      },
      "source": [
        "#Import"
      ]
    },
    {
      "cell_type": "code",
      "metadata": {
        "id": "CPOknfK6XHh2"
      },
      "source": [
        "!pip install -U spacy[cuda100] de &> /dev/null\n",
        "!python -m spacy download de &> /dev/null\n",
        "!pip install -q \"tqdm>=4.36.1\" &> /dev/null"
      ],
      "execution_count": 30,
      "outputs": []
    },
    {
      "cell_type": "code",
      "metadata": {
        "colab": {
          "base_uri": "https://localhost:8080/"
        },
        "id": "tVDjzIq-VLzP",
        "outputId": "e3b7148a-df1b-4e79-a5b4-2fb5f5421cde"
      },
      "source": [
        "import pandas as pd\n",
        "import torch\n",
        "import spacy\n",
        "spacy.prefer_gpu()\n",
        "nlp_ger = spacy.load(\"de\")\n",
        "from tqdm import tqdm\n",
        "import string\n",
        "import torch\n",
        "import torch.nn as nn\n",
        "import random\n",
        "import time\n",
        "import math\n",
        "import matplotlib.pyplot as plt\n",
        "import matplotlib.ticker as ticker\n",
        "from tabulate import tabulate\n",
        "\n",
        "device = torch.device(\"cuda:0\" if torch.cuda.is_available() else \"cpu\")\n",
        "print(device)\n"
      ],
      "execution_count": 31,
      "outputs": [
        {
          "output_type": "stream",
          "text": [
            "cuda:0\n"
          ],
          "name": "stdout"
        }
      ]
    },
    {
      "cell_type": "markdown",
      "metadata": {
        "id": "JQSTHjCkWyi1"
      },
      "source": [
        "# Import files\n"
      ]
    },
    {
      "cell_type": "code",
      "metadata": {
        "colab": {
          "base_uri": "https://localhost:8080/",
          "height": 424
        },
        "id": "Kb0sKSgIU8LV",
        "outputId": "3b9c93dd-09b1-4449-c4fd-192d48ade58b"
      },
      "source": [
        "df_test = pd.read_csv('https://raw.githubusercontent.com/tblock/10kGNAD/master/test.csv', \\\n",
        "                      names=['trash','category','Data'], sep='^([^;]+);', engine=\"python\")\n",
        "df_test = df_test.drop(columns=['trash'])\n",
        "df_test"
      ],
      "execution_count": 32,
      "outputs": [
        {
          "output_type": "execute_result",
          "data": {
            "text/html": [
              "<div>\n",
              "<style scoped>\n",
              "    .dataframe tbody tr th:only-of-type {\n",
              "        vertical-align: middle;\n",
              "    }\n",
              "\n",
              "    .dataframe tbody tr th {\n",
              "        vertical-align: top;\n",
              "    }\n",
              "\n",
              "    .dataframe thead th {\n",
              "        text-align: right;\n",
              "    }\n",
              "</style>\n",
              "<table border=\"1\" class=\"dataframe\">\n",
              "  <thead>\n",
              "    <tr style=\"text-align: right;\">\n",
              "      <th></th>\n",
              "      <th>category</th>\n",
              "      <th>Data</th>\n",
              "    </tr>\n",
              "  </thead>\n",
              "  <tbody>\n",
              "    <tr>\n",
              "      <th>0</th>\n",
              "      <td>Wirtschaft</td>\n",
              "      <td>'Die Gewerkschaft GPA-djp lanciert den \"All-in...</td>\n",
              "    </tr>\n",
              "    <tr>\n",
              "      <th>1</th>\n",
              "      <td>Sport</td>\n",
              "      <td>Franzosen verteidigen 2:1-Führung – Kritische ...</td>\n",
              "    </tr>\n",
              "    <tr>\n",
              "      <th>2</th>\n",
              "      <td>Web</td>\n",
              "      <td>'Neues Video von Designern macht im Netz die R...</td>\n",
              "    </tr>\n",
              "    <tr>\n",
              "      <th>3</th>\n",
              "      <td>Sport</td>\n",
              "      <td>23-jähriger Brasilianer muss vier Spiele pausi...</td>\n",
              "    </tr>\n",
              "    <tr>\n",
              "      <th>4</th>\n",
              "      <td>International</td>\n",
              "      <td>Aufständische verwendeten Chemikalie bei Gefec...</td>\n",
              "    </tr>\n",
              "    <tr>\n",
              "      <th>...</th>\n",
              "      <td>...</td>\n",
              "      <td>...</td>\n",
              "    </tr>\n",
              "    <tr>\n",
              "      <th>1023</th>\n",
              "      <td>Web</td>\n",
              "      <td>Programm \"Ebay Plus\" soll Ende September start...</td>\n",
              "    </tr>\n",
              "    <tr>\n",
              "      <th>1024</th>\n",
              "      <td>Inland</td>\n",
              "      <td>Fehlerhafte Bilanz 2013, Partei will berufen –...</td>\n",
              "    </tr>\n",
              "    <tr>\n",
              "      <th>1025</th>\n",
              "      <td>Sport</td>\n",
              "      <td>Als erster Olympia-Champion auch Hawaii-Sieger...</td>\n",
              "    </tr>\n",
              "    <tr>\n",
              "      <th>1026</th>\n",
              "      <td>Sport</td>\n",
              "      <td>Der Außenseiter aus Denver gewinnt die 50. Sup...</td>\n",
              "    </tr>\n",
              "    <tr>\n",
              "      <th>1027</th>\n",
              "      <td>Web</td>\n",
              "      <td>Wohl keine Einschränkungen bei Google-Services...</td>\n",
              "    </tr>\n",
              "  </tbody>\n",
              "</table>\n",
              "<p>1028 rows × 2 columns</p>\n",
              "</div>"
            ],
            "text/plain": [
              "           category                                               Data\n",
              "0        Wirtschaft  'Die Gewerkschaft GPA-djp lanciert den \"All-in...\n",
              "1             Sport  Franzosen verteidigen 2:1-Führung – Kritische ...\n",
              "2               Web  'Neues Video von Designern macht im Netz die R...\n",
              "3             Sport  23-jähriger Brasilianer muss vier Spiele pausi...\n",
              "4     International  Aufständische verwendeten Chemikalie bei Gefec...\n",
              "...             ...                                                ...\n",
              "1023            Web  Programm \"Ebay Plus\" soll Ende September start...\n",
              "1024         Inland  Fehlerhafte Bilanz 2013, Partei will berufen –...\n",
              "1025          Sport  Als erster Olympia-Champion auch Hawaii-Sieger...\n",
              "1026          Sport  Der Außenseiter aus Denver gewinnt die 50. Sup...\n",
              "1027            Web  Wohl keine Einschränkungen bei Google-Services...\n",
              "\n",
              "[1028 rows x 2 columns]"
            ]
          },
          "metadata": {
            "tags": []
          },
          "execution_count": 32
        }
      ]
    },
    {
      "cell_type": "code",
      "metadata": {
        "colab": {
          "base_uri": "https://localhost:8080/",
          "height": 424
        },
        "id": "4t6EN8AOXA1v",
        "outputId": "325ddb34-b1d4-4c8b-dccb-a959099146c3"
      },
      "source": [
        "df_train = pd.read_csv('https://raw.githubusercontent.com/tblock/10kGNAD/master/train.csv', \\\n",
        "                      names=['trash','category','Data'], sep='^([^;]+);', engine=\"python\")\n",
        "df_train = df_train.drop(columns=['trash'])\n",
        "\n",
        "df_train"
      ],
      "execution_count": 33,
      "outputs": [
        {
          "output_type": "execute_result",
          "data": {
            "text/html": [
              "<div>\n",
              "<style scoped>\n",
              "    .dataframe tbody tr th:only-of-type {\n",
              "        vertical-align: middle;\n",
              "    }\n",
              "\n",
              "    .dataframe tbody tr th {\n",
              "        vertical-align: top;\n",
              "    }\n",
              "\n",
              "    .dataframe thead th {\n",
              "        text-align: right;\n",
              "    }\n",
              "</style>\n",
              "<table border=\"1\" class=\"dataframe\">\n",
              "  <thead>\n",
              "    <tr style=\"text-align: right;\">\n",
              "      <th></th>\n",
              "      <th>category</th>\n",
              "      <th>Data</th>\n",
              "    </tr>\n",
              "  </thead>\n",
              "  <tbody>\n",
              "    <tr>\n",
              "      <th>0</th>\n",
              "      <td>Sport</td>\n",
              "      <td>21-Jähriger fällt wohl bis Saisonende aus. Wie...</td>\n",
              "    </tr>\n",
              "    <tr>\n",
              "      <th>1</th>\n",
              "      <td>Kultur</td>\n",
              "      <td>'Erfundene Bilder zu Filmen, die als verloren ...</td>\n",
              "    </tr>\n",
              "    <tr>\n",
              "      <th>2</th>\n",
              "      <td>Web</td>\n",
              "      <td>Der frischgekürte CEO Sundar Pichai setzt auf ...</td>\n",
              "    </tr>\n",
              "    <tr>\n",
              "      <th>3</th>\n",
              "      <td>Wirtschaft</td>\n",
              "      <td>Putin: \"Einigung, dass wir Menge auf Niveau vo...</td>\n",
              "    </tr>\n",
              "    <tr>\n",
              "      <th>4</th>\n",
              "      <td>Inland</td>\n",
              "      <td>Estland sieht den künftigen österreichischen P...</td>\n",
              "    </tr>\n",
              "    <tr>\n",
              "      <th>...</th>\n",
              "      <td>...</td>\n",
              "      <td>...</td>\n",
              "    </tr>\n",
              "    <tr>\n",
              "      <th>9240</th>\n",
              "      <td>Inland</td>\n",
              "      <td>Bernd Saurer war Bridge-Juniorenweltmeister un...</td>\n",
              "    </tr>\n",
              "    <tr>\n",
              "      <th>9241</th>\n",
              "      <td>International</td>\n",
              "      <td>Sandhere soll in vergangener Woche bei Luftang...</td>\n",
              "    </tr>\n",
              "    <tr>\n",
              "      <th>9242</th>\n",
              "      <td>Wirtschaft</td>\n",
              "      <td>Derzeit Konzeptgruppe in Berlin – Kein Komment...</td>\n",
              "    </tr>\n",
              "    <tr>\n",
              "      <th>9243</th>\n",
              "      <td>Inland</td>\n",
              "      <td>Landeshauptmann will den vierten Regierungssit...</td>\n",
              "    </tr>\n",
              "    <tr>\n",
              "      <th>9244</th>\n",
              "      <td>Panorama</td>\n",
              "      <td>Er ist einer von Millionen syrischen Flüchtlin...</td>\n",
              "    </tr>\n",
              "  </tbody>\n",
              "</table>\n",
              "<p>9245 rows × 2 columns</p>\n",
              "</div>"
            ],
            "text/plain": [
              "           category                                               Data\n",
              "0             Sport  21-Jähriger fällt wohl bis Saisonende aus. Wie...\n",
              "1            Kultur  'Erfundene Bilder zu Filmen, die als verloren ...\n",
              "2               Web  Der frischgekürte CEO Sundar Pichai setzt auf ...\n",
              "3        Wirtschaft  Putin: \"Einigung, dass wir Menge auf Niveau vo...\n",
              "4            Inland  Estland sieht den künftigen österreichischen P...\n",
              "...             ...                                                ...\n",
              "9240         Inland  Bernd Saurer war Bridge-Juniorenweltmeister un...\n",
              "9241  International  Sandhere soll in vergangener Woche bei Luftang...\n",
              "9242     Wirtschaft  Derzeit Konzeptgruppe in Berlin – Kein Komment...\n",
              "9243         Inland  Landeshauptmann will den vierten Regierungssit...\n",
              "9244       Panorama  Er ist einer von Millionen syrischen Flüchtlin...\n",
              "\n",
              "[9245 rows x 2 columns]"
            ]
          },
          "metadata": {
            "tags": []
          },
          "execution_count": 33
        }
      ]
    },
    {
      "cell_type": "code",
      "metadata": {
        "colab": {
          "base_uri": "https://localhost:8080/"
        },
        "id": "3lBQ3x1hXsI0",
        "outputId": "4f354a0b-e839-40bd-ac3a-0c5d704210dc"
      },
      "source": [
        "#filter:\n",
        "df_test = df_test.loc[(df_test[\"category\"]==\"Wirtschaft\") | (df_test[\"category\"]==\"Sport\")]\n",
        "df_train = df_train.loc[(df_train[\"category\"]==\"Wirtschaft\") | (df_train[\"category\"]==\"Sport\")]\n",
        "\n",
        "print(len(df_test))\n",
        "print(len(df_train))"
      ],
      "execution_count": 34,
      "outputs": [
        {
          "output_type": "stream",
          "text": [
            "261\n",
            "2351\n"
          ],
          "name": "stdout"
        }
      ]
    },
    {
      "cell_type": "code",
      "metadata": {
        "colab": {
          "base_uri": "https://localhost:8080/"
        },
        "id": "4RWPc-aOZvua",
        "outputId": "305ac4b6-c8fd-4d17-faf4-ceef4f842aa9"
      },
      "source": [
        "rows_test = []\n",
        "for index, row in tqdm(df_test.iterrows(), total=df_test.shape[0], position=0, leave=True):\n",
        "    rows_test.append(row.Data)\n",
        "\n",
        "rows_train = []\n",
        "for index, row in tqdm(df_train.iterrows(), total=df_train.shape[0], position=0, leave=True):\n",
        "    rows_train.append(row.Data)\n"
      ],
      "execution_count": 35,
      "outputs": [
        {
          "output_type": "stream",
          "text": [
            "100%|██████████| 261/261 [00:00<00:00, 11091.99it/s]\n",
            "100%|██████████| 2351/2351 [00:00<00:00, 11890.76it/s]\n"
          ],
          "name": "stderr"
        }
      ]
    },
    {
      "cell_type": "code",
      "metadata": {
        "colab": {
          "base_uri": "https://localhost:8080/"
        },
        "id": "DCzGdWaDbb7T",
        "outputId": "f0a4aa9a-3772-40ee-d0ad-91d085dc053c"
      },
      "source": [
        "all_letters = string.ascii_letters + 'ÄÖÜäöüß–' + string.punctuation + \\\n",
        "                string.digits + string.whitespace\n",
        "\n",
        "rows_test_1 = [line for line in rows_test if all(ch in list(all_letters) for ch in line)]\n",
        "print(len(rows_test_1))\n",
        "\n",
        "rows_train_1 = [line for line in rows_train if all(ch in list(all_letters) for ch in line)]\n",
        "print(len(rows_train_1))"
      ],
      "execution_count": 38,
      "outputs": [
        {
          "output_type": "stream",
          "text": [
            "261\n",
            "244\n",
            "2351\n",
            "2154\n"
          ],
          "name": "stdout"
        }
      ]
    },
    {
      "cell_type": "code",
      "metadata": {
        "colab": {
          "base_uri": "https://localhost:8080/"
        },
        "id": "acgl85NDhPqq",
        "outputId": "5519d71b-78c6-411e-ab9e-6114bbe62202"
      },
      "source": [
        "rows_train_token = []\n",
        "for sentence in tqdm(rows_train_1, position=0, leave=True):\n",
        "    for word in sentence.split(\" \"):\n",
        "        token = nlp_ger(word)\n",
        "        rows_train_token.append(token)"
      ],
      "execution_count": null,
      "outputs": [
        {
          "output_type": "stream",
          "text": [
            "  1%|          | 14/2154 [00:47<2:07:33,  3.58s/it]"
          ],
          "name": "stderr"
        }
      ]
    }
  ]
}