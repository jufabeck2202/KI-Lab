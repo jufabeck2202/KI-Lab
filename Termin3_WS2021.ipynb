{
  "nbformat": 4,
  "nbformat_minor": 0,
  "metadata": {
    "kernelspec": {
      "display_name": "Python 3",
      "language": "python",
      "name": "python3"
    },
    "language_info": {
      "codemirror_mode": {
        "name": "ipython",
        "version": 3
      },
      "file_extension": ".py",
      "mimetype": "text/x-python",
      "name": "python",
      "nbconvert_exporter": "python",
      "pygments_lexer": "ipython3",
      "version": "3.8.3"
    },
    "colab": {
      "name": "Termin3-WS2021.ipynb",
      "provenance": [],
      "toc_visible": true,
      "include_colab_link": true
    }
  },
  "cells": [
    {
      "cell_type": "markdown",
      "metadata": {
        "id": "view-in-github",
        "colab_type": "text"
      },
      "source": [
        "<a href=\"https://colab.research.google.com/github/jufabeck2202/KI-Lab/blob/main/Termin3_WS2021.ipynb\" target=\"_parent\"><img src=\"https://colab.research.google.com/assets/colab-badge.svg\" alt=\"Open In Colab\"/></a>"
      ]
    },
    {
      "cell_type": "markdown",
      "metadata": {
        "id": "JYVjltv2j98o"
      },
      "source": [
        "# Matrixfaktorisierung"
      ]
    },
    {
      "cell_type": "code",
      "metadata": {
        "id": "flasCBPMj99E"
      },
      "source": [
        "from scipy import sparse as sp\n",
        "import pandas as pd\n",
        "from pathlib import Path\n",
        "import numpy as np\n",
        "from matplotlib import pyplot as plt"
      ],
      "execution_count": 67,
      "outputs": []
    },
    {
      "cell_type": "code",
      "metadata": {
        "id": "XGWg0CYQj99G"
      },
      "source": [
        "TOP_MOVIES = 100\n",
        "RANDOM_VIEWERS = 1000\n",
        "reduced = np.load('netflix_reduced.npy')\n",
        "headers = []\n",
        "with open('netflix_headers.txt','r') as fi:\n",
        "    for line in fi.readlines():\n",
        "        headers.append(line.strip().split(',')[2])"
      ],
      "execution_count": 68,
      "outputs": []
    },
    {
      "cell_type": "code",
      "metadata": {
        "id": "b1dMtTiqj99M"
      },
      "source": [
        "DATASET = 1\n",
        "VERBOSE = False #False\n",
        "ITERATIONS = 100\n",
        "def setup():\n",
        "    global R,W,P,Q,ri,ci,k,m,n\n",
        "    if DATASET == 0:\n",
        "        R = [[5,4,0],\n",
        "             [5,5,1],\n",
        "             [1,0,5],\n",
        "             [1,1,4]]\n",
        "        R = np.array(R,dtype=np.float64)\n",
        "        k=1\n",
        "    elif DATASET == 1:\n",
        "        R = reduced\n",
        "        k = 10\n",
        "    else:\n",
        "        assert(False)\n",
        "\n",
        "    W = R > 0\n",
        "    m,n = R.shape\n",
        "    R = (R-3)/2\n",
        "    vecr = R[W]\n",
        "    np.random.seed(42)\n",
        "    P = np.random.rand(m,k)\n",
        "    Q = np.random.rand(n,k)\n",
        "def log(text):\n",
        "    if VERBOSE:\n",
        "        print(text)"
      ],
      "execution_count": 69,
      "outputs": []
    },
    {
      "cell_type": "markdown",
      "metadata": {
        "id": "42wGRgJej99P"
      },
      "source": [
        "# Einleitung"
      ]
    },
    {
      "cell_type": "markdown",
      "metadata": {
        "id": "VnsCvnDHj99S"
      },
      "source": [
        "Sei $m$ die Anzahl der User und $n$ die Anzahl der Filme. Die Bewertungen der User für die Filme ist in zwei Matrizen $W$ und $R$ kodiert. $W \\in \\{0,1\\}^{m \\times n}$ ist eine Binärmaske, welche den Eintrag $1$ in einer Zeile $i$ und Spalte $j$ besitzt, falls der User mit dem Index $i$ eine Bewertung für den Film mit dem Index $j$ abgegeben hat. Der Eintrag ist $0$, falls dieser User diesen Film nicht bewertet hat. Sei $z$ die Anzahl der Einsen von $W$. \n",
        "Die Bewertungsmatrix $R \\in [-1,1]^{m \\times n}$ selbst beinhaltet die Bewertung des Films in Form einen Scores. Das Interval $[-1,1]$ wird als $[\\text{gefällt nicht},\\text{gefällt}]$ interpretiert. \n",
        "\n",
        "Existierende Filmbewertungen können Sie mit der plt.spy Funktion einsehen."
      ]
    },
    {
      "cell_type": "code",
      "metadata": {
        "colab": {
          "base_uri": "https://localhost:8080/",
          "height": 287
        },
        "id": "2TFJZ8Vnj99Y",
        "outputId": "65d543f4-3826-471e-afca-773073a79d6e"
      },
      "source": [
        "setup()\n",
        "plt.spy(W)"
      ],
      "execution_count": 70,
      "outputs": [
        {
          "output_type": "execute_result",
          "data": {
            "text/plain": [
              "<matplotlib.image.AxesImage at 0x7f3046f942e8>"
            ]
          },
          "metadata": {
            "tags": []
          },
          "execution_count": 70
        },
        {
          "output_type": "display_data",
          "data": {
            "image/png": "[encoded data removed]",
            "text/plain": [
              "<Figure size 432x288 with 1 Axes>"
            ]
          },
          "metadata": {
            "tags": [],
            "needs_background": "light"
          }
        }
      ]
    },
    {
      "cell_type": "markdown",
      "metadata": {
        "id": "XZ5_xgfAj99f"
      },
      "source": [
        "Eine Auswahl an Filmen finden Sie hier:"
      ]
    },
    {
      "cell_type": "code",
      "metadata": {
        "id": "lAykSMRHj99h"
      },
      "source": [
        "#headers"
      ],
      "execution_count": 102,
      "outputs": []
    },
    {
      "cell_type": "markdown",
      "metadata": {
        "id": "5tyl0Y4ij99j"
      },
      "source": [
        "Ziel der heutigen Aufgabe ist die Prädiktion der fehlenden Einträge in der Bewertungsmatrix $M$. Diese Prädiktionen könnten in einem Recommender-System genutzt werden, um einem User einer Platform einen Film vorzuschlagen.\n",
        "\n",
        "Eine Möglichkeit bietet die Matrixfaktorisierung. Dabei wird versucht, zwei schlanke Faktoren $P \\in \\mathbb{R}^{m \\times r}$ und $Q \\in \\mathbb{R}^{n \\times k}$ zu finden mit $k \\ll n$ und $k \\ll m$, welche die Matrix $R$ so gut wie möglich rekonstruieren und zusätzlich neue Bewertungen prädizieren.\n",
        "Implementieren Sie eine Funktion $f:\\mathbb{R}^{m \\times k} \\times \\mathbb{R}^{n \\times k} \\rightarrow \\mathbb{R}^z$ mit\n",
        "\n",
        "$f(P,Q) = (PQ^T - R)[W]$\n",
        "\n",
        "wobei [W] hier als Indizierung zu verstehen ist. [W] extrahiert alle Residuen an den Stellen an denen $W$ den Eintrag $1$ hat. Alle $z$ Einträge werden Zeilenweise aufgesammelt und zu einem Vektor zusammengefasst. Anschließend können Sie die Kostenfunktion $e:f:\\mathbb{R}^{m \\times k} \\times \\mathbb{R}^{n \\times k} \\rightarrow \\mathbb{R}$ berechnen durch\n",
        "\n",
        "$e(P,Q) = \\frac{1}{2}||f(P,Q)||_2^2 = \\frac{1}{2}f^Tf$.\n",
        "\n",
        "Die Funktion $f$ liefert sog. Residuen zurück, dh. sie beinhaltet die Abweichung der prädizierten Bewertungen von den tatsächlichen Berwertungen."
      ]
    },
    {
      "cell_type": "code",
      "metadata": {
        "colab": {
          "base_uri": "https://localhost:8080/"
        },
        "id": "0QgpyjTlj99l",
        "outputId": "ced92cb6-1594-4c50-d8ea-255463415f32"
      },
      "source": [
        "def f(_P,_Q):\n",
        "    prod = _P.dot(_Q.T)\n",
        "    difference = prod - R\n",
        "    return difference[W]   \n",
        "\n",
        "def e(_P,_Q):\n",
        "    res1 = f(_P,_Q)\n",
        "    result = res1.T.dot(res1)\n",
        "    return result/2\n",
        "\n",
        "e(P,Q)\n",
        "print(P.dot(Q.T).shape)"
      ],
      "execution_count": 100,
      "outputs": [
        {
          "output_type": "stream",
          "text": [
            "(300, 100)\n"
          ],
          "name": "stdout"
        }
      ]
    },
    {
      "cell_type": "markdown",
      "metadata": {
        "id": "fc61kg61j99n"
      },
      "source": [
        "# Solver Implementierung\n",
        "## ALS-Solver\n",
        "Implementieren Sie den in der Vorlesung vorgestellten \"alternating least-squares\" (ALS)-Solver indem Sie $P$ und $Q$ alternierend anpassen um die Kosten $e$ zu minimieren. Die Parameter und Rückgabewerte der zu implementierenden Funktionen können Sie dem Funktionsaufruf weiter unten entnehmen."
      ]
    },
    {
      "cell_type": "code",
      "metadata": {
        "colab": {
          "base_uri": "https://localhost:8080/",
          "height": 558
        },
        "id": "VJ0HMFLHj99o",
        "outputId": "fd2257e7-26a7-4576-c43c-8ee02414e280"
      },
      "source": [
        "#300 nutzer, 100 Filme, 2 verückte(beju, sito)\n",
        "def solveBlockP(_P,_Q,user_idx):\n",
        "    _Q = _Q.T\n",
        "    print(f\"p{_P.shape}\")\n",
        "    print(f\"q{_Q.shape}\")\n",
        "    #q(100, 10)\n",
        "    print(f\"w{W.shape}\")\n",
        "\n",
        "\n",
        "    #Weclher utzter hat welche file bewerted\n",
        "    #Sei m die Anzahl der User und n die Anzahl der Filme. Die Bewertungen der User für die Filme ist in zwei Matrizen W und R kodiert. \n",
        "    #=>W∈{0,1}m×n ist eine Binärmaske, welche den Eintrag 1 in einer Zeile i und Spalte j besitzt\n",
        "    #=>w(300, 100)\n",
        "    print(_Q.shape)\n",
        "    print(range(len(_Q)))\n",
        "    userQ = np.array(_Q.shape)\n",
        "    for film in range(len(_Q)):\n",
        "        print(len(_Q[film]))\n",
        "        userQ[film] = _Q[film]*W[user_idx]\n",
        "\n",
        "    print(userQ)\n",
        "\n",
        "    \n",
        "\n",
        "   \n",
        "    faktor_for_user_T = faktor_for_user.reshape((-1,1))\n",
        "    mul = faktor_for_user_T * faktor_for_user\n",
        "    print(mul.shape)\n",
        "\n",
        "    invMul = np.linalg.inv(mul)\n",
        "    #multiplier = 1/multiplier\n",
        "    #vect = _P[user_idx] * R[W][user_idx]\n",
        "\n",
        "    return 1 # * vect\n",
        "\n",
        "def solveBlockQ(_P,_Q,movie_idx):    \n",
        "    #spalte mal zeile\n",
        "    multiplier = np.dot(_Q[movie_idx], (_Q[movie_idx].T))\n",
        "    multiplier = 1/multiplier\n",
        "    userQ = np.array(_Qshape)\n",
        "    vect = _Q[movie_idx] * R[W][movie_idx]\n",
        "\n",
        "    return multiplier * vect\n",
        "\n",
        "setup()\n",
        "solveBlockP(P,Q,0)\n",
        "#solveBlockQ(P,Q,0)\n"
      ],
      "execution_count": 114,
      "outputs": [
        {
          "output_type": "stream",
          "text": [
            "p(300, 10)\n",
            "q(10, 100)\n",
            "w(300, 100)\n",
            "(10, 100)\n",
            "range(0, 10)\n",
            "100\n"
          ],
          "name": "stdout"
        },
        {
          "output_type": "error",
          "ename": "ValueError",
          "evalue": "ignored",
          "traceback": [
            "\u001b[0;31m---------------------------------------------------------------------------\u001b[0m",
            "\u001b[0;31mTypeError\u001b[0m                                 Traceback (most recent call last)",
            "\u001b[0;31mTypeError\u001b[0m: only size-1 arrays can be converted to Python scalars",
            "\nThe above exception was the direct cause of the following exception:\n",
            "\u001b[0;31mValueError\u001b[0m                                Traceback (most recent call last)",
            "\u001b[0;32m<ipython-input-114-10c685fc6afb>\u001b[0m in \u001b[0;36m<module>\u001b[0;34m()\u001b[0m\n\u001b[1;32m     44\u001b[0m \u001b[0;34m\u001b[0m\u001b[0m\n\u001b[1;32m     45\u001b[0m \u001b[0msetup\u001b[0m\u001b[0;34m(\u001b[0m\u001b[0;34m)\u001b[0m\u001b[0;34m\u001b[0m\u001b[0;34m\u001b[0m\u001b[0m\n\u001b[0;32m---> 46\u001b[0;31m \u001b[0msolveBlockP\u001b[0m\u001b[0;34m(\u001b[0m\u001b[0mP\u001b[0m\u001b[0;34m,\u001b[0m\u001b[0mQ\u001b[0m\u001b[0;34m,\u001b[0m\u001b[0;36m0\u001b[0m\u001b[0;34m)\u001b[0m\u001b[0;34m\u001b[0m\u001b[0;34m\u001b[0m\u001b[0m\n\u001b[0m\u001b[1;32m     47\u001b[0m \u001b[0;31m#solveBlockQ(P,Q,0)\u001b[0m\u001b[0;34m\u001b[0m\u001b[0;34m\u001b[0m\u001b[0;34m\u001b[0m\u001b[0m\n",
            "\u001b[0;32m<ipython-input-114-10c685fc6afb>\u001b[0m in \u001b[0;36msolveBlockP\u001b[0;34m(_P, _Q, user_idx)\u001b[0m\n\u001b[1;32m     17\u001b[0m     \u001b[0;32mfor\u001b[0m \u001b[0mfilm\u001b[0m \u001b[0;32min\u001b[0m \u001b[0mrange\u001b[0m\u001b[0;34m(\u001b[0m\u001b[0mlen\u001b[0m\u001b[0;34m(\u001b[0m\u001b[0m_Q\u001b[0m\u001b[0;34m)\u001b[0m\u001b[0;34m)\u001b[0m\u001b[0;34m:\u001b[0m\u001b[0;34m\u001b[0m\u001b[0;34m\u001b[0m\u001b[0m\n\u001b[1;32m     18\u001b[0m         \u001b[0mprint\u001b[0m\u001b[0;34m(\u001b[0m\u001b[0mlen\u001b[0m\u001b[0;34m(\u001b[0m\u001b[0m_Q\u001b[0m\u001b[0;34m[\u001b[0m\u001b[0mfilm\u001b[0m\u001b[0;34m]\u001b[0m\u001b[0;34m)\u001b[0m\u001b[0;34m)\u001b[0m\u001b[0;34m\u001b[0m\u001b[0;34m\u001b[0m\u001b[0m\n\u001b[0;32m---> 19\u001b[0;31m         \u001b[0muserQ\u001b[0m\u001b[0;34m[\u001b[0m\u001b[0mfilm\u001b[0m\u001b[0;34m]\u001b[0m \u001b[0;34m=\u001b[0m \u001b[0m_Q\u001b[0m\u001b[0;34m[\u001b[0m\u001b[0mfilm\u001b[0m\u001b[0;34m]\u001b[0m\u001b[0;34m*\u001b[0m\u001b[0mW\u001b[0m\u001b[0;34m[\u001b[0m\u001b[0muser_idx\u001b[0m\u001b[0;34m]\u001b[0m\u001b[0;34m\u001b[0m\u001b[0;34m\u001b[0m\u001b[0m\n\u001b[0m\u001b[1;32m     20\u001b[0m \u001b[0;34m\u001b[0m\u001b[0m\n\u001b[1;32m     21\u001b[0m     \u001b[0mprint\u001b[0m\u001b[0;34m(\u001b[0m\u001b[0muserQ\u001b[0m\u001b[0;34m)\u001b[0m\u001b[0;34m\u001b[0m\u001b[0;34m\u001b[0m\u001b[0m\n",
            "\u001b[0;31mValueError\u001b[0m: setting an array element with a sequence."
          ]
        }
      ]
    },
    {
      "cell_type": "markdown",
      "metadata": {
        "id": "HnfSP2UTj99r"
      },
      "source": [
        "Testen Sie Ihre Implementierung und starten Sie den ALS-Solver."
      ]
    },
    {
      "cell_type": "code",
      "metadata": {
        "id": "Ye8wdj2ej99t"
      },
      "source": [
        "setup()\n",
        "print(f\"Error ALS before optimization: {e(P,Q)}\")\n",
        "for iteration in range(ITERATIONS):\n",
        "    for user in range(m): \n",
        "        P[user] = solveBlockP(P,Q,user)\n",
        "    log(f\"Cost after update P: {e(P,Q)}\")\n",
        "    for movie in range(n):\n",
        "        Q[movie] = solveBlockQ(P,Q,movie)\n",
        "    log(f\"Cost after update Q: {e(P,Q)}\")\n",
        "print(f\"Error ALS after optimization: {e(P,Q)}\")"
      ],
      "execution_count": null,
      "outputs": []
    },
    {
      "cell_type": "code",
      "metadata": {
        "id": "3t-3ZqTKpht8"
      },
      "source": [
        ""
      ],
      "execution_count": null,
      "outputs": []
    }
  ]
}