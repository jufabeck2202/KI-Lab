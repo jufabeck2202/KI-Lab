{
  "nbformat": 4,
  "nbformat_minor": 0,
  "metadata": {
    "accelerator": "GPU",
    "colab": {
      "name": "Assignment 3_1 OWCA.ipynb",
      "provenance": [],
      "include_colab_link": true
    },
    "kernelspec": {
      "display_name": "Python 3",
      "name": "python3"
    }
  },
  "cells": [
    {
      "cell_type": "markdown",
      "metadata": {
        "id": "view-in-github",
        "colab_type": "text"
      },
      "source": [
        "<a href=\"https://colab.research.google.com/github/jufabeck2202/KI-Lab/blob/main/Assignment_3_1_OWCA.ipynb\" target=\"_parent\"><img src=\"https://colab.research.google.com/assets/colab-badge.svg\" alt=\"Open In Colab\"/></a>"
      ]
    },
    {
      "cell_type": "markdown",
      "metadata": {
        "id": "PNg15VWxudGM"
      },
      "source": [
        "# Tasks\n",
        "\n",
        "1. Train a CNN model using the architecture described here, but without the classes „ship“ and „truck“: \n",
        "*  Remove the classes from the train and test data (→ write a custom dataset)\n",
        "*  Change the last layer of the CNN accordingly\n",
        "\n",
        "2. After training, save the model to a permanent storage for later re-use."
      ]
    },
    {
      "cell_type": "markdown",
      "metadata": {
        "id": "3_6pDU22ujqH"
      },
      "source": [
        "# Import"
      ]
    },
    {
      "cell_type": "code",
      "metadata": {
        "id": "USzVZffbuq_I"
      },
      "source": [
        "import torch\n",
        "import torchvision\n",
        "import torchvision.transforms as transforms\n",
        "import matplotlib.pyplot as plt\n",
        "import numpy as np\n",
        "import torch.nn as nn\n",
        "import torch.nn.functional as F\n",
        "import torch.optim as optim\n",
        "from torch.utils.data import Dataset, DataLoader\n",
        "import time"
      ],
      "execution_count": 1,
      "outputs": []
    },
    {
      "cell_type": "code",
      "metadata": {
        "id": "NFbGMS7ig4SQ",
        "outputId": "633a5ef4-a9ff-4f8a-e5ee-e7628a7318fd",
        "colab": {
          "base_uri": "https://localhost:8080/"
        }
      },
      "source": [
        "torch.backends.cudnn.enabled = False\n",
        "GPU_ON = torch.cuda.is_available()\n",
        "device = torch.device(\"cuda:0\" if GPU_ON else \"cpu\")\n",
        "device"
      ],
      "execution_count": 2,
      "outputs": [
        {
          "output_type": "execute_result",
          "data": {
            "text/plain": [
              "device(type='cuda', index=0)"
            ]
          },
          "metadata": {
            "tags": []
          },
          "execution_count": 2
        }
      ]
    },
    {
      "cell_type": "code",
      "metadata": {
        "id": "mUk2YdjyhqpT",
        "outputId": "0427c80b-e70c-4f9a-b899-e98012b15889",
        "colab": {
          "base_uri": "https://localhost:8080/"
        }
      },
      "source": [
        "from google.colab import drive\n",
        "drive.mount('/content/drive')"
      ],
      "execution_count": 3,
      "outputs": [
        {
          "output_type": "stream",
          "text": [
            "Drive already mounted at /content/drive; to attempt to forcibly remount, call drive.mount(\"/content/drive\", force_remount=True).\n"
          ],
          "name": "stdout"
        }
      ]
    },
    {
      "cell_type": "markdown",
      "metadata": {
        "id": "9JDmuh-VuvGe"
      },
      "source": [
        "#Import Data"
      ]
    },
    {
      "cell_type": "code",
      "metadata": {
        "id": "ksk5mA7QakEC"
      },
      "source": [
        "from enum import Enum\n",
        "\n",
        "class Target(Enum):\n",
        "    Plane = 0\n",
        "    Car = 1\n",
        "    Bird = 2\n",
        "    Cat = 3\n",
        "    Deer = 4\n",
        "    Dog = 5\n",
        "    Frog = 6\n",
        "    Horse = 7\n",
        "    Ship = 8\n",
        "    Truck = 9"
      ],
      "execution_count": 4,
      "outputs": []
    },
    {
      "cell_type": "code",
      "metadata": {
        "id": "kCdhnlfQghEN"
      },
      "source": [
        "class NewCifar(Dataset):\n",
        "\n",
        "    def __init__(self, orignalCifar, targets):\n",
        "        self.newCifar = []\n",
        "\n",
        "        for i in range(len(orignalCifar)):\n",
        "            if orignalCifar.targets[i] in targets:\n",
        "                self.newCifar.append(orignalCifar[i])\n",
        "\n",
        "\n",
        "    def __len__(self):\n",
        "        return len(self.newCifar) # 1000 per calss\n",
        "\n",
        "    def __getitem__(self, idx):\n",
        "        if torch.is_tensor(idx):\n",
        "            idx= idx.tolist()\n",
        "\n",
        "        return self.newCifar[idx]"
      ],
      "execution_count": 5,
      "outputs": []
    },
    {
      "cell_type": "code",
      "metadata": {
        "id": "6lAZwNOebe2l",
        "outputId": "d781b301-053c-4783-8103-4f312839b688",
        "colab": {
          "base_uri": "https://localhost:8080/"
        }
      },
      "source": [
        "targets = [Target.Plane.value, Target.Car.value, Target.Bird.value, \n",
        "           Target.Cat.value, Target.Deer.value, Target.Dog.value, \n",
        "           Target.Frog.value, Target.Horse.value]\n",
        "           \n",
        "targets"
      ],
      "execution_count": 6,
      "outputs": [
        {
          "output_type": "execute_result",
          "data": {
            "text/plain": [
              "[0, 1, 2, 3, 4, 5, 6, 7]"
            ]
          },
          "metadata": {
            "tags": []
          },
          "execution_count": 6
        }
      ]
    },
    {
      "cell_type": "code",
      "metadata": {
        "id": "5nl0zyAZuxTS",
        "outputId": "0147135e-4c29-47f4-d6ae-77c26db75df0",
        "colab": {
          "base_uri": "https://localhost:8080/"
        }
      },
      "source": [
        "transform = transforms.Compose(\n",
        "    [transforms.ToTensor(),\n",
        "     transforms.Normalize((0.5, 0.5, 0.5), (0.5, 0.5, 0.5))])\n",
        "targets\n",
        "trainset = NewCifar(torchvision.datasets.CIFAR10(root='./data', train=True,\n",
        "                                        download=True, transform=transform), targets)\n",
        "trainloader = torch.utils.data.DataLoader(trainset, batch_size=4,\n",
        "                                        shuffle=True, num_workers=2)\n",
        "\n",
        "testset = NewCifar(torchvision.datasets.CIFAR10(root='./data', train=False,\n",
        "                                        download=True, transform=transform), targets)\n",
        "testloader = torch.utils.data.DataLoader(testset, batch_size=4,\n",
        "                                        shuffle=False, num_workers=2)\n",
        "\n",
        "classes = ('plane', 'car', 'bird', 'cat', 'deer', 'dog', 'frog', 'horse', 'ship', 'truck')\n",
        "\n",
        "print(len(testset))"
      ],
      "execution_count": 7,
      "outputs": [
        {
          "output_type": "stream",
          "text": [
            "Files already downloaded and verified\n",
            "Files already downloaded and verified\n",
            "8000\n"
          ],
          "name": "stdout"
        }
      ]
    },
    {
      "cell_type": "markdown",
      "metadata": {
        "id": "06F3RVrEu_fr"
      },
      "source": [
        "#Show Images"
      ]
    },
    {
      "cell_type": "code",
      "metadata": {
        "id": "sc2So9jAvDfd",
        "outputId": "5ecb98a8-1160-4ae6-f15a-93ec8cad04d9",
        "colab": {
          "base_uri": "https://localhost:8080/",
          "height": 156
        }
      },
      "source": [
        "\n",
        "def imshow(img):\n",
        "    img = img / 2 + 0.5     # unnormalize\n",
        "    npimg = img.numpy()\n",
        "    plt.imshow(np.transpose(npimg, (1, 2, 0)))\n",
        "    plt.show()\n",
        "\n",
        "\n",
        "# get some random training images\n",
        "dataiter = iter(trainloader)\n",
        "images, labels = dataiter.next()\n",
        "\n",
        "# show images\n",
        "imshow(torchvision.utils.make_grid(images))\n",
        "# print labels\n",
        "print(' '.join('%5s' % classes[labels[j]] for j in range(4)))"
      ],
      "execution_count": 8,
      "outputs": [
        {
          "output_type": "display_data",
          "data": {
            "image/png": "[encoded data removed]",
            "text/plain": [
              "<Figure size 432x288 with 1 Axes>"
            ]
          },
          "metadata": {
            "tags": [],
            "needs_background": "light"
          }
        },
        {
          "output_type": "stream",
          "text": [
            "  cat   dog  bird horse\n"
          ],
          "name": "stdout"
        }
      ]
    },
    {
      "cell_type": "markdown",
      "metadata": {
        "id": "GyhjzWBnXAUV"
      },
      "source": [
        "# Network"
      ]
    },
    {
      "cell_type": "code",
      "metadata": {
        "id": "EsPJJXGRW_wA"
      },
      "source": [
        "class Net(nn.Module):\n",
        "    def __init__(self):\n",
        "        super(Net, self).__init__()\n",
        "        self.conv1 = nn.Conv2d(3, 6, 5)\n",
        "        self.pool = nn.MaxPool2d(2, 2)\n",
        "        self.conv2 = nn.Conv2d(6, 16, 5)\n",
        "        self.fc1 = nn.Linear(16 * 5 * 5, 120)\n",
        "        self.fc2 = nn.Linear(120, 84)\n",
        "        self.fc3 = nn.Linear(84, len(targets))           # reduced from 10 to 8 because of no ship and truck\n",
        "\n",
        "    def forward(self, x):\n",
        "        x = self.pool(F.relu(self.conv1(x)))\n",
        "        x = self.pool(F.relu(self.conv2(x)))\n",
        "        x = x.view(-1, 16 * 5 * 5)\n",
        "        x = F.relu(self.fc1(x))\n",
        "        x = F.relu(self.fc2(x))\n",
        "        x = self.fc3(x)\n",
        "        return x\n",
        "\n",
        "\n",
        "net = Net()\n",
        "\n",
        "if GPU_ON:\n",
        "  net.cuda()"
      ],
      "execution_count": 9,
      "outputs": []
    },
    {
      "cell_type": "markdown",
      "metadata": {
        "id": "NYcAiwYWXJ1T"
      },
      "source": [
        "#Loss function and optimizer"
      ]
    },
    {
      "cell_type": "code",
      "metadata": {
        "id": "eCusS6zBXcnk"
      },
      "source": [
        "criterion = nn.CrossEntropyLoss()\n",
        "optimizer = optim.SGD(net.parameters(), lr=0.001, momentum=0.9)"
      ],
      "execution_count": 10,
      "outputs": []
    },
    {
      "cell_type": "markdown",
      "metadata": {
        "id": "kn2-CjrkXh7Z"
      },
      "source": [
        "#Train"
      ]
    },
    {
      "cell_type": "code",
      "metadata": {
        "id": "8NkxvxDPXjja",
        "outputId": "d2ab9675-a54b-4afe-d517-8b3c4f007814",
        "colab": {
          "base_uri": "https://localhost:8080/"
        }
      },
      "source": [
        "duration = time.time()\n",
        "\n",
        "for epoch in range(2):  # loop over the dataset multiple times\n",
        "\n",
        "    running_loss = 0.0\n",
        "    for i, data in enumerate(trainloader, 0):\n",
        "        # get the inputs; data is a list of [inputs, labels]\n",
        "        inputs, labels = data\n",
        "\n",
        "        if GPU_ON:\n",
        "          inputs = inputs.cuda()\n",
        "          labels = labels.cuda()\n",
        "\n",
        "        # zero the parameter gradients\n",
        "        optimizer.zero_grad()\n",
        "\n",
        "        # forward + backward + optimize\n",
        "        outputs = net(inputs)\n",
        "        loss = criterion(outputs, labels)\n",
        "        loss.backward()\n",
        "        optimizer.step()\n",
        "\n",
        "        # print statistics\n",
        "        running_loss += loss.item()\n",
        "        if i % 2000 == 1999:    # print every 2000 mini-batches\n",
        "            print('[%d, %5d] loss: %.3f' %\n",
        "                  (epoch + 1, i + 1, running_loss / 2000))\n",
        "            running_loss = 0.0\n",
        "\n",
        "print('Finished Training')\n",
        "\n",
        "duration = time.time() - duration\n",
        "print(\"--- \" + (\"GPU\" if GPU_ON else \"CPU\") + \": %s seconds ---\" % (duration))"
      ],
      "execution_count": 11,
      "outputs": [
        {
          "output_type": "stream",
          "text": [
            "[1,  2000] loss: 2.002\n",
            "[1,  4000] loss: 1.684\n",
            "[1,  6000] loss: 1.503\n",
            "[1,  8000] loss: 1.429\n",
            "[1, 10000] loss: 1.375\n",
            "[2,  2000] loss: 1.320\n",
            "[2,  4000] loss: 1.281\n",
            "[2,  6000] loss: 1.252\n",
            "[2,  8000] loss: 1.232\n",
            "[2, 10000] loss: 1.209\n",
            "Finished Training\n",
            "--- GPU: 83.74976754188538 seconds ---\n"
          ],
          "name": "stdout"
        }
      ]
    },
    {
      "cell_type": "markdown",
      "metadata": {
        "id": "g5MdSLJKXpsG"
      },
      "source": [
        "#Save Model"
      ]
    },
    {
      "cell_type": "code",
      "metadata": {
        "id": "jml4FEiqXrSJ"
      },
      "source": [
        "PATH = '/content/drive/My Drive/Public/KILAB/A3/CIFAR8_NET.pth'\n",
        "torch.save(net.state_dict(), PATH)"
      ],
      "execution_count": 14,
      "outputs": []
    }
  ]
}